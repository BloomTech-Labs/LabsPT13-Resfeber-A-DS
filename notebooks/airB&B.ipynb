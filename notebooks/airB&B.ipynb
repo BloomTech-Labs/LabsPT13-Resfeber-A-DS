{
 "metadata": {
  "language_info": {
   "codemirror_mode": {
    "name": "ipython",
    "version": 3
   },
   "file_extension": ".py",
   "mimetype": "text/x-python",
   "name": "python",
   "nbconvert_exporter": "python",
   "pygments_lexer": "ipython3",
   "version": "3.8.5-final"
  },
  "orig_nbformat": 2,
  "kernelspec": {
   "name": "python38564bitnotebooks8taxjojj0ee5f7227aae40c2a135ca4a973cefef",
   "display_name": "Python 3.8.5 64-bit ('notebooks-8TaXjOJj')"
  }
 },
 "nbformat": 4,
 "nbformat_minor": 2,
 "cells": [
  {
   "cell_type": "code",
   "execution_count": 1,
   "metadata": {},
   "outputs": [],
   "source": [
    "# imports\n",
    "import pandas as pd\n"
   ]
  },
  {
   "cell_type": "code",
   "execution_count": 4,
   "metadata": {},
   "outputs": [
    {
     "output_type": "execute_result",
     "data": {
      "text/plain": [
       "       id                                               name  host_id  \\\n",
       "0   38585    Charming Victorian home - twin beds + breakfast   165529   \n",
       "1   80905                                   French Chic Loft   427027   \n",
       "2  108061  Walk to stores/parks/downtown. Fenced yard/Pet...   320564   \n",
       "3  155305                 Cottage! BonPaul + Sharky's Hostel   746673   \n",
       "4  160594                                Historic Grove Park   769252   \n",
       "\n",
       "   host_name neighbourhood_group neighbourhood  latitude  longitude  \\\n",
       "0    Evelyne                 NaN         28804  35.65146  -82.62792   \n",
       "1    Celeste                 NaN         28801  35.59779  -82.55540   \n",
       "2       Lisa                 NaN         28801  35.60670  -82.55563   \n",
       "3    BonPaul                 NaN         28806  35.57864  -82.59578   \n",
       "4  Elizabeth                 NaN         28801  35.61442  -82.54127   \n",
       "\n",
       "         room_type  price  minimum_nights  number_of_reviews last_review  \\\n",
       "0     Private room     60               1                138    16/02/20   \n",
       "1  Entire home/apt    470               1                114    07/09/20   \n",
       "2  Entire home/apt     75              30                 89    30/11/19   \n",
       "3  Entire home/apt     90               1                267    22/09/20   \n",
       "4     Private room    125              30                 58    19/10/15   \n",
       "\n",
       "   reviews_per_month  calculated_host_listings_count  availability_365  \\\n",
       "0               1.14                               1                 0   \n",
       "1               1.03                              11               288   \n",
       "2               0.81                               2               298   \n",
       "3               2.39                               5                 0   \n",
       "4               0.52                               1                 0   \n",
       "\n",
       "        city  \n",
       "0  Asheville  \n",
       "1  Asheville  \n",
       "2  Asheville  \n",
       "3  Asheville  \n",
       "4  Asheville  "
      ],
      "text/html": "<div>\n<style scoped>\n    .dataframe tbody tr th:only-of-type {\n        vertical-align: middle;\n    }\n\n    .dataframe tbody tr th {\n        vertical-align: top;\n    }\n\n    .dataframe thead th {\n        text-align: right;\n    }\n</style>\n<table border=\"1\" class=\"dataframe\">\n  <thead>\n    <tr style=\"text-align: right;\">\n      <th></th>\n      <th>id</th>\n      <th>name</th>\n      <th>host_id</th>\n      <th>host_name</th>\n      <th>neighbourhood_group</th>\n      <th>neighbourhood</th>\n      <th>latitude</th>\n      <th>longitude</th>\n      <th>room_type</th>\n      <th>price</th>\n      <th>minimum_nights</th>\n      <th>number_of_reviews</th>\n      <th>last_review</th>\n      <th>reviews_per_month</th>\n      <th>calculated_host_listings_count</th>\n      <th>availability_365</th>\n      <th>city</th>\n    </tr>\n  </thead>\n  <tbody>\n    <tr>\n      <th>0</th>\n      <td>38585</td>\n      <td>Charming Victorian home - twin beds + breakfast</td>\n      <td>165529</td>\n      <td>Evelyne</td>\n      <td>NaN</td>\n      <td>28804</td>\n      <td>35.65146</td>\n      <td>-82.62792</td>\n      <td>Private room</td>\n      <td>60</td>\n      <td>1</td>\n      <td>138</td>\n      <td>16/02/20</td>\n      <td>1.14</td>\n      <td>1</td>\n      <td>0</td>\n      <td>Asheville</td>\n    </tr>\n    <tr>\n      <th>1</th>\n      <td>80905</td>\n      <td>French Chic Loft</td>\n      <td>427027</td>\n      <td>Celeste</td>\n      <td>NaN</td>\n      <td>28801</td>\n      <td>35.59779</td>\n      <td>-82.55540</td>\n      <td>Entire home/apt</td>\n      <td>470</td>\n      <td>1</td>\n      <td>114</td>\n      <td>07/09/20</td>\n      <td>1.03</td>\n      <td>11</td>\n      <td>288</td>\n      <td>Asheville</td>\n    </tr>\n    <tr>\n      <th>2</th>\n      <td>108061</td>\n      <td>Walk to stores/parks/downtown. Fenced yard/Pet...</td>\n      <td>320564</td>\n      <td>Lisa</td>\n      <td>NaN</td>\n      <td>28801</td>\n      <td>35.60670</td>\n      <td>-82.55563</td>\n      <td>Entire home/apt</td>\n      <td>75</td>\n      <td>30</td>\n      <td>89</td>\n      <td>30/11/19</td>\n      <td>0.81</td>\n      <td>2</td>\n      <td>298</td>\n      <td>Asheville</td>\n    </tr>\n    <tr>\n      <th>3</th>\n      <td>155305</td>\n      <td>Cottage! BonPaul + Sharky's Hostel</td>\n      <td>746673</td>\n      <td>BonPaul</td>\n      <td>NaN</td>\n      <td>28806</td>\n      <td>35.57864</td>\n      <td>-82.59578</td>\n      <td>Entire home/apt</td>\n      <td>90</td>\n      <td>1</td>\n      <td>267</td>\n      <td>22/09/20</td>\n      <td>2.39</td>\n      <td>5</td>\n      <td>0</td>\n      <td>Asheville</td>\n    </tr>\n    <tr>\n      <th>4</th>\n      <td>160594</td>\n      <td>Historic Grove Park</td>\n      <td>769252</td>\n      <td>Elizabeth</td>\n      <td>NaN</td>\n      <td>28801</td>\n      <td>35.61442</td>\n      <td>-82.54127</td>\n      <td>Private room</td>\n      <td>125</td>\n      <td>30</td>\n      <td>58</td>\n      <td>19/10/15</td>\n      <td>0.52</td>\n      <td>1</td>\n      <td>0</td>\n      <td>Asheville</td>\n    </tr>\n  </tbody>\n</table>\n</div>"
     },
     "metadata": {},
     "execution_count": 4
    }
   ],
   "source": [
    "# reading the dataset\n",
    "df = pd.read_csv('Data/AB_US_2020.csv')\n",
    "# first five rows of the dataset\n",
    "df.head()"
   ]
  },
  {
   "cell_type": "code",
   "execution_count": 5,
   "metadata": {},
   "outputs": [
    {
     "output_type": "execute_result",
     "data": {
      "text/plain": [
       "(226030, 17)"
      ]
     },
     "metadata": {},
     "execution_count": 5
    }
   ],
   "source": [
    "# shape of the dataset(rows,columns)\n",
    "df.shape"
   ]
  },
  {
   "cell_type": "code",
   "execution_count": 6,
   "metadata": {},
   "outputs": [
    {
     "output_type": "execute_result",
     "data": {
      "text/plain": [
       "id                                  int64\n",
       "name                               object\n",
       "host_id                             int64\n",
       "host_name                          object\n",
       "neighbourhood_group                object\n",
       "neighbourhood                      object\n",
       "latitude                          float64\n",
       "longitude                         float64\n",
       "room_type                          object\n",
       "price                               int64\n",
       "minimum_nights                      int64\n",
       "number_of_reviews                   int64\n",
       "last_review                        object\n",
       "reviews_per_month                 float64\n",
       "calculated_host_listings_count      int64\n",
       "availability_365                    int64\n",
       "city                               object\n",
       "dtype: object"
      ]
     },
     "metadata": {},
     "execution_count": 6
    }
   ],
   "source": [
    "# To find the data types of all the columns\n",
    "df.dtypes"
   ]
  },
  {
   "cell_type": "code",
   "execution_count": 7,
   "metadata": {},
   "outputs": [
    {
     "output_type": "execute_result",
     "data": {
      "text/plain": [
       "id                                     0\n",
       "name                                  28\n",
       "host_id                                0\n",
       "host_name                             33\n",
       "neighbourhood_group               115845\n",
       "neighbourhood                          0\n",
       "latitude                               0\n",
       "longitude                              0\n",
       "room_type                              0\n",
       "price                                  0\n",
       "minimum_nights                         0\n",
       "number_of_reviews                      0\n",
       "last_review                        48602\n",
       "reviews_per_month                  48602\n",
       "calculated_host_listings_count         0\n",
       "availability_365                       0\n",
       "city                                   0\n",
       "dtype: int64"
      ]
     },
     "metadata": {},
     "execution_count": 7
    }
   ],
   "source": [
    "# To find null or missing values\n",
    "df.isnull().sum()"
   ]
  },
  {
   "cell_type": "code",
   "execution_count": 8,
   "metadata": {},
   "outputs": [
    {
     "output_type": "execute_result",
     "data": {
      "text/plain": [
       "Entire home/apt    154173\n",
       "Private room        65887\n",
       "Shared room          4029\n",
       "Hotel room           1941\n",
       "Name: room_type, dtype: int64"
      ]
     },
     "metadata": {},
     "execution_count": 8
    }
   ],
   "source": [
    "# occurrences of different room_type in a column\n",
    "df['room_type'].value_counts()"
   ]
  },
  {
   "cell_type": "code",
   "execution_count": 9,
   "metadata": {},
   "outputs": [
    {
     "output_type": "execute_result",
     "data": {
      "text/plain": [
       "New York City        45756\n",
       "Los Angeles          31536\n",
       "Hawaii               22434\n",
       "San Diego            12404\n",
       "Broward County       10858\n",
       "Austin               10436\n",
       "Clark County          8408\n",
       "Washington D.C.       7350\n",
       "San Clara Country     7091\n",
       "San Francisco         7053\n",
       "Seattle               6575\n",
       "Twin Cities MSA       6470\n",
       "New Orleans           6408\n",
       "Chicago               6397\n",
       "Nashville             6139\n",
       "Portland              4281\n",
       "Denver                4200\n",
       "Rhode Island          3884\n",
       "Boston                3339\n",
       "Oakland               3204\n",
       "San Mateo County      2855\n",
       "Jersey City           2488\n",
       "Asheville             2074\n",
       "Santa Cruz County     1571\n",
       "Columbus              1409\n",
       "Cambridge             1029\n",
       "Salem                  202\n",
       "Pacific Grove          179\n",
       "Name: city, dtype: int64"
      ]
     },
     "metadata": {},
     "execution_count": 9
    }
   ],
   "source": [
    "# occurrences of different cities in a column\n",
    "df['city'].value_counts()"
   ]
  },
  {
   "cell_type": "code",
   "execution_count": 10,
   "metadata": {},
   "outputs": [
    {
     "output_type": "execute_result",
     "data": {
      "text/plain": [
       "Unincorporated Areas    8020\n",
       "Hollywood               4384\n",
       "Primary Urban Center    4179\n",
       "Hennepin                3935\n",
       "Kihei-Makena            3894\n",
       "                        ... \n",
       "Hanapepe-Eleele            1\n",
       "Gerritsen Beach            1\n",
       "Oakland Airport            1\n",
       "Fort Wadsworth             1\n",
       "Rossville                  1\n",
       "Name: neighbourhood, Length: 1450, dtype: int64"
      ]
     },
     "metadata": {},
     "execution_count": 10
    }
   ],
   "source": [
    "# occurrences of different neighbourhood\n",
    "df['neighbourhood'].value_counts()"
   ]
  },
  {
   "cell_type": "code",
   "execution_count": 11,
   "metadata": {},
   "outputs": [
    {
     "output_type": "execute_result",
     "data": {
      "text/plain": [
       "0    28804\n",
       "1    28801\n",
       "2    28801\n",
       "3    28806\n",
       "4    28801\n",
       "Name: neighbourhood, dtype: object"
      ]
     },
     "metadata": {},
     "execution_count": 11
    }
   ],
   "source": [
    "# first 5 values of neighbourhood column\n",
    "df['neighbourhood'].head()"
   ]
  },
  {
   "cell_type": "code",
   "execution_count": 12,
   "metadata": {},
   "outputs": [
    {
     "output_type": "execute_result",
     "data": {
      "text/plain": [
       "226025    Downtown, Chinatown, Penn Quarters, Mount Vern...\n",
       "226026                        Brookland, Brentwood, Langdon\n",
       "226027                                   Shaw, Logan Circle\n",
       "226028       Kalorama Heights, Adams Morgan, Lanier Heights\n",
       "226029    Edgewood, Bloomingdale, Truxton Circle, Eckington\n",
       "Name: neighbourhood, dtype: object"
      ]
     },
     "metadata": {},
     "execution_count": 12
    }
   ],
   "source": [
    "# last 5 values of neighbourhood column\n",
    "df['neighbourhood'].tail()"
   ]
  },
  {
   "cell_type": "code",
   "execution_count": 13,
   "metadata": {},
   "outputs": [
    {
     "output_type": "execute_result",
     "data": {
      "text/plain": [
       "Manhattan               20236\n",
       "Brooklyn                18263\n",
       "City of Los Angeles     17544\n",
       "Other Cities            11463\n",
       "Maui                     7897\n",
       "Honolulu                 6313\n",
       "Queens                   5746\n",
       "Hawaii                   4977\n",
       "Kauai                    3247\n",
       "Unincorporated Areas     2529\n",
       "Newport                  1412\n",
       "Other neighborhoods      1253\n",
       "Washington               1201\n",
       "Bronx                    1185\n",
       "Providence               1056\n",
       "Downtown                 1043\n",
       "Capitol Hill              682\n",
       "Central Area              572\n",
       "Queen Anne                459\n",
       "West Seattle              378\n",
       "Ballard                   369\n",
       "Rainier Valley            357\n",
       "Staten Island             326\n",
       "Cascade                   268\n",
       "Beacon Hill               252\n",
       "University District       238\n",
       "Delridge                  201\n",
       "Northgate                 150\n",
       "Magnolia                  132\n",
       "Lake City                 118\n",
       "Kent                      108\n",
       "Bristol                   107\n",
       "Seward Park                69\n",
       "Interbay                   34\n",
       "Name: neighbourhood_group, dtype: int64"
      ]
     },
     "metadata": {},
     "execution_count": 13
    }
   ],
   "source": [
    "# occurrences of different neighbourhood_group\n",
    "df['neighbourhood_group'].value_counts()"
   ]
  },
  {
   "cell_type": "code",
   "execution_count": 14,
   "metadata": {},
   "outputs": [],
   "source": [
    "# dropped the irrelevant columns and created new dataframe\n",
    "new_df = df.drop(['host_name','host_id','neighbourhood_group','neighbourhood','last_review'], axis=1)"
   ]
  },
  {
   "cell_type": "code",
   "execution_count": 15,
   "metadata": {},
   "outputs": [
    {
     "output_type": "execute_result",
     "data": {
      "text/plain": [
       "       id                                               name  latitude  \\\n",
       "0   38585    Charming Victorian home - twin beds + breakfast  35.65146   \n",
       "1   80905                                   French Chic Loft  35.59779   \n",
       "2  108061  Walk to stores/parks/downtown. Fenced yard/Pet...  35.60670   \n",
       "3  155305                 Cottage! BonPaul + Sharky's Hostel  35.57864   \n",
       "4  160594                                Historic Grove Park  35.61442   \n",
       "\n",
       "   longitude        room_type  price  minimum_nights  number_of_reviews  \\\n",
       "0  -82.62792     Private room     60               1                138   \n",
       "1  -82.55540  Entire home/apt    470               1                114   \n",
       "2  -82.55563  Entire home/apt     75              30                 89   \n",
       "3  -82.59578  Entire home/apt     90               1                267   \n",
       "4  -82.54127     Private room    125              30                 58   \n",
       "\n",
       "   reviews_per_month  calculated_host_listings_count  availability_365  \\\n",
       "0               1.14                               1                 0   \n",
       "1               1.03                              11               288   \n",
       "2               0.81                               2               298   \n",
       "3               2.39                               5                 0   \n",
       "4               0.52                               1                 0   \n",
       "\n",
       "        city  \n",
       "0  Asheville  \n",
       "1  Asheville  \n",
       "2  Asheville  \n",
       "3  Asheville  \n",
       "4  Asheville  "
      ],
      "text/html": "<div>\n<style scoped>\n    .dataframe tbody tr th:only-of-type {\n        vertical-align: middle;\n    }\n\n    .dataframe tbody tr th {\n        vertical-align: top;\n    }\n\n    .dataframe thead th {\n        text-align: right;\n    }\n</style>\n<table border=\"1\" class=\"dataframe\">\n  <thead>\n    <tr style=\"text-align: right;\">\n      <th></th>\n      <th>id</th>\n      <th>name</th>\n      <th>latitude</th>\n      <th>longitude</th>\n      <th>room_type</th>\n      <th>price</th>\n      <th>minimum_nights</th>\n      <th>number_of_reviews</th>\n      <th>reviews_per_month</th>\n      <th>calculated_host_listings_count</th>\n      <th>availability_365</th>\n      <th>city</th>\n    </tr>\n  </thead>\n  <tbody>\n    <tr>\n      <th>0</th>\n      <td>38585</td>\n      <td>Charming Victorian home - twin beds + breakfast</td>\n      <td>35.65146</td>\n      <td>-82.62792</td>\n      <td>Private room</td>\n      <td>60</td>\n      <td>1</td>\n      <td>138</td>\n      <td>1.14</td>\n      <td>1</td>\n      <td>0</td>\n      <td>Asheville</td>\n    </tr>\n    <tr>\n      <th>1</th>\n      <td>80905</td>\n      <td>French Chic Loft</td>\n      <td>35.59779</td>\n      <td>-82.55540</td>\n      <td>Entire home/apt</td>\n      <td>470</td>\n      <td>1</td>\n      <td>114</td>\n      <td>1.03</td>\n      <td>11</td>\n      <td>288</td>\n      <td>Asheville</td>\n    </tr>\n    <tr>\n      <th>2</th>\n      <td>108061</td>\n      <td>Walk to stores/parks/downtown. Fenced yard/Pet...</td>\n      <td>35.60670</td>\n      <td>-82.55563</td>\n      <td>Entire home/apt</td>\n      <td>75</td>\n      <td>30</td>\n      <td>89</td>\n      <td>0.81</td>\n      <td>2</td>\n      <td>298</td>\n      <td>Asheville</td>\n    </tr>\n    <tr>\n      <th>3</th>\n      <td>155305</td>\n      <td>Cottage! BonPaul + Sharky's Hostel</td>\n      <td>35.57864</td>\n      <td>-82.59578</td>\n      <td>Entire home/apt</td>\n      <td>90</td>\n      <td>1</td>\n      <td>267</td>\n      <td>2.39</td>\n      <td>5</td>\n      <td>0</td>\n      <td>Asheville</td>\n    </tr>\n    <tr>\n      <th>4</th>\n      <td>160594</td>\n      <td>Historic Grove Park</td>\n      <td>35.61442</td>\n      <td>-82.54127</td>\n      <td>Private room</td>\n      <td>125</td>\n      <td>30</td>\n      <td>58</td>\n      <td>0.52</td>\n      <td>1</td>\n      <td>0</td>\n      <td>Asheville</td>\n    </tr>\n  </tbody>\n</table>\n</div>"
     },
     "metadata": {},
     "execution_count": 15
    }
   ],
   "source": [
    "# first 5 rows of new dataset\n",
    "new_df.head()"
   ]
  },
  {
   "cell_type": "code",
   "execution_count": 16,
   "metadata": {},
   "outputs": [],
   "source": [
    "# replacing NaN values for the reviews_per_month column\n",
    "new_df['reviews_per_month'] = new_df['reviews_per_month'].fillna(0)\n"
   ]
  },
  {
   "cell_type": "code",
   "execution_count": 17,
   "metadata": {},
   "outputs": [
    {
     "output_type": "execute_result",
     "data": {
      "text/plain": [
       "0"
      ]
     },
     "metadata": {},
     "execution_count": 17
    }
   ],
   "source": [
    "# checking again the column if there is any null value but now there is no null vales\n",
    "new_df['reviews_per_month'].isnull().sum()"
   ]
  },
  {
   "cell_type": "code",
   "execution_count": 18,
   "metadata": {},
   "outputs": [
    {
     "output_type": "execute_result",
     "data": {
      "text/plain": [
       "id                                 0\n",
       "name                              28\n",
       "latitude                           0\n",
       "longitude                          0\n",
       "room_type                          0\n",
       "price                              0\n",
       "minimum_nights                     0\n",
       "number_of_reviews                  0\n",
       "reviews_per_month                  0\n",
       "calculated_host_listings_count     0\n",
       "availability_365                   0\n",
       "city                               0\n",
       "dtype: int64"
      ]
     },
     "metadata": {},
     "execution_count": 18
    }
   ],
   "source": [
    "# check all the null or missing or NaN values\n",
    "new_df.isnull().sum()"
   ]
  },
  {
   "cell_type": "code",
   "execution_count": 19,
   "metadata": {},
   "outputs": [
    {
     "output_type": "execute_result",
     "data": {
      "text/plain": [
       "              id name  latitude  longitude        room_type  price  \\\n",
       "23691   39717529  NaN  26.28332  -80.10731  Entire home/apt     79   \n",
       "81872   17108083  NaN  34.17216 -118.11699     Private room    125   \n",
       "93004   33877948  NaN  34.41328 -118.44301     Private room     40   \n",
       "119475   1615764  NaN  40.71239  -74.01620  Entire home/apt    400   \n",
       "120149   2232600  NaN  40.73215  -73.98821  Entire home/apt    200   \n",
       "\n",
       "        minimum_nights  number_of_reviews  reviews_per_month  \\\n",
       "23691                2                 16               2.23   \n",
       "81872                2                  0               0.00   \n",
       "93004                1                 10               0.64   \n",
       "119475            1000                  0               0.00   \n",
       "120149               1                 28               0.37   \n",
       "\n",
       "        calculated_host_listings_count  availability_365            city  \n",
       "23691                                2               136  Broward County  \n",
       "81872                                1               179     Los Angeles  \n",
       "93004                                1               129     Los Angeles  \n",
       "119475                               1               362   New York City  \n",
       "120149                               1               364   New York City  "
      ],
      "text/html": "<div>\n<style scoped>\n    .dataframe tbody tr th:only-of-type {\n        vertical-align: middle;\n    }\n\n    .dataframe tbody tr th {\n        vertical-align: top;\n    }\n\n    .dataframe thead th {\n        text-align: right;\n    }\n</style>\n<table border=\"1\" class=\"dataframe\">\n  <thead>\n    <tr style=\"text-align: right;\">\n      <th></th>\n      <th>id</th>\n      <th>name</th>\n      <th>latitude</th>\n      <th>longitude</th>\n      <th>room_type</th>\n      <th>price</th>\n      <th>minimum_nights</th>\n      <th>number_of_reviews</th>\n      <th>reviews_per_month</th>\n      <th>calculated_host_listings_count</th>\n      <th>availability_365</th>\n      <th>city</th>\n    </tr>\n  </thead>\n  <tbody>\n    <tr>\n      <th>23691</th>\n      <td>39717529</td>\n      <td>NaN</td>\n      <td>26.28332</td>\n      <td>-80.10731</td>\n      <td>Entire home/apt</td>\n      <td>79</td>\n      <td>2</td>\n      <td>16</td>\n      <td>2.23</td>\n      <td>2</td>\n      <td>136</td>\n      <td>Broward County</td>\n    </tr>\n    <tr>\n      <th>81872</th>\n      <td>17108083</td>\n      <td>NaN</td>\n      <td>34.17216</td>\n      <td>-118.11699</td>\n      <td>Private room</td>\n      <td>125</td>\n      <td>2</td>\n      <td>0</td>\n      <td>0.00</td>\n      <td>1</td>\n      <td>179</td>\n      <td>Los Angeles</td>\n    </tr>\n    <tr>\n      <th>93004</th>\n      <td>33877948</td>\n      <td>NaN</td>\n      <td>34.41328</td>\n      <td>-118.44301</td>\n      <td>Private room</td>\n      <td>40</td>\n      <td>1</td>\n      <td>10</td>\n      <td>0.64</td>\n      <td>1</td>\n      <td>129</td>\n      <td>Los Angeles</td>\n    </tr>\n    <tr>\n      <th>119475</th>\n      <td>1615764</td>\n      <td>NaN</td>\n      <td>40.71239</td>\n      <td>-74.01620</td>\n      <td>Entire home/apt</td>\n      <td>400</td>\n      <td>1000</td>\n      <td>0</td>\n      <td>0.00</td>\n      <td>1</td>\n      <td>362</td>\n      <td>New York City</td>\n    </tr>\n    <tr>\n      <th>120149</th>\n      <td>2232600</td>\n      <td>NaN</td>\n      <td>40.73215</td>\n      <td>-73.98821</td>\n      <td>Entire home/apt</td>\n      <td>200</td>\n      <td>1</td>\n      <td>28</td>\n      <td>0.37</td>\n      <td>1</td>\n      <td>364</td>\n      <td>New York City</td>\n    </tr>\n  </tbody>\n</table>\n</div>"
     },
     "metadata": {},
     "execution_count": 19
    }
   ],
   "source": [
    "# To find null values in the name column\n",
    "new_df[new_df['name'].isnull()].head()\n"
   ]
  },
  {
   "cell_type": "code",
   "execution_count": 20,
   "metadata": {},
   "outputs": [],
   "source": [
    "# replacing NaN values with no_name\n",
    "new_df['name'].fillna('no_name', inplace = True) "
   ]
  },
  {
   "cell_type": "code",
   "execution_count": 21,
   "metadata": {},
   "outputs": [
    {
     "output_type": "execute_result",
     "data": {
      "text/plain": [
       "id                                0\n",
       "name                              0\n",
       "latitude                          0\n",
       "longitude                         0\n",
       "room_type                         0\n",
       "price                             0\n",
       "minimum_nights                    0\n",
       "number_of_reviews                 0\n",
       "reviews_per_month                 0\n",
       "calculated_host_listings_count    0\n",
       "availability_365                  0\n",
       "city                              0\n",
       "dtype: int64"
      ]
     },
     "metadata": {},
     "execution_count": 21
    }
   ],
   "source": [
    "# check for null values again\n",
    "new_df.isnull().sum()"
   ]
  },
  {
   "cell_type": "code",
   "execution_count": 22,
   "metadata": {},
   "outputs": [
    {
     "output_type": "execute_result",
     "data": {
      "text/plain": [
       "       id                                               name  latitude  \\\n",
       "0   38585    Charming Victorian home - twin beds + breakfast  35.65146   \n",
       "1   80905                                   French Chic Loft  35.59779   \n",
       "2  108061  Walk to stores/parks/downtown. Fenced yard/Pet...  35.60670   \n",
       "3  155305                 Cottage! BonPaul + Sharky's Hostel  35.57864   \n",
       "4  160594                                Historic Grove Park  35.61442   \n",
       "\n",
       "   longitude        room_type  price  minimum_nights  number_of_reviews  \\\n",
       "0  -82.62792     Private room     60               1                138   \n",
       "1  -82.55540  Entire home/apt    470               1                114   \n",
       "2  -82.55563  Entire home/apt     75              30                 89   \n",
       "3  -82.59578  Entire home/apt     90               1                267   \n",
       "4  -82.54127     Private room    125              30                 58   \n",
       "\n",
       "   reviews_per_month  calculated_host_listings_count  availability_365  \\\n",
       "0               1.14                               1                 0   \n",
       "1               1.03                              11               288   \n",
       "2               0.81                               2               298   \n",
       "3               2.39                               5                 0   \n",
       "4               0.52                               1                 0   \n",
       "\n",
       "        city  \n",
       "0  Asheville  \n",
       "1  Asheville  \n",
       "2  Asheville  \n",
       "3  Asheville  \n",
       "4  Asheville  "
      ],
      "text/html": "<div>\n<style scoped>\n    .dataframe tbody tr th:only-of-type {\n        vertical-align: middle;\n    }\n\n    .dataframe tbody tr th {\n        vertical-align: top;\n    }\n\n    .dataframe thead th {\n        text-align: right;\n    }\n</style>\n<table border=\"1\" class=\"dataframe\">\n  <thead>\n    <tr style=\"text-align: right;\">\n      <th></th>\n      <th>id</th>\n      <th>name</th>\n      <th>latitude</th>\n      <th>longitude</th>\n      <th>room_type</th>\n      <th>price</th>\n      <th>minimum_nights</th>\n      <th>number_of_reviews</th>\n      <th>reviews_per_month</th>\n      <th>calculated_host_listings_count</th>\n      <th>availability_365</th>\n      <th>city</th>\n    </tr>\n  </thead>\n  <tbody>\n    <tr>\n      <th>0</th>\n      <td>38585</td>\n      <td>Charming Victorian home - twin beds + breakfast</td>\n      <td>35.65146</td>\n      <td>-82.62792</td>\n      <td>Private room</td>\n      <td>60</td>\n      <td>1</td>\n      <td>138</td>\n      <td>1.14</td>\n      <td>1</td>\n      <td>0</td>\n      <td>Asheville</td>\n    </tr>\n    <tr>\n      <th>1</th>\n      <td>80905</td>\n      <td>French Chic Loft</td>\n      <td>35.59779</td>\n      <td>-82.55540</td>\n      <td>Entire home/apt</td>\n      <td>470</td>\n      <td>1</td>\n      <td>114</td>\n      <td>1.03</td>\n      <td>11</td>\n      <td>288</td>\n      <td>Asheville</td>\n    </tr>\n    <tr>\n      <th>2</th>\n      <td>108061</td>\n      <td>Walk to stores/parks/downtown. Fenced yard/Pet...</td>\n      <td>35.60670</td>\n      <td>-82.55563</td>\n      <td>Entire home/apt</td>\n      <td>75</td>\n      <td>30</td>\n      <td>89</td>\n      <td>0.81</td>\n      <td>2</td>\n      <td>298</td>\n      <td>Asheville</td>\n    </tr>\n    <tr>\n      <th>3</th>\n      <td>155305</td>\n      <td>Cottage! BonPaul + Sharky's Hostel</td>\n      <td>35.57864</td>\n      <td>-82.59578</td>\n      <td>Entire home/apt</td>\n      <td>90</td>\n      <td>1</td>\n      <td>267</td>\n      <td>2.39</td>\n      <td>5</td>\n      <td>0</td>\n      <td>Asheville</td>\n    </tr>\n    <tr>\n      <th>4</th>\n      <td>160594</td>\n      <td>Historic Grove Park</td>\n      <td>35.61442</td>\n      <td>-82.54127</td>\n      <td>Private room</td>\n      <td>125</td>\n      <td>30</td>\n      <td>58</td>\n      <td>0.52</td>\n      <td>1</td>\n      <td>0</td>\n      <td>Asheville</td>\n    </tr>\n  </tbody>\n</table>\n</div>"
     },
     "metadata": {},
     "execution_count": 22
    }
   ],
   "source": [
    "# check the dataset again\n",
    "new_df.head()"
   ]
  },
  {
   "cell_type": "code",
   "execution_count": null,
   "metadata": {},
   "outputs": [],
   "source": []
  }
 ]
}