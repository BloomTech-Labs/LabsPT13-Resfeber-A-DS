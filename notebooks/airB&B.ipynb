{
  "nbformat": 4,
  "nbformat_minor": 0,
  "metadata": {
    "language_info": {
      "codemirror_mode": {
        "name": "ipython",
        "version": 3
      },
      "file_extension": ".py",
      "mimetype": "text/x-python",
      "name": "python",
      "nbconvert_exporter": "python",
      "pygments_lexer": "ipython3",
      "version": "3.8.5-final"
    },
    "orig_nbformat": 2,
    "kernelspec": {
      "name": "python38564bitnotebookspipenv3ad270c5d441465aa5718ffbf99afdf0",
      "display_name": "Python 3.8.5 64-bit ('notebooks': pipenv)"
    },
    "colab": {
      "name": "airB&B.ipynb",
      "provenance": [],
      "include_colab_link": true
    }
  },
  "cells": [
    {
      "cell_type": "markdown",
      "metadata": {
        "id": "view-in-github",
        "colab_type": "text"
      },
      "source": [
        "<a href=\"https://colab.research.google.com/github/mahoryu/LabsPT13-Resfeber-A-DS/blob/main/notebooks/airB%26B.ipynb\" target=\"_parent\"><img src=\"https://colab.research.google.com/assets/colab-badge.svg\" alt=\"Open In Colab\"/></a>"
      ]
    },
    {
      "cell_type": "markdown",
      "metadata": {
        "id": "uVyuMw7_sxsi"
      },
      "source": [
        "### Data Exploration"
      ]
    },
    {
      "cell_type": "code",
      "metadata": {
        "id": "erM-9ZoeX8IY",
        "colab": {
          "base_uri": "https://localhost:8080/",
          "height": 377
        },
        "outputId": "a1f898ec-8fad-4e9d-983c-fd854da2b5ea"
      },
      "source": [
        "import pandas as pd\n",
        "# reading the dataset\n",
        "df = pd.read_csv('https://raw.githubusercontent.com/Lambda-School-Labs/LabsPT13-Resfeber-A-DS/main/notebooks/Data/AB_US_2020.csv')\n",
        "# first five rows of the dataset\n",
        "df.head()"
      ],
      "execution_count": 1,
      "outputs": [
        {
          "output_type": "stream",
          "text": [
            "/usr/local/lib/python3.6/dist-packages/IPython/core/interactiveshell.py:2718: DtypeWarning: Columns (4) have mixed types.Specify dtype option on import or set low_memory=False.\n",
            "  interactivity=interactivity, compiler=compiler, result=result)\n"
          ],
          "name": "stderr"
        },
        {
          "output_type": "execute_result",
          "data": {
            "text/html": [
              "<div>\n",
              "<style scoped>\n",
              "    .dataframe tbody tr th:only-of-type {\n",
              "        vertical-align: middle;\n",
              "    }\n",
              "\n",
              "    .dataframe tbody tr th {\n",
              "        vertical-align: top;\n",
              "    }\n",
              "\n",
              "    .dataframe thead th {\n",
              "        text-align: right;\n",
              "    }\n",
              "</style>\n",
              "<table border=\"1\" class=\"dataframe\">\n",
              "  <thead>\n",
              "    <tr style=\"text-align: right;\">\n",
              "      <th></th>\n",
              "      <th>id</th>\n",
              "      <th>name</th>\n",
              "      <th>host_id</th>\n",
              "      <th>host_name</th>\n",
              "      <th>neighbourhood_group</th>\n",
              "      <th>neighbourhood</th>\n",
              "      <th>latitude</th>\n",
              "      <th>longitude</th>\n",
              "      <th>room_type</th>\n",
              "      <th>price</th>\n",
              "      <th>minimum_nights</th>\n",
              "      <th>number_of_reviews</th>\n",
              "      <th>last_review</th>\n",
              "      <th>reviews_per_month</th>\n",
              "      <th>calculated_host_listings_count</th>\n",
              "      <th>availability_365</th>\n",
              "      <th>city</th>\n",
              "    </tr>\n",
              "  </thead>\n",
              "  <tbody>\n",
              "    <tr>\n",
              "      <th>0</th>\n",
              "      <td>38585</td>\n",
              "      <td>Charming Victorian home - twin beds + breakfast</td>\n",
              "      <td>165529</td>\n",
              "      <td>Evelyne</td>\n",
              "      <td>NaN</td>\n",
              "      <td>28804</td>\n",
              "      <td>35.65146</td>\n",
              "      <td>-82.62792</td>\n",
              "      <td>Private room</td>\n",
              "      <td>60</td>\n",
              "      <td>1</td>\n",
              "      <td>138</td>\n",
              "      <td>16/02/20</td>\n",
              "      <td>1.14</td>\n",
              "      <td>1</td>\n",
              "      <td>0</td>\n",
              "      <td>Asheville</td>\n",
              "    </tr>\n",
              "    <tr>\n",
              "      <th>1</th>\n",
              "      <td>80905</td>\n",
              "      <td>French Chic Loft</td>\n",
              "      <td>427027</td>\n",
              "      <td>Celeste</td>\n",
              "      <td>NaN</td>\n",
              "      <td>28801</td>\n",
              "      <td>35.59779</td>\n",
              "      <td>-82.55540</td>\n",
              "      <td>Entire home/apt</td>\n",
              "      <td>470</td>\n",
              "      <td>1</td>\n",
              "      <td>114</td>\n",
              "      <td>07/09/20</td>\n",
              "      <td>1.03</td>\n",
              "      <td>11</td>\n",
              "      <td>288</td>\n",
              "      <td>Asheville</td>\n",
              "    </tr>\n",
              "    <tr>\n",
              "      <th>2</th>\n",
              "      <td>108061</td>\n",
              "      <td>Walk to stores/parks/downtown. Fenced yard/Pet...</td>\n",
              "      <td>320564</td>\n",
              "      <td>Lisa</td>\n",
              "      <td>NaN</td>\n",
              "      <td>28801</td>\n",
              "      <td>35.60670</td>\n",
              "      <td>-82.55563</td>\n",
              "      <td>Entire home/apt</td>\n",
              "      <td>75</td>\n",
              "      <td>30</td>\n",
              "      <td>89</td>\n",
              "      <td>30/11/19</td>\n",
              "      <td>0.81</td>\n",
              "      <td>2</td>\n",
              "      <td>298</td>\n",
              "      <td>Asheville</td>\n",
              "    </tr>\n",
              "    <tr>\n",
              "      <th>3</th>\n",
              "      <td>155305</td>\n",
              "      <td>Cottage! BonPaul + Sharky's Hostel</td>\n",
              "      <td>746673</td>\n",
              "      <td>BonPaul</td>\n",
              "      <td>NaN</td>\n",
              "      <td>28806</td>\n",
              "      <td>35.57864</td>\n",
              "      <td>-82.59578</td>\n",
              "      <td>Entire home/apt</td>\n",
              "      <td>90</td>\n",
              "      <td>1</td>\n",
              "      <td>267</td>\n",
              "      <td>22/09/20</td>\n",
              "      <td>2.39</td>\n",
              "      <td>5</td>\n",
              "      <td>0</td>\n",
              "      <td>Asheville</td>\n",
              "    </tr>\n",
              "    <tr>\n",
              "      <th>4</th>\n",
              "      <td>160594</td>\n",
              "      <td>Historic Grove Park</td>\n",
              "      <td>769252</td>\n",
              "      <td>Elizabeth</td>\n",
              "      <td>NaN</td>\n",
              "      <td>28801</td>\n",
              "      <td>35.61442</td>\n",
              "      <td>-82.54127</td>\n",
              "      <td>Private room</td>\n",
              "      <td>125</td>\n",
              "      <td>30</td>\n",
              "      <td>58</td>\n",
              "      <td>19/10/15</td>\n",
              "      <td>0.52</td>\n",
              "      <td>1</td>\n",
              "      <td>0</td>\n",
              "      <td>Asheville</td>\n",
              "    </tr>\n",
              "  </tbody>\n",
              "</table>\n",
              "</div>"
            ],
            "text/plain": [
              "       id  ...       city\n",
              "0   38585  ...  Asheville\n",
              "1   80905  ...  Asheville\n",
              "2  108061  ...  Asheville\n",
              "3  155305  ...  Asheville\n",
              "4  160594  ...  Asheville\n",
              "\n",
              "[5 rows x 17 columns]"
            ]
          },
          "metadata": {
            "tags": []
          },
          "execution_count": 1
        }
      ]
    },
    {
      "cell_type": "code",
      "metadata": {
        "id": "SIJQJI1yX8IZ",
        "colab": {
          "base_uri": "https://localhost:8080/"
        },
        "outputId": "50d22c6c-51cf-4530-fd25-1e4a99062815"
      },
      "source": [
        "# shape of the dataset(rows,columns)\n",
        "df.shape"
      ],
      "execution_count": 2,
      "outputs": [
        {
          "output_type": "execute_result",
          "data": {
            "text/plain": [
              "(226030, 17)"
            ]
          },
          "metadata": {
            "tags": []
          },
          "execution_count": 2
        }
      ]
    },
    {
      "cell_type": "code",
      "metadata": {
        "id": "4ANeAQMFX8IZ",
        "colab": {
          "base_uri": "https://localhost:8080/"
        },
        "outputId": "2ed469ea-270f-4b31-f805-a9e48795807f"
      },
      "source": [
        "# To find the data types of all the columns\n",
        "df.dtypes"
      ],
      "execution_count": 3,
      "outputs": [
        {
          "output_type": "execute_result",
          "data": {
            "text/plain": [
              "id                                  int64\n",
              "name                               object\n",
              "host_id                             int64\n",
              "host_name                          object\n",
              "neighbourhood_group                object\n",
              "neighbourhood                      object\n",
              "latitude                          float64\n",
              "longitude                         float64\n",
              "room_type                          object\n",
              "price                               int64\n",
              "minimum_nights                      int64\n",
              "number_of_reviews                   int64\n",
              "last_review                        object\n",
              "reviews_per_month                 float64\n",
              "calculated_host_listings_count      int64\n",
              "availability_365                    int64\n",
              "city                               object\n",
              "dtype: object"
            ]
          },
          "metadata": {
            "tags": []
          },
          "execution_count": 3
        }
      ]
    },
    {
      "cell_type": "code",
      "metadata": {
        "id": "hN3hsluEX8IZ",
        "colab": {
          "base_uri": "https://localhost:8080/"
        },
        "outputId": "062a3616-fce2-4ffc-c602-f152764db26c"
      },
      "source": [
        "# To find null or missing values\n",
        "df.isnull().sum()"
      ],
      "execution_count": 4,
      "outputs": [
        {
          "output_type": "execute_result",
          "data": {
            "text/plain": [
              "id                                     0\n",
              "name                                  28\n",
              "host_id                                0\n",
              "host_name                             33\n",
              "neighbourhood_group               115845\n",
              "neighbourhood                          0\n",
              "latitude                               0\n",
              "longitude                              0\n",
              "room_type                              0\n",
              "price                                  0\n",
              "minimum_nights                         0\n",
              "number_of_reviews                      0\n",
              "last_review                        48602\n",
              "reviews_per_month                  48602\n",
              "calculated_host_listings_count         0\n",
              "availability_365                       0\n",
              "city                                   0\n",
              "dtype: int64"
            ]
          },
          "metadata": {
            "tags": []
          },
          "execution_count": 4
        }
      ]
    },
    {
      "cell_type": "code",
      "metadata": {
        "id": "-HUhbxjqX8IZ",
        "colab": {
          "base_uri": "https://localhost:8080/"
        },
        "outputId": "e63b022a-3b4c-439e-bd55-a8e70cabad05"
      },
      "source": [
        "# occurrences of different room_type in a column\n",
        "df['room_type'].value_counts()"
      ],
      "execution_count": 5,
      "outputs": [
        {
          "output_type": "execute_result",
          "data": {
            "text/plain": [
              "Entire home/apt    154173\n",
              "Private room        65887\n",
              "Shared room          4029\n",
              "Hotel room           1941\n",
              "Name: room_type, dtype: int64"
            ]
          },
          "metadata": {
            "tags": []
          },
          "execution_count": 5
        }
      ]
    },
    {
      "cell_type": "code",
      "metadata": {
        "id": "w9nVIhrzX8IZ",
        "colab": {
          "base_uri": "https://localhost:8080/"
        },
        "outputId": "41bb5fe2-57b9-44b5-bcdc-775735d16f85"
      },
      "source": [
        "# occurrences of different cities in a column\n",
        "df['city'].value_counts()"
      ],
      "execution_count": 6,
      "outputs": [
        {
          "output_type": "execute_result",
          "data": {
            "text/plain": [
              "New York City        45756\n",
              "Los Angeles          31536\n",
              "Hawaii               22434\n",
              "San Diego            12404\n",
              "Broward County       10858\n",
              "Austin               10436\n",
              "Clark County          8408\n",
              "Washington D.C.       7350\n",
              "San Clara Country     7091\n",
              "San Francisco         7053\n",
              "Seattle               6575\n",
              "Twin Cities MSA       6470\n",
              "New Orleans           6408\n",
              "Chicago               6397\n",
              "Nashville             6139\n",
              "Portland              4281\n",
              "Denver                4200\n",
              "Rhode Island          3884\n",
              "Boston                3339\n",
              "Oakland               3204\n",
              "San Mateo County      2855\n",
              "Jersey City           2488\n",
              "Asheville             2074\n",
              "Santa Cruz County     1571\n",
              "Columbus              1409\n",
              "Cambridge             1029\n",
              "Salem                  202\n",
              "Pacific Grove          179\n",
              "Name: city, dtype: int64"
            ]
          },
          "metadata": {
            "tags": []
          },
          "execution_count": 6
        }
      ]
    },
    {
      "cell_type": "code",
      "metadata": {
        "id": "EZHb9UkVX8IZ",
        "colab": {
          "base_uri": "https://localhost:8080/"
        },
        "outputId": "42139cc2-34fd-4358-8d60-aae34a1e2219"
      },
      "source": [
        "# occurrences of different neighbourhood\n",
        "df['neighbourhood'].value_counts()"
      ],
      "execution_count": 7,
      "outputs": [
        {
          "output_type": "execute_result",
          "data": {
            "text/plain": [
              "Unincorporated Areas         8020\n",
              "Hollywood                    4384\n",
              "Primary Urban Center         4179\n",
              "Hennepin                     3935\n",
              "Kihei-Makena                 3894\n",
              "                             ... \n",
              "Hawaiian Gardens                1\n",
              "Tottenville                     1\n",
              "Viavant - Venetian Isles        1\n",
              "Northwest Antelope Valley       1\n",
              "Elmhurst Park                   1\n",
              "Name: neighbourhood, Length: 1450, dtype: int64"
            ]
          },
          "metadata": {
            "tags": []
          },
          "execution_count": 7
        }
      ]
    },
    {
      "cell_type": "code",
      "metadata": {
        "id": "gHstFXv0X8IZ",
        "colab": {
          "base_uri": "https://localhost:8080/"
        },
        "outputId": "0b55e39c-6a02-4990-af85-ca701156b415"
      },
      "source": [
        "# first 5 values of neighbourhood column\n",
        "df['neighbourhood'].head()"
      ],
      "execution_count": 8,
      "outputs": [
        {
          "output_type": "execute_result",
          "data": {
            "text/plain": [
              "0    28804\n",
              "1    28801\n",
              "2    28801\n",
              "3    28806\n",
              "4    28801\n",
              "Name: neighbourhood, dtype: object"
            ]
          },
          "metadata": {
            "tags": []
          },
          "execution_count": 8
        }
      ]
    },
    {
      "cell_type": "code",
      "metadata": {
        "id": "SX1i5iF8X8IZ",
        "colab": {
          "base_uri": "https://localhost:8080/"
        },
        "outputId": "4496a24d-ea2d-4bcb-d572-2435fa7776fe"
      },
      "source": [
        "# last 5 values of neighbourhood column\n",
        "df['neighbourhood'].tail()"
      ],
      "execution_count": 9,
      "outputs": [
        {
          "output_type": "execute_result",
          "data": {
            "text/plain": [
              "226025    Downtown, Chinatown, Penn Quarters, Mount Vern...\n",
              "226026                        Brookland, Brentwood, Langdon\n",
              "226027                                   Shaw, Logan Circle\n",
              "226028       Kalorama Heights, Adams Morgan, Lanier Heights\n",
              "226029    Edgewood, Bloomingdale, Truxton Circle, Eckington\n",
              "Name: neighbourhood, dtype: object"
            ]
          },
          "metadata": {
            "tags": []
          },
          "execution_count": 9
        }
      ]
    },
    {
      "cell_type": "code",
      "metadata": {
        "id": "r2kOb8vrX8IZ",
        "colab": {
          "base_uri": "https://localhost:8080/"
        },
        "outputId": "76170e69-2e92-4ee6-bee7-8ea3d2902343"
      },
      "source": [
        "# occurrences of different neighbourhood_group\n",
        "df['neighbourhood_group'].value_counts()"
      ],
      "execution_count": 10,
      "outputs": [
        {
          "output_type": "execute_result",
          "data": {
            "text/plain": [
              "Manhattan               20236\n",
              "Brooklyn                18263\n",
              "City of Los Angeles     17544\n",
              "Other Cities            11463\n",
              "Maui                     7897\n",
              "Honolulu                 6313\n",
              "Queens                   5746\n",
              "Hawaii                   4977\n",
              "Kauai                    3247\n",
              "Unincorporated Areas     2529\n",
              "Newport                  1412\n",
              "Other neighborhoods      1253\n",
              "Washington               1201\n",
              "Bronx                    1185\n",
              "Providence               1056\n",
              "Downtown                 1043\n",
              "Capitol Hill              682\n",
              "Central Area              572\n",
              "Queen Anne                459\n",
              "West Seattle              378\n",
              "Ballard                   369\n",
              "Rainier Valley            357\n",
              "Staten Island             326\n",
              "Cascade                   268\n",
              "Beacon Hill               252\n",
              "University District       238\n",
              "Delridge                  201\n",
              "Northgate                 150\n",
              "Magnolia                  132\n",
              "Lake City                 118\n",
              "Kent                      108\n",
              "Bristol                   107\n",
              "Seward Park                69\n",
              "Interbay                   34\n",
              "Name: neighbourhood_group, dtype: int64"
            ]
          },
          "metadata": {
            "tags": []
          },
          "execution_count": 10
        }
      ]
    },
    {
      "cell_type": "code",
      "metadata": {
        "id": "Dj7EsluJX8IZ",
        "colab": {
          "base_uri": "https://localhost:8080/"
        },
        "outputId": "5ed83315-8126-4aa4-f468-57d64c5323fe"
      },
      "source": [
        "pd.options.display.max_rows = 20\n",
        "df[\"minimum_nights\"].value_counts()"
      ],
      "execution_count": 11,
      "outputs": [
        {
          "output_type": "execute_result",
          "data": {
            "text/plain": [
              "1      60427\n",
              "2      54748\n",
              "30     33532\n",
              "3      30931\n",
              "4       9513\n",
              "       ...  \n",
              "49         1\n",
              "345        1\n",
              "229        1\n",
              "102        1\n",
              "456        1\n",
              "Name: minimum_nights, Length: 169, dtype: int64"
            ]
          },
          "metadata": {
            "tags": []
          },
          "execution_count": 11
        }
      ]
    },
    {
      "cell_type": "markdown",
      "metadata": {
        "id": "JfZWR7pXs6PM"
      },
      "source": [
        "### Data Cleaning"
      ]
    },
    {
      "cell_type": "code",
      "metadata": {
        "id": "0xjgsWSEX8Ia"
      },
      "source": [
        "# dropped the irrelevant columns and created new dataframe\n",
        "new_df = df.drop(['host_name','host_id','neighbourhood_group','neighbourhood','last_review'], axis=1)"
      ],
      "execution_count": 12,
      "outputs": []
    },
    {
      "cell_type": "code",
      "metadata": {
        "id": "JbmNB6pNX8Ia",
        "colab": {
          "base_uri": "https://localhost:8080/",
          "height": 343
        },
        "outputId": "e7be1be9-6d94-4c15-a33b-0139bfdcc5b1"
      },
      "source": [
        "# first 5 rows of new dataset\n",
        "new_df.head()"
      ],
      "execution_count": 13,
      "outputs": [
        {
          "output_type": "execute_result",
          "data": {
            "text/html": [
              "<div>\n",
              "<style scoped>\n",
              "    .dataframe tbody tr th:only-of-type {\n",
              "        vertical-align: middle;\n",
              "    }\n",
              "\n",
              "    .dataframe tbody tr th {\n",
              "        vertical-align: top;\n",
              "    }\n",
              "\n",
              "    .dataframe thead th {\n",
              "        text-align: right;\n",
              "    }\n",
              "</style>\n",
              "<table border=\"1\" class=\"dataframe\">\n",
              "  <thead>\n",
              "    <tr style=\"text-align: right;\">\n",
              "      <th></th>\n",
              "      <th>id</th>\n",
              "      <th>name</th>\n",
              "      <th>latitude</th>\n",
              "      <th>longitude</th>\n",
              "      <th>room_type</th>\n",
              "      <th>price</th>\n",
              "      <th>minimum_nights</th>\n",
              "      <th>number_of_reviews</th>\n",
              "      <th>reviews_per_month</th>\n",
              "      <th>calculated_host_listings_count</th>\n",
              "      <th>availability_365</th>\n",
              "      <th>city</th>\n",
              "    </tr>\n",
              "  </thead>\n",
              "  <tbody>\n",
              "    <tr>\n",
              "      <th>0</th>\n",
              "      <td>38585</td>\n",
              "      <td>Charming Victorian home - twin beds + breakfast</td>\n",
              "      <td>35.65146</td>\n",
              "      <td>-82.62792</td>\n",
              "      <td>Private room</td>\n",
              "      <td>60</td>\n",
              "      <td>1</td>\n",
              "      <td>138</td>\n",
              "      <td>1.14</td>\n",
              "      <td>1</td>\n",
              "      <td>0</td>\n",
              "      <td>Asheville</td>\n",
              "    </tr>\n",
              "    <tr>\n",
              "      <th>1</th>\n",
              "      <td>80905</td>\n",
              "      <td>French Chic Loft</td>\n",
              "      <td>35.59779</td>\n",
              "      <td>-82.55540</td>\n",
              "      <td>Entire home/apt</td>\n",
              "      <td>470</td>\n",
              "      <td>1</td>\n",
              "      <td>114</td>\n",
              "      <td>1.03</td>\n",
              "      <td>11</td>\n",
              "      <td>288</td>\n",
              "      <td>Asheville</td>\n",
              "    </tr>\n",
              "    <tr>\n",
              "      <th>2</th>\n",
              "      <td>108061</td>\n",
              "      <td>Walk to stores/parks/downtown. Fenced yard/Pet...</td>\n",
              "      <td>35.60670</td>\n",
              "      <td>-82.55563</td>\n",
              "      <td>Entire home/apt</td>\n",
              "      <td>75</td>\n",
              "      <td>30</td>\n",
              "      <td>89</td>\n",
              "      <td>0.81</td>\n",
              "      <td>2</td>\n",
              "      <td>298</td>\n",
              "      <td>Asheville</td>\n",
              "    </tr>\n",
              "    <tr>\n",
              "      <th>3</th>\n",
              "      <td>155305</td>\n",
              "      <td>Cottage! BonPaul + Sharky's Hostel</td>\n",
              "      <td>35.57864</td>\n",
              "      <td>-82.59578</td>\n",
              "      <td>Entire home/apt</td>\n",
              "      <td>90</td>\n",
              "      <td>1</td>\n",
              "      <td>267</td>\n",
              "      <td>2.39</td>\n",
              "      <td>5</td>\n",
              "      <td>0</td>\n",
              "      <td>Asheville</td>\n",
              "    </tr>\n",
              "    <tr>\n",
              "      <th>4</th>\n",
              "      <td>160594</td>\n",
              "      <td>Historic Grove Park</td>\n",
              "      <td>35.61442</td>\n",
              "      <td>-82.54127</td>\n",
              "      <td>Private room</td>\n",
              "      <td>125</td>\n",
              "      <td>30</td>\n",
              "      <td>58</td>\n",
              "      <td>0.52</td>\n",
              "      <td>1</td>\n",
              "      <td>0</td>\n",
              "      <td>Asheville</td>\n",
              "    </tr>\n",
              "  </tbody>\n",
              "</table>\n",
              "</div>"
            ],
            "text/plain": [
              "       id  ...       city\n",
              "0   38585  ...  Asheville\n",
              "1   80905  ...  Asheville\n",
              "2  108061  ...  Asheville\n",
              "3  155305  ...  Asheville\n",
              "4  160594  ...  Asheville\n",
              "\n",
              "[5 rows x 12 columns]"
            ]
          },
          "metadata": {
            "tags": []
          },
          "execution_count": 13
        }
      ]
    },
    {
      "cell_type": "code",
      "metadata": {
        "id": "E2rtxhvyX8Ia"
      },
      "source": [
        "# replacing NaN values for the reviews_per_month column\n",
        "new_df['reviews_per_month'] = new_df['reviews_per_month'].fillna(0)\n"
      ],
      "execution_count": 14,
      "outputs": []
    },
    {
      "cell_type": "code",
      "metadata": {
        "id": "glMiXB4QX8Ia",
        "colab": {
          "base_uri": "https://localhost:8080/"
        },
        "outputId": "cf3f73b4-66c4-4ec7-ec94-5e35b6c39e03"
      },
      "source": [
        "# checking again the column if there is any null value but now there is no null vales\n",
        "new_df['reviews_per_month'].isnull().sum()"
      ],
      "execution_count": 15,
      "outputs": [
        {
          "output_type": "execute_result",
          "data": {
            "text/plain": [
              "0"
            ]
          },
          "metadata": {
            "tags": []
          },
          "execution_count": 15
        }
      ]
    },
    {
      "cell_type": "code",
      "metadata": {
        "id": "cHqrJ7c7X8Ia",
        "colab": {
          "base_uri": "https://localhost:8080/"
        },
        "outputId": "dc280b5f-5a37-475b-e115-31d663247ab5"
      },
      "source": [
        "# check all the null or missing or NaN values\n",
        "new_df.isnull().sum()"
      ],
      "execution_count": 16,
      "outputs": [
        {
          "output_type": "execute_result",
          "data": {
            "text/plain": [
              "id                                 0\n",
              "name                              28\n",
              "latitude                           0\n",
              "longitude                          0\n",
              "room_type                          0\n",
              "price                              0\n",
              "minimum_nights                     0\n",
              "number_of_reviews                  0\n",
              "reviews_per_month                  0\n",
              "calculated_host_listings_count     0\n",
              "availability_365                   0\n",
              "city                               0\n",
              "dtype: int64"
            ]
          },
          "metadata": {
            "tags": []
          },
          "execution_count": 16
        }
      ]
    },
    {
      "cell_type": "code",
      "metadata": {
        "id": "BCerIdUPX8Ia",
        "colab": {
          "base_uri": "https://localhost:8080/",
          "height": 204
        },
        "outputId": "ca99d184-ada6-4ccb-fcba-63fb0c247372"
      },
      "source": [
        "# To find null values in the name column\n",
        "new_df[new_df['name'].isnull()].head()\n"
      ],
      "execution_count": 17,
      "outputs": [
        {
          "output_type": "execute_result",
          "data": {
            "text/html": [
              "<div>\n",
              "<style scoped>\n",
              "    .dataframe tbody tr th:only-of-type {\n",
              "        vertical-align: middle;\n",
              "    }\n",
              "\n",
              "    .dataframe tbody tr th {\n",
              "        vertical-align: top;\n",
              "    }\n",
              "\n",
              "    .dataframe thead th {\n",
              "        text-align: right;\n",
              "    }\n",
              "</style>\n",
              "<table border=\"1\" class=\"dataframe\">\n",
              "  <thead>\n",
              "    <tr style=\"text-align: right;\">\n",
              "      <th></th>\n",
              "      <th>id</th>\n",
              "      <th>name</th>\n",
              "      <th>latitude</th>\n",
              "      <th>longitude</th>\n",
              "      <th>room_type</th>\n",
              "      <th>price</th>\n",
              "      <th>minimum_nights</th>\n",
              "      <th>number_of_reviews</th>\n",
              "      <th>reviews_per_month</th>\n",
              "      <th>calculated_host_listings_count</th>\n",
              "      <th>availability_365</th>\n",
              "      <th>city</th>\n",
              "    </tr>\n",
              "  </thead>\n",
              "  <tbody>\n",
              "    <tr>\n",
              "      <th>23691</th>\n",
              "      <td>39717529</td>\n",
              "      <td>NaN</td>\n",
              "      <td>26.28332</td>\n",
              "      <td>-80.10731</td>\n",
              "      <td>Entire home/apt</td>\n",
              "      <td>79</td>\n",
              "      <td>2</td>\n",
              "      <td>16</td>\n",
              "      <td>2.23</td>\n",
              "      <td>2</td>\n",
              "      <td>136</td>\n",
              "      <td>Broward County</td>\n",
              "    </tr>\n",
              "    <tr>\n",
              "      <th>81872</th>\n",
              "      <td>17108083</td>\n",
              "      <td>NaN</td>\n",
              "      <td>34.17216</td>\n",
              "      <td>-118.11699</td>\n",
              "      <td>Private room</td>\n",
              "      <td>125</td>\n",
              "      <td>2</td>\n",
              "      <td>0</td>\n",
              "      <td>0.00</td>\n",
              "      <td>1</td>\n",
              "      <td>179</td>\n",
              "      <td>Los Angeles</td>\n",
              "    </tr>\n",
              "    <tr>\n",
              "      <th>93004</th>\n",
              "      <td>33877948</td>\n",
              "      <td>NaN</td>\n",
              "      <td>34.41328</td>\n",
              "      <td>-118.44301</td>\n",
              "      <td>Private room</td>\n",
              "      <td>40</td>\n",
              "      <td>1</td>\n",
              "      <td>10</td>\n",
              "      <td>0.64</td>\n",
              "      <td>1</td>\n",
              "      <td>129</td>\n",
              "      <td>Los Angeles</td>\n",
              "    </tr>\n",
              "    <tr>\n",
              "      <th>119475</th>\n",
              "      <td>1615764</td>\n",
              "      <td>NaN</td>\n",
              "      <td>40.71239</td>\n",
              "      <td>-74.01620</td>\n",
              "      <td>Entire home/apt</td>\n",
              "      <td>400</td>\n",
              "      <td>1000</td>\n",
              "      <td>0</td>\n",
              "      <td>0.00</td>\n",
              "      <td>1</td>\n",
              "      <td>362</td>\n",
              "      <td>New York City</td>\n",
              "    </tr>\n",
              "    <tr>\n",
              "      <th>120149</th>\n",
              "      <td>2232600</td>\n",
              "      <td>NaN</td>\n",
              "      <td>40.73215</td>\n",
              "      <td>-73.98821</td>\n",
              "      <td>Entire home/apt</td>\n",
              "      <td>200</td>\n",
              "      <td>1</td>\n",
              "      <td>28</td>\n",
              "      <td>0.37</td>\n",
              "      <td>1</td>\n",
              "      <td>364</td>\n",
              "      <td>New York City</td>\n",
              "    </tr>\n",
              "  </tbody>\n",
              "</table>\n",
              "</div>"
            ],
            "text/plain": [
              "              id name  ...  availability_365            city\n",
              "23691   39717529  NaN  ...               136  Broward County\n",
              "81872   17108083  NaN  ...               179     Los Angeles\n",
              "93004   33877948  NaN  ...               129     Los Angeles\n",
              "119475   1615764  NaN  ...               362   New York City\n",
              "120149   2232600  NaN  ...               364   New York City\n",
              "\n",
              "[5 rows x 12 columns]"
            ]
          },
          "metadata": {
            "tags": []
          },
          "execution_count": 17
        }
      ]
    },
    {
      "cell_type": "code",
      "metadata": {
        "id": "Qhvc5s9gX8Ia"
      },
      "source": [
        "# replacing NaN values with no_name\n",
        "new_df['name'].fillna('no_name', inplace = True) "
      ],
      "execution_count": 18,
      "outputs": []
    },
    {
      "cell_type": "code",
      "metadata": {
        "id": "kzZBa1igX8Ia",
        "colab": {
          "base_uri": "https://localhost:8080/"
        },
        "outputId": "ee5715be-c53d-4149-d154-aec8c71201fe"
      },
      "source": [
        "# check for null values again\n",
        "new_df.isnull().sum()"
      ],
      "execution_count": 19,
      "outputs": [
        {
          "output_type": "execute_result",
          "data": {
            "text/plain": [
              "id                                0\n",
              "name                              0\n",
              "latitude                          0\n",
              "longitude                         0\n",
              "room_type                         0\n",
              "price                             0\n",
              "minimum_nights                    0\n",
              "number_of_reviews                 0\n",
              "reviews_per_month                 0\n",
              "calculated_host_listings_count    0\n",
              "availability_365                  0\n",
              "city                              0\n",
              "dtype: int64"
            ]
          },
          "metadata": {
            "tags": []
          },
          "execution_count": 19
        }
      ]
    },
    {
      "cell_type": "code",
      "metadata": {
        "id": "T0ttdC74X8Ia",
        "colab": {
          "base_uri": "https://localhost:8080/",
          "height": 204
        },
        "outputId": "ebdc8241-4e14-4591-97d9-e64cce964b1c"
      },
      "source": [
        "# check the dataset again\n",
        "new_df.head()"
      ],
      "execution_count": 20,
      "outputs": [
        {
          "output_type": "execute_result",
          "data": {
            "text/html": [
              "<div>\n",
              "<style scoped>\n",
              "    .dataframe tbody tr th:only-of-type {\n",
              "        vertical-align: middle;\n",
              "    }\n",
              "\n",
              "    .dataframe tbody tr th {\n",
              "        vertical-align: top;\n",
              "    }\n",
              "\n",
              "    .dataframe thead th {\n",
              "        text-align: right;\n",
              "    }\n",
              "</style>\n",
              "<table border=\"1\" class=\"dataframe\">\n",
              "  <thead>\n",
              "    <tr style=\"text-align: right;\">\n",
              "      <th></th>\n",
              "      <th>id</th>\n",
              "      <th>name</th>\n",
              "      <th>latitude</th>\n",
              "      <th>longitude</th>\n",
              "      <th>room_type</th>\n",
              "      <th>price</th>\n",
              "      <th>minimum_nights</th>\n",
              "      <th>number_of_reviews</th>\n",
              "      <th>reviews_per_month</th>\n",
              "      <th>calculated_host_listings_count</th>\n",
              "      <th>availability_365</th>\n",
              "      <th>city</th>\n",
              "    </tr>\n",
              "  </thead>\n",
              "  <tbody>\n",
              "    <tr>\n",
              "      <th>0</th>\n",
              "      <td>38585</td>\n",
              "      <td>Charming Victorian home - twin beds + breakfast</td>\n",
              "      <td>35.65146</td>\n",
              "      <td>-82.62792</td>\n",
              "      <td>Private room</td>\n",
              "      <td>60</td>\n",
              "      <td>1</td>\n",
              "      <td>138</td>\n",
              "      <td>1.14</td>\n",
              "      <td>1</td>\n",
              "      <td>0</td>\n",
              "      <td>Asheville</td>\n",
              "    </tr>\n",
              "    <tr>\n",
              "      <th>1</th>\n",
              "      <td>80905</td>\n",
              "      <td>French Chic Loft</td>\n",
              "      <td>35.59779</td>\n",
              "      <td>-82.55540</td>\n",
              "      <td>Entire home/apt</td>\n",
              "      <td>470</td>\n",
              "      <td>1</td>\n",
              "      <td>114</td>\n",
              "      <td>1.03</td>\n",
              "      <td>11</td>\n",
              "      <td>288</td>\n",
              "      <td>Asheville</td>\n",
              "    </tr>\n",
              "    <tr>\n",
              "      <th>2</th>\n",
              "      <td>108061</td>\n",
              "      <td>Walk to stores/parks/downtown. Fenced yard/Pet...</td>\n",
              "      <td>35.60670</td>\n",
              "      <td>-82.55563</td>\n",
              "      <td>Entire home/apt</td>\n",
              "      <td>75</td>\n",
              "      <td>30</td>\n",
              "      <td>89</td>\n",
              "      <td>0.81</td>\n",
              "      <td>2</td>\n",
              "      <td>298</td>\n",
              "      <td>Asheville</td>\n",
              "    </tr>\n",
              "    <tr>\n",
              "      <th>3</th>\n",
              "      <td>155305</td>\n",
              "      <td>Cottage! BonPaul + Sharky's Hostel</td>\n",
              "      <td>35.57864</td>\n",
              "      <td>-82.59578</td>\n",
              "      <td>Entire home/apt</td>\n",
              "      <td>90</td>\n",
              "      <td>1</td>\n",
              "      <td>267</td>\n",
              "      <td>2.39</td>\n",
              "      <td>5</td>\n",
              "      <td>0</td>\n",
              "      <td>Asheville</td>\n",
              "    </tr>\n",
              "    <tr>\n",
              "      <th>4</th>\n",
              "      <td>160594</td>\n",
              "      <td>Historic Grove Park</td>\n",
              "      <td>35.61442</td>\n",
              "      <td>-82.54127</td>\n",
              "      <td>Private room</td>\n",
              "      <td>125</td>\n",
              "      <td>30</td>\n",
              "      <td>58</td>\n",
              "      <td>0.52</td>\n",
              "      <td>1</td>\n",
              "      <td>0</td>\n",
              "      <td>Asheville</td>\n",
              "    </tr>\n",
              "  </tbody>\n",
              "</table>\n",
              "</div>"
            ],
            "text/plain": [
              "       id  ...       city\n",
              "0   38585  ...  Asheville\n",
              "1   80905  ...  Asheville\n",
              "2  108061  ...  Asheville\n",
              "3  155305  ...  Asheville\n",
              "4  160594  ...  Asheville\n",
              "\n",
              "[5 rows x 12 columns]"
            ]
          },
          "metadata": {
            "tags": []
          },
          "execution_count": 20
        }
      ]
    },
    {
      "cell_type": "code",
      "metadata": {
        "id": "0sDiuWpRX8Ia",
        "colab": {
          "base_uri": "https://localhost:8080/",
          "height": 204
        },
        "outputId": "8c3f5361-48da-4de6-e5c0-b9be41167414"
      },
      "source": [
        "new_df = new_df.drop(['id','name'],axis=1)\n",
        "new_df.head()"
      ],
      "execution_count": 21,
      "outputs": [
        {
          "output_type": "execute_result",
          "data": {
            "text/html": [
              "<div>\n",
              "<style scoped>\n",
              "    .dataframe tbody tr th:only-of-type {\n",
              "        vertical-align: middle;\n",
              "    }\n",
              "\n",
              "    .dataframe tbody tr th {\n",
              "        vertical-align: top;\n",
              "    }\n",
              "\n",
              "    .dataframe thead th {\n",
              "        text-align: right;\n",
              "    }\n",
              "</style>\n",
              "<table border=\"1\" class=\"dataframe\">\n",
              "  <thead>\n",
              "    <tr style=\"text-align: right;\">\n",
              "      <th></th>\n",
              "      <th>latitude</th>\n",
              "      <th>longitude</th>\n",
              "      <th>room_type</th>\n",
              "      <th>price</th>\n",
              "      <th>minimum_nights</th>\n",
              "      <th>number_of_reviews</th>\n",
              "      <th>reviews_per_month</th>\n",
              "      <th>calculated_host_listings_count</th>\n",
              "      <th>availability_365</th>\n",
              "      <th>city</th>\n",
              "    </tr>\n",
              "  </thead>\n",
              "  <tbody>\n",
              "    <tr>\n",
              "      <th>0</th>\n",
              "      <td>35.65146</td>\n",
              "      <td>-82.62792</td>\n",
              "      <td>Private room</td>\n",
              "      <td>60</td>\n",
              "      <td>1</td>\n",
              "      <td>138</td>\n",
              "      <td>1.14</td>\n",
              "      <td>1</td>\n",
              "      <td>0</td>\n",
              "      <td>Asheville</td>\n",
              "    </tr>\n",
              "    <tr>\n",
              "      <th>1</th>\n",
              "      <td>35.59779</td>\n",
              "      <td>-82.55540</td>\n",
              "      <td>Entire home/apt</td>\n",
              "      <td>470</td>\n",
              "      <td>1</td>\n",
              "      <td>114</td>\n",
              "      <td>1.03</td>\n",
              "      <td>11</td>\n",
              "      <td>288</td>\n",
              "      <td>Asheville</td>\n",
              "    </tr>\n",
              "    <tr>\n",
              "      <th>2</th>\n",
              "      <td>35.60670</td>\n",
              "      <td>-82.55563</td>\n",
              "      <td>Entire home/apt</td>\n",
              "      <td>75</td>\n",
              "      <td>30</td>\n",
              "      <td>89</td>\n",
              "      <td>0.81</td>\n",
              "      <td>2</td>\n",
              "      <td>298</td>\n",
              "      <td>Asheville</td>\n",
              "    </tr>\n",
              "    <tr>\n",
              "      <th>3</th>\n",
              "      <td>35.57864</td>\n",
              "      <td>-82.59578</td>\n",
              "      <td>Entire home/apt</td>\n",
              "      <td>90</td>\n",
              "      <td>1</td>\n",
              "      <td>267</td>\n",
              "      <td>2.39</td>\n",
              "      <td>5</td>\n",
              "      <td>0</td>\n",
              "      <td>Asheville</td>\n",
              "    </tr>\n",
              "    <tr>\n",
              "      <th>4</th>\n",
              "      <td>35.61442</td>\n",
              "      <td>-82.54127</td>\n",
              "      <td>Private room</td>\n",
              "      <td>125</td>\n",
              "      <td>30</td>\n",
              "      <td>58</td>\n",
              "      <td>0.52</td>\n",
              "      <td>1</td>\n",
              "      <td>0</td>\n",
              "      <td>Asheville</td>\n",
              "    </tr>\n",
              "  </tbody>\n",
              "</table>\n",
              "</div>"
            ],
            "text/plain": [
              "   latitude  longitude  ... availability_365       city\n",
              "0  35.65146  -82.62792  ...                0  Asheville\n",
              "1  35.59779  -82.55540  ...              288  Asheville\n",
              "2  35.60670  -82.55563  ...              298  Asheville\n",
              "3  35.57864  -82.59578  ...                0  Asheville\n",
              "4  35.61442  -82.54127  ...                0  Asheville\n",
              "\n",
              "[5 rows x 10 columns]"
            ]
          },
          "metadata": {
            "tags": []
          },
          "execution_count": 21
        }
      ]
    },
    {
      "cell_type": "markdown",
      "metadata": {
        "id": "63IVJ3khtBIU"
      },
      "source": [
        "### Random Forest Model"
      ]
    },
    {
      "cell_type": "code",
      "metadata": {
        "id": "ZknrA5pAX8Ia"
      },
      "source": [
        "# split the data into a training set and a validation set\n",
        "from sklearn.model_selection import train_test_split\n",
        "train, val = train_test_split(new_df, train_size=0.80, test_size=0.20,random_state=42)\n",
        "\n",
        "# set an X and y for train and val\n",
        "target = 'price'\n",
        "X_train = train.drop(columns=target)\n",
        "y_train = train[target]\n",
        "X_val = val.drop(columns=target)\n",
        "y_val = val[target]"
      ],
      "execution_count": 22,
      "outputs": []
    },
    {
      "cell_type": "code",
      "metadata": {
        "id": "NtQn2bHmX8Ia",
        "colab": {
          "base_uri": "https://localhost:8080/"
        },
        "outputId": "a27e661f-ede3-4de0-e527-9d2f9bad33e1"
      },
      "source": [
        "!pip install category_encoders\n",
        "import category_encoders as ce\n",
        "from sklearn.ensemble import RandomForestRegressor\n",
        "from sklearn.pipeline import make_pipeline\n",
        "from sklearn.metrics import mean_squared_error, r2_score, mean_absolute_error\n",
        "\n",
        "# train a random forest regressor\n",
        "pipeline = make_pipeline(\n",
        "    ce.OrdinalEncoder(),\n",
        "    RandomForestRegressor(n_estimators=50, criterion=\"mse\", max_depth=3, random_state=42,n_jobs=-1)\n",
        ")\n",
        "# fit the data on train and score the data on val\n",
        "pipeline.fit(X_train,y_train)\n"
      ],
      "execution_count": 23,
      "outputs": [
        {
          "output_type": "stream",
          "text": [
            "Collecting category_encoders\n",
            "\u001b[?25l  Downloading https://files.pythonhosted.org/packages/44/57/fcef41c248701ee62e8325026b90c432adea35555cbc870aff9cfba23727/category_encoders-2.2.2-py2.py3-none-any.whl (80kB)\n",
            "\r\u001b[K     |████                            | 10kB 18.4MB/s eta 0:00:01\r\u001b[K     |████████▏                       | 20kB 12.2MB/s eta 0:00:01\r\u001b[K     |████████████▏                   | 30kB 5.8MB/s eta 0:00:01\r\u001b[K     |████████████████▎               | 40kB 5.2MB/s eta 0:00:01\r\u001b[K     |████████████████████▎           | 51kB 2.6MB/s eta 0:00:01\r\u001b[K     |████████████████████████▍       | 61kB 3.0MB/s eta 0:00:01\r\u001b[K     |████████████████████████████▍   | 71kB 3.1MB/s eta 0:00:01\r\u001b[K     |████████████████████████████████| 81kB 2.6MB/s \n",
            "\u001b[?25hRequirement already satisfied: numpy>=1.14.0 in /usr/local/lib/python3.6/dist-packages (from category_encoders) (1.18.5)\n",
            "Requirement already satisfied: scikit-learn>=0.20.0 in /usr/local/lib/python3.6/dist-packages (from category_encoders) (0.22.2.post1)\n",
            "Requirement already satisfied: statsmodels>=0.9.0 in /usr/local/lib/python3.6/dist-packages (from category_encoders) (0.10.2)\n",
            "Requirement already satisfied: scipy>=1.0.0 in /usr/local/lib/python3.6/dist-packages (from category_encoders) (1.4.1)\n",
            "Requirement already satisfied: patsy>=0.5.1 in /usr/local/lib/python3.6/dist-packages (from category_encoders) (0.5.1)\n",
            "Requirement already satisfied: pandas>=0.21.1 in /usr/local/lib/python3.6/dist-packages (from category_encoders) (1.1.4)\n",
            "Requirement already satisfied: joblib>=0.11 in /usr/local/lib/python3.6/dist-packages (from scikit-learn>=0.20.0->category_encoders) (0.17.0)\n",
            "Requirement already satisfied: six in /usr/local/lib/python3.6/dist-packages (from patsy>=0.5.1->category_encoders) (1.15.0)\n",
            "Requirement already satisfied: python-dateutil>=2.7.3 in /usr/local/lib/python3.6/dist-packages (from pandas>=0.21.1->category_encoders) (2.8.1)\n",
            "Requirement already satisfied: pytz>=2017.2 in /usr/local/lib/python3.6/dist-packages (from pandas>=0.21.1->category_encoders) (2018.9)\n",
            "Installing collected packages: category-encoders\n",
            "Successfully installed category-encoders-2.2.2\n"
          ],
          "name": "stdout"
        },
        {
          "output_type": "stream",
          "text": [
            "/usr/local/lib/python3.6/dist-packages/statsmodels/tools/_testing.py:19: FutureWarning: pandas.util.testing is deprecated. Use the functions in the public API at pandas.testing instead.\n",
            "  import pandas.util.testing as tm\n"
          ],
          "name": "stderr"
        },
        {
          "output_type": "execute_result",
          "data": {
            "text/plain": [
              "Pipeline(memory=None,\n",
              "         steps=[('ordinalencoder',\n",
              "                 OrdinalEncoder(cols=['room_type', 'city'],\n",
              "                                drop_invariant=False, handle_missing='value',\n",
              "                                handle_unknown='value',\n",
              "                                mapping=[{'col': 'room_type',\n",
              "                                          'data_type': dtype('O'),\n",
              "                                          'mapping': Entire home/apt    1\n",
              "Private room       2\n",
              "Shared room        3\n",
              "Hotel room         4\n",
              "NaN               -2\n",
              "dtype: int64},\n",
              "                                         {'col': 'city',\n",
              "                                          'data_type': dtype('O'),\n",
              "                                          'mapping': Hawaii            1\n",
              "New Orleans       2\n",
              "Bost...\n",
              "                 RandomForestRegressor(bootstrap=True, ccp_alpha=0.0,\n",
              "                                       criterion='mse', max_depth=3,\n",
              "                                       max_features='auto', max_leaf_nodes=None,\n",
              "                                       max_samples=None,\n",
              "                                       min_impurity_decrease=0.0,\n",
              "                                       min_impurity_split=None,\n",
              "                                       min_samples_leaf=1, min_samples_split=2,\n",
              "                                       min_weight_fraction_leaf=0.0,\n",
              "                                       n_estimators=50, n_jobs=-1,\n",
              "                                       oob_score=False, random_state=42,\n",
              "                                       verbose=0, warm_start=False))],\n",
              "         verbose=False)"
            ]
          },
          "metadata": {
            "tags": []
          },
          "execution_count": 23
        }
      ]
    },
    {
      "cell_type": "code",
      "metadata": {
        "id": "22_dG9DhX8Ia",
        "colab": {
          "base_uri": "https://localhost:8080/"
        },
        "outputId": "9bdf9461-2495-4e39-b5f3-ab7128a773f7"
      },
      "source": [
        "pred = pipeline.predict(X_val)\n",
        "print(\"R2 Score:\", r2_score(y_val,pred))\n",
        "print(\"Mean Squared Error:\", mean_squared_error(y_val,pred))\n",
        "print(\"Mean Absolute Error:\", mean_absolute_error(y_val,pred))"
      ],
      "execution_count": 24,
      "outputs": [
        {
          "output_type": "stream",
          "text": [
            "R2 Score: 0.04684412840538321\n",
            "Mean Squared Error: 347015.2497850995\n",
            "Mean Absolute Error: 162.48903188123526\n"
          ],
          "name": "stdout"
        }
      ]
    },
    {
      "cell_type": "markdown",
      "metadata": {
        "id": "2F7VcERKtW9r"
      },
      "source": [
        "#### Feature Importance"
      ]
    },
    {
      "cell_type": "code",
      "metadata": {
        "id": "GPVowErYX8Ia",
        "colab": {
          "base_uri": "https://localhost:8080/",
          "height": 363
        },
        "outputId": "5ef8581c-5e1b-4af3-a46d-d7aac86ed78a"
      },
      "source": [
        "%matplotlib inline\n",
        "import matplotlib.pyplot as plt\n",
        "\n",
        "rf = pipeline.named_steps['randomforestregressor']\n",
        "importances = pd.Series(rf.feature_importances_, X_train.columns)\n",
        "\n",
        "n = 11\n",
        "plt.figure(figsize=(10,n/2))\n",
        "plt.title(f'Top {n} Features')\n",
        "importances.sort_values()[-n:].plot.barh(color='green');"
      ],
      "execution_count": 25,
      "outputs": [
        {
          "output_type": "display_data",
          "data": {
            "image/png": "[encoded data removed]",
            "text/plain": [
              "<Figure size 720x396 with 1 Axes>"
            ]
          },
          "metadata": {
            "tags": [],
            "needs_background": "light"
          }
        }
      ]
    },
    {
      "cell_type": "markdown",
      "metadata": {
        "id": "TROdoEY9tdad"
      },
      "source": [
        "### XGBoost"
      ]
    },
    {
      "cell_type": "code",
      "metadata": {
        "id": "Sd36XHm_X8Ia",
        "colab": {
          "base_uri": "https://localhost:8080/"
        },
        "outputId": "53c0f37e-535a-4fbd-9c41-e4a899c3f3f3"
      },
      "source": [
        "from xgboost import XGBRegressor\n",
        "\n",
        "pipleline_XGB = make_pipeline(\n",
        "    ce.OrdinalEncoder(),\n",
        "    XGBRegressor(n_estimators=100, random_state=42, n_jobs=-1)\n",
        ")\n",
        "\n",
        "pipleline_XGB.fit(X_train,y_train)\n"
      ],
      "execution_count": 26,
      "outputs": [
        {
          "output_type": "stream",
          "text": [
            "[04:03:35] WARNING: /workspace/src/objective/regression_obj.cu:152: reg:linear is now deprecated in favor of reg:squarederror.\n"
          ],
          "name": "stdout"
        },
        {
          "output_type": "execute_result",
          "data": {
            "text/plain": [
              "Pipeline(memory=None,\n",
              "         steps=[('ordinalencoder',\n",
              "                 OrdinalEncoder(cols=['room_type', 'city'],\n",
              "                                drop_invariant=False, handle_missing='value',\n",
              "                                handle_unknown='value',\n",
              "                                mapping=[{'col': 'room_type',\n",
              "                                          'data_type': dtype('O'),\n",
              "                                          'mapping': Entire home/apt    1\n",
              "Private room       2\n",
              "Shared room        3\n",
              "Hotel room         4\n",
              "NaN               -2\n",
              "dtype: int64},\n",
              "                                         {'col': 'city',\n",
              "                                          'data_type': dtype('O'),\n",
              "                                          'mapping': Hawaii            1\n",
              "New Orleans       2\n",
              "Bost...\n",
              "                              colsample_bylevel=1, colsample_bynode=1,\n",
              "                              colsample_bytree=1, gamma=0,\n",
              "                              importance_type='gain', learning_rate=0.1,\n",
              "                              max_delta_step=0, max_depth=3, min_child_weight=1,\n",
              "                              missing=None, n_estimators=100, n_jobs=-1,\n",
              "                              nthread=None, objective='reg:linear',\n",
              "                              random_state=42, reg_alpha=0, reg_lambda=1,\n",
              "                              scale_pos_weight=1, seed=None, silent=None,\n",
              "                              subsample=1, verbosity=1))],\n",
              "         verbose=False)"
            ]
          },
          "metadata": {
            "tags": []
          },
          "execution_count": 26
        }
      ]
    },
    {
      "cell_type": "code",
      "metadata": {
        "id": "txogpHLjX8Ia",
        "colab": {
          "base_uri": "https://localhost:8080/"
        },
        "outputId": "b75f4b8d-1863-4848-cf6c-23e17a0d8be5"
      },
      "source": [
        "pred = pipleline_XGB.predict(X_val)\n",
        "print(\"R2 Score:\", r2_score(y_val,pred))\n",
        "print(\"Mean Squared Error:\", mean_squared_error(y_val,pred))\n",
        "print(\"Mean Absolute Error:\", mean_absolute_error(y_val,pred))"
      ],
      "execution_count": 27,
      "outputs": [
        {
          "output_type": "stream",
          "text": [
            "R2 Score: 0.18994175413063896\n",
            "Mean Squared Error: 294917.728472422\n",
            "Mean Absolute Error: 147.72654794966843\n"
          ],
          "name": "stdout"
        }
      ]
    },
    {
      "cell_type": "markdown",
      "metadata": {
        "id": "YKy4zvDsthU8"
      },
      "source": [
        "### Training a Neural Network"
      ]
    },
    {
      "cell_type": "code",
      "metadata": {
        "id": "enoAqUReaM0f"
      },
      "source": [
        "from sklearn.preprocessing import StandardScaler\n",
        "\n",
        "# encode the data so that we don't have an categorical data\n",
        "encoder = ce.OrdinalEncoder()\n",
        "X_train_encoded = encoder.fit_transform(X_train)\n",
        "X_val_encoded = encoder.transform(X_val)\n",
        "\n",
        "# scale the data so the neural network doesn't get stuck on the data\n",
        "scaler = StandardScaler()\n",
        "X_train_scaled = scaler.fit_transform(X_train_encoded)\n",
        "X_val_scaled = scaler.transform(X_val_encoded)"
      ],
      "execution_count": null,
      "outputs": []
    },
    {
      "cell_type": "code",
      "metadata": {
        "colab": {
          "base_uri": "https://localhost:8080/",
          "height": 1000
        },
        "id": "qSrW_0e-bkge",
        "outputId": "02e9a5cd-153e-4da3-a55e-a6c812dae316"
      },
      "source": [
        "from tensorflow import keras\n",
        "from tensorflow.keras.models import Sequential\n",
        "from tensorflow.keras.layers import Dense\n",
        "from tensorflow.keras.callbacks import EarlyStopping\n",
        "\n",
        "# Important Hyperparameters\n",
        "inputs = X_train_scaled.shape[1]\n",
        "epochs = 75\n",
        "batch_size = 10\n",
        "\n",
        "# Create Model\n",
        "model = Sequential()\n",
        "model.add(Dense(64, activation='sigmoid', input_shape=(inputs,)))\n",
        "model.add(Dense(64, activation='sigmoid'))\n",
        "model.add(Dense(1))\n",
        "\n",
        "# Early Stopping\n",
        "callback=EarlyStopping(patience=5,verbose=1,min_delta=1)\n",
        "\n",
        "# Compile Model\n",
        "model.compile(optimizer='adam', loss='mae', metrics=['mae'])\n",
        "\n",
        "# Fit Model\n",
        "results = model.fit(X_train_scaled, y_train, \n",
        "            validation_data=(X_val_scaled,y_val), \n",
        "            epochs=epochs, \n",
        "            batch_size=batch_size,\n",
        "            callbacks=[callback])"
      ],
      "execution_count": null,
      "outputs": [
        {
          "output_type": "stream",
          "text": [
            "Epoch 1/75\n",
            "18083/18083 [==============================] - 21s 1ms/step - loss: 136.0158 - mae: 136.0158 - val_loss: 131.9002 - val_mae: 131.9002\n",
            "Epoch 2/75\n",
            "18083/18083 [==============================] - 21s 1ms/step - loss: 128.8760 - mae: 128.8760 - val_loss: 131.1290 - val_mae: 131.1290\n",
            "Epoch 3/75\n",
            "18083/18083 [==============================] - 21s 1ms/step - loss: 128.2353 - mae: 128.2353 - val_loss: 130.5606 - val_mae: 130.5606\n",
            "Epoch 4/75\n",
            "18083/18083 [==============================] - 22s 1ms/step - loss: 127.6265 - mae: 127.6265 - val_loss: 130.0735 - val_mae: 130.0735\n",
            "Epoch 5/75\n",
            "18083/18083 [==============================] - 23s 1ms/step - loss: 127.1408 - mae: 127.1408 - val_loss: 129.6036 - val_mae: 129.6036\n",
            "Epoch 6/75\n",
            "18083/18083 [==============================] - 21s 1ms/step - loss: 126.7360 - mae: 126.7360 - val_loss: 129.2360 - val_mae: 129.2360\n",
            "Epoch 7/75\n",
            "18083/18083 [==============================] - 21s 1ms/step - loss: 126.3998 - mae: 126.3998 - val_loss: 128.8054 - val_mae: 128.8054\n",
            "Epoch 8/75\n",
            "18083/18083 [==============================] - 23s 1ms/step - loss: 126.0813 - mae: 126.0813 - val_loss: 128.4401 - val_mae: 128.4401\n",
            "Epoch 9/75\n",
            "18083/18083 [==============================] - 21s 1ms/step - loss: 125.7446 - mae: 125.7446 - val_loss: 128.1127 - val_mae: 128.1127\n",
            "Epoch 10/75\n",
            "18083/18083 [==============================] - 21s 1ms/step - loss: 125.3728 - mae: 125.3728 - val_loss: 127.7473 - val_mae: 127.7473\n",
            "Epoch 11/75\n",
            "18083/18083 [==============================] - 21s 1ms/step - loss: 125.0361 - mae: 125.0361 - val_loss: 127.4258 - val_mae: 127.4258\n",
            "Epoch 12/75\n",
            "18083/18083 [==============================] - 21s 1ms/step - loss: 124.7306 - mae: 124.7306 - val_loss: 127.2333 - val_mae: 127.2333\n",
            "Epoch 13/75\n",
            "18083/18083 [==============================] - 21s 1ms/step - loss: 124.4283 - mae: 124.4283 - val_loss: 127.0793 - val_mae: 127.0793\n",
            "Epoch 14/75\n",
            "18083/18083 [==============================] - 21s 1ms/step - loss: 124.1834 - mae: 124.1834 - val_loss: 127.2440 - val_mae: 127.2440\n",
            "Epoch 15/75\n",
            "18083/18083 [==============================] - 21s 1ms/step - loss: 123.9499 - mae: 123.9499 - val_loss: 126.4216 - val_mae: 126.4216\n",
            "Epoch 16/75\n",
            "18083/18083 [==============================] - 21s 1ms/step - loss: 123.7351 - mae: 123.7351 - val_loss: 126.2111 - val_mae: 126.2111\n",
            "Epoch 17/75\n",
            "18083/18083 [==============================] - 21s 1ms/step - loss: 123.5114 - mae: 123.5114 - val_loss: 126.0610 - val_mae: 126.0610\n",
            "Epoch 18/75\n",
            "18083/18083 [==============================] - 21s 1ms/step - loss: 123.3093 - mae: 123.3093 - val_loss: 126.0681 - val_mae: 126.0681\n",
            "Epoch 19/75\n",
            "18083/18083 [==============================] - 21s 1ms/step - loss: 123.1500 - mae: 123.1500 - val_loss: 125.7326 - val_mae: 125.7326\n",
            "Epoch 20/75\n",
            "18083/18083 [==============================] - 21s 1ms/step - loss: 122.9755 - mae: 122.9755 - val_loss: 125.5673 - val_mae: 125.5673\n",
            "Epoch 21/75\n",
            "18083/18083 [==============================] - 21s 1ms/step - loss: 122.8135 - mae: 122.8135 - val_loss: 126.0132 - val_mae: 126.0132\n",
            "Epoch 22/75\n",
            "18083/18083 [==============================] - 21s 1ms/step - loss: 122.6756 - mae: 122.6756 - val_loss: 125.9091 - val_mae: 125.9091\n",
            "Epoch 23/75\n",
            "18083/18083 [==============================] - 22s 1ms/step - loss: 122.5204 - mae: 122.5204 - val_loss: 125.0907 - val_mae: 125.0907\n",
            "Epoch 24/75\n",
            "18083/18083 [==============================] - 21s 1ms/step - loss: 122.3748 - mae: 122.3748 - val_loss: 125.1637 - val_mae: 125.1637\n",
            "Epoch 25/75\n",
            "18083/18083 [==============================] - 21s 1ms/step - loss: 122.2430 - mae: 122.2430 - val_loss: 124.9408 - val_mae: 124.9408\n",
            "Epoch 26/75\n",
            "18083/18083 [==============================] - 21s 1ms/step - loss: 122.1188 - mae: 122.1188 - val_loss: 124.7648 - val_mae: 124.7648\n",
            "Epoch 27/75\n",
            "18083/18083 [==============================] - 21s 1ms/step - loss: 122.0249 - mae: 122.0249 - val_loss: 124.5081 - val_mae: 124.5081\n",
            "Epoch 28/75\n",
            " 3564/18083 [====>.........................] - ETA: 14s - loss: 121.0956 - mae: 121.0956"
          ],
          "name": "stdout"
        },
        {
          "output_type": "error",
          "ename": "KeyboardInterrupt",
          "evalue": "ignored",
          "traceback": [
            "\u001b[0;31m---------------------------------------------------------------------------\u001b[0m",
            "\u001b[0;31mKeyboardInterrupt\u001b[0m                         Traceback (most recent call last)",
            "\u001b[0;32m<ipython-input-33-549502038df8>\u001b[0m in \u001b[0;36m<module>\u001b[0;34m()\u001b[0m\n\u001b[1;32m     26\u001b[0m             \u001b[0mepochs\u001b[0m\u001b[0;34m=\u001b[0m\u001b[0mepochs\u001b[0m\u001b[0;34m,\u001b[0m\u001b[0;34m\u001b[0m\u001b[0;34m\u001b[0m\u001b[0m\n\u001b[1;32m     27\u001b[0m             \u001b[0mbatch_size\u001b[0m\u001b[0;34m=\u001b[0m\u001b[0mbatch_size\u001b[0m\u001b[0;34m,\u001b[0m\u001b[0;34m\u001b[0m\u001b[0;34m\u001b[0m\u001b[0m\n\u001b[0;32m---> 28\u001b[0;31m             callbacks=[callback])\n\u001b[0m",
            "\u001b[0;32m/usr/local/lib/python3.6/dist-packages/tensorflow/python/keras/engine/training.py\u001b[0m in \u001b[0;36m_method_wrapper\u001b[0;34m(self, *args, **kwargs)\u001b[0m\n\u001b[1;32m    106\u001b[0m   \u001b[0;32mdef\u001b[0m \u001b[0m_method_wrapper\u001b[0m\u001b[0;34m(\u001b[0m\u001b[0mself\u001b[0m\u001b[0;34m,\u001b[0m \u001b[0;34m*\u001b[0m\u001b[0margs\u001b[0m\u001b[0;34m,\u001b[0m \u001b[0;34m**\u001b[0m\u001b[0mkwargs\u001b[0m\u001b[0;34m)\u001b[0m\u001b[0;34m:\u001b[0m\u001b[0;34m\u001b[0m\u001b[0;34m\u001b[0m\u001b[0m\n\u001b[1;32m    107\u001b[0m     \u001b[0;32mif\u001b[0m \u001b[0;32mnot\u001b[0m \u001b[0mself\u001b[0m\u001b[0;34m.\u001b[0m\u001b[0m_in_multi_worker_mode\u001b[0m\u001b[0;34m(\u001b[0m\u001b[0;34m)\u001b[0m\u001b[0;34m:\u001b[0m  \u001b[0;31m# pylint: disable=protected-access\u001b[0m\u001b[0;34m\u001b[0m\u001b[0;34m\u001b[0m\u001b[0m\n\u001b[0;32m--> 108\u001b[0;31m       \u001b[0;32mreturn\u001b[0m \u001b[0mmethod\u001b[0m\u001b[0;34m(\u001b[0m\u001b[0mself\u001b[0m\u001b[0;34m,\u001b[0m \u001b[0;34m*\u001b[0m\u001b[0margs\u001b[0m\u001b[0;34m,\u001b[0m \u001b[0;34m**\u001b[0m\u001b[0mkwargs\u001b[0m\u001b[0;34m)\u001b[0m\u001b[0;34m\u001b[0m\u001b[0;34m\u001b[0m\u001b[0m\n\u001b[0m\u001b[1;32m    109\u001b[0m \u001b[0;34m\u001b[0m\u001b[0m\n\u001b[1;32m    110\u001b[0m     \u001b[0;31m# Running inside `run_distribute_coordinator` already.\u001b[0m\u001b[0;34m\u001b[0m\u001b[0;34m\u001b[0m\u001b[0;34m\u001b[0m\u001b[0m\n",
            "\u001b[0;32m/usr/local/lib/python3.6/dist-packages/tensorflow/python/keras/engine/training.py\u001b[0m in \u001b[0;36mfit\u001b[0;34m(self, x, y, batch_size, epochs, verbose, callbacks, validation_split, validation_data, shuffle, class_weight, sample_weight, initial_epoch, steps_per_epoch, validation_steps, validation_batch_size, validation_freq, max_queue_size, workers, use_multiprocessing)\u001b[0m\n\u001b[1;32m   1096\u001b[0m                 batch_size=batch_size):\n\u001b[1;32m   1097\u001b[0m               \u001b[0mcallbacks\u001b[0m\u001b[0;34m.\u001b[0m\u001b[0mon_train_batch_begin\u001b[0m\u001b[0;34m(\u001b[0m\u001b[0mstep\u001b[0m\u001b[0;34m)\u001b[0m\u001b[0;34m\u001b[0m\u001b[0;34m\u001b[0m\u001b[0m\n\u001b[0;32m-> 1098\u001b[0;31m               \u001b[0mtmp_logs\u001b[0m \u001b[0;34m=\u001b[0m \u001b[0mtrain_function\u001b[0m\u001b[0;34m(\u001b[0m\u001b[0miterator\u001b[0m\u001b[0;34m)\u001b[0m\u001b[0;34m\u001b[0m\u001b[0;34m\u001b[0m\u001b[0m\n\u001b[0m\u001b[1;32m   1099\u001b[0m               \u001b[0;32mif\u001b[0m \u001b[0mdata_handler\u001b[0m\u001b[0;34m.\u001b[0m\u001b[0mshould_sync\u001b[0m\u001b[0;34m:\u001b[0m\u001b[0;34m\u001b[0m\u001b[0;34m\u001b[0m\u001b[0m\n\u001b[1;32m   1100\u001b[0m                 \u001b[0mcontext\u001b[0m\u001b[0;34m.\u001b[0m\u001b[0masync_wait\u001b[0m\u001b[0;34m(\u001b[0m\u001b[0;34m)\u001b[0m\u001b[0;34m\u001b[0m\u001b[0;34m\u001b[0m\u001b[0m\n",
            "\u001b[0;32m/usr/local/lib/python3.6/dist-packages/tensorflow/python/eager/def_function.py\u001b[0m in \u001b[0;36m__call__\u001b[0;34m(self, *args, **kwds)\u001b[0m\n\u001b[1;32m    778\u001b[0m       \u001b[0;32melse\u001b[0m\u001b[0;34m:\u001b[0m\u001b[0;34m\u001b[0m\u001b[0;34m\u001b[0m\u001b[0m\n\u001b[1;32m    779\u001b[0m         \u001b[0mcompiler\u001b[0m \u001b[0;34m=\u001b[0m \u001b[0;34m\"nonXla\"\u001b[0m\u001b[0;34m\u001b[0m\u001b[0;34m\u001b[0m\u001b[0m\n\u001b[0;32m--> 780\u001b[0;31m         \u001b[0mresult\u001b[0m \u001b[0;34m=\u001b[0m \u001b[0mself\u001b[0m\u001b[0;34m.\u001b[0m\u001b[0m_call\u001b[0m\u001b[0;34m(\u001b[0m\u001b[0;34m*\u001b[0m\u001b[0margs\u001b[0m\u001b[0;34m,\u001b[0m \u001b[0;34m**\u001b[0m\u001b[0mkwds\u001b[0m\u001b[0;34m)\u001b[0m\u001b[0;34m\u001b[0m\u001b[0;34m\u001b[0m\u001b[0m\n\u001b[0m\u001b[1;32m    781\u001b[0m \u001b[0;34m\u001b[0m\u001b[0m\n\u001b[1;32m    782\u001b[0m       \u001b[0mnew_tracing_count\u001b[0m \u001b[0;34m=\u001b[0m \u001b[0mself\u001b[0m\u001b[0;34m.\u001b[0m\u001b[0m_get_tracing_count\u001b[0m\u001b[0;34m(\u001b[0m\u001b[0;34m)\u001b[0m\u001b[0;34m\u001b[0m\u001b[0;34m\u001b[0m\u001b[0m\n",
            "\u001b[0;32m/usr/local/lib/python3.6/dist-packages/tensorflow/python/eager/def_function.py\u001b[0m in \u001b[0;36m_call\u001b[0;34m(self, *args, **kwds)\u001b[0m\n\u001b[1;32m    805\u001b[0m       \u001b[0;31m# In this case we have created variables on the first call, so we run the\u001b[0m\u001b[0;34m\u001b[0m\u001b[0;34m\u001b[0m\u001b[0;34m\u001b[0m\u001b[0m\n\u001b[1;32m    806\u001b[0m       \u001b[0;31m# defunned version which is guaranteed to never create variables.\u001b[0m\u001b[0;34m\u001b[0m\u001b[0;34m\u001b[0m\u001b[0;34m\u001b[0m\u001b[0m\n\u001b[0;32m--> 807\u001b[0;31m       \u001b[0;32mreturn\u001b[0m \u001b[0mself\u001b[0m\u001b[0;34m.\u001b[0m\u001b[0m_stateless_fn\u001b[0m\u001b[0;34m(\u001b[0m\u001b[0;34m*\u001b[0m\u001b[0margs\u001b[0m\u001b[0;34m,\u001b[0m \u001b[0;34m**\u001b[0m\u001b[0mkwds\u001b[0m\u001b[0;34m)\u001b[0m  \u001b[0;31m# pylint: disable=not-callable\u001b[0m\u001b[0;34m\u001b[0m\u001b[0;34m\u001b[0m\u001b[0m\n\u001b[0m\u001b[1;32m    808\u001b[0m     \u001b[0;32melif\u001b[0m \u001b[0mself\u001b[0m\u001b[0;34m.\u001b[0m\u001b[0m_stateful_fn\u001b[0m \u001b[0;32mis\u001b[0m \u001b[0;32mnot\u001b[0m \u001b[0;32mNone\u001b[0m\u001b[0;34m:\u001b[0m\u001b[0;34m\u001b[0m\u001b[0;34m\u001b[0m\u001b[0m\n\u001b[1;32m    809\u001b[0m       \u001b[0;31m# Release the lock early so that multiple threads can perform the call\u001b[0m\u001b[0;34m\u001b[0m\u001b[0;34m\u001b[0m\u001b[0;34m\u001b[0m\u001b[0m\n",
            "\u001b[0;32m/usr/local/lib/python3.6/dist-packages/tensorflow/python/eager/function.py\u001b[0m in \u001b[0;36m__call__\u001b[0;34m(self, *args, **kwargs)\u001b[0m\n\u001b[1;32m   2827\u001b[0m     \u001b[0;32mwith\u001b[0m \u001b[0mself\u001b[0m\u001b[0;34m.\u001b[0m\u001b[0m_lock\u001b[0m\u001b[0;34m:\u001b[0m\u001b[0;34m\u001b[0m\u001b[0;34m\u001b[0m\u001b[0m\n\u001b[1;32m   2828\u001b[0m       \u001b[0mgraph_function\u001b[0m\u001b[0;34m,\u001b[0m \u001b[0margs\u001b[0m\u001b[0;34m,\u001b[0m \u001b[0mkwargs\u001b[0m \u001b[0;34m=\u001b[0m \u001b[0mself\u001b[0m\u001b[0;34m.\u001b[0m\u001b[0m_maybe_define_function\u001b[0m\u001b[0;34m(\u001b[0m\u001b[0margs\u001b[0m\u001b[0;34m,\u001b[0m \u001b[0mkwargs\u001b[0m\u001b[0;34m)\u001b[0m\u001b[0;34m\u001b[0m\u001b[0;34m\u001b[0m\u001b[0m\n\u001b[0;32m-> 2829\u001b[0;31m     \u001b[0;32mreturn\u001b[0m \u001b[0mgraph_function\u001b[0m\u001b[0;34m.\u001b[0m\u001b[0m_filtered_call\u001b[0m\u001b[0;34m(\u001b[0m\u001b[0margs\u001b[0m\u001b[0;34m,\u001b[0m \u001b[0mkwargs\u001b[0m\u001b[0;34m)\u001b[0m  \u001b[0;31m# pylint: disable=protected-access\u001b[0m\u001b[0;34m\u001b[0m\u001b[0;34m\u001b[0m\u001b[0m\n\u001b[0m\u001b[1;32m   2830\u001b[0m \u001b[0;34m\u001b[0m\u001b[0m\n\u001b[1;32m   2831\u001b[0m   \u001b[0;34m@\u001b[0m\u001b[0mproperty\u001b[0m\u001b[0;34m\u001b[0m\u001b[0;34m\u001b[0m\u001b[0m\n",
            "\u001b[0;32m/usr/local/lib/python3.6/dist-packages/tensorflow/python/eager/function.py\u001b[0m in \u001b[0;36m_filtered_call\u001b[0;34m(self, args, kwargs, cancellation_manager)\u001b[0m\n\u001b[1;32m   1846\u001b[0m                            resource_variable_ops.BaseResourceVariable))],\n\u001b[1;32m   1847\u001b[0m         \u001b[0mcaptured_inputs\u001b[0m\u001b[0;34m=\u001b[0m\u001b[0mself\u001b[0m\u001b[0;34m.\u001b[0m\u001b[0mcaptured_inputs\u001b[0m\u001b[0;34m,\u001b[0m\u001b[0;34m\u001b[0m\u001b[0;34m\u001b[0m\u001b[0m\n\u001b[0;32m-> 1848\u001b[0;31m         cancellation_manager=cancellation_manager)\n\u001b[0m\u001b[1;32m   1849\u001b[0m \u001b[0;34m\u001b[0m\u001b[0m\n\u001b[1;32m   1850\u001b[0m   \u001b[0;32mdef\u001b[0m \u001b[0m_call_flat\u001b[0m\u001b[0;34m(\u001b[0m\u001b[0mself\u001b[0m\u001b[0;34m,\u001b[0m \u001b[0margs\u001b[0m\u001b[0;34m,\u001b[0m \u001b[0mcaptured_inputs\u001b[0m\u001b[0;34m,\u001b[0m \u001b[0mcancellation_manager\u001b[0m\u001b[0;34m=\u001b[0m\u001b[0;32mNone\u001b[0m\u001b[0;34m)\u001b[0m\u001b[0;34m:\u001b[0m\u001b[0;34m\u001b[0m\u001b[0;34m\u001b[0m\u001b[0m\n",
            "\u001b[0;32m/usr/local/lib/python3.6/dist-packages/tensorflow/python/eager/function.py\u001b[0m in \u001b[0;36m_call_flat\u001b[0;34m(self, args, captured_inputs, cancellation_manager)\u001b[0m\n\u001b[1;32m   1922\u001b[0m       \u001b[0;31m# No tape is watching; skip to running the function.\u001b[0m\u001b[0;34m\u001b[0m\u001b[0;34m\u001b[0m\u001b[0;34m\u001b[0m\u001b[0m\n\u001b[1;32m   1923\u001b[0m       return self._build_call_outputs(self._inference_function.call(\n\u001b[0;32m-> 1924\u001b[0;31m           ctx, args, cancellation_manager=cancellation_manager))\n\u001b[0m\u001b[1;32m   1925\u001b[0m     forward_backward = self._select_forward_and_backward_functions(\n\u001b[1;32m   1926\u001b[0m         \u001b[0margs\u001b[0m\u001b[0;34m,\u001b[0m\u001b[0;34m\u001b[0m\u001b[0;34m\u001b[0m\u001b[0m\n",
            "\u001b[0;32m/usr/local/lib/python3.6/dist-packages/tensorflow/python/eager/function.py\u001b[0m in \u001b[0;36mcall\u001b[0;34m(self, ctx, args, cancellation_manager)\u001b[0m\n\u001b[1;32m    548\u001b[0m               \u001b[0minputs\u001b[0m\u001b[0;34m=\u001b[0m\u001b[0margs\u001b[0m\u001b[0;34m,\u001b[0m\u001b[0;34m\u001b[0m\u001b[0;34m\u001b[0m\u001b[0m\n\u001b[1;32m    549\u001b[0m               \u001b[0mattrs\u001b[0m\u001b[0;34m=\u001b[0m\u001b[0mattrs\u001b[0m\u001b[0;34m,\u001b[0m\u001b[0;34m\u001b[0m\u001b[0;34m\u001b[0m\u001b[0m\n\u001b[0;32m--> 550\u001b[0;31m               ctx=ctx)\n\u001b[0m\u001b[1;32m    551\u001b[0m         \u001b[0;32melse\u001b[0m\u001b[0;34m:\u001b[0m\u001b[0;34m\u001b[0m\u001b[0;34m\u001b[0m\u001b[0m\n\u001b[1;32m    552\u001b[0m           outputs = execute.execute_with_cancellation(\n",
            "\u001b[0;32m/usr/local/lib/python3.6/dist-packages/tensorflow/python/eager/execute.py\u001b[0m in \u001b[0;36mquick_execute\u001b[0;34m(op_name, num_outputs, inputs, attrs, ctx, name)\u001b[0m\n\u001b[1;32m     58\u001b[0m     \u001b[0mctx\u001b[0m\u001b[0;34m.\u001b[0m\u001b[0mensure_initialized\u001b[0m\u001b[0;34m(\u001b[0m\u001b[0;34m)\u001b[0m\u001b[0;34m\u001b[0m\u001b[0;34m\u001b[0m\u001b[0m\n\u001b[1;32m     59\u001b[0m     tensors = pywrap_tfe.TFE_Py_Execute(ctx._handle, device_name, op_name,\n\u001b[0;32m---> 60\u001b[0;31m                                         inputs, attrs, num_outputs)\n\u001b[0m\u001b[1;32m     61\u001b[0m   \u001b[0;32mexcept\u001b[0m \u001b[0mcore\u001b[0m\u001b[0;34m.\u001b[0m\u001b[0m_NotOkStatusException\u001b[0m \u001b[0;32mas\u001b[0m \u001b[0me\u001b[0m\u001b[0;34m:\u001b[0m\u001b[0;34m\u001b[0m\u001b[0;34m\u001b[0m\u001b[0m\n\u001b[1;32m     62\u001b[0m     \u001b[0;32mif\u001b[0m \u001b[0mname\u001b[0m \u001b[0;32mis\u001b[0m \u001b[0;32mnot\u001b[0m \u001b[0;32mNone\u001b[0m\u001b[0;34m:\u001b[0m\u001b[0;34m\u001b[0m\u001b[0;34m\u001b[0m\u001b[0m\n",
            "\u001b[0;31mKeyboardInterrupt\u001b[0m: "
          ]
        }
      ]
    },
    {
      "cell_type": "markdown",
      "metadata": {
        "id": "VIkG9uautpuI"
      },
      "source": [
        "#### Hyperparameter Tuning"
      ]
    },
    {
      "cell_type": "code",
      "metadata": {
        "colab": {
          "base_uri": "https://localhost:8080/"
        },
        "id": "-rtfABLEoJqf",
        "outputId": "5bdc9c81-8bcc-4493-83c5-ad4b441e977d"
      },
      "source": [
        "from tensorflow.keras.wrappers.scikit_learn import KerasRegressor\n",
        "from tensorflow.keras.optimizers import Adam\n",
        "from sklearn.model_selection import GridSearchCV\n",
        "\n",
        "# Function to create model, required for KerasRegressor\n",
        "def create_model(lr=0.001):\n",
        "\n",
        "    # Define Adam optimizer\n",
        "    opt = Adam(learning_rate=lr)\n",
        "\n",
        "    # inputs\n",
        "    inputs = X_train_scaled.shape[1]\n",
        "\n",
        "    # Create Model\n",
        "    model = Sequential()\n",
        "    model.add(Dense(64, activation='sigmoid', input_shape=(inputs,)))\n",
        "    model.add(Dense(64, activation='sigmoid'))\n",
        "    model.add(Dense(1))\n",
        "    \n",
        "    # Compile Model\n",
        "    model.compile(optimizer=opt, loss='mae', metrics=['mae'])\n",
        "    return model\n",
        "\n",
        "# Create model\n",
        "model2 = KerasRegressor(build_fn=create_model, verbose=0)\n",
        "\n",
        "# define the grid search parameters\n",
        "param_grid = {'lr': [0.01, 0.05, 0.1, 0.25],\n",
        "              'batch_size': [8, 16],\n",
        "              'epochs': [7]}\n",
        "\n",
        "# Create Grid Search\n",
        "grid = GridSearchCV(estimator=model2, param_grid=param_grid, n_jobs=1)\n",
        "grid_result = grid.fit(X_train_scaled, y_train)\n",
        "\n",
        "# Report Results\n",
        "print(f\"Best: {-grid_result.best_score_} using {grid_result.best_params_}\")\n",
        "means = -grid_result.cv_results_['mean_test_score']\n",
        "stds = grid_result.cv_results_['std_test_score']\n",
        "params = grid_result.cv_results_['params']\n",
        "for mean, stdev, param in zip(means, stds, params):\n",
        "    print(f\"Means: {mean}, Stdev: {stdev} with: {param}\") "
      ],
      "execution_count": null,
      "outputs": [
        {
          "output_type": "stream",
          "text": [
            "Best: 122.19459838867188 using {'batch_size': 8, 'epochs': 7, 'lr': 0.01}\n",
            "Means: 122.19459838867188, Stdev: 1.6522169202616936 with: {'batch_size': 8, 'epochs': 7, 'lr': 0.01}\n",
            "Means: 128.2876968383789, Stdev: 1.4233517234070934 with: {'batch_size': 8, 'epochs': 7, 'lr': 0.05}\n",
            "Means: 130.25276794433594, Stdev: 1.4270024316948446 with: {'batch_size': 8, 'epochs': 7, 'lr': 0.1}\n",
            "Means: 145.03925476074218, Stdev: 1.9787988610756149 with: {'batch_size': 8, 'epochs': 7, 'lr': 0.25}\n",
            "Means: 122.36755065917968, Stdev: 1.7005840046298697 with: {'batch_size': 16, 'epochs': 7, 'lr': 0.01}\n",
            "Means: 127.41482543945312, Stdev: 1.8335407527648022 with: {'batch_size': 16, 'epochs': 7, 'lr': 0.05}\n",
            "Means: 130.47513580322266, Stdev: 2.57355448847268 with: {'batch_size': 16, 'epochs': 7, 'lr': 0.1}\n",
            "Means: 144.88843994140626, Stdev: 1.8624589735961385 with: {'batch_size': 16, 'epochs': 7, 'lr': 0.25}\n"
          ],
          "name": "stdout"
        }
      ]
    },
    {
      "cell_type": "markdown",
      "metadata": {
        "id": "6bzJbP3GuJOW"
      },
      "source": [
        "## Selecting only user input features"
      ]
    },
    {
      "cell_type": "code",
      "metadata": {
        "id": "5a5WB4jGuXmN",
        "outputId": "33846fb3-1304-41e7-b8bb-a75bf0e08e8f",
        "colab": {
          "base_uri": "https://localhost:8080/",
          "height": 343
        }
      },
      "source": [
        "df.head()"
      ],
      "execution_count": 28,
      "outputs": [
        {
          "output_type": "execute_result",
          "data": {
            "text/html": [
              "<div>\n",
              "<style scoped>\n",
              "    .dataframe tbody tr th:only-of-type {\n",
              "        vertical-align: middle;\n",
              "    }\n",
              "\n",
              "    .dataframe tbody tr th {\n",
              "        vertical-align: top;\n",
              "    }\n",
              "\n",
              "    .dataframe thead th {\n",
              "        text-align: right;\n",
              "    }\n",
              "</style>\n",
              "<table border=\"1\" class=\"dataframe\">\n",
              "  <thead>\n",
              "    <tr style=\"text-align: right;\">\n",
              "      <th></th>\n",
              "      <th>id</th>\n",
              "      <th>name</th>\n",
              "      <th>host_id</th>\n",
              "      <th>host_name</th>\n",
              "      <th>neighbourhood_group</th>\n",
              "      <th>neighbourhood</th>\n",
              "      <th>latitude</th>\n",
              "      <th>longitude</th>\n",
              "      <th>room_type</th>\n",
              "      <th>price</th>\n",
              "      <th>minimum_nights</th>\n",
              "      <th>number_of_reviews</th>\n",
              "      <th>last_review</th>\n",
              "      <th>reviews_per_month</th>\n",
              "      <th>calculated_host_listings_count</th>\n",
              "      <th>availability_365</th>\n",
              "      <th>city</th>\n",
              "    </tr>\n",
              "  </thead>\n",
              "  <tbody>\n",
              "    <tr>\n",
              "      <th>0</th>\n",
              "      <td>38585</td>\n",
              "      <td>Charming Victorian home - twin beds + breakfast</td>\n",
              "      <td>165529</td>\n",
              "      <td>Evelyne</td>\n",
              "      <td>NaN</td>\n",
              "      <td>28804</td>\n",
              "      <td>35.65146</td>\n",
              "      <td>-82.62792</td>\n",
              "      <td>Private room</td>\n",
              "      <td>60</td>\n",
              "      <td>1</td>\n",
              "      <td>138</td>\n",
              "      <td>16/02/20</td>\n",
              "      <td>1.14</td>\n",
              "      <td>1</td>\n",
              "      <td>0</td>\n",
              "      <td>Asheville</td>\n",
              "    </tr>\n",
              "    <tr>\n",
              "      <th>1</th>\n",
              "      <td>80905</td>\n",
              "      <td>French Chic Loft</td>\n",
              "      <td>427027</td>\n",
              "      <td>Celeste</td>\n",
              "      <td>NaN</td>\n",
              "      <td>28801</td>\n",
              "      <td>35.59779</td>\n",
              "      <td>-82.55540</td>\n",
              "      <td>Entire home/apt</td>\n",
              "      <td>470</td>\n",
              "      <td>1</td>\n",
              "      <td>114</td>\n",
              "      <td>07/09/20</td>\n",
              "      <td>1.03</td>\n",
              "      <td>11</td>\n",
              "      <td>288</td>\n",
              "      <td>Asheville</td>\n",
              "    </tr>\n",
              "    <tr>\n",
              "      <th>2</th>\n",
              "      <td>108061</td>\n",
              "      <td>Walk to stores/parks/downtown. Fenced yard/Pet...</td>\n",
              "      <td>320564</td>\n",
              "      <td>Lisa</td>\n",
              "      <td>NaN</td>\n",
              "      <td>28801</td>\n",
              "      <td>35.60670</td>\n",
              "      <td>-82.55563</td>\n",
              "      <td>Entire home/apt</td>\n",
              "      <td>75</td>\n",
              "      <td>30</td>\n",
              "      <td>89</td>\n",
              "      <td>30/11/19</td>\n",
              "      <td>0.81</td>\n",
              "      <td>2</td>\n",
              "      <td>298</td>\n",
              "      <td>Asheville</td>\n",
              "    </tr>\n",
              "    <tr>\n",
              "      <th>3</th>\n",
              "      <td>155305</td>\n",
              "      <td>Cottage! BonPaul + Sharky's Hostel</td>\n",
              "      <td>746673</td>\n",
              "      <td>BonPaul</td>\n",
              "      <td>NaN</td>\n",
              "      <td>28806</td>\n",
              "      <td>35.57864</td>\n",
              "      <td>-82.59578</td>\n",
              "      <td>Entire home/apt</td>\n",
              "      <td>90</td>\n",
              "      <td>1</td>\n",
              "      <td>267</td>\n",
              "      <td>22/09/20</td>\n",
              "      <td>2.39</td>\n",
              "      <td>5</td>\n",
              "      <td>0</td>\n",
              "      <td>Asheville</td>\n",
              "    </tr>\n",
              "    <tr>\n",
              "      <th>4</th>\n",
              "      <td>160594</td>\n",
              "      <td>Historic Grove Park</td>\n",
              "      <td>769252</td>\n",
              "      <td>Elizabeth</td>\n",
              "      <td>NaN</td>\n",
              "      <td>28801</td>\n",
              "      <td>35.61442</td>\n",
              "      <td>-82.54127</td>\n",
              "      <td>Private room</td>\n",
              "      <td>125</td>\n",
              "      <td>30</td>\n",
              "      <td>58</td>\n",
              "      <td>19/10/15</td>\n",
              "      <td>0.52</td>\n",
              "      <td>1</td>\n",
              "      <td>0</td>\n",
              "      <td>Asheville</td>\n",
              "    </tr>\n",
              "  </tbody>\n",
              "</table>\n",
              "</div>"
            ],
            "text/plain": [
              "       id  ...       city\n",
              "0   38585  ...  Asheville\n",
              "1   80905  ...  Asheville\n",
              "2  108061  ...  Asheville\n",
              "3  155305  ...  Asheville\n",
              "4  160594  ...  Asheville\n",
              "\n",
              "[5 rows x 17 columns]"
            ]
          },
          "metadata": {
            "tags": []
          },
          "execution_count": 28
        }
      ]
    },
    {
      "cell_type": "code",
      "metadata": {
        "id": "WchPmIW8ueZz",
        "outputId": "890aec6f-b4b8-48f7-e9bc-5aa0eef66798",
        "colab": {
          "base_uri": "https://localhost:8080/",
          "height": 204
        }
      },
      "source": [
        "# select only features that the user could be asked about\n",
        "df_user = df[['latitude','longitude','room_type','minimum_nights','price']]\n",
        "df_user.head()"
      ],
      "execution_count": 30,
      "outputs": [
        {
          "output_type": "execute_result",
          "data": {
            "text/html": [
              "<div>\n",
              "<style scoped>\n",
              "    .dataframe tbody tr th:only-of-type {\n",
              "        vertical-align: middle;\n",
              "    }\n",
              "\n",
              "    .dataframe tbody tr th {\n",
              "        vertical-align: top;\n",
              "    }\n",
              "\n",
              "    .dataframe thead th {\n",
              "        text-align: right;\n",
              "    }\n",
              "</style>\n",
              "<table border=\"1\" class=\"dataframe\">\n",
              "  <thead>\n",
              "    <tr style=\"text-align: right;\">\n",
              "      <th></th>\n",
              "      <th>latitude</th>\n",
              "      <th>longitude</th>\n",
              "      <th>room_type</th>\n",
              "      <th>minimum_nights</th>\n",
              "      <th>price</th>\n",
              "    </tr>\n",
              "  </thead>\n",
              "  <tbody>\n",
              "    <tr>\n",
              "      <th>0</th>\n",
              "      <td>35.65146</td>\n",
              "      <td>-82.62792</td>\n",
              "      <td>Private room</td>\n",
              "      <td>1</td>\n",
              "      <td>60</td>\n",
              "    </tr>\n",
              "    <tr>\n",
              "      <th>1</th>\n",
              "      <td>35.59779</td>\n",
              "      <td>-82.55540</td>\n",
              "      <td>Entire home/apt</td>\n",
              "      <td>1</td>\n",
              "      <td>470</td>\n",
              "    </tr>\n",
              "    <tr>\n",
              "      <th>2</th>\n",
              "      <td>35.60670</td>\n",
              "      <td>-82.55563</td>\n",
              "      <td>Entire home/apt</td>\n",
              "      <td>30</td>\n",
              "      <td>75</td>\n",
              "    </tr>\n",
              "    <tr>\n",
              "      <th>3</th>\n",
              "      <td>35.57864</td>\n",
              "      <td>-82.59578</td>\n",
              "      <td>Entire home/apt</td>\n",
              "      <td>1</td>\n",
              "      <td>90</td>\n",
              "    </tr>\n",
              "    <tr>\n",
              "      <th>4</th>\n",
              "      <td>35.61442</td>\n",
              "      <td>-82.54127</td>\n",
              "      <td>Private room</td>\n",
              "      <td>30</td>\n",
              "      <td>125</td>\n",
              "    </tr>\n",
              "  </tbody>\n",
              "</table>\n",
              "</div>"
            ],
            "text/plain": [
              "   latitude  longitude        room_type  minimum_nights  price\n",
              "0  35.65146  -82.62792     Private room               1     60\n",
              "1  35.59779  -82.55540  Entire home/apt               1    470\n",
              "2  35.60670  -82.55563  Entire home/apt              30     75\n",
              "3  35.57864  -82.59578  Entire home/apt               1     90\n",
              "4  35.61442  -82.54127     Private room              30    125"
            ]
          },
          "metadata": {
            "tags": []
          },
          "execution_count": 30
        }
      ]
    },
    {
      "cell_type": "code",
      "metadata": {
        "id": "J_s3DH8Tvlpt"
      },
      "source": [
        "# split the data into a training set and a validation set\n",
        "train, val = train_test_split(df_user, train_size=0.80, test_size=0.20,random_state=42)\n",
        "\n",
        "# set an X and y for train and val\n",
        "target = 'price'\n",
        "X_train = train.drop(columns=target)\n",
        "y_train = train[target]\n",
        "X_val = val.drop(columns=target)\n",
        "y_val = val[target]"
      ],
      "execution_count": 31,
      "outputs": []
    },
    {
      "cell_type": "code",
      "metadata": {
        "id": "d-Qb7DLcwUQN",
        "outputId": "22bb5e5c-0065-41e2-aadf-7a7f03227b96",
        "colab": {
          "base_uri": "https://localhost:8080/"
        }
      },
      "source": [
        "# train a random forest regressor\n",
        "pipeline = make_pipeline(\n",
        "    ce.OrdinalEncoder(),\n",
        "    RandomForestRegressor(n_estimators=50, criterion=\"mse\", max_depth=3, random_state=42,n_jobs=-1)\n",
        ")\n",
        "# fit the data on train and score the data on val\n",
        "pipeline.fit(X_train,y_train)"
      ],
      "execution_count": 34,
      "outputs": [
        {
          "output_type": "execute_result",
          "data": {
            "text/plain": [
              "Pipeline(memory=None,\n",
              "         steps=[('ordinalencoder',\n",
              "                 OrdinalEncoder(cols=['room_type'], drop_invariant=False,\n",
              "                                handle_missing='value', handle_unknown='value',\n",
              "                                mapping=[{'col': 'room_type',\n",
              "                                          'data_type': dtype('O'),\n",
              "                                          'mapping': Entire home/apt    1\n",
              "Private room       2\n",
              "Shared room        3\n",
              "Hotel room         4\n",
              "NaN               -2\n",
              "dtype: int64}],\n",
              "                                return_df=True, verbose=0)),\n",
              "                ('randomforestregressor',\n",
              "                 RandomForestRegressor(bootstrap=True, ccp_alpha=0.0,\n",
              "                                       criterion='mse', max_depth=3,\n",
              "                                       max_features='auto', max_leaf_nodes=None,\n",
              "                                       max_samples=None,\n",
              "                                       min_impurity_decrease=0.0,\n",
              "                                       min_impurity_split=None,\n",
              "                                       min_samples_leaf=1, min_samples_split=2,\n",
              "                                       min_weight_fraction_leaf=0.0,\n",
              "                                       n_estimators=50, n_jobs=-1,\n",
              "                                       oob_score=False, random_state=42,\n",
              "                                       verbose=0, warm_start=False))],\n",
              "         verbose=False)"
            ]
          },
          "metadata": {
            "tags": []
          },
          "execution_count": 34
        }
      ]
    },
    {
      "cell_type": "code",
      "metadata": {
        "id": "CYHr1nWjwjRI",
        "outputId": "5a721588-fb6f-48e5-fb9e-d1c1a0d48e7b",
        "colab": {
          "base_uri": "https://localhost:8080/"
        }
      },
      "source": [
        "pred = pipeline.predict(X_val)\n",
        "print(\"R2 Score:\", r2_score(y_val,pred))\n",
        "print(\"Mean Squared Error:\", mean_squared_error(y_val,pred))\n",
        "print(\"Mean Absolute Error:\", mean_absolute_error(y_val,pred))"
      ],
      "execution_count": 35,
      "outputs": [
        {
          "output_type": "stream",
          "text": [
            "R2 Score: 0.02974147483031575\n",
            "Mean Squared Error: 353241.80913305917\n",
            "Mean Absolute Error: 163.54656554347503\n"
          ],
          "name": "stdout"
        }
      ]
    },
    {
      "cell_type": "code",
      "metadata": {
        "id": "x5UkqV9FwniC",
        "outputId": "00c6b1bf-d123-455c-ea2e-3d09fe8186e2",
        "colab": {
          "base_uri": "https://localhost:8080/",
          "height": 173
        }
      },
      "source": [
        "rf = pipeline.named_steps['randomforestregressor']\n",
        "importances = pd.Series(rf.feature_importances_, X_train.columns)\n",
        "\n",
        "n = 4\n",
        "plt.figure(figsize=(10,n/2))\n",
        "plt.title(f'Top {n} Features')\n",
        "importances.sort_values()[-n:].plot.barh(color='green');"
      ],
      "execution_count": 37,
      "outputs": [
        {
          "output_type": "display_data",
          "data": {
            "image/png": "[encoded data removed]",
            "text/plain": [
              "<Figure size 720x144 with 1 Axes>"
            ]
          },
          "metadata": {
            "tags": [],
            "needs_background": "light"
          }
        }
      ]
    }
  ]
}