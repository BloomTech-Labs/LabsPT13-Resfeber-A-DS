{
 "metadata": {
  "language_info": {
   "codemirror_mode": {
    "name": "ipython",
    "version": 3
   },
   "file_extension": ".py",
   "mimetype": "text/x-python",
   "name": "python",
   "nbconvert_exporter": "python",
   "pygments_lexer": "ipython3",
   "version": "3.7.4-final"
  },
  "orig_nbformat": 2,
  "kernelspec": {
   "name": "python3",
   "display_name": "Python 3"
  }
 },
 "nbformat": 4,
 "nbformat_minor": 2,
 "cells": [
  {
   "cell_type": "code",
   "execution_count": 182,
   "metadata": {},
   "outputs": [],
   "source": [
    "# imports\n",
    "import pandas as pd\n"
   ]
  },
  {
   "cell_type": "code",
   "execution_count": 183,
   "metadata": {},
   "outputs": [
    {
     "output_type": "execute_result",
     "data": {
      "text/plain": [
       "       id                                               name  host_id  \\\n",
       "0   38585    Charming Victorian home - twin beds + breakfast   165529   \n",
       "1   80905                                   French Chic Loft   427027   \n",
       "2  108061  Walk to stores/parks/downtown. Fenced yard/Pet...   320564   \n",
       "3  155305                 Cottage! BonPaul + Sharky's Hostel   746673   \n",
       "4  160594                                Historic Grove Park   769252   \n",
       "\n",
       "   host_name neighbourhood_group neighbourhood  latitude  longitude  \\\n",
       "0    Evelyne                 NaN         28804  35.65146  -82.62792   \n",
       "1    Celeste                 NaN         28801  35.59779  -82.55540   \n",
       "2       Lisa                 NaN         28801  35.60670  -82.55563   \n",
       "3    BonPaul                 NaN         28806  35.57864  -82.59578   \n",
       "4  Elizabeth                 NaN         28801  35.61442  -82.54127   \n",
       "\n",
       "         room_type  price  minimum_nights  number_of_reviews last_review  \\\n",
       "0     Private room     60               1                138    16/02/20   \n",
       "1  Entire home/apt    470               1                114    07/09/20   \n",
       "2  Entire home/apt     75              30                 89    30/11/19   \n",
       "3  Entire home/apt     90               1                267    22/09/20   \n",
       "4     Private room    125              30                 58    19/10/15   \n",
       "\n",
       "   reviews_per_month  calculated_host_listings_count  availability_365  \\\n",
       "0               1.14                               1                 0   \n",
       "1               1.03                              11               288   \n",
       "2               0.81                               2               298   \n",
       "3               2.39                               5                 0   \n",
       "4               0.52                               1                 0   \n",
       "\n",
       "        city  \n",
       "0  Asheville  \n",
       "1  Asheville  \n",
       "2  Asheville  \n",
       "3  Asheville  \n",
       "4  Asheville  "
      ],
      "text/html": "<div>\n<style scoped>\n    .dataframe tbody tr th:only-of-type {\n        vertical-align: middle;\n    }\n\n    .dataframe tbody tr th {\n        vertical-align: top;\n    }\n\n    .dataframe thead th {\n        text-align: right;\n    }\n</style>\n<table border=\"1\" class=\"dataframe\">\n  <thead>\n    <tr style=\"text-align: right;\">\n      <th></th>\n      <th>id</th>\n      <th>name</th>\n      <th>host_id</th>\n      <th>host_name</th>\n      <th>neighbourhood_group</th>\n      <th>neighbourhood</th>\n      <th>latitude</th>\n      <th>longitude</th>\n      <th>room_type</th>\n      <th>price</th>\n      <th>minimum_nights</th>\n      <th>number_of_reviews</th>\n      <th>last_review</th>\n      <th>reviews_per_month</th>\n      <th>calculated_host_listings_count</th>\n      <th>availability_365</th>\n      <th>city</th>\n    </tr>\n  </thead>\n  <tbody>\n    <tr>\n      <td>0</td>\n      <td>38585</td>\n      <td>Charming Victorian home - twin beds + breakfast</td>\n      <td>165529</td>\n      <td>Evelyne</td>\n      <td>NaN</td>\n      <td>28804</td>\n      <td>35.65146</td>\n      <td>-82.62792</td>\n      <td>Private room</td>\n      <td>60</td>\n      <td>1</td>\n      <td>138</td>\n      <td>16/02/20</td>\n      <td>1.14</td>\n      <td>1</td>\n      <td>0</td>\n      <td>Asheville</td>\n    </tr>\n    <tr>\n      <td>1</td>\n      <td>80905</td>\n      <td>French Chic Loft</td>\n      <td>427027</td>\n      <td>Celeste</td>\n      <td>NaN</td>\n      <td>28801</td>\n      <td>35.59779</td>\n      <td>-82.55540</td>\n      <td>Entire home/apt</td>\n      <td>470</td>\n      <td>1</td>\n      <td>114</td>\n      <td>07/09/20</td>\n      <td>1.03</td>\n      <td>11</td>\n      <td>288</td>\n      <td>Asheville</td>\n    </tr>\n    <tr>\n      <td>2</td>\n      <td>108061</td>\n      <td>Walk to stores/parks/downtown. Fenced yard/Pet...</td>\n      <td>320564</td>\n      <td>Lisa</td>\n      <td>NaN</td>\n      <td>28801</td>\n      <td>35.60670</td>\n      <td>-82.55563</td>\n      <td>Entire home/apt</td>\n      <td>75</td>\n      <td>30</td>\n      <td>89</td>\n      <td>30/11/19</td>\n      <td>0.81</td>\n      <td>2</td>\n      <td>298</td>\n      <td>Asheville</td>\n    </tr>\n    <tr>\n      <td>3</td>\n      <td>155305</td>\n      <td>Cottage! BonPaul + Sharky's Hostel</td>\n      <td>746673</td>\n      <td>BonPaul</td>\n      <td>NaN</td>\n      <td>28806</td>\n      <td>35.57864</td>\n      <td>-82.59578</td>\n      <td>Entire home/apt</td>\n      <td>90</td>\n      <td>1</td>\n      <td>267</td>\n      <td>22/09/20</td>\n      <td>2.39</td>\n      <td>5</td>\n      <td>0</td>\n      <td>Asheville</td>\n    </tr>\n    <tr>\n      <td>4</td>\n      <td>160594</td>\n      <td>Historic Grove Park</td>\n      <td>769252</td>\n      <td>Elizabeth</td>\n      <td>NaN</td>\n      <td>28801</td>\n      <td>35.61442</td>\n      <td>-82.54127</td>\n      <td>Private room</td>\n      <td>125</td>\n      <td>30</td>\n      <td>58</td>\n      <td>19/10/15</td>\n      <td>0.52</td>\n      <td>1</td>\n      <td>0</td>\n      <td>Asheville</td>\n    </tr>\n  </tbody>\n</table>\n</div>"
     },
     "metadata": {},
     "execution_count": 183
    }
   ],
   "source": [
    "# reading the dataset\n",
    "df = pd.read_csv('Data/AB_US_2020.csv')\n",
    "# first five rows of the dataset\n",
    "df.head()"
   ]
  },
  {
   "cell_type": "code",
   "execution_count": 184,
   "metadata": {},
   "outputs": [
    {
     "output_type": "execute_result",
     "data": {
      "text/plain": [
       "(226030, 17)"
      ]
     },
     "metadata": {},
     "execution_count": 184
    }
   ],
   "source": [
    "# shape of the dataset(rows,columns)\n",
    "df.shape"
   ]
  },
  {
   "cell_type": "code",
   "execution_count": 185,
   "metadata": {},
   "outputs": [
    {
     "output_type": "execute_result",
     "data": {
      "text/plain": [
       "id                                  int64\n",
       "name                               object\n",
       "host_id                             int64\n",
       "host_name                          object\n",
       "neighbourhood_group                object\n",
       "neighbourhood                      object\n",
       "latitude                          float64\n",
       "longitude                         float64\n",
       "room_type                          object\n",
       "price                               int64\n",
       "minimum_nights                      int64\n",
       "number_of_reviews                   int64\n",
       "last_review                        object\n",
       "reviews_per_month                 float64\n",
       "calculated_host_listings_count      int64\n",
       "availability_365                    int64\n",
       "city                               object\n",
       "dtype: object"
      ]
     },
     "metadata": {},
     "execution_count": 185
    }
   ],
   "source": [
    "# To find the data types of all the columns\n",
    "df.dtypes"
   ]
  },
  {
   "cell_type": "code",
   "execution_count": 186,
   "metadata": {},
   "outputs": [
    {
     "output_type": "execute_result",
     "data": {
      "text/plain": [
       "id                                     0\n",
       "name                                  28\n",
       "host_id                                0\n",
       "host_name                             33\n",
       "neighbourhood_group               115845\n",
       "neighbourhood                          0\n",
       "latitude                               0\n",
       "longitude                              0\n",
       "room_type                              0\n",
       "price                                  0\n",
       "minimum_nights                         0\n",
       "number_of_reviews                      0\n",
       "last_review                        48602\n",
       "reviews_per_month                  48602\n",
       "calculated_host_listings_count         0\n",
       "availability_365                       0\n",
       "city                                   0\n",
       "dtype: int64"
      ]
     },
     "metadata": {},
     "execution_count": 186
    }
   ],
   "source": [
    "# To find null or missing values\n",
    "df.isnull().sum()"
   ]
  },
  {
   "cell_type": "code",
   "execution_count": 187,
   "metadata": {},
   "outputs": [
    {
     "output_type": "execute_result",
     "data": {
      "text/plain": [
       "Entire home/apt    154173\n",
       "Private room        65887\n",
       "Shared room          4029\n",
       "Hotel room           1941\n",
       "Name: room_type, dtype: int64"
      ]
     },
     "metadata": {},
     "execution_count": 187
    }
   ],
   "source": [
    "# occurrences of different room_type in a column\n",
    "df['room_type'].value_counts()"
   ]
  },
  {
   "cell_type": "code",
   "execution_count": 188,
   "metadata": {},
   "outputs": [
    {
     "output_type": "execute_result",
     "data": {
      "text/plain": [
       "New York City        45756\n",
       "Los Angeles          31536\n",
       "Hawaii               22434\n",
       "San Diego            12404\n",
       "Broward County       10858\n",
       "                     ...  \n",
       "Santa Cruz County     1571\n",
       "Columbus              1409\n",
       "Cambridge             1029\n",
       "Salem                  202\n",
       "Pacific Grove          179\n",
       "Name: city, Length: 28, dtype: int64"
      ]
     },
     "metadata": {},
     "execution_count": 188
    }
   ],
   "source": [
    "# occurrences of different cities in a column\n",
    "df['city'].value_counts()"
   ]
  },
  {
   "cell_type": "code",
   "execution_count": 189,
   "metadata": {},
   "outputs": [
    {
     "output_type": "execute_result",
     "data": {
      "text/plain": [
       "Unincorporated Areas        8020\n",
       "Hollywood                   4384\n",
       "Primary Urban Center        4179\n",
       "Hennepin                    3935\n",
       "Kihei-Makena                3894\n",
       "                            ... \n",
       "Elmhurst Park                  1\n",
       "Gerritsen Beach                1\n",
       "Lake Terrace & Oaks            1\n",
       "Cudahy                         1\n",
       "Viavant - Venetian Isles       1\n",
       "Name: neighbourhood, Length: 1450, dtype: int64"
      ]
     },
     "metadata": {},
     "execution_count": 189
    }
   ],
   "source": [
    "# occurrences of different neighbourhood\n",
    "df['neighbourhood'].value_counts()"
   ]
  },
  {
   "cell_type": "code",
   "execution_count": 190,
   "metadata": {},
   "outputs": [
    {
     "output_type": "execute_result",
     "data": {
      "text/plain": [
       "0    28804\n",
       "1    28801\n",
       "2    28801\n",
       "3    28806\n",
       "4    28801\n",
       "Name: neighbourhood, dtype: object"
      ]
     },
     "metadata": {},
     "execution_count": 190
    }
   ],
   "source": [
    "# first 5 values of neighbourhood column\n",
    "df['neighbourhood'].head()"
   ]
  },
  {
   "cell_type": "code",
   "execution_count": 191,
   "metadata": {},
   "outputs": [
    {
     "output_type": "execute_result",
     "data": {
      "text/plain": [
       "226025    Downtown, Chinatown, Penn Quarters, Mount Vern...\n",
       "226026                        Brookland, Brentwood, Langdon\n",
       "226027                                   Shaw, Logan Circle\n",
       "226028       Kalorama Heights, Adams Morgan, Lanier Heights\n",
       "226029    Edgewood, Bloomingdale, Truxton Circle, Eckington\n",
       "Name: neighbourhood, dtype: object"
      ]
     },
     "metadata": {},
     "execution_count": 191
    }
   ],
   "source": [
    "# last 5 values of neighbourhood column\n",
    "df['neighbourhood'].tail()"
   ]
  },
  {
   "cell_type": "code",
   "execution_count": 192,
   "metadata": {},
   "outputs": [
    {
     "output_type": "execute_result",
     "data": {
      "text/plain": [
       "Manhattan              20236\n",
       "Brooklyn               18263\n",
       "City of Los Angeles    17544\n",
       "Other Cities           11463\n",
       "Maui                    7897\n",
       "                       ...  \n",
       "Lake City                118\n",
       "Kent                     108\n",
       "Bristol                  107\n",
       "Seward Park               69\n",
       "Interbay                  34\n",
       "Name: neighbourhood_group, Length: 34, dtype: int64"
      ]
     },
     "metadata": {},
     "execution_count": 192
    }
   ],
   "source": [
    "# occurrences of different neighbourhood_group\n",
    "df['neighbourhood_group'].value_counts()"
   ]
  },
  {
   "cell_type": "code",
   "execution_count": 193,
   "metadata": {},
   "outputs": [
    {
     "output_type": "execute_result",
     "data": {
      "text/plain": [
       "1      60427\n",
       "2      54748\n",
       "30     33532\n",
       "3      30931\n",
       "4       9513\n",
       "       ...  \n",
       "49         1\n",
       "345        1\n",
       "229        1\n",
       "102        1\n",
       "456        1\n",
       "Name: minimum_nights, Length: 169, dtype: int64"
      ]
     },
     "metadata": {},
     "execution_count": 193
    }
  },
<<<<<<< HEAD
  "cells": [
    {
      "cell_type": "markdown",
      "metadata": {
        "id": "view-in-github",
        "colab_type": "text"
      },
      "source": [
        "<a href=\"https://colab.research.google.com/github/mahoryu/LabsPT13-Resfeber-A-DS/blob/main/notebooks/airB%26B.ipynb\" target=\"_parent\"><img src=\"https://colab.research.google.com/assets/colab-badge.svg\" alt=\"Open In Colab\"/></a>"
      ]
    },
    {
      "cell_type": "markdown",
      "metadata": {
        "id": "uVyuMw7_sxsi"
      },
      "source": [
        "### Data Exploration"
      ]
    },
    {
      "cell_type": "code",
      "metadata": {
        "id": "erM-9ZoeX8IY",
        "colab": {
          "base_uri": "https://localhost:8080/",
          "height": 377
        },
        "outputId": "a1f898ec-8fad-4e9d-983c-fd854da2b5ea"
      },
      "source": [
        "import pandas as pd\n",
        "# reading the dataset\n",
        "df = pd.read_csv('https://raw.githubusercontent.com/Lambda-School-Labs/LabsPT13-Resfeber-A-DS/main/notebooks/Data/AB_US_2020.csv')\n",
        "# first five rows of the dataset\n",
        "df.head()"
      ],
      "execution_count": 1,
      "outputs": [
        {
          "output_type": "stream",
          "text": [
            "/usr/local/lib/python3.6/dist-packages/IPython/core/interactiveshell.py:2718: DtypeWarning: Columns (4) have mixed types.Specify dtype option on import or set low_memory=False.\n",
            "  interactivity=interactivity, compiler=compiler, result=result)\n"
          ],
          "name": "stderr"
        },
        {
          "output_type": "execute_result",
          "data": {
            "text/html": [
              "<div>\n",
              "<style scoped>\n",
              "    .dataframe tbody tr th:only-of-type {\n",
              "        vertical-align: middle;\n",
              "    }\n",
              "\n",
              "    .dataframe tbody tr th {\n",
              "        vertical-align: top;\n",
              "    }\n",
              "\n",
              "    .dataframe thead th {\n",
              "        text-align: right;\n",
              "    }\n",
              "</style>\n",
              "<table border=\"1\" class=\"dataframe\">\n",
              "  <thead>\n",
              "    <tr style=\"text-align: right;\">\n",
              "      <th></th>\n",
              "      <th>id</th>\n",
              "      <th>name</th>\n",
              "      <th>host_id</th>\n",
              "      <th>host_name</th>\n",
              "      <th>neighbourhood_group</th>\n",
              "      <th>neighbourhood</th>\n",
              "      <th>latitude</th>\n",
              "      <th>longitude</th>\n",
              "      <th>room_type</th>\n",
              "      <th>price</th>\n",
              "      <th>minimum_nights</th>\n",
              "      <th>number_of_reviews</th>\n",
              "      <th>last_review</th>\n",
              "      <th>reviews_per_month</th>\n",
              "      <th>calculated_host_listings_count</th>\n",
              "      <th>availability_365</th>\n",
              "      <th>city</th>\n",
              "    </tr>\n",
              "  </thead>\n",
              "  <tbody>\n",
              "    <tr>\n",
              "      <th>0</th>\n",
              "      <td>38585</td>\n",
              "      <td>Charming Victorian home - twin beds + breakfast</td>\n",
              "      <td>165529</td>\n",
              "      <td>Evelyne</td>\n",
              "      <td>NaN</td>\n",
              "      <td>28804</td>\n",
              "      <td>35.65146</td>\n",
              "      <td>-82.62792</td>\n",
              "      <td>Private room</td>\n",
              "      <td>60</td>\n",
              "      <td>1</td>\n",
              "      <td>138</td>\n",
              "      <td>16/02/20</td>\n",
              "      <td>1.14</td>\n",
              "      <td>1</td>\n",
              "      <td>0</td>\n",
              "      <td>Asheville</td>\n",
              "    </tr>\n",
              "    <tr>\n",
              "      <th>1</th>\n",
              "      <td>80905</td>\n",
              "      <td>French Chic Loft</td>\n",
              "      <td>427027</td>\n",
              "      <td>Celeste</td>\n",
              "      <td>NaN</td>\n",
              "      <td>28801</td>\n",
              "      <td>35.59779</td>\n",
              "      <td>-82.55540</td>\n",
              "      <td>Entire home/apt</td>\n",
              "      <td>470</td>\n",
              "      <td>1</td>\n",
              "      <td>114</td>\n",
              "      <td>07/09/20</td>\n",
              "      <td>1.03</td>\n",
              "      <td>11</td>\n",
              "      <td>288</td>\n",
              "      <td>Asheville</td>\n",
              "    </tr>\n",
              "    <tr>\n",
              "      <th>2</th>\n",
              "      <td>108061</td>\n",
              "      <td>Walk to stores/parks/downtown. Fenced yard/Pet...</td>\n",
              "      <td>320564</td>\n",
              "      <td>Lisa</td>\n",
              "      <td>NaN</td>\n",
              "      <td>28801</td>\n",
              "      <td>35.60670</td>\n",
              "      <td>-82.55563</td>\n",
              "      <td>Entire home/apt</td>\n",
              "      <td>75</td>\n",
              "      <td>30</td>\n",
              "      <td>89</td>\n",
              "      <td>30/11/19</td>\n",
              "      <td>0.81</td>\n",
              "      <td>2</td>\n",
              "      <td>298</td>\n",
              "      <td>Asheville</td>\n",
              "    </tr>\n",
              "    <tr>\n",
              "      <th>3</th>\n",
              "      <td>155305</td>\n",
              "      <td>Cottage! BonPaul + Sharky's Hostel</td>\n",
              "      <td>746673</td>\n",
              "      <td>BonPaul</td>\n",
              "      <td>NaN</td>\n",
              "      <td>28806</td>\n",
              "      <td>35.57864</td>\n",
              "      <td>-82.59578</td>\n",
              "      <td>Entire home/apt</td>\n",
              "      <td>90</td>\n",
              "      <td>1</td>\n",
              "      <td>267</td>\n",
              "      <td>22/09/20</td>\n",
              "      <td>2.39</td>\n",
              "      <td>5</td>\n",
              "      <td>0</td>\n",
              "      <td>Asheville</td>\n",
              "    </tr>\n",
              "    <tr>\n",
              "      <th>4</th>\n",
              "      <td>160594</td>\n",
              "      <td>Historic Grove Park</td>\n",
              "      <td>769252</td>\n",
              "      <td>Elizabeth</td>\n",
              "      <td>NaN</td>\n",
              "      <td>28801</td>\n",
              "      <td>35.61442</td>\n",
              "      <td>-82.54127</td>\n",
              "      <td>Private room</td>\n",
              "      <td>125</td>\n",
              "      <td>30</td>\n",
              "      <td>58</td>\n",
              "      <td>19/10/15</td>\n",
              "      <td>0.52</td>\n",
              "      <td>1</td>\n",
              "      <td>0</td>\n",
              "      <td>Asheville</td>\n",
              "    </tr>\n",
              "  </tbody>\n",
              "</table>\n",
              "</div>"
            ],
            "text/plain": [
              "       id  ...       city\n",
              "0   38585  ...  Asheville\n",
              "1   80905  ...  Asheville\n",
              "2  108061  ...  Asheville\n",
              "3  155305  ...  Asheville\n",
              "4  160594  ...  Asheville\n",
              "\n",
              "[5 rows x 17 columns]"
            ]
          },
          "metadata": {
            "tags": []
          },
          "execution_count": 1
        }
      ]
    },
    {
      "cell_type": "code",
      "metadata": {
        "id": "SIJQJI1yX8IZ",
        "colab": {
          "base_uri": "https://localhost:8080/"
        },
        "outputId": "50d22c6c-51cf-4530-fd25-1e4a99062815"
      },
      "source": [
        "# shape of the dataset(rows,columns)\n",
        "df.shape"
      ],
      "execution_count": 2,
      "outputs": [
        {
          "output_type": "execute_result",
          "data": {
            "text/plain": [
              "(226030, 17)"
            ]
          },
          "metadata": {
            "tags": []
          },
          "execution_count": 2
        }
      ]
    },
    {
      "cell_type": "code",
      "metadata": {
        "id": "4ANeAQMFX8IZ",
        "colab": {
          "base_uri": "https://localhost:8080/"
        },
        "outputId": "2ed469ea-270f-4b31-f805-a9e48795807f"
      },
      "source": [
        "# To find the data types of all the columns\n",
        "df.dtypes"
      ],
      "execution_count": 3,
      "outputs": [
        {
          "output_type": "execute_result",
          "data": {
            "text/plain": [
              "id                                  int64\n",
              "name                               object\n",
              "host_id                             int64\n",
              "host_name                          object\n",
              "neighbourhood_group                object\n",
              "neighbourhood                      object\n",
              "latitude                          float64\n",
              "longitude                         float64\n",
              "room_type                          object\n",
              "price                               int64\n",
              "minimum_nights                      int64\n",
              "number_of_reviews                   int64\n",
              "last_review                        object\n",
              "reviews_per_month                 float64\n",
              "calculated_host_listings_count      int64\n",
              "availability_365                    int64\n",
              "city                               object\n",
              "dtype: object"
            ]
          },
          "metadata": {
            "tags": []
          },
          "execution_count": 3
        }
      ]
    },
    {
      "cell_type": "code",
      "metadata": {
        "id": "hN3hsluEX8IZ",
        "colab": {
          "base_uri": "https://localhost:8080/"
        },
        "outputId": "062a3616-fce2-4ffc-c602-f152764db26c"
      },
      "source": [
        "# To find null or missing values\n",
        "df.isnull().sum()"
      ],
      "execution_count": 4,
      "outputs": [
        {
          "output_type": "execute_result",
          "data": {
            "text/plain": [
              "id                                     0\n",
              "name                                  28\n",
              "host_id                                0\n",
              "host_name                             33\n",
              "neighbourhood_group               115845\n",
              "neighbourhood                          0\n",
              "latitude                               0\n",
              "longitude                              0\n",
              "room_type                              0\n",
              "price                                  0\n",
              "minimum_nights                         0\n",
              "number_of_reviews                      0\n",
              "last_review                        48602\n",
              "reviews_per_month                  48602\n",
              "calculated_host_listings_count         0\n",
              "availability_365                       0\n",
              "city                                   0\n",
              "dtype: int64"
            ]
          },
          "metadata": {
            "tags": []
          },
          "execution_count": 4
        }
      ]
    },
    {
      "cell_type": "code",
      "metadata": {
        "id": "-HUhbxjqX8IZ",
        "colab": {
          "base_uri": "https://localhost:8080/"
        },
        "outputId": "e63b022a-3b4c-439e-bd55-a8e70cabad05"
      },
      "source": [
        "# occurrences of different room_type in a column\n",
        "df['room_type'].value_counts()"
      ],
      "execution_count": 5,
      "outputs": [
        {
          "output_type": "execute_result",
          "data": {
            "text/plain": [
              "Entire home/apt    154173\n",
              "Private room        65887\n",
              "Shared room          4029\n",
              "Hotel room           1941\n",
              "Name: room_type, dtype: int64"
            ]
          },
          "metadata": {
            "tags": []
          },
          "execution_count": 5
        }
      ]
    },
    {
      "cell_type": "code",
      "metadata": {
        "id": "w9nVIhrzX8IZ",
        "colab": {
          "base_uri": "https://localhost:8080/"
        },
        "outputId": "41bb5fe2-57b9-44b5-bcdc-775735d16f85"
      },
      "source": [
        "# occurrences of different cities in a column\n",
        "df['city'].value_counts()"
      ],
      "execution_count": 6,
      "outputs": [
        {
          "output_type": "execute_result",
          "data": {
            "text/plain": [
              "New York City        45756\n",
              "Los Angeles          31536\n",
              "Hawaii               22434\n",
              "San Diego            12404\n",
              "Broward County       10858\n",
              "Austin               10436\n",
              "Clark County          8408\n",
              "Washington D.C.       7350\n",
              "San Clara Country     7091\n",
              "San Francisco         7053\n",
              "Seattle               6575\n",
              "Twin Cities MSA       6470\n",
              "New Orleans           6408\n",
              "Chicago               6397\n",
              "Nashville             6139\n",
              "Portland              4281\n",
              "Denver                4200\n",
              "Rhode Island          3884\n",
              "Boston                3339\n",
              "Oakland               3204\n",
              "San Mateo County      2855\n",
              "Jersey City           2488\n",
              "Asheville             2074\n",
              "Santa Cruz County     1571\n",
              "Columbus              1409\n",
              "Cambridge             1029\n",
              "Salem                  202\n",
              "Pacific Grove          179\n",
              "Name: city, dtype: int64"
            ]
          },
          "metadata": {
            "tags": []
          },
          "execution_count": 6
        }
      ]
    },
    {
      "cell_type": "code",
      "metadata": {
        "id": "EZHb9UkVX8IZ",
        "colab": {
          "base_uri": "https://localhost:8080/"
        },
        "outputId": "42139cc2-34fd-4358-8d60-aae34a1e2219"
      },
      "source": [
        "# occurrences of different neighbourhood\n",
        "df['neighbourhood'].value_counts()"
      ],
      "execution_count": 7,
      "outputs": [
        {
          "output_type": "execute_result",
          "data": {
            "text/plain": [
              "Unincorporated Areas         8020\n",
              "Hollywood                    4384\n",
              "Primary Urban Center         4179\n",
              "Hennepin                     3935\n",
              "Kihei-Makena                 3894\n",
              "                             ... \n",
              "Hawaiian Gardens                1\n",
              "Tottenville                     1\n",
              "Viavant - Venetian Isles        1\n",
              "Northwest Antelope Valley       1\n",
              "Elmhurst Park                   1\n",
              "Name: neighbourhood, Length: 1450, dtype: int64"
            ]
          },
          "metadata": {
            "tags": []
          },
          "execution_count": 7
        }
      ]
    },
    {
      "cell_type": "code",
      "metadata": {
        "id": "gHstFXv0X8IZ",
        "colab": {
          "base_uri": "https://localhost:8080/"
        },
        "outputId": "0b55e39c-6a02-4990-af85-ca701156b415"
      },
      "source": [
        "# first 5 values of neighbourhood column\n",
        "df['neighbourhood'].head()"
      ],
      "execution_count": 8,
      "outputs": [
        {
          "output_type": "execute_result",
          "data": {
            "text/plain": [
              "0    28804\n",
              "1    28801\n",
              "2    28801\n",
              "3    28806\n",
              "4    28801\n",
              "Name: neighbourhood, dtype: object"
            ]
          },
          "metadata": {
            "tags": []
          },
          "execution_count": 8
        }
      ]
    },
    {
      "cell_type": "code",
      "metadata": {
        "id": "SX1i5iF8X8IZ",
        "colab": {
          "base_uri": "https://localhost:8080/"
        },
        "outputId": "4496a24d-ea2d-4bcb-d572-2435fa7776fe"
      },
      "source": [
        "# last 5 values of neighbourhood column\n",
        "df['neighbourhood'].tail()"
      ],
      "execution_count": 9,
      "outputs": [
        {
          "output_type": "execute_result",
          "data": {
            "text/plain": [
              "226025    Downtown, Chinatown, Penn Quarters, Mount Vern...\n",
              "226026                        Brookland, Brentwood, Langdon\n",
              "226027                                   Shaw, Logan Circle\n",
              "226028       Kalorama Heights, Adams Morgan, Lanier Heights\n",
              "226029    Edgewood, Bloomingdale, Truxton Circle, Eckington\n",
              "Name: neighbourhood, dtype: object"
            ]
          },
          "metadata": {
            "tags": []
          },
          "execution_count": 9
        }
      ]
    },
    {
      "cell_type": "code",
      "metadata": {
        "id": "r2kOb8vrX8IZ",
        "colab": {
          "base_uri": "https://localhost:8080/"
        },
        "outputId": "76170e69-2e92-4ee6-bee7-8ea3d2902343"
      },
      "source": [
        "# occurrences of different neighbourhood_group\n",
        "df['neighbourhood_group'].value_counts()"
      ],
      "execution_count": 10,
      "outputs": [
        {
          "output_type": "execute_result",
          "data": {
            "text/plain": [
              "Manhattan               20236\n",
              "Brooklyn                18263\n",
              "City of Los Angeles     17544\n",
              "Other Cities            11463\n",
              "Maui                     7897\n",
              "Honolulu                 6313\n",
              "Queens                   5746\n",
              "Hawaii                   4977\n",
              "Kauai                    3247\n",
              "Unincorporated Areas     2529\n",
              "Newport                  1412\n",
              "Other neighborhoods      1253\n",
              "Washington               1201\n",
              "Bronx                    1185\n",
              "Providence               1056\n",
              "Downtown                 1043\n",
              "Capitol Hill              682\n",
              "Central Area              572\n",
              "Queen Anne                459\n",
              "West Seattle              378\n",
              "Ballard                   369\n",
              "Rainier Valley            357\n",
              "Staten Island             326\n",
              "Cascade                   268\n",
              "Beacon Hill               252\n",
              "University District       238\n",
              "Delridge                  201\n",
              "Northgate                 150\n",
              "Magnolia                  132\n",
              "Lake City                 118\n",
              "Kent                      108\n",
              "Bristol                   107\n",
              "Seward Park                69\n",
              "Interbay                   34\n",
              "Name: neighbourhood_group, dtype: int64"
            ]
          },
          "metadata": {
            "tags": []
          },
          "execution_count": 10
        }
      ]
    },
    {
      "cell_type": "code",
      "metadata": {
        "id": "Dj7EsluJX8IZ",
        "colab": {
          "base_uri": "https://localhost:8080/"
        },
        "outputId": "5ed83315-8126-4aa4-f468-57d64c5323fe"
      },
      "source": [
        "pd.options.display.max_rows = 20\n",
        "df[\"minimum_nights\"].value_counts()"
      ],
      "execution_count": 11,
      "outputs": [
        {
          "output_type": "execute_result",
          "data": {
            "text/plain": [
              "1      60427\n",
              "2      54748\n",
              "30     33532\n",
              "3      30931\n",
              "4       9513\n",
              "       ...  \n",
              "49         1\n",
              "345        1\n",
              "229        1\n",
              "102        1\n",
              "456        1\n",
              "Name: minimum_nights, Length: 169, dtype: int64"
            ]
          },
          "metadata": {
            "tags": []
          },
          "execution_count": 11
        }
      ]
    },
    {
      "cell_type": "markdown",
      "metadata": {
        "id": "JfZWR7pXs6PM"
      },
      "source": [
        "### Data Cleaning"
      ]
    },
    {
      "cell_type": "code",
      "metadata": {
        "id": "0xjgsWSEX8Ia"
      },
      "source": [
        "# dropped the irrelevant columns and created new dataframe\n",
        "new_df = df.drop(['host_name','host_id','neighbourhood_group','neighbourhood','last_review'], axis=1)"
      ],
      "execution_count": 12,
      "outputs": []
    },
    {
      "cell_type": "code",
      "metadata": {
        "id": "JbmNB6pNX8Ia",
        "colab": {
          "base_uri": "https://localhost:8080/",
          "height": 343
        },
        "outputId": "e7be1be9-6d94-4c15-a33b-0139bfdcc5b1"
      },
      "source": [
        "# first 5 rows of new dataset\n",
        "new_df.head()"
      ],
      "execution_count": 13,
      "outputs": [
        {
          "output_type": "execute_result",
          "data": {
            "text/html": [
              "<div>\n",
              "<style scoped>\n",
              "    .dataframe tbody tr th:only-of-type {\n",
              "        vertical-align: middle;\n",
              "    }\n",
              "\n",
              "    .dataframe tbody tr th {\n",
              "        vertical-align: top;\n",
              "    }\n",
              "\n",
              "    .dataframe thead th {\n",
              "        text-align: right;\n",
              "    }\n",
              "</style>\n",
              "<table border=\"1\" class=\"dataframe\">\n",
              "  <thead>\n",
              "    <tr style=\"text-align: right;\">\n",
              "      <th></th>\n",
              "      <th>id</th>\n",
              "      <th>name</th>\n",
              "      <th>latitude</th>\n",
              "      <th>longitude</th>\n",
              "      <th>room_type</th>\n",
              "      <th>price</th>\n",
              "      <th>minimum_nights</th>\n",
              "      <th>number_of_reviews</th>\n",
              "      <th>reviews_per_month</th>\n",
              "      <th>calculated_host_listings_count</th>\n",
              "      <th>availability_365</th>\n",
              "      <th>city</th>\n",
              "    </tr>\n",
              "  </thead>\n",
              "  <tbody>\n",
              "    <tr>\n",
              "      <th>0</th>\n",
              "      <td>38585</td>\n",
              "      <td>Charming Victorian home - twin beds + breakfast</td>\n",
              "      <td>35.65146</td>\n",
              "      <td>-82.62792</td>\n",
              "      <td>Private room</td>\n",
              "      <td>60</td>\n",
              "      <td>1</td>\n",
              "      <td>138</td>\n",
              "      <td>1.14</td>\n",
              "      <td>1</td>\n",
              "      <td>0</td>\n",
              "      <td>Asheville</td>\n",
              "    </tr>\n",
              "    <tr>\n",
              "      <th>1</th>\n",
              "      <td>80905</td>\n",
              "      <td>French Chic Loft</td>\n",
              "      <td>35.59779</td>\n",
              "      <td>-82.55540</td>\n",
              "      <td>Entire home/apt</td>\n",
              "      <td>470</td>\n",
              "      <td>1</td>\n",
              "      <td>114</td>\n",
              "      <td>1.03</td>\n",
              "      <td>11</td>\n",
              "      <td>288</td>\n",
              "      <td>Asheville</td>\n",
              "    </tr>\n",
              "    <tr>\n",
              "      <th>2</th>\n",
              "      <td>108061</td>\n",
              "      <td>Walk to stores/parks/downtown. Fenced yard/Pet...</td>\n",
              "      <td>35.60670</td>\n",
              "      <td>-82.55563</td>\n",
              "      <td>Entire home/apt</td>\n",
              "      <td>75</td>\n",
              "      <td>30</td>\n",
              "      <td>89</td>\n",
              "      <td>0.81</td>\n",
              "      <td>2</td>\n",
              "      <td>298</td>\n",
              "      <td>Asheville</td>\n",
              "    </tr>\n",
              "    <tr>\n",
              "      <th>3</th>\n",
              "      <td>155305</td>\n",
              "      <td>Cottage! BonPaul + Sharky's Hostel</td>\n",
              "      <td>35.57864</td>\n",
              "      <td>-82.59578</td>\n",
              "      <td>Entire home/apt</td>\n",
              "      <td>90</td>\n",
              "      <td>1</td>\n",
              "      <td>267</td>\n",
              "      <td>2.39</td>\n",
              "      <td>5</td>\n",
              "      <td>0</td>\n",
              "      <td>Asheville</td>\n",
              "    </tr>\n",
              "    <tr>\n",
              "      <th>4</th>\n",
              "      <td>160594</td>\n",
              "      <td>Historic Grove Park</td>\n",
              "      <td>35.61442</td>\n",
              "      <td>-82.54127</td>\n",
              "      <td>Private room</td>\n",
              "      <td>125</td>\n",
              "      <td>30</td>\n",
              "      <td>58</td>\n",
              "      <td>0.52</td>\n",
              "      <td>1</td>\n",
              "      <td>0</td>\n",
              "      <td>Asheville</td>\n",
              "    </tr>\n",
              "  </tbody>\n",
              "</table>\n",
              "</div>"
            ],
            "text/plain": [
              "       id  ...       city\n",
              "0   38585  ...  Asheville\n",
              "1   80905  ...  Asheville\n",
              "2  108061  ...  Asheville\n",
              "3  155305  ...  Asheville\n",
              "4  160594  ...  Asheville\n",
              "\n",
              "[5 rows x 12 columns]"
            ]
          },
          "metadata": {
            "tags": []
          },
          "execution_count": 13
        }
      ]
    },
    {
      "cell_type": "code",
      "metadata": {
        "id": "E2rtxhvyX8Ia"
      },
      "source": [
        "# replacing NaN values for the reviews_per_month column\n",
        "new_df['reviews_per_month'] = new_df['reviews_per_month'].fillna(0)\n"
      ],
      "execution_count": 14,
      "outputs": []
    },
    {
      "cell_type": "code",
      "metadata": {
        "id": "glMiXB4QX8Ia",
        "colab": {
          "base_uri": "https://localhost:8080/"
        },
        "outputId": "cf3f73b4-66c4-4ec7-ec94-5e35b6c39e03"
      },
      "source": [
        "# checking again the column if there is any null value but now there is no null vales\n",
        "new_df['reviews_per_month'].isnull().sum()"
      ],
      "execution_count": 15,
      "outputs": [
        {
          "output_type": "execute_result",
          "data": {
            "text/plain": [
              "0"
            ]
          },
          "metadata": {
            "tags": []
          },
          "execution_count": 15
        }
      ]
    },
    {
      "cell_type": "code",
      "metadata": {
        "id": "cHqrJ7c7X8Ia",
        "colab": {
          "base_uri": "https://localhost:8080/"
        },
        "outputId": "dc280b5f-5a37-475b-e115-31d663247ab5"
      },
      "source": [
        "# check all the null or missing or NaN values\n",
        "new_df.isnull().sum()"
      ],
      "execution_count": 16,
      "outputs": [
        {
          "output_type": "execute_result",
          "data": {
            "text/plain": [
              "id                                 0\n",
              "name                              28\n",
              "latitude                           0\n",
              "longitude                          0\n",
              "room_type                          0\n",
              "price                              0\n",
              "minimum_nights                     0\n",
              "number_of_reviews                  0\n",
              "reviews_per_month                  0\n",
              "calculated_host_listings_count     0\n",
              "availability_365                   0\n",
              "city                               0\n",
              "dtype: int64"
            ]
          },
          "metadata": {
            "tags": []
          },
          "execution_count": 16
        }
      ]
    },
    {
      "cell_type": "code",
      "metadata": {
        "id": "BCerIdUPX8Ia",
        "colab": {
          "base_uri": "https://localhost:8080/",
          "height": 204
        },
        "outputId": "ca99d184-ada6-4ccb-fcba-63fb0c247372"
      },
      "source": [
        "# To find null values in the name column\n",
        "new_df[new_df['name'].isnull()].head()\n"
      ],
      "execution_count": 17,
      "outputs": [
        {
          "output_type": "execute_result",
          "data": {
            "text/html": [
              "<div>\n",
              "<style scoped>\n",
              "    .dataframe tbody tr th:only-of-type {\n",
              "        vertical-align: middle;\n",
              "    }\n",
              "\n",
              "    .dataframe tbody tr th {\n",
              "        vertical-align: top;\n",
              "    }\n",
              "\n",
              "    .dataframe thead th {\n",
              "        text-align: right;\n",
              "    }\n",
              "</style>\n",
              "<table border=\"1\" class=\"dataframe\">\n",
              "  <thead>\n",
              "    <tr style=\"text-align: right;\">\n",
              "      <th></th>\n",
              "      <th>id</th>\n",
              "      <th>name</th>\n",
              "      <th>latitude</th>\n",
              "      <th>longitude</th>\n",
              "      <th>room_type</th>\n",
              "      <th>price</th>\n",
              "      <th>minimum_nights</th>\n",
              "      <th>number_of_reviews</th>\n",
              "      <th>reviews_per_month</th>\n",
              "      <th>calculated_host_listings_count</th>\n",
              "      <th>availability_365</th>\n",
              "      <th>city</th>\n",
              "    </tr>\n",
              "  </thead>\n",
              "  <tbody>\n",
              "    <tr>\n",
              "      <th>23691</th>\n",
              "      <td>39717529</td>\n",
              "      <td>NaN</td>\n",
              "      <td>26.28332</td>\n",
              "      <td>-80.10731</td>\n",
              "      <td>Entire home/apt</td>\n",
              "      <td>79</td>\n",
              "      <td>2</td>\n",
              "      <td>16</td>\n",
              "      <td>2.23</td>\n",
              "      <td>2</td>\n",
              "      <td>136</td>\n",
              "      <td>Broward County</td>\n",
              "    </tr>\n",
              "    <tr>\n",
              "      <th>81872</th>\n",
              "      <td>17108083</td>\n",
              "      <td>NaN</td>\n",
              "      <td>34.17216</td>\n",
              "      <td>-118.11699</td>\n",
              "      <td>Private room</td>\n",
              "      <td>125</td>\n",
              "      <td>2</td>\n",
              "      <td>0</td>\n",
              "      <td>0.00</td>\n",
              "      <td>1</td>\n",
              "      <td>179</td>\n",
              "      <td>Los Angeles</td>\n",
              "    </tr>\n",
              "    <tr>\n",
              "      <th>93004</th>\n",
              "      <td>33877948</td>\n",
              "      <td>NaN</td>\n",
              "      <td>34.41328</td>\n",
              "      <td>-118.44301</td>\n",
              "      <td>Private room</td>\n",
              "      <td>40</td>\n",
              "      <td>1</td>\n",
              "      <td>10</td>\n",
              "      <td>0.64</td>\n",
              "      <td>1</td>\n",
              "      <td>129</td>\n",
              "      <td>Los Angeles</td>\n",
              "    </tr>\n",
              "    <tr>\n",
              "      <th>119475</th>\n",
              "      <td>1615764</td>\n",
              "      <td>NaN</td>\n",
              "      <td>40.71239</td>\n",
              "      <td>-74.01620</td>\n",
              "      <td>Entire home/apt</td>\n",
              "      <td>400</td>\n",
              "      <td>1000</td>\n",
              "      <td>0</td>\n",
              "      <td>0.00</td>\n",
              "      <td>1</td>\n",
              "      <td>362</td>\n",
              "      <td>New York City</td>\n",
              "    </tr>\n",
              "    <tr>\n",
              "      <th>120149</th>\n",
              "      <td>2232600</td>\n",
              "      <td>NaN</td>\n",
              "      <td>40.73215</td>\n",
              "      <td>-73.98821</td>\n",
              "      <td>Entire home/apt</td>\n",
              "      <td>200</td>\n",
              "      <td>1</td>\n",
              "      <td>28</td>\n",
              "      <td>0.37</td>\n",
              "      <td>1</td>\n",
              "      <td>364</td>\n",
              "      <td>New York City</td>\n",
              "    </tr>\n",
              "  </tbody>\n",
              "</table>\n",
              "</div>"
            ],
            "text/plain": [
              "              id name  ...  availability_365            city\n",
              "23691   39717529  NaN  ...               136  Broward County\n",
              "81872   17108083  NaN  ...               179     Los Angeles\n",
              "93004   33877948  NaN  ...               129     Los Angeles\n",
              "119475   1615764  NaN  ...               362   New York City\n",
              "120149   2232600  NaN  ...               364   New York City\n",
              "\n",
              "[5 rows x 12 columns]"
            ]
          },
          "metadata": {
            "tags": []
          },
          "execution_count": 17
        }
      ]
    },
    {
      "cell_type": "code",
      "metadata": {
        "id": "Qhvc5s9gX8Ia"
      },
      "source": [
        "# replacing NaN values with no_name\n",
        "new_df['name'].fillna('no_name', inplace = True) "
      ],
      "execution_count": 18,
      "outputs": []
    },
    {
      "cell_type": "code",
      "metadata": {
        "id": "kzZBa1igX8Ia",
        "colab": {
          "base_uri": "https://localhost:8080/"
        },
        "outputId": "ee5715be-c53d-4149-d154-aec8c71201fe"
      },
      "source": [
        "# check for null values again\n",
        "new_df.isnull().sum()"
      ],
      "execution_count": 19,
      "outputs": [
        {
          "output_type": "execute_result",
          "data": {
            "text/plain": [
              "id                                0\n",
              "name                              0\n",
              "latitude                          0\n",
              "longitude                         0\n",
              "room_type                         0\n",
              "price                             0\n",
              "minimum_nights                    0\n",
              "number_of_reviews                 0\n",
              "reviews_per_month                 0\n",
              "calculated_host_listings_count    0\n",
              "availability_365                  0\n",
              "city                              0\n",
              "dtype: int64"
            ]
          },
          "metadata": {
            "tags": []
          },
          "execution_count": 19
        }
      ]
    },
    {
      "cell_type": "code",
      "metadata": {
        "id": "T0ttdC74X8Ia",
        "colab": {
          "base_uri": "https://localhost:8080/",
          "height": 204
        },
        "outputId": "ebdc8241-4e14-4591-97d9-e64cce964b1c"
      },
      "source": [
        "# check the dataset again\n",
        "new_df.head()"
      ],
      "execution_count": 20,
      "outputs": [
        {
          "output_type": "execute_result",
          "data": {
            "text/html": [
              "<div>\n",
              "<style scoped>\n",
              "    .dataframe tbody tr th:only-of-type {\n",
              "        vertical-align: middle;\n",
              "    }\n",
              "\n",
              "    .dataframe tbody tr th {\n",
              "        vertical-align: top;\n",
              "    }\n",
              "\n",
              "    .dataframe thead th {\n",
              "        text-align: right;\n",
              "    }\n",
              "</style>\n",
              "<table border=\"1\" class=\"dataframe\">\n",
              "  <thead>\n",
              "    <tr style=\"text-align: right;\">\n",
              "      <th></th>\n",
              "      <th>id</th>\n",
              "      <th>name</th>\n",
              "      <th>latitude</th>\n",
              "      <th>longitude</th>\n",
              "      <th>room_type</th>\n",
              "      <th>price</th>\n",
              "      <th>minimum_nights</th>\n",
              "      <th>number_of_reviews</th>\n",
              "      <th>reviews_per_month</th>\n",
              "      <th>calculated_host_listings_count</th>\n",
              "      <th>availability_365</th>\n",
              "      <th>city</th>\n",
              "    </tr>\n",
              "  </thead>\n",
              "  <tbody>\n",
              "    <tr>\n",
              "      <th>0</th>\n",
              "      <td>38585</td>\n",
              "      <td>Charming Victorian home - twin beds + breakfast</td>\n",
              "      <td>35.65146</td>\n",
              "      <td>-82.62792</td>\n",
              "      <td>Private room</td>\n",
              "      <td>60</td>\n",
              "      <td>1</td>\n",
              "      <td>138</td>\n",
              "      <td>1.14</td>\n",
              "      <td>1</td>\n",
              "      <td>0</td>\n",
              "      <td>Asheville</td>\n",
              "    </tr>\n",
              "    <tr>\n",
              "      <th>1</th>\n",
              "      <td>80905</td>\n",
              "      <td>French Chic Loft</td>\n",
              "      <td>35.59779</td>\n",
              "      <td>-82.55540</td>\n",
              "      <td>Entire home/apt</td>\n",
              "      <td>470</td>\n",
              "      <td>1</td>\n",
              "      <td>114</td>\n",
              "      <td>1.03</td>\n",
              "      <td>11</td>\n",
              "      <td>288</td>\n",
              "      <td>Asheville</td>\n",
              "    </tr>\n",
              "    <tr>\n",
              "      <th>2</th>\n",
              "      <td>108061</td>\n",
              "      <td>Walk to stores/parks/downtown. Fenced yard/Pet...</td>\n",
              "      <td>35.60670</td>\n",
              "      <td>-82.55563</td>\n",
              "      <td>Entire home/apt</td>\n",
              "      <td>75</td>\n",
              "      <td>30</td>\n",
              "      <td>89</td>\n",
              "      <td>0.81</td>\n",
              "      <td>2</td>\n",
              "      <td>298</td>\n",
              "      <td>Asheville</td>\n",
              "    </tr>\n",
              "    <tr>\n",
              "      <th>3</th>\n",
              "      <td>155305</td>\n",
              "      <td>Cottage! BonPaul + Sharky's Hostel</td>\n",
              "      <td>35.57864</td>\n",
              "      <td>-82.59578</td>\n",
              "      <td>Entire home/apt</td>\n",
              "      <td>90</td>\n",
              "      <td>1</td>\n",
              "      <td>267</td>\n",
              "      <td>2.39</td>\n",
              "      <td>5</td>\n",
              "      <td>0</td>\n",
              "      <td>Asheville</td>\n",
              "    </tr>\n",
              "    <tr>\n",
              "      <th>4</th>\n",
              "      <td>160594</td>\n",
              "      <td>Historic Grove Park</td>\n",
              "      <td>35.61442</td>\n",
              "      <td>-82.54127</td>\n",
              "      <td>Private room</td>\n",
              "      <td>125</td>\n",
              "      <td>30</td>\n",
              "      <td>58</td>\n",
              "      <td>0.52</td>\n",
              "      <td>1</td>\n",
              "      <td>0</td>\n",
              "      <td>Asheville</td>\n",
              "    </tr>\n",
              "  </tbody>\n",
              "</table>\n",
              "</div>"
            ],
            "text/plain": [
              "       id  ...       city\n",
              "0   38585  ...  Asheville\n",
              "1   80905  ...  Asheville\n",
              "2  108061  ...  Asheville\n",
              "3  155305  ...  Asheville\n",
              "4  160594  ...  Asheville\n",
              "\n",
              "[5 rows x 12 columns]"
            ]
          },
          "metadata": {
            "tags": []
          },
          "execution_count": 20
        }
      ]
    },
    {
      "cell_type": "code",
      "metadata": {
        "id": "0sDiuWpRX8Ia",
        "colab": {
          "base_uri": "https://localhost:8080/",
          "height": 204
        },
        "outputId": "8c3f5361-48da-4de6-e5c0-b9be41167414"
      },
      "source": [
        "new_df = new_df.drop(['id','name'],axis=1)\n",
        "new_df.head()"
      ],
      "execution_count": 21,
      "outputs": [
        {
          "output_type": "execute_result",
          "data": {
            "text/html": [
              "<div>\n",
              "<style scoped>\n",
              "    .dataframe tbody tr th:only-of-type {\n",
              "        vertical-align: middle;\n",
              "    }\n",
              "\n",
              "    .dataframe tbody tr th {\n",
              "        vertical-align: top;\n",
              "    }\n",
              "\n",
              "    .dataframe thead th {\n",
              "        text-align: right;\n",
              "    }\n",
              "</style>\n",
              "<table border=\"1\" class=\"dataframe\">\n",
              "  <thead>\n",
              "    <tr style=\"text-align: right;\">\n",
              "      <th></th>\n",
              "      <th>latitude</th>\n",
              "      <th>longitude</th>\n",
              "      <th>room_type</th>\n",
              "      <th>price</th>\n",
              "      <th>minimum_nights</th>\n",
              "      <th>number_of_reviews</th>\n",
              "      <th>reviews_per_month</th>\n",
              "      <th>calculated_host_listings_count</th>\n",
              "      <th>availability_365</th>\n",
              "      <th>city</th>\n",
              "    </tr>\n",
              "  </thead>\n",
              "  <tbody>\n",
              "    <tr>\n",
              "      <th>0</th>\n",
              "      <td>35.65146</td>\n",
              "      <td>-82.62792</td>\n",
              "      <td>Private room</td>\n",
              "      <td>60</td>\n",
              "      <td>1</td>\n",
              "      <td>138</td>\n",
              "      <td>1.14</td>\n",
              "      <td>1</td>\n",
              "      <td>0</td>\n",
              "      <td>Asheville</td>\n",
              "    </tr>\n",
              "    <tr>\n",
              "      <th>1</th>\n",
              "      <td>35.59779</td>\n",
              "      <td>-82.55540</td>\n",
              "      <td>Entire home/apt</td>\n",
              "      <td>470</td>\n",
              "      <td>1</td>\n",
              "      <td>114</td>\n",
              "      <td>1.03</td>\n",
              "      <td>11</td>\n",
              "      <td>288</td>\n",
              "      <td>Asheville</td>\n",
              "    </tr>\n",
              "    <tr>\n",
              "      <th>2</th>\n",
              "      <td>35.60670</td>\n",
              "      <td>-82.55563</td>\n",
              "      <td>Entire home/apt</td>\n",
              "      <td>75</td>\n",
              "      <td>30</td>\n",
              "      <td>89</td>\n",
              "      <td>0.81</td>\n",
              "      <td>2</td>\n",
              "      <td>298</td>\n",
              "      <td>Asheville</td>\n",
              "    </tr>\n",
              "    <tr>\n",
              "      <th>3</th>\n",
              "      <td>35.57864</td>\n",
              "      <td>-82.59578</td>\n",
              "      <td>Entire home/apt</td>\n",
              "      <td>90</td>\n",
              "      <td>1</td>\n",
              "      <td>267</td>\n",
              "      <td>2.39</td>\n",
              "      <td>5</td>\n",
              "      <td>0</td>\n",
              "      <td>Asheville</td>\n",
              "    </tr>\n",
              "    <tr>\n",
              "      <th>4</th>\n",
              "      <td>35.61442</td>\n",
              "      <td>-82.54127</td>\n",
              "      <td>Private room</td>\n",
              "      <td>125</td>\n",
              "      <td>30</td>\n",
              "      <td>58</td>\n",
              "      <td>0.52</td>\n",
              "      <td>1</td>\n",
              "      <td>0</td>\n",
              "      <td>Asheville</td>\n",
              "    </tr>\n",
              "  </tbody>\n",
              "</table>\n",
              "</div>"
            ],
            "text/plain": [
              "   latitude  longitude  ... availability_365       city\n",
              "0  35.65146  -82.62792  ...                0  Asheville\n",
              "1  35.59779  -82.55540  ...              288  Asheville\n",
              "2  35.60670  -82.55563  ...              298  Asheville\n",
              "3  35.57864  -82.59578  ...                0  Asheville\n",
              "4  35.61442  -82.54127  ...                0  Asheville\n",
              "\n",
              "[5 rows x 10 columns]"
            ]
          },
          "metadata": {
            "tags": []
          },
          "execution_count": 21
        }
      ]
    },
    {
      "cell_type": "markdown",
      "metadata": {
        "id": "63IVJ3khtBIU"
      },
      "source": [
        "### Random Forest Model"
      ]
    },
    {
      "cell_type": "code",
      "metadata": {
        "id": "ZknrA5pAX8Ia"
      },
      "source": [
        "# split the data into a training set and a validation set\n",
        "from sklearn.model_selection import train_test_split\n",
        "train, val = train_test_split(new_df, train_size=0.80, test_size=0.20,random_state=42)\n",
        "\n",
        "# set an X and y for train and val\n",
        "target = 'price'\n",
        "X_train = train.drop(columns=target)\n",
        "y_train = train[target]\n",
        "X_val = val.drop(columns=target)\n",
        "y_val = val[target]"
      ],
      "execution_count": 22,
      "outputs": []
    },
    {
      "cell_type": "code",
      "metadata": {
        "id": "NtQn2bHmX8Ia",
        "colab": {
          "base_uri": "https://localhost:8080/"
        },
        "outputId": "a27e661f-ede3-4de0-e527-9d2f9bad33e1"
      },
      "source": [
        "!pip install category_encoders\n",
        "import category_encoders as ce\n",
        "from sklearn.ensemble import RandomForestRegressor\n",
        "from sklearn.pipeline import make_pipeline\n",
        "from sklearn.metrics import mean_squared_error, r2_score, mean_absolute_error\n",
        "\n",
        "# train a random forest regressor\n",
        "pipeline = make_pipeline(\n",
        "    ce.OrdinalEncoder(),\n",
        "    RandomForestRegressor(n_estimators=50, criterion=\"mse\", max_depth=3, random_state=42,n_jobs=-1)\n",
        ")\n",
        "# fit the data on train and score the data on val\n",
        "pipeline.fit(X_train,y_train)\n"
      ],
      "execution_count": 23,
      "outputs": [
        {
          "output_type": "stream",
          "text": [
            "Collecting category_encoders\n",
            "\u001b[?25l  Downloading https://files.pythonhosted.org/packages/44/57/fcef41c248701ee62e8325026b90c432adea35555cbc870aff9cfba23727/category_encoders-2.2.2-py2.py3-none-any.whl (80kB)\n",
            "\r\u001b[K     |████                            | 10kB 18.4MB/s eta 0:00:01\r\u001b[K     |████████▏                       | 20kB 12.2MB/s eta 0:00:01\r\u001b[K     |████████████▏                   | 30kB 5.8MB/s eta 0:00:01\r\u001b[K     |████████████████▎               | 40kB 5.2MB/s eta 0:00:01\r\u001b[K     |████████████████████▎           | 51kB 2.6MB/s eta 0:00:01\r\u001b[K     |████████████████████████▍       | 61kB 3.0MB/s eta 0:00:01\r\u001b[K     |████████████████████████████▍   | 71kB 3.1MB/s eta 0:00:01\r\u001b[K     |████████████████████████████████| 81kB 2.6MB/s \n",
            "\u001b[?25hRequirement already satisfied: numpy>=1.14.0 in /usr/local/lib/python3.6/dist-packages (from category_encoders) (1.18.5)\n",
            "Requirement already satisfied: scikit-learn>=0.20.0 in /usr/local/lib/python3.6/dist-packages (from category_encoders) (0.22.2.post1)\n",
            "Requirement already satisfied: statsmodels>=0.9.0 in /usr/local/lib/python3.6/dist-packages (from category_encoders) (0.10.2)\n",
            "Requirement already satisfied: scipy>=1.0.0 in /usr/local/lib/python3.6/dist-packages (from category_encoders) (1.4.1)\n",
            "Requirement already satisfied: patsy>=0.5.1 in /usr/local/lib/python3.6/dist-packages (from category_encoders) (0.5.1)\n",
            "Requirement already satisfied: pandas>=0.21.1 in /usr/local/lib/python3.6/dist-packages (from category_encoders) (1.1.4)\n",
            "Requirement already satisfied: joblib>=0.11 in /usr/local/lib/python3.6/dist-packages (from scikit-learn>=0.20.0->category_encoders) (0.17.0)\n",
            "Requirement already satisfied: six in /usr/local/lib/python3.6/dist-packages (from patsy>=0.5.1->category_encoders) (1.15.0)\n",
            "Requirement already satisfied: python-dateutil>=2.7.3 in /usr/local/lib/python3.6/dist-packages (from pandas>=0.21.1->category_encoders) (2.8.1)\n",
            "Requirement already satisfied: pytz>=2017.2 in /usr/local/lib/python3.6/dist-packages (from pandas>=0.21.1->category_encoders) (2018.9)\n",
            "Installing collected packages: category-encoders\n",
            "Successfully installed category-encoders-2.2.2\n"
          ],
          "name": "stdout"
        },
        {
          "output_type": "stream",
          "text": [
            "/usr/local/lib/python3.6/dist-packages/statsmodels/tools/_testing.py:19: FutureWarning: pandas.util.testing is deprecated. Use the functions in the public API at pandas.testing instead.\n",
            "  import pandas.util.testing as tm\n"
          ],
          "name": "stderr"
        },
        {
          "output_type": "execute_result",
          "data": {
            "text/plain": [
              "Pipeline(memory=None,\n",
              "         steps=[('ordinalencoder',\n",
              "                 OrdinalEncoder(cols=['room_type', 'city'],\n",
              "                                drop_invariant=False, handle_missing='value',\n",
              "                                handle_unknown='value',\n",
              "                                mapping=[{'col': 'room_type',\n",
              "                                          'data_type': dtype('O'),\n",
              "                                          'mapping': Entire home/apt    1\n",
              "Private room       2\n",
              "Shared room        3\n",
              "Hotel room         4\n",
              "NaN               -2\n",
              "dtype: int64},\n",
              "                                         {'col': 'city',\n",
              "                                          'data_type': dtype('O'),\n",
              "                                          'mapping': Hawaii            1\n",
              "New Orleans       2\n",
              "Bost...\n",
              "                 RandomForestRegressor(bootstrap=True, ccp_alpha=0.0,\n",
              "                                       criterion='mse', max_depth=3,\n",
              "                                       max_features='auto', max_leaf_nodes=None,\n",
              "                                       max_samples=None,\n",
              "                                       min_impurity_decrease=0.0,\n",
              "                                       min_impurity_split=None,\n",
              "                                       min_samples_leaf=1, min_samples_split=2,\n",
              "                                       min_weight_fraction_leaf=0.0,\n",
              "                                       n_estimators=50, n_jobs=-1,\n",
              "                                       oob_score=False, random_state=42,\n",
              "                                       verbose=0, warm_start=False))],\n",
              "         verbose=False)"
            ]
          },
          "metadata": {
            "tags": []
          },
          "execution_count": 23
        }
      ]
    },
    {
      "cell_type": "code",
      "metadata": {
        "id": "22_dG9DhX8Ia",
        "colab": {
          "base_uri": "https://localhost:8080/"
        },
        "outputId": "9bdf9461-2495-4e39-b5f3-ab7128a773f7"
      },
      "source": [
        "pred = pipeline.predict(X_val)\n",
        "print(\"R2 Score:\", r2_score(y_val,pred))\n",
        "print(\"Mean Squared Error:\", mean_squared_error(y_val,pred))\n",
        "print(\"Mean Absolute Error:\", mean_absolute_error(y_val,pred))"
      ],
      "execution_count": 24,
      "outputs": [
        {
          "output_type": "stream",
          "text": [
            "R2 Score: 0.04684412840538321\n",
            "Mean Squared Error: 347015.2497850995\n",
            "Mean Absolute Error: 162.48903188123526\n"
          ],
          "name": "stdout"
        }
      ]
    },
    {
      "cell_type": "markdown",
      "metadata": {
        "id": "2F7VcERKtW9r"
      },
      "source": [
        "#### Feature Importance"
      ]
    },
    {
      "cell_type": "code",
      "metadata": {
        "id": "GPVowErYX8Ia",
        "colab": {
          "base_uri": "https://localhost:8080/",
          "height": 363
        },
        "outputId": "5ef8581c-5e1b-4af3-a46d-d7aac86ed78a"
      },
      "source": [
        "%matplotlib inline\n",
        "import matplotlib.pyplot as plt\n",
        "\n",
        "rf = pipeline.named_steps['randomforestregressor']\n",
        "importances = pd.Series(rf.feature_importances_, X_train.columns)\n",
        "\n",
        "n = 11\n",
        "plt.figure(figsize=(10,n/2))\n",
        "plt.title(f'Top {n} Features')\n",
        "importances.sort_values()[-n:].plot.barh(color='green');"
      ],
      "execution_count": 25,
      "outputs": [
        {
          "output_type": "display_data",
          "data": {
            "image/png": "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\n",
            "text/plain": [
              "<Figure size 720x396 with 1 Axes>"
            ]
          },
          "metadata": {
            "tags": [],
            "needs_background": "light"
          }
        }
      ]
    },
    {
      "cell_type": "markdown",
      "metadata": {
        "id": "TROdoEY9tdad"
      },
      "source": [
        "### XGBoost"
      ]
    },
    {
      "cell_type": "code",
      "metadata": {
        "id": "Sd36XHm_X8Ia",
        "colab": {
          "base_uri": "https://localhost:8080/"
        },
        "outputId": "53c0f37e-535a-4fbd-9c41-e4a899c3f3f3"
      },
      "source": [
        "from xgboost import XGBRegressor\n",
        "\n",
        "pipleline_XGB = make_pipeline(\n",
        "    ce.OrdinalEncoder(),\n",
        "    XGBRegressor(n_estimators=100, random_state=42, n_jobs=-1)\n",
        ")\n",
        "\n",
        "pipleline_XGB.fit(X_train,y_train)\n"
      ],
      "execution_count": 26,
      "outputs": [
        {
          "output_type": "stream",
          "text": [
            "[04:03:35] WARNING: /workspace/src/objective/regression_obj.cu:152: reg:linear is now deprecated in favor of reg:squarederror.\n"
          ],
          "name": "stdout"
        },
        {
          "output_type": "execute_result",
          "data": {
            "text/plain": [
              "Pipeline(memory=None,\n",
              "         steps=[('ordinalencoder',\n",
              "                 OrdinalEncoder(cols=['room_type', 'city'],\n",
              "                                drop_invariant=False, handle_missing='value',\n",
              "                                handle_unknown='value',\n",
              "                                mapping=[{'col': 'room_type',\n",
              "                                          'data_type': dtype('O'),\n",
              "                                          'mapping': Entire home/apt    1\n",
              "Private room       2\n",
              "Shared room        3\n",
              "Hotel room         4\n",
              "NaN               -2\n",
              "dtype: int64},\n",
              "                                         {'col': 'city',\n",
              "                                          'data_type': dtype('O'),\n",
              "                                          'mapping': Hawaii            1\n",
              "New Orleans       2\n",
              "Bost...\n",
              "                              colsample_bylevel=1, colsample_bynode=1,\n",
              "                              colsample_bytree=1, gamma=0,\n",
              "                              importance_type='gain', learning_rate=0.1,\n",
              "                              max_delta_step=0, max_depth=3, min_child_weight=1,\n",
              "                              missing=None, n_estimators=100, n_jobs=-1,\n",
              "                              nthread=None, objective='reg:linear',\n",
              "                              random_state=42, reg_alpha=0, reg_lambda=1,\n",
              "                              scale_pos_weight=1, seed=None, silent=None,\n",
              "                              subsample=1, verbosity=1))],\n",
              "         verbose=False)"
            ]
          },
          "metadata": {
            "tags": []
          },
          "execution_count": 26
        }
      ]
    },
    {
      "cell_type": "code",
      "metadata": {
        "id": "txogpHLjX8Ia",
        "colab": {
          "base_uri": "https://localhost:8080/"
        },
        "outputId": "b75f4b8d-1863-4848-cf6c-23e17a0d8be5"
      },
      "source": [
        "pred = pipleline_XGB.predict(X_val)\n",
        "print(\"R2 Score:\", r2_score(y_val,pred))\n",
        "print(\"Mean Squared Error:\", mean_squared_error(y_val,pred))\n",
        "print(\"Mean Absolute Error:\", mean_absolute_error(y_val,pred))"
      ],
      "execution_count": 27,
      "outputs": [
        {
          "output_type": "stream",
          "text": [
            "R2 Score: 0.18994175413063896\n",
            "Mean Squared Error: 294917.728472422\n",
            "Mean Absolute Error: 147.72654794966843\n"
          ],
          "name": "stdout"
        }
      ]
    },
    {
      "cell_type": "markdown",
      "metadata": {
        "id": "YKy4zvDsthU8"
      },
      "source": [
        "### Training a Neural Network"
      ]
    },
    {
      "cell_type": "code",
      "metadata": {
        "id": "enoAqUReaM0f"
      },
      "source": [
        "from sklearn.preprocessing import StandardScaler\n",
        "\n",
        "# encode the data so that we don't have an categorical data\n",
        "encoder = ce.OrdinalEncoder()\n",
        "X_train_encoded = encoder.fit_transform(X_train)\n",
        "X_val_encoded = encoder.transform(X_val)\n",
        "\n",
        "# scale the data so the neural network doesn't get stuck on the data\n",
        "scaler = StandardScaler()\n",
        "X_train_scaled = scaler.fit_transform(X_train_encoded)\n",
        "X_val_scaled = scaler.transform(X_val_encoded)"
      ],
      "execution_count": null,
      "outputs": []
    },
    {
      "cell_type": "code",
      "metadata": {
        "colab": {
          "base_uri": "https://localhost:8080/",
          "height": 1000
        },
        "id": "qSrW_0e-bkge",
        "outputId": "02e9a5cd-153e-4da3-a55e-a6c812dae316"
      },
      "source": [
        "from tensorflow import keras\n",
        "from tensorflow.keras.models import Sequential\n",
        "from tensorflow.keras.layers import Dense\n",
        "from tensorflow.keras.callbacks import EarlyStopping\n",
        "\n",
        "# Important Hyperparameters\n",
        "inputs = X_train_scaled.shape[1]\n",
        "epochs = 75\n",
        "batch_size = 10\n",
        "\n",
        "# Create Model\n",
        "model = Sequential()\n",
        "model.add(Dense(64, activation='sigmoid', input_shape=(inputs,)))\n",
        "model.add(Dense(64, activation='sigmoid'))\n",
        "model.add(Dense(1))\n",
        "\n",
        "# Early Stopping\n",
        "callback=EarlyStopping(patience=5,verbose=1,min_delta=1)\n",
        "\n",
        "# Compile Model\n",
        "model.compile(optimizer='adam', loss='mae', metrics=['mae'])\n",
        "\n",
        "# Fit Model\n",
        "results = model.fit(X_train_scaled, y_train, \n",
        "            validation_data=(X_val_scaled,y_val), \n",
        "            epochs=epochs, \n",
        "            batch_size=batch_size,\n",
        "            callbacks=[callback])"
      ],
      "execution_count": null,
      "outputs": [
        {
          "output_type": "stream",
          "text": [
            "Epoch 1/75\n",
            "18083/18083 [==============================] - 21s 1ms/step - loss: 136.0158 - mae: 136.0158 - val_loss: 131.9002 - val_mae: 131.9002\n",
            "Epoch 2/75\n",
            "18083/18083 [==============================] - 21s 1ms/step - loss: 128.8760 - mae: 128.8760 - val_loss: 131.1290 - val_mae: 131.1290\n",
            "Epoch 3/75\n",
            "18083/18083 [==============================] - 21s 1ms/step - loss: 128.2353 - mae: 128.2353 - val_loss: 130.5606 - val_mae: 130.5606\n",
            "Epoch 4/75\n",
            "18083/18083 [==============================] - 22s 1ms/step - loss: 127.6265 - mae: 127.6265 - val_loss: 130.0735 - val_mae: 130.0735\n",
            "Epoch 5/75\n",
            "18083/18083 [==============================] - 23s 1ms/step - loss: 127.1408 - mae: 127.1408 - val_loss: 129.6036 - val_mae: 129.6036\n",
            "Epoch 6/75\n",
            "18083/18083 [==============================] - 21s 1ms/step - loss: 126.7360 - mae: 126.7360 - val_loss: 129.2360 - val_mae: 129.2360\n",
            "Epoch 7/75\n",
            "18083/18083 [==============================] - 21s 1ms/step - loss: 126.3998 - mae: 126.3998 - val_loss: 128.8054 - val_mae: 128.8054\n",
            "Epoch 8/75\n",
            "18083/18083 [==============================] - 23s 1ms/step - loss: 126.0813 - mae: 126.0813 - val_loss: 128.4401 - val_mae: 128.4401\n",
            "Epoch 9/75\n",
            "18083/18083 [==============================] - 21s 1ms/step - loss: 125.7446 - mae: 125.7446 - val_loss: 128.1127 - val_mae: 128.1127\n",
            "Epoch 10/75\n",
            "18083/18083 [==============================] - 21s 1ms/step - loss: 125.3728 - mae: 125.3728 - val_loss: 127.7473 - val_mae: 127.7473\n",
            "Epoch 11/75\n",
            "18083/18083 [==============================] - 21s 1ms/step - loss: 125.0361 - mae: 125.0361 - val_loss: 127.4258 - val_mae: 127.4258\n",
            "Epoch 12/75\n",
            "18083/18083 [==============================] - 21s 1ms/step - loss: 124.7306 - mae: 124.7306 - val_loss: 127.2333 - val_mae: 127.2333\n",
            "Epoch 13/75\n",
            "18083/18083 [==============================] - 21s 1ms/step - loss: 124.4283 - mae: 124.4283 - val_loss: 127.0793 - val_mae: 127.0793\n",
            "Epoch 14/75\n",
            "18083/18083 [==============================] - 21s 1ms/step - loss: 124.1834 - mae: 124.1834 - val_loss: 127.2440 - val_mae: 127.2440\n",
            "Epoch 15/75\n",
            "18083/18083 [==============================] - 21s 1ms/step - loss: 123.9499 - mae: 123.9499 - val_loss: 126.4216 - val_mae: 126.4216\n",
            "Epoch 16/75\n",
            "18083/18083 [==============================] - 21s 1ms/step - loss: 123.7351 - mae: 123.7351 - val_loss: 126.2111 - val_mae: 126.2111\n",
            "Epoch 17/75\n",
            "18083/18083 [==============================] - 21s 1ms/step - loss: 123.5114 - mae: 123.5114 - val_loss: 126.0610 - val_mae: 126.0610\n",
            "Epoch 18/75\n",
            "18083/18083 [==============================] - 21s 1ms/step - loss: 123.3093 - mae: 123.3093 - val_loss: 126.0681 - val_mae: 126.0681\n",
            "Epoch 19/75\n",
            "18083/18083 [==============================] - 21s 1ms/step - loss: 123.1500 - mae: 123.1500 - val_loss: 125.7326 - val_mae: 125.7326\n",
            "Epoch 20/75\n",
            "18083/18083 [==============================] - 21s 1ms/step - loss: 122.9755 - mae: 122.9755 - val_loss: 125.5673 - val_mae: 125.5673\n",
            "Epoch 21/75\n",
            "18083/18083 [==============================] - 21s 1ms/step - loss: 122.8135 - mae: 122.8135 - val_loss: 126.0132 - val_mae: 126.0132\n",
            "Epoch 22/75\n",
            "18083/18083 [==============================] - 21s 1ms/step - loss: 122.6756 - mae: 122.6756 - val_loss: 125.9091 - val_mae: 125.9091\n",
            "Epoch 23/75\n",
            "18083/18083 [==============================] - 22s 1ms/step - loss: 122.5204 - mae: 122.5204 - val_loss: 125.0907 - val_mae: 125.0907\n",
            "Epoch 24/75\n",
            "18083/18083 [==============================] - 21s 1ms/step - loss: 122.3748 - mae: 122.3748 - val_loss: 125.1637 - val_mae: 125.1637\n",
            "Epoch 25/75\n",
            "18083/18083 [==============================] - 21s 1ms/step - loss: 122.2430 - mae: 122.2430 - val_loss: 124.9408 - val_mae: 124.9408\n",
            "Epoch 26/75\n",
            "18083/18083 [==============================] - 21s 1ms/step - loss: 122.1188 - mae: 122.1188 - val_loss: 124.7648 - val_mae: 124.7648\n",
            "Epoch 27/75\n",
            "18083/18083 [==============================] - 21s 1ms/step - loss: 122.0249 - mae: 122.0249 - val_loss: 124.5081 - val_mae: 124.5081\n",
            "Epoch 28/75\n",
            " 3564/18083 [====>.........................] - ETA: 14s - loss: 121.0956 - mae: 121.0956"
          ],
          "name": "stdout"
        },
        {
          "output_type": "error",
          "ename": "KeyboardInterrupt",
          "evalue": "ignored",
          "traceback": [
            "\u001b[0;31m---------------------------------------------------------------------------\u001b[0m",
            "\u001b[0;31mKeyboardInterrupt\u001b[0m                         Traceback (most recent call last)",
            "\u001b[0;32m<ipython-input-33-549502038df8>\u001b[0m in \u001b[0;36m<module>\u001b[0;34m()\u001b[0m\n\u001b[1;32m     26\u001b[0m             \u001b[0mepochs\u001b[0m\u001b[0;34m=\u001b[0m\u001b[0mepochs\u001b[0m\u001b[0;34m,\u001b[0m\u001b[0;34m\u001b[0m\u001b[0;34m\u001b[0m\u001b[0m\n\u001b[1;32m     27\u001b[0m             \u001b[0mbatch_size\u001b[0m\u001b[0;34m=\u001b[0m\u001b[0mbatch_size\u001b[0m\u001b[0;34m,\u001b[0m\u001b[0;34m\u001b[0m\u001b[0;34m\u001b[0m\u001b[0m\n\u001b[0;32m---> 28\u001b[0;31m             callbacks=[callback])\n\u001b[0m",
            "\u001b[0;32m/usr/local/lib/python3.6/dist-packages/tensorflow/python/keras/engine/training.py\u001b[0m in \u001b[0;36m_method_wrapper\u001b[0;34m(self, *args, **kwargs)\u001b[0m\n\u001b[1;32m    106\u001b[0m   \u001b[0;32mdef\u001b[0m \u001b[0m_method_wrapper\u001b[0m\u001b[0;34m(\u001b[0m\u001b[0mself\u001b[0m\u001b[0;34m,\u001b[0m \u001b[0;34m*\u001b[0m\u001b[0margs\u001b[0m\u001b[0;34m,\u001b[0m \u001b[0;34m**\u001b[0m\u001b[0mkwargs\u001b[0m\u001b[0;34m)\u001b[0m\u001b[0;34m:\u001b[0m\u001b[0;34m\u001b[0m\u001b[0;34m\u001b[0m\u001b[0m\n\u001b[1;32m    107\u001b[0m     \u001b[0;32mif\u001b[0m \u001b[0;32mnot\u001b[0m \u001b[0mself\u001b[0m\u001b[0;34m.\u001b[0m\u001b[0m_in_multi_worker_mode\u001b[0m\u001b[0;34m(\u001b[0m\u001b[0;34m)\u001b[0m\u001b[0;34m:\u001b[0m  \u001b[0;31m# pylint: disable=protected-access\u001b[0m\u001b[0;34m\u001b[0m\u001b[0;34m\u001b[0m\u001b[0m\n\u001b[0;32m--> 108\u001b[0;31m       \u001b[0;32mreturn\u001b[0m \u001b[0mmethod\u001b[0m\u001b[0;34m(\u001b[0m\u001b[0mself\u001b[0m\u001b[0;34m,\u001b[0m \u001b[0;34m*\u001b[0m\u001b[0margs\u001b[0m\u001b[0;34m,\u001b[0m \u001b[0;34m**\u001b[0m\u001b[0mkwargs\u001b[0m\u001b[0;34m)\u001b[0m\u001b[0;34m\u001b[0m\u001b[0;34m\u001b[0m\u001b[0m\n\u001b[0m\u001b[1;32m    109\u001b[0m \u001b[0;34m\u001b[0m\u001b[0m\n\u001b[1;32m    110\u001b[0m     \u001b[0;31m# Running inside `run_distribute_coordinator` already.\u001b[0m\u001b[0;34m\u001b[0m\u001b[0;34m\u001b[0m\u001b[0;34m\u001b[0m\u001b[0m\n",
            "\u001b[0;32m/usr/local/lib/python3.6/dist-packages/tensorflow/python/keras/engine/training.py\u001b[0m in \u001b[0;36mfit\u001b[0;34m(self, x, y, batch_size, epochs, verbose, callbacks, validation_split, validation_data, shuffle, class_weight, sample_weight, initial_epoch, steps_per_epoch, validation_steps, validation_batch_size, validation_freq, max_queue_size, workers, use_multiprocessing)\u001b[0m\n\u001b[1;32m   1096\u001b[0m                 batch_size=batch_size):\n\u001b[1;32m   1097\u001b[0m               \u001b[0mcallbacks\u001b[0m\u001b[0;34m.\u001b[0m\u001b[0mon_train_batch_begin\u001b[0m\u001b[0;34m(\u001b[0m\u001b[0mstep\u001b[0m\u001b[0;34m)\u001b[0m\u001b[0;34m\u001b[0m\u001b[0;34m\u001b[0m\u001b[0m\n\u001b[0;32m-> 1098\u001b[0;31m               \u001b[0mtmp_logs\u001b[0m \u001b[0;34m=\u001b[0m \u001b[0mtrain_function\u001b[0m\u001b[0;34m(\u001b[0m\u001b[0miterator\u001b[0m\u001b[0;34m)\u001b[0m\u001b[0;34m\u001b[0m\u001b[0;34m\u001b[0m\u001b[0m\n\u001b[0m\u001b[1;32m   1099\u001b[0m               \u001b[0;32mif\u001b[0m \u001b[0mdata_handler\u001b[0m\u001b[0;34m.\u001b[0m\u001b[0mshould_sync\u001b[0m\u001b[0;34m:\u001b[0m\u001b[0;34m\u001b[0m\u001b[0;34m\u001b[0m\u001b[0m\n\u001b[1;32m   1100\u001b[0m                 \u001b[0mcontext\u001b[0m\u001b[0;34m.\u001b[0m\u001b[0masync_wait\u001b[0m\u001b[0;34m(\u001b[0m\u001b[0;34m)\u001b[0m\u001b[0;34m\u001b[0m\u001b[0;34m\u001b[0m\u001b[0m\n",
            "\u001b[0;32m/usr/local/lib/python3.6/dist-packages/tensorflow/python/eager/def_function.py\u001b[0m in \u001b[0;36m__call__\u001b[0;34m(self, *args, **kwds)\u001b[0m\n\u001b[1;32m    778\u001b[0m       \u001b[0;32melse\u001b[0m\u001b[0;34m:\u001b[0m\u001b[0;34m\u001b[0m\u001b[0;34m\u001b[0m\u001b[0m\n\u001b[1;32m    779\u001b[0m         \u001b[0mcompiler\u001b[0m \u001b[0;34m=\u001b[0m \u001b[0;34m\"nonXla\"\u001b[0m\u001b[0;34m\u001b[0m\u001b[0;34m\u001b[0m\u001b[0m\n\u001b[0;32m--> 780\u001b[0;31m         \u001b[0mresult\u001b[0m \u001b[0;34m=\u001b[0m \u001b[0mself\u001b[0m\u001b[0;34m.\u001b[0m\u001b[0m_call\u001b[0m\u001b[0;34m(\u001b[0m\u001b[0;34m*\u001b[0m\u001b[0margs\u001b[0m\u001b[0;34m,\u001b[0m \u001b[0;34m**\u001b[0m\u001b[0mkwds\u001b[0m\u001b[0;34m)\u001b[0m\u001b[0;34m\u001b[0m\u001b[0;34m\u001b[0m\u001b[0m\n\u001b[0m\u001b[1;32m    781\u001b[0m \u001b[0;34m\u001b[0m\u001b[0m\n\u001b[1;32m    782\u001b[0m       \u001b[0mnew_tracing_count\u001b[0m \u001b[0;34m=\u001b[0m \u001b[0mself\u001b[0m\u001b[0;34m.\u001b[0m\u001b[0m_get_tracing_count\u001b[0m\u001b[0;34m(\u001b[0m\u001b[0;34m)\u001b[0m\u001b[0;34m\u001b[0m\u001b[0;34m\u001b[0m\u001b[0m\n",
            "\u001b[0;32m/usr/local/lib/python3.6/dist-packages/tensorflow/python/eager/def_function.py\u001b[0m in \u001b[0;36m_call\u001b[0;34m(self, *args, **kwds)\u001b[0m\n\u001b[1;32m    805\u001b[0m       \u001b[0;31m# In this case we have created variables on the first call, so we run the\u001b[0m\u001b[0;34m\u001b[0m\u001b[0;34m\u001b[0m\u001b[0;34m\u001b[0m\u001b[0m\n\u001b[1;32m    806\u001b[0m       \u001b[0;31m# defunned version which is guaranteed to never create variables.\u001b[0m\u001b[0;34m\u001b[0m\u001b[0;34m\u001b[0m\u001b[0;34m\u001b[0m\u001b[0m\n\u001b[0;32m--> 807\u001b[0;31m       \u001b[0;32mreturn\u001b[0m \u001b[0mself\u001b[0m\u001b[0;34m.\u001b[0m\u001b[0m_stateless_fn\u001b[0m\u001b[0;34m(\u001b[0m\u001b[0;34m*\u001b[0m\u001b[0margs\u001b[0m\u001b[0;34m,\u001b[0m \u001b[0;34m**\u001b[0m\u001b[0mkwds\u001b[0m\u001b[0;34m)\u001b[0m  \u001b[0;31m# pylint: disable=not-callable\u001b[0m\u001b[0;34m\u001b[0m\u001b[0;34m\u001b[0m\u001b[0m\n\u001b[0m\u001b[1;32m    808\u001b[0m     \u001b[0;32melif\u001b[0m \u001b[0mself\u001b[0m\u001b[0;34m.\u001b[0m\u001b[0m_stateful_fn\u001b[0m \u001b[0;32mis\u001b[0m \u001b[0;32mnot\u001b[0m \u001b[0;32mNone\u001b[0m\u001b[0;34m:\u001b[0m\u001b[0;34m\u001b[0m\u001b[0;34m\u001b[0m\u001b[0m\n\u001b[1;32m    809\u001b[0m       \u001b[0;31m# Release the lock early so that multiple threads can perform the call\u001b[0m\u001b[0;34m\u001b[0m\u001b[0;34m\u001b[0m\u001b[0;34m\u001b[0m\u001b[0m\n",
            "\u001b[0;32m/usr/local/lib/python3.6/dist-packages/tensorflow/python/eager/function.py\u001b[0m in \u001b[0;36m__call__\u001b[0;34m(self, *args, **kwargs)\u001b[0m\n\u001b[1;32m   2827\u001b[0m     \u001b[0;32mwith\u001b[0m \u001b[0mself\u001b[0m\u001b[0;34m.\u001b[0m\u001b[0m_lock\u001b[0m\u001b[0;34m:\u001b[0m\u001b[0;34m\u001b[0m\u001b[0;34m\u001b[0m\u001b[0m\n\u001b[1;32m   2828\u001b[0m       \u001b[0mgraph_function\u001b[0m\u001b[0;34m,\u001b[0m \u001b[0margs\u001b[0m\u001b[0;34m,\u001b[0m \u001b[0mkwargs\u001b[0m \u001b[0;34m=\u001b[0m \u001b[0mself\u001b[0m\u001b[0;34m.\u001b[0m\u001b[0m_maybe_define_function\u001b[0m\u001b[0;34m(\u001b[0m\u001b[0margs\u001b[0m\u001b[0;34m,\u001b[0m \u001b[0mkwargs\u001b[0m\u001b[0;34m)\u001b[0m\u001b[0;34m\u001b[0m\u001b[0;34m\u001b[0m\u001b[0m\n\u001b[0;32m-> 2829\u001b[0;31m     \u001b[0;32mreturn\u001b[0m \u001b[0mgraph_function\u001b[0m\u001b[0;34m.\u001b[0m\u001b[0m_filtered_call\u001b[0m\u001b[0;34m(\u001b[0m\u001b[0margs\u001b[0m\u001b[0;34m,\u001b[0m \u001b[0mkwargs\u001b[0m\u001b[0;34m)\u001b[0m  \u001b[0;31m# pylint: disable=protected-access\u001b[0m\u001b[0;34m\u001b[0m\u001b[0;34m\u001b[0m\u001b[0m\n\u001b[0m\u001b[1;32m   2830\u001b[0m \u001b[0;34m\u001b[0m\u001b[0m\n\u001b[1;32m   2831\u001b[0m   \u001b[0;34m@\u001b[0m\u001b[0mproperty\u001b[0m\u001b[0;34m\u001b[0m\u001b[0;34m\u001b[0m\u001b[0m\n",
            "\u001b[0;32m/usr/local/lib/python3.6/dist-packages/tensorflow/python/eager/function.py\u001b[0m in \u001b[0;36m_filtered_call\u001b[0;34m(self, args, kwargs, cancellation_manager)\u001b[0m\n\u001b[1;32m   1846\u001b[0m                            resource_variable_ops.BaseResourceVariable))],\n\u001b[1;32m   1847\u001b[0m         \u001b[0mcaptured_inputs\u001b[0m\u001b[0;34m=\u001b[0m\u001b[0mself\u001b[0m\u001b[0;34m.\u001b[0m\u001b[0mcaptured_inputs\u001b[0m\u001b[0;34m,\u001b[0m\u001b[0;34m\u001b[0m\u001b[0;34m\u001b[0m\u001b[0m\n\u001b[0;32m-> 1848\u001b[0;31m         cancellation_manager=cancellation_manager)\n\u001b[0m\u001b[1;32m   1849\u001b[0m \u001b[0;34m\u001b[0m\u001b[0m\n\u001b[1;32m   1850\u001b[0m   \u001b[0;32mdef\u001b[0m \u001b[0m_call_flat\u001b[0m\u001b[0;34m(\u001b[0m\u001b[0mself\u001b[0m\u001b[0;34m,\u001b[0m \u001b[0margs\u001b[0m\u001b[0;34m,\u001b[0m \u001b[0mcaptured_inputs\u001b[0m\u001b[0;34m,\u001b[0m \u001b[0mcancellation_manager\u001b[0m\u001b[0;34m=\u001b[0m\u001b[0;32mNone\u001b[0m\u001b[0;34m)\u001b[0m\u001b[0;34m:\u001b[0m\u001b[0;34m\u001b[0m\u001b[0;34m\u001b[0m\u001b[0m\n",
            "\u001b[0;32m/usr/local/lib/python3.6/dist-packages/tensorflow/python/eager/function.py\u001b[0m in \u001b[0;36m_call_flat\u001b[0;34m(self, args, captured_inputs, cancellation_manager)\u001b[0m\n\u001b[1;32m   1922\u001b[0m       \u001b[0;31m# No tape is watching; skip to running the function.\u001b[0m\u001b[0;34m\u001b[0m\u001b[0;34m\u001b[0m\u001b[0;34m\u001b[0m\u001b[0m\n\u001b[1;32m   1923\u001b[0m       return self._build_call_outputs(self._inference_function.call(\n\u001b[0;32m-> 1924\u001b[0;31m           ctx, args, cancellation_manager=cancellation_manager))\n\u001b[0m\u001b[1;32m   1925\u001b[0m     forward_backward = self._select_forward_and_backward_functions(\n\u001b[1;32m   1926\u001b[0m         \u001b[0margs\u001b[0m\u001b[0;34m,\u001b[0m\u001b[0;34m\u001b[0m\u001b[0;34m\u001b[0m\u001b[0m\n",
            "\u001b[0;32m/usr/local/lib/python3.6/dist-packages/tensorflow/python/eager/function.py\u001b[0m in \u001b[0;36mcall\u001b[0;34m(self, ctx, args, cancellation_manager)\u001b[0m\n\u001b[1;32m    548\u001b[0m               \u001b[0minputs\u001b[0m\u001b[0;34m=\u001b[0m\u001b[0margs\u001b[0m\u001b[0;34m,\u001b[0m\u001b[0;34m\u001b[0m\u001b[0;34m\u001b[0m\u001b[0m\n\u001b[1;32m    549\u001b[0m               \u001b[0mattrs\u001b[0m\u001b[0;34m=\u001b[0m\u001b[0mattrs\u001b[0m\u001b[0;34m,\u001b[0m\u001b[0;34m\u001b[0m\u001b[0;34m\u001b[0m\u001b[0m\n\u001b[0;32m--> 550\u001b[0;31m               ctx=ctx)\n\u001b[0m\u001b[1;32m    551\u001b[0m         \u001b[0;32melse\u001b[0m\u001b[0;34m:\u001b[0m\u001b[0;34m\u001b[0m\u001b[0;34m\u001b[0m\u001b[0m\n\u001b[1;32m    552\u001b[0m           outputs = execute.execute_with_cancellation(\n",
            "\u001b[0;32m/usr/local/lib/python3.6/dist-packages/tensorflow/python/eager/execute.py\u001b[0m in \u001b[0;36mquick_execute\u001b[0;34m(op_name, num_outputs, inputs, attrs, ctx, name)\u001b[0m\n\u001b[1;32m     58\u001b[0m     \u001b[0mctx\u001b[0m\u001b[0;34m.\u001b[0m\u001b[0mensure_initialized\u001b[0m\u001b[0;34m(\u001b[0m\u001b[0;34m)\u001b[0m\u001b[0;34m\u001b[0m\u001b[0;34m\u001b[0m\u001b[0m\n\u001b[1;32m     59\u001b[0m     tensors = pywrap_tfe.TFE_Py_Execute(ctx._handle, device_name, op_name,\n\u001b[0;32m---> 60\u001b[0;31m                                         inputs, attrs, num_outputs)\n\u001b[0m\u001b[1;32m     61\u001b[0m   \u001b[0;32mexcept\u001b[0m \u001b[0mcore\u001b[0m\u001b[0;34m.\u001b[0m\u001b[0m_NotOkStatusException\u001b[0m \u001b[0;32mas\u001b[0m \u001b[0me\u001b[0m\u001b[0;34m:\u001b[0m\u001b[0;34m\u001b[0m\u001b[0;34m\u001b[0m\u001b[0m\n\u001b[1;32m     62\u001b[0m     \u001b[0;32mif\u001b[0m \u001b[0mname\u001b[0m \u001b[0;32mis\u001b[0m \u001b[0;32mnot\u001b[0m \u001b[0;32mNone\u001b[0m\u001b[0;34m:\u001b[0m\u001b[0;34m\u001b[0m\u001b[0;34m\u001b[0m\u001b[0m\n",
            "\u001b[0;31mKeyboardInterrupt\u001b[0m: "
          ]
        }
      ]
    },
    {
      "cell_type": "markdown",
      "metadata": {
        "id": "VIkG9uautpuI"
      },
      "source": [
        "#### Hyperparameter Tuning"
      ]
    },
    {
      "cell_type": "code",
      "metadata": {
        "colab": {
          "base_uri": "https://localhost:8080/"
        },
        "id": "-rtfABLEoJqf",
        "outputId": "5bdc9c81-8bcc-4493-83c5-ad4b441e977d"
      },
      "source": [
        "from tensorflow.keras.wrappers.scikit_learn import KerasRegressor\n",
        "from tensorflow.keras.optimizers import Adam\n",
        "from sklearn.model_selection import GridSearchCV\n",
        "\n",
        "# Function to create model, required for KerasRegressor\n",
        "def create_model(lr=0.001):\n",
        "\n",
        "    # Define Adam optimizer\n",
        "    opt = Adam(learning_rate=lr)\n",
        "\n",
        "    # inputs\n",
        "    inputs = X_train_scaled.shape[1]\n",
        "\n",
        "    # Create Model\n",
        "    model = Sequential()\n",
        "    model.add(Dense(64, activation='sigmoid', input_shape=(inputs,)))\n",
        "    model.add(Dense(64, activation='sigmoid'))\n",
        "    model.add(Dense(1))\n",
        "    \n",
        "    # Compile Model\n",
        "    model.compile(optimizer=opt, loss='mae', metrics=['mae'])\n",
        "    return model\n",
        "\n",
        "# Create model\n",
        "model2 = KerasRegressor(build_fn=create_model, verbose=0)\n",
        "\n",
        "# define the grid search parameters\n",
        "param_grid = {'lr': [0.01, 0.05, 0.1, 0.25],\n",
        "              'batch_size': [8, 16],\n",
        "              'epochs': [7]}\n",
        "\n",
        "# Create Grid Search\n",
        "grid = GridSearchCV(estimator=model2, param_grid=param_grid, n_jobs=1)\n",
        "grid_result = grid.fit(X_train_scaled, y_train)\n",
        "\n",
        "# Report Results\n",
        "print(f\"Best: {-grid_result.best_score_} using {grid_result.best_params_}\")\n",
        "means = -grid_result.cv_results_['mean_test_score']\n",
        "stds = grid_result.cv_results_['std_test_score']\n",
        "params = grid_result.cv_results_['params']\n",
        "for mean, stdev, param in zip(means, stds, params):\n",
        "    print(f\"Means: {mean}, Stdev: {stdev} with: {param}\") "
      ],
      "execution_count": null,
      "outputs": [
        {
          "output_type": "stream",
          "text": [
            "Best: 122.19459838867188 using {'batch_size': 8, 'epochs': 7, 'lr': 0.01}\n",
            "Means: 122.19459838867188, Stdev: 1.6522169202616936 with: {'batch_size': 8, 'epochs': 7, 'lr': 0.01}\n",
            "Means: 128.2876968383789, Stdev: 1.4233517234070934 with: {'batch_size': 8, 'epochs': 7, 'lr': 0.05}\n",
            "Means: 130.25276794433594, Stdev: 1.4270024316948446 with: {'batch_size': 8, 'epochs': 7, 'lr': 0.1}\n",
            "Means: 145.03925476074218, Stdev: 1.9787988610756149 with: {'batch_size': 8, 'epochs': 7, 'lr': 0.25}\n",
            "Means: 122.36755065917968, Stdev: 1.7005840046298697 with: {'batch_size': 16, 'epochs': 7, 'lr': 0.01}\n",
            "Means: 127.41482543945312, Stdev: 1.8335407527648022 with: {'batch_size': 16, 'epochs': 7, 'lr': 0.05}\n",
            "Means: 130.47513580322266, Stdev: 2.57355448847268 with: {'batch_size': 16, 'epochs': 7, 'lr': 0.1}\n",
            "Means: 144.88843994140626, Stdev: 1.8624589735961385 with: {'batch_size': 16, 'epochs': 7, 'lr': 0.25}\n"
          ],
          "name": "stdout"
        }
      ]
    },
    {
      "cell_type": "markdown",
      "metadata": {
        "id": "6bzJbP3GuJOW"
      },
      "source": [
        "## Selecting only user input features"
      ]
    },
    {
      "cell_type": "code",
      "metadata": {
        "id": "5a5WB4jGuXmN",
        "outputId": "33846fb3-1304-41e7-b8bb-a75bf0e08e8f",
        "colab": {
          "base_uri": "https://localhost:8080/",
          "height": 343
        }
      },
      "source": [
        "df.head()"
      ],
      "execution_count": 28,
      "outputs": [
        {
          "output_type": "execute_result",
          "data": {
            "text/html": [
              "<div>\n",
              "<style scoped>\n",
              "    .dataframe tbody tr th:only-of-type {\n",
              "        vertical-align: middle;\n",
              "    }\n",
              "\n",
              "    .dataframe tbody tr th {\n",
              "        vertical-align: top;\n",
              "    }\n",
              "\n",
              "    .dataframe thead th {\n",
              "        text-align: right;\n",
              "    }\n",
              "</style>\n",
              "<table border=\"1\" class=\"dataframe\">\n",
              "  <thead>\n",
              "    <tr style=\"text-align: right;\">\n",
              "      <th></th>\n",
              "      <th>id</th>\n",
              "      <th>name</th>\n",
              "      <th>host_id</th>\n",
              "      <th>host_name</th>\n",
              "      <th>neighbourhood_group</th>\n",
              "      <th>neighbourhood</th>\n",
              "      <th>latitude</th>\n",
              "      <th>longitude</th>\n",
              "      <th>room_type</th>\n",
              "      <th>price</th>\n",
              "      <th>minimum_nights</th>\n",
              "      <th>number_of_reviews</th>\n",
              "      <th>last_review</th>\n",
              "      <th>reviews_per_month</th>\n",
              "      <th>calculated_host_listings_count</th>\n",
              "      <th>availability_365</th>\n",
              "      <th>city</th>\n",
              "    </tr>\n",
              "  </thead>\n",
              "  <tbody>\n",
              "    <tr>\n",
              "      <th>0</th>\n",
              "      <td>38585</td>\n",
              "      <td>Charming Victorian home - twin beds + breakfast</td>\n",
              "      <td>165529</td>\n",
              "      <td>Evelyne</td>\n",
              "      <td>NaN</td>\n",
              "      <td>28804</td>\n",
              "      <td>35.65146</td>\n",
              "      <td>-82.62792</td>\n",
              "      <td>Private room</td>\n",
              "      <td>60</td>\n",
              "      <td>1</td>\n",
              "      <td>138</td>\n",
              "      <td>16/02/20</td>\n",
              "      <td>1.14</td>\n",
              "      <td>1</td>\n",
              "      <td>0</td>\n",
              "      <td>Asheville</td>\n",
              "    </tr>\n",
              "    <tr>\n",
              "      <th>1</th>\n",
              "      <td>80905</td>\n",
              "      <td>French Chic Loft</td>\n",
              "      <td>427027</td>\n",
              "      <td>Celeste</td>\n",
              "      <td>NaN</td>\n",
              "      <td>28801</td>\n",
              "      <td>35.59779</td>\n",
              "      <td>-82.55540</td>\n",
              "      <td>Entire home/apt</td>\n",
              "      <td>470</td>\n",
              "      <td>1</td>\n",
              "      <td>114</td>\n",
              "      <td>07/09/20</td>\n",
              "      <td>1.03</td>\n",
              "      <td>11</td>\n",
              "      <td>288</td>\n",
              "      <td>Asheville</td>\n",
              "    </tr>\n",
              "    <tr>\n",
              "      <th>2</th>\n",
              "      <td>108061</td>\n",
              "      <td>Walk to stores/parks/downtown. Fenced yard/Pet...</td>\n",
              "      <td>320564</td>\n",
              "      <td>Lisa</td>\n",
              "      <td>NaN</td>\n",
              "      <td>28801</td>\n",
              "      <td>35.60670</td>\n",
              "      <td>-82.55563</td>\n",
              "      <td>Entire home/apt</td>\n",
              "      <td>75</td>\n",
              "      <td>30</td>\n",
              "      <td>89</td>\n",
              "      <td>30/11/19</td>\n",
              "      <td>0.81</td>\n",
              "      <td>2</td>\n",
              "      <td>298</td>\n",
              "      <td>Asheville</td>\n",
              "    </tr>\n",
              "    <tr>\n",
              "      <th>3</th>\n",
              "      <td>155305</td>\n",
              "      <td>Cottage! BonPaul + Sharky's Hostel</td>\n",
              "      <td>746673</td>\n",
              "      <td>BonPaul</td>\n",
              "      <td>NaN</td>\n",
              "      <td>28806</td>\n",
              "      <td>35.57864</td>\n",
              "      <td>-82.59578</td>\n",
              "      <td>Entire home/apt</td>\n",
              "      <td>90</td>\n",
              "      <td>1</td>\n",
              "      <td>267</td>\n",
              "      <td>22/09/20</td>\n",
              "      <td>2.39</td>\n",
              "      <td>5</td>\n",
              "      <td>0</td>\n",
              "      <td>Asheville</td>\n",
              "    </tr>\n",
              "    <tr>\n",
              "      <th>4</th>\n",
              "      <td>160594</td>\n",
              "      <td>Historic Grove Park</td>\n",
              "      <td>769252</td>\n",
              "      <td>Elizabeth</td>\n",
              "      <td>NaN</td>\n",
              "      <td>28801</td>\n",
              "      <td>35.61442</td>\n",
              "      <td>-82.54127</td>\n",
              "      <td>Private room</td>\n",
              "      <td>125</td>\n",
              "      <td>30</td>\n",
              "      <td>58</td>\n",
              "      <td>19/10/15</td>\n",
              "      <td>0.52</td>\n",
              "      <td>1</td>\n",
              "      <td>0</td>\n",
              "      <td>Asheville</td>\n",
              "    </tr>\n",
              "  </tbody>\n",
              "</table>\n",
              "</div>"
            ],
            "text/plain": [
              "       id  ...       city\n",
              "0   38585  ...  Asheville\n",
              "1   80905  ...  Asheville\n",
              "2  108061  ...  Asheville\n",
              "3  155305  ...  Asheville\n",
              "4  160594  ...  Asheville\n",
              "\n",
              "[5 rows x 17 columns]"
            ]
          },
          "metadata": {
            "tags": []
          },
          "execution_count": 28
        }
      ]
    },
    {
      "cell_type": "code",
      "metadata": {
        "id": "WchPmIW8ueZz",
        "outputId": "890aec6f-b4b8-48f7-e9bc-5aa0eef66798",
        "colab": {
          "base_uri": "https://localhost:8080/",
          "height": 204
        }
      },
      "source": [
        "# select only features that the user could be asked about\n",
        "df_user = df[['latitude','longitude','room_type','minimum_nights','price']]\n",
        "df_user.head()"
      ],
      "execution_count": 30,
      "outputs": [
        {
          "output_type": "execute_result",
          "data": {
            "text/html": [
              "<div>\n",
              "<style scoped>\n",
              "    .dataframe tbody tr th:only-of-type {\n",
              "        vertical-align: middle;\n",
              "    }\n",
              "\n",
              "    .dataframe tbody tr th {\n",
              "        vertical-align: top;\n",
              "    }\n",
              "\n",
              "    .dataframe thead th {\n",
              "        text-align: right;\n",
              "    }\n",
              "</style>\n",
              "<table border=\"1\" class=\"dataframe\">\n",
              "  <thead>\n",
              "    <tr style=\"text-align: right;\">\n",
              "      <th></th>\n",
              "      <th>latitude</th>\n",
              "      <th>longitude</th>\n",
              "      <th>room_type</th>\n",
              "      <th>minimum_nights</th>\n",
              "      <th>price</th>\n",
              "    </tr>\n",
              "  </thead>\n",
              "  <tbody>\n",
              "    <tr>\n",
              "      <th>0</th>\n",
              "      <td>35.65146</td>\n",
              "      <td>-82.62792</td>\n",
              "      <td>Private room</td>\n",
              "      <td>1</td>\n",
              "      <td>60</td>\n",
              "    </tr>\n",
              "    <tr>\n",
              "      <th>1</th>\n",
              "      <td>35.59779</td>\n",
              "      <td>-82.55540</td>\n",
              "      <td>Entire home/apt</td>\n",
              "      <td>1</td>\n",
              "      <td>470</td>\n",
              "    </tr>\n",
              "    <tr>\n",
              "      <th>2</th>\n",
              "      <td>35.60670</td>\n",
              "      <td>-82.55563</td>\n",
              "      <td>Entire home/apt</td>\n",
              "      <td>30</td>\n",
              "      <td>75</td>\n",
              "    </tr>\n",
              "    <tr>\n",
              "      <th>3</th>\n",
              "      <td>35.57864</td>\n",
              "      <td>-82.59578</td>\n",
              "      <td>Entire home/apt</td>\n",
              "      <td>1</td>\n",
              "      <td>90</td>\n",
              "    </tr>\n",
              "    <tr>\n",
              "      <th>4</th>\n",
              "      <td>35.61442</td>\n",
              "      <td>-82.54127</td>\n",
              "      <td>Private room</td>\n",
              "      <td>30</td>\n",
              "      <td>125</td>\n",
              "    </tr>\n",
              "  </tbody>\n",
              "</table>\n",
              "</div>"
            ],
            "text/plain": [
              "   latitude  longitude        room_type  minimum_nights  price\n",
              "0  35.65146  -82.62792     Private room               1     60\n",
              "1  35.59779  -82.55540  Entire home/apt               1    470\n",
              "2  35.60670  -82.55563  Entire home/apt              30     75\n",
              "3  35.57864  -82.59578  Entire home/apt               1     90\n",
              "4  35.61442  -82.54127     Private room              30    125"
            ]
          },
          "metadata": {
            "tags": []
          },
          "execution_count": 30
        }
      ]
    },
    {
      "cell_type": "code",
      "metadata": {
        "id": "J_s3DH8Tvlpt"
      },
      "source": [
        "# split the data into a training set and a validation set\n",
        "train, val = train_test_split(df_user, train_size=0.80, test_size=0.20,random_state=42)\n",
        "\n",
        "# set an X and y for train and val\n",
        "target = 'price'\n",
        "X_train = train.drop(columns=target)\n",
        "y_train = train[target]\n",
        "X_val = val.drop(columns=target)\n",
        "y_val = val[target]"
      ],
      "execution_count": 31,
      "outputs": []
    },
    {
      "cell_type": "code",
      "metadata": {
        "id": "d-Qb7DLcwUQN",
        "outputId": "22bb5e5c-0065-41e2-aadf-7a7f03227b96",
        "colab": {
          "base_uri": "https://localhost:8080/"
        }
      },
      "source": [
        "# train a random forest regressor\n",
        "pipeline = make_pipeline(\n",
        "    ce.OrdinalEncoder(),\n",
        "    RandomForestRegressor(n_estimators=50, criterion=\"mse\", max_depth=3, random_state=42,n_jobs=-1)\n",
        ")\n",
        "# fit the data on train and score the data on val\n",
        "pipeline.fit(X_train,y_train)"
      ],
      "execution_count": 34,
      "outputs": [
        {
          "output_type": "execute_result",
          "data": {
            "text/plain": [
              "Pipeline(memory=None,\n",
              "         steps=[('ordinalencoder',\n",
              "                 OrdinalEncoder(cols=['room_type'], drop_invariant=False,\n",
              "                                handle_missing='value', handle_unknown='value',\n",
              "                                mapping=[{'col': 'room_type',\n",
              "                                          'data_type': dtype('O'),\n",
              "                                          'mapping': Entire home/apt    1\n",
              "Private room       2\n",
              "Shared room        3\n",
              "Hotel room         4\n",
              "NaN               -2\n",
              "dtype: int64}],\n",
              "                                return_df=True, verbose=0)),\n",
              "                ('randomforestregressor',\n",
              "                 RandomForestRegressor(bootstrap=True, ccp_alpha=0.0,\n",
              "                                       criterion='mse', max_depth=3,\n",
              "                                       max_features='auto', max_leaf_nodes=None,\n",
              "                                       max_samples=None,\n",
              "                                       min_impurity_decrease=0.0,\n",
              "                                       min_impurity_split=None,\n",
              "                                       min_samples_leaf=1, min_samples_split=2,\n",
              "                                       min_weight_fraction_leaf=0.0,\n",
              "                                       n_estimators=50, n_jobs=-1,\n",
              "                                       oob_score=False, random_state=42,\n",
              "                                       verbose=0, warm_start=False))],\n",
              "         verbose=False)"
            ]
          },
          "metadata": {
            "tags": []
          },
          "execution_count": 34
        }
      ]
    },
    {
      "cell_type": "code",
      "metadata": {
        "id": "CYHr1nWjwjRI",
        "outputId": "5a721588-fb6f-48e5-fb9e-d1c1a0d48e7b",
        "colab": {
          "base_uri": "https://localhost:8080/"
        }
      },
      "source": [
        "pred = pipeline.predict(X_val)\n",
        "print(\"R2 Score:\", r2_score(y_val,pred))\n",
        "print(\"Mean Squared Error:\", mean_squared_error(y_val,pred))\n",
        "print(\"Mean Absolute Error:\", mean_absolute_error(y_val,pred))"
      ],
      "execution_count": 35,
      "outputs": [
        {
          "output_type": "stream",
          "text": [
            "R2 Score: 0.02974147483031575\n",
            "Mean Squared Error: 353241.80913305917\n",
            "Mean Absolute Error: 163.54656554347503\n"
          ],
          "name": "stdout"
        }
      ]
    },
    {
      "cell_type": "code",
      "metadata": {
        "id": "x5UkqV9FwniC",
        "outputId": "00c6b1bf-d123-455c-ea2e-3d09fe8186e2",
        "colab": {
          "base_uri": "https://localhost:8080/",
          "height": 173
        }
      },
      "source": [
        "rf = pipeline.named_steps['randomforestregressor']\n",
        "importances = pd.Series(rf.feature_importances_, X_train.columns)\n",
        "\n",
        "n = 4\n",
        "plt.figure(figsize=(10,n/2))\n",
        "plt.title(f'Top {n} Features')\n",
        "importances.sort_values()[-n:].plot.barh(color='green');"
      ],
      "execution_count": 37,
      "outputs": [
        {
          "output_type": "display_data",
          "data": {
            "image/png": "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\n",
            "text/plain": [
              "<Figure size 720x144 with 1 Axes>"
            ]
          },
          "metadata": {
            "tags": [],
            "needs_background": "light"
          }
        }
      ]
    }
  ]
=======
  {
   "cell_type": "code",
   "execution_count": 194,
   "metadata": {},
   "outputs": [],
   "source": [
    "# dropped the irrelevant columns and created new dataframe\n",
    "new_df = df.drop(['host_name','host_id','neighbourhood_group','neighbourhood','last_review'], axis=1)"
   ]
  },
  {
   "cell_type": "code",
   "execution_count": 195,
   "metadata": {},
   "outputs": [
    {
     "output_type": "execute_result",
     "data": {
      "text/plain": [
       "       id                                               name  latitude  \\\n",
       "0   38585    Charming Victorian home - twin beds + breakfast  35.65146   \n",
       "1   80905                                   French Chic Loft  35.59779   \n",
       "2  108061  Walk to stores/parks/downtown. Fenced yard/Pet...  35.60670   \n",
       "3  155305                 Cottage! BonPaul + Sharky's Hostel  35.57864   \n",
       "4  160594                                Historic Grove Park  35.61442   \n",
       "\n",
       "   longitude        room_type  price  minimum_nights  number_of_reviews  \\\n",
       "0  -82.62792     Private room     60               1                138   \n",
       "1  -82.55540  Entire home/apt    470               1                114   \n",
       "2  -82.55563  Entire home/apt     75              30                 89   \n",
       "3  -82.59578  Entire home/apt     90               1                267   \n",
       "4  -82.54127     Private room    125              30                 58   \n",
       "\n",
       "   reviews_per_month  calculated_host_listings_count  availability_365  \\\n",
       "0               1.14                               1                 0   \n",
       "1               1.03                              11               288   \n",
       "2               0.81                               2               298   \n",
       "3               2.39                               5                 0   \n",
       "4               0.52                               1                 0   \n",
       "\n",
       "        city  \n",
       "0  Asheville  \n",
       "1  Asheville  \n",
       "2  Asheville  \n",
       "3  Asheville  \n",
       "4  Asheville  "
      ],
      "text/html": "<div>\n<style scoped>\n    .dataframe tbody tr th:only-of-type {\n        vertical-align: middle;\n    }\n\n    .dataframe tbody tr th {\n        vertical-align: top;\n    }\n\n    .dataframe thead th {\n        text-align: right;\n    }\n</style>\n<table border=\"1\" class=\"dataframe\">\n  <thead>\n    <tr style=\"text-align: right;\">\n      <th></th>\n      <th>id</th>\n      <th>name</th>\n      <th>latitude</th>\n      <th>longitude</th>\n      <th>room_type</th>\n      <th>price</th>\n      <th>minimum_nights</th>\n      <th>number_of_reviews</th>\n      <th>reviews_per_month</th>\n      <th>calculated_host_listings_count</th>\n      <th>availability_365</th>\n      <th>city</th>\n    </tr>\n  </thead>\n  <tbody>\n    <tr>\n      <td>0</td>\n      <td>38585</td>\n      <td>Charming Victorian home - twin beds + breakfast</td>\n      <td>35.65146</td>\n      <td>-82.62792</td>\n      <td>Private room</td>\n      <td>60</td>\n      <td>1</td>\n      <td>138</td>\n      <td>1.14</td>\n      <td>1</td>\n      <td>0</td>\n      <td>Asheville</td>\n    </tr>\n    <tr>\n      <td>1</td>\n      <td>80905</td>\n      <td>French Chic Loft</td>\n      <td>35.59779</td>\n      <td>-82.55540</td>\n      <td>Entire home/apt</td>\n      <td>470</td>\n      <td>1</td>\n      <td>114</td>\n      <td>1.03</td>\n      <td>11</td>\n      <td>288</td>\n      <td>Asheville</td>\n    </tr>\n    <tr>\n      <td>2</td>\n      <td>108061</td>\n      <td>Walk to stores/parks/downtown. Fenced yard/Pet...</td>\n      <td>35.60670</td>\n      <td>-82.55563</td>\n      <td>Entire home/apt</td>\n      <td>75</td>\n      <td>30</td>\n      <td>89</td>\n      <td>0.81</td>\n      <td>2</td>\n      <td>298</td>\n      <td>Asheville</td>\n    </tr>\n    <tr>\n      <td>3</td>\n      <td>155305</td>\n      <td>Cottage! BonPaul + Sharky's Hostel</td>\n      <td>35.57864</td>\n      <td>-82.59578</td>\n      <td>Entire home/apt</td>\n      <td>90</td>\n      <td>1</td>\n      <td>267</td>\n      <td>2.39</td>\n      <td>5</td>\n      <td>0</td>\n      <td>Asheville</td>\n    </tr>\n    <tr>\n      <td>4</td>\n      <td>160594</td>\n      <td>Historic Grove Park</td>\n      <td>35.61442</td>\n      <td>-82.54127</td>\n      <td>Private room</td>\n      <td>125</td>\n      <td>30</td>\n      <td>58</td>\n      <td>0.52</td>\n      <td>1</td>\n      <td>0</td>\n      <td>Asheville</td>\n    </tr>\n  </tbody>\n</table>\n</div>"
     },
     "metadata": {},
     "execution_count": 195
    }
   ],
   "source": [
    "# first 5 rows of new dataset\n",
    "new_df.head()"
   ]
  },
  {
   "cell_type": "code",
   "execution_count": 196,
   "metadata": {},
   "outputs": [],
   "source": [
    "# replacing NaN values for the reviews_per_month column\n",
    "new_df['reviews_per_month'] = new_df['reviews_per_month'].fillna(0)\n"
   ]
  },
  {
   "cell_type": "code",
   "execution_count": 197,
   "metadata": {},
   "outputs": [
    {
     "output_type": "execute_result",
     "data": {
      "text/plain": [
       "0"
      ]
     },
     "metadata": {},
     "execution_count": 197
    }
   ],
   "source": [
    "# checking again the column if there is any null value but now there is no null vales\n",
    "new_df['reviews_per_month'].isnull().sum()"
   ]
  },
  {
   "cell_type": "code",
   "execution_count": 198,
   "metadata": {},
   "outputs": [
    {
     "output_type": "execute_result",
     "data": {
      "text/plain": [
       "id                                 0\n",
       "name                              28\n",
       "latitude                           0\n",
       "longitude                          0\n",
       "room_type                          0\n",
       "price                              0\n",
       "minimum_nights                     0\n",
       "number_of_reviews                  0\n",
       "reviews_per_month                  0\n",
       "calculated_host_listings_count     0\n",
       "availability_365                   0\n",
       "city                               0\n",
       "dtype: int64"
      ]
     },
     "metadata": {},
     "execution_count": 198
    }
   ],
   "source": [
    "# check all the null or missing or NaN values\n",
    "new_df.isnull().sum()"
   ]
  },
  {
   "cell_type": "code",
   "execution_count": 199,
   "metadata": {},
   "outputs": [
    {
     "output_type": "execute_result",
     "data": {
      "text/plain": [
       "              id name  latitude  longitude        room_type  price  \\\n",
       "23691   39717529  NaN  26.28332  -80.10731  Entire home/apt     79   \n",
       "81872   17108083  NaN  34.17216 -118.11699     Private room    125   \n",
       "93004   33877948  NaN  34.41328 -118.44301     Private room     40   \n",
       "119475   1615764  NaN  40.71239  -74.01620  Entire home/apt    400   \n",
       "120149   2232600  NaN  40.73215  -73.98821  Entire home/apt    200   \n",
       "\n",
       "        minimum_nights  number_of_reviews  reviews_per_month  \\\n",
       "23691                2                 16               2.23   \n",
       "81872                2                  0               0.00   \n",
       "93004                1                 10               0.64   \n",
       "119475            1000                  0               0.00   \n",
       "120149               1                 28               0.37   \n",
       "\n",
       "        calculated_host_listings_count  availability_365            city  \n",
       "23691                                2               136  Broward County  \n",
       "81872                                1               179     Los Angeles  \n",
       "93004                                1               129     Los Angeles  \n",
       "119475                               1               362   New York City  \n",
       "120149                               1               364   New York City  "
      ],
      "text/html": "<div>\n<style scoped>\n    .dataframe tbody tr th:only-of-type {\n        vertical-align: middle;\n    }\n\n    .dataframe tbody tr th {\n        vertical-align: top;\n    }\n\n    .dataframe thead th {\n        text-align: right;\n    }\n</style>\n<table border=\"1\" class=\"dataframe\">\n  <thead>\n    <tr style=\"text-align: right;\">\n      <th></th>\n      <th>id</th>\n      <th>name</th>\n      <th>latitude</th>\n      <th>longitude</th>\n      <th>room_type</th>\n      <th>price</th>\n      <th>minimum_nights</th>\n      <th>number_of_reviews</th>\n      <th>reviews_per_month</th>\n      <th>calculated_host_listings_count</th>\n      <th>availability_365</th>\n      <th>city</th>\n    </tr>\n  </thead>\n  <tbody>\n    <tr>\n      <td>23691</td>\n      <td>39717529</td>\n      <td>NaN</td>\n      <td>26.28332</td>\n      <td>-80.10731</td>\n      <td>Entire home/apt</td>\n      <td>79</td>\n      <td>2</td>\n      <td>16</td>\n      <td>2.23</td>\n      <td>2</td>\n      <td>136</td>\n      <td>Broward County</td>\n    </tr>\n    <tr>\n      <td>81872</td>\n      <td>17108083</td>\n      <td>NaN</td>\n      <td>34.17216</td>\n      <td>-118.11699</td>\n      <td>Private room</td>\n      <td>125</td>\n      <td>2</td>\n      <td>0</td>\n      <td>0.00</td>\n      <td>1</td>\n      <td>179</td>\n      <td>Los Angeles</td>\n    </tr>\n    <tr>\n      <td>93004</td>\n      <td>33877948</td>\n      <td>NaN</td>\n      <td>34.41328</td>\n      <td>-118.44301</td>\n      <td>Private room</td>\n      <td>40</td>\n      <td>1</td>\n      <td>10</td>\n      <td>0.64</td>\n      <td>1</td>\n      <td>129</td>\n      <td>Los Angeles</td>\n    </tr>\n    <tr>\n      <td>119475</td>\n      <td>1615764</td>\n      <td>NaN</td>\n      <td>40.71239</td>\n      <td>-74.01620</td>\n      <td>Entire home/apt</td>\n      <td>400</td>\n      <td>1000</td>\n      <td>0</td>\n      <td>0.00</td>\n      <td>1</td>\n      <td>362</td>\n      <td>New York City</td>\n    </tr>\n    <tr>\n      <td>120149</td>\n      <td>2232600</td>\n      <td>NaN</td>\n      <td>40.73215</td>\n      <td>-73.98821</td>\n      <td>Entire home/apt</td>\n      <td>200</td>\n      <td>1</td>\n      <td>28</td>\n      <td>0.37</td>\n      <td>1</td>\n      <td>364</td>\n      <td>New York City</td>\n    </tr>\n  </tbody>\n</table>\n</div>"
     },
     "metadata": {},
     "execution_count": 199
    }
   ],
   "source": [
    "# To find null values in the name column\n",
    "new_df[new_df['name'].isnull()].head()\n"
   ]
  },
  {
   "cell_type": "code",
   "execution_count": 200,
   "metadata": {},
   "outputs": [],
   "source": [
    "# replacing NaN values with no_name\n",
    "new_df['name'].fillna('no_name', inplace = True) "
   ]
  },
  {
   "cell_type": "code",
   "execution_count": 201,
   "metadata": {},
   "outputs": [
    {
     "output_type": "execute_result",
     "data": {
      "text/plain": [
       "id                                0\n",
       "name                              0\n",
       "latitude                          0\n",
       "longitude                         0\n",
       "room_type                         0\n",
       "price                             0\n",
       "minimum_nights                    0\n",
       "number_of_reviews                 0\n",
       "reviews_per_month                 0\n",
       "calculated_host_listings_count    0\n",
       "availability_365                  0\n",
       "city                              0\n",
       "dtype: int64"
      ]
     },
     "metadata": {},
     "execution_count": 201
    }
   ],
   "source": [
    "# check for null values again\n",
    "new_df.isnull().sum()"
   ]
  },
  {
   "cell_type": "code",
   "execution_count": 202,
   "metadata": {},
   "outputs": [
    {
     "output_type": "execute_result",
     "data": {
      "text/plain": [
       "       id                                               name  latitude  \\\n",
       "0   38585    Charming Victorian home - twin beds + breakfast  35.65146   \n",
       "1   80905                                   French Chic Loft  35.59779   \n",
       "2  108061  Walk to stores/parks/downtown. Fenced yard/Pet...  35.60670   \n",
       "3  155305                 Cottage! BonPaul + Sharky's Hostel  35.57864   \n",
       "4  160594                                Historic Grove Park  35.61442   \n",
       "\n",
       "   longitude        room_type  price  minimum_nights  number_of_reviews  \\\n",
       "0  -82.62792     Private room     60               1                138   \n",
       "1  -82.55540  Entire home/apt    470               1                114   \n",
       "2  -82.55563  Entire home/apt     75              30                 89   \n",
       "3  -82.59578  Entire home/apt     90               1                267   \n",
       "4  -82.54127     Private room    125              30                 58   \n",
       "\n",
       "   reviews_per_month  calculated_host_listings_count  availability_365  \\\n",
       "0               1.14                               1                 0   \n",
       "1               1.03                              11               288   \n",
       "2               0.81                               2               298   \n",
       "3               2.39                               5                 0   \n",
       "4               0.52                               1                 0   \n",
       "\n",
       "        city  \n",
       "0  Asheville  \n",
       "1  Asheville  \n",
       "2  Asheville  \n",
       "3  Asheville  \n",
       "4  Asheville  "
      ],
      "text/html": "<div>\n<style scoped>\n    .dataframe tbody tr th:only-of-type {\n        vertical-align: middle;\n    }\n\n    .dataframe tbody tr th {\n        vertical-align: top;\n    }\n\n    .dataframe thead th {\n        text-align: right;\n    }\n</style>\n<table border=\"1\" class=\"dataframe\">\n  <thead>\n    <tr style=\"text-align: right;\">\n      <th></th>\n      <th>id</th>\n      <th>name</th>\n      <th>latitude</th>\n      <th>longitude</th>\n      <th>room_type</th>\n      <th>price</th>\n      <th>minimum_nights</th>\n      <th>number_of_reviews</th>\n      <th>reviews_per_month</th>\n      <th>calculated_host_listings_count</th>\n      <th>availability_365</th>\n      <th>city</th>\n    </tr>\n  </thead>\n  <tbody>\n    <tr>\n      <td>0</td>\n      <td>38585</td>\n      <td>Charming Victorian home - twin beds + breakfast</td>\n      <td>35.65146</td>\n      <td>-82.62792</td>\n      <td>Private room</td>\n      <td>60</td>\n      <td>1</td>\n      <td>138</td>\n      <td>1.14</td>\n      <td>1</td>\n      <td>0</td>\n      <td>Asheville</td>\n    </tr>\n    <tr>\n      <td>1</td>\n      <td>80905</td>\n      <td>French Chic Loft</td>\n      <td>35.59779</td>\n      <td>-82.55540</td>\n      <td>Entire home/apt</td>\n      <td>470</td>\n      <td>1</td>\n      <td>114</td>\n      <td>1.03</td>\n      <td>11</td>\n      <td>288</td>\n      <td>Asheville</td>\n    </tr>\n    <tr>\n      <td>2</td>\n      <td>108061</td>\n      <td>Walk to stores/parks/downtown. Fenced yard/Pet...</td>\n      <td>35.60670</td>\n      <td>-82.55563</td>\n      <td>Entire home/apt</td>\n      <td>75</td>\n      <td>30</td>\n      <td>89</td>\n      <td>0.81</td>\n      <td>2</td>\n      <td>298</td>\n      <td>Asheville</td>\n    </tr>\n    <tr>\n      <td>3</td>\n      <td>155305</td>\n      <td>Cottage! BonPaul + Sharky's Hostel</td>\n      <td>35.57864</td>\n      <td>-82.59578</td>\n      <td>Entire home/apt</td>\n      <td>90</td>\n      <td>1</td>\n      <td>267</td>\n      <td>2.39</td>\n      <td>5</td>\n      <td>0</td>\n      <td>Asheville</td>\n    </tr>\n    <tr>\n      <td>4</td>\n      <td>160594</td>\n      <td>Historic Grove Park</td>\n      <td>35.61442</td>\n      <td>-82.54127</td>\n      <td>Private room</td>\n      <td>125</td>\n      <td>30</td>\n      <td>58</td>\n      <td>0.52</td>\n      <td>1</td>\n      <td>0</td>\n      <td>Asheville</td>\n    </tr>\n  </tbody>\n</table>\n</div>"
     },
     "metadata": {},
     "execution_count": 202
    }
   ],
   "source": [
    "# check the dataset again\n",
    "new_df.head()"
   ]
  },
  {
   "cell_type": "code",
   "execution_count": 203,
   "metadata": {},
   "outputs": [
    {
     "output_type": "execute_result",
     "data": {
      "text/plain": [
       "   latitude  longitude        room_type  price  minimum_nights  \\\n",
       "0  35.65146  -82.62792     Private room     60               1   \n",
       "1  35.59779  -82.55540  Entire home/apt    470               1   \n",
       "2  35.60670  -82.55563  Entire home/apt     75              30   \n",
       "3  35.57864  -82.59578  Entire home/apt     90               1   \n",
       "4  35.61442  -82.54127     Private room    125              30   \n",
       "\n",
       "   number_of_reviews  reviews_per_month  calculated_host_listings_count  \\\n",
       "0                138               1.14                               1   \n",
       "1                114               1.03                              11   \n",
       "2                 89               0.81                               2   \n",
       "3                267               2.39                               5   \n",
       "4                 58               0.52                               1   \n",
       "\n",
       "   availability_365       city  \n",
       "0                 0  Asheville  \n",
       "1               288  Asheville  \n",
       "2               298  Asheville  \n",
       "3                 0  Asheville  \n",
       "4                 0  Asheville  "
      ],
      "text/html": "<div>\n<style scoped>\n    .dataframe tbody tr th:only-of-type {\n        vertical-align: middle;\n    }\n\n    .dataframe tbody tr th {\n        vertical-align: top;\n    }\n\n    .dataframe thead th {\n        text-align: right;\n    }\n</style>\n<table border=\"1\" class=\"dataframe\">\n  <thead>\n    <tr style=\"text-align: right;\">\n      <th></th>\n      <th>latitude</th>\n      <th>longitude</th>\n      <th>room_type</th>\n      <th>price</th>\n      <th>minimum_nights</th>\n      <th>number_of_reviews</th>\n      <th>reviews_per_month</th>\n      <th>calculated_host_listings_count</th>\n      <th>availability_365</th>\n      <th>city</th>\n    </tr>\n  </thead>\n  <tbody>\n    <tr>\n      <td>0</td>\n      <td>35.65146</td>\n      <td>-82.62792</td>\n      <td>Private room</td>\n      <td>60</td>\n      <td>1</td>\n      <td>138</td>\n      <td>1.14</td>\n      <td>1</td>\n      <td>0</td>\n      <td>Asheville</td>\n    </tr>\n    <tr>\n      <td>1</td>\n      <td>35.59779</td>\n      <td>-82.55540</td>\n      <td>Entire home/apt</td>\n      <td>470</td>\n      <td>1</td>\n      <td>114</td>\n      <td>1.03</td>\n      <td>11</td>\n      <td>288</td>\n      <td>Asheville</td>\n    </tr>\n    <tr>\n      <td>2</td>\n      <td>35.60670</td>\n      <td>-82.55563</td>\n      <td>Entire home/apt</td>\n      <td>75</td>\n      <td>30</td>\n      <td>89</td>\n      <td>0.81</td>\n      <td>2</td>\n      <td>298</td>\n      <td>Asheville</td>\n    </tr>\n    <tr>\n      <td>3</td>\n      <td>35.57864</td>\n      <td>-82.59578</td>\n      <td>Entire home/apt</td>\n      <td>90</td>\n      <td>1</td>\n      <td>267</td>\n      <td>2.39</td>\n      <td>5</td>\n      <td>0</td>\n      <td>Asheville</td>\n    </tr>\n    <tr>\n      <td>4</td>\n      <td>35.61442</td>\n      <td>-82.54127</td>\n      <td>Private room</td>\n      <td>125</td>\n      <td>30</td>\n      <td>58</td>\n      <td>0.52</td>\n      <td>1</td>\n      <td>0</td>\n      <td>Asheville</td>\n    </tr>\n  </tbody>\n</table>\n</div>"
     },
     "metadata": {},
     "execution_count": 203
    }
   ],
   "source": [
    "new_df = new_df.drop(['id','name'],axis=1)\n",
    "new_df.head()"
   ]
  },
  {
   "cell_type": "code",
   "execution_count": 204,
   "metadata": {},
   "outputs": [
    {
     "output_type": "execute_result",
     "data": {
      "text/plain": [
       "1      60427\n",
       "2      54748\n",
       "30     33532\n",
       "3      30931\n",
       "4       9513\n",
       "       ...  \n",
       "49         1\n",
       "345        1\n",
       "229        1\n",
       "102        1\n",
       "456        1\n",
       "Name: minimum_nights, Length: 169, dtype: int64"
      ]
     },
     "metadata": {},
     "execution_count": 204
    }
   ],
   "source": [
    "new_df['minimum_nights'].value_counts()"
   ]
  },
  {
   "cell_type": "code",
   "execution_count": 205,
   "metadata": {},
   "outputs": [
    {
     "output_type": "execute_result",
     "data": {
      "text/plain": [
       "(226030, 10)"
      ]
     },
     "metadata": {},
     "execution_count": 205
    }
   ],
   "source": [
    "new_df.shape"
   ]
  },
  {
   "cell_type": "code",
   "execution_count": 206,
   "metadata": {},
   "outputs": [],
   "source": [
    "final_df = new_df[new_df['minimum_nights'] == 1]"
   ]
  },
  {
   "cell_type": "code",
   "execution_count": 207,
   "metadata": {},
   "outputs": [
    {
     "output_type": "execute_result",
     "data": {
      "text/plain": [
       "    latitude  longitude        room_type  price  minimum_nights  \\\n",
       "0   35.65146  -82.62792     Private room     60               1   \n",
       "1   35.59779  -82.55540  Entire home/apt    470               1   \n",
       "3   35.57864  -82.59578  Entire home/apt     90               1   \n",
       "6   35.58345  -82.59713     Private room     48               1   \n",
       "21  35.62166  -82.55373  Entire home/apt     91               1   \n",
       "\n",
       "    number_of_reviews  reviews_per_month  calculated_host_listings_count  \\\n",
       "0                 138               1.14                               1   \n",
       "1                 114               1.03                              11   \n",
       "3                 267               2.39                               5   \n",
       "6                 137               1.35                               1   \n",
       "21                458               8.15                               1   \n",
       "\n",
       "    availability_365       city  \n",
       "0                  0  Asheville  \n",
       "1                288  Asheville  \n",
       "3                  0  Asheville  \n",
       "6                  0  Asheville  \n",
       "21               340  Asheville  "
      ],
      "text/html": "<div>\n<style scoped>\n    .dataframe tbody tr th:only-of-type {\n        vertical-align: middle;\n    }\n\n    .dataframe tbody tr th {\n        vertical-align: top;\n    }\n\n    .dataframe thead th {\n        text-align: right;\n    }\n</style>\n<table border=\"1\" class=\"dataframe\">\n  <thead>\n    <tr style=\"text-align: right;\">\n      <th></th>\n      <th>latitude</th>\n      <th>longitude</th>\n      <th>room_type</th>\n      <th>price</th>\n      <th>minimum_nights</th>\n      <th>number_of_reviews</th>\n      <th>reviews_per_month</th>\n      <th>calculated_host_listings_count</th>\n      <th>availability_365</th>\n      <th>city</th>\n    </tr>\n  </thead>\n  <tbody>\n    <tr>\n      <td>0</td>\n      <td>35.65146</td>\n      <td>-82.62792</td>\n      <td>Private room</td>\n      <td>60</td>\n      <td>1</td>\n      <td>138</td>\n      <td>1.14</td>\n      <td>1</td>\n      <td>0</td>\n      <td>Asheville</td>\n    </tr>\n    <tr>\n      <td>1</td>\n      <td>35.59779</td>\n      <td>-82.55540</td>\n      <td>Entire home/apt</td>\n      <td>470</td>\n      <td>1</td>\n      <td>114</td>\n      <td>1.03</td>\n      <td>11</td>\n      <td>288</td>\n      <td>Asheville</td>\n    </tr>\n    <tr>\n      <td>3</td>\n      <td>35.57864</td>\n      <td>-82.59578</td>\n      <td>Entire home/apt</td>\n      <td>90</td>\n      <td>1</td>\n      <td>267</td>\n      <td>2.39</td>\n      <td>5</td>\n      <td>0</td>\n      <td>Asheville</td>\n    </tr>\n    <tr>\n      <td>6</td>\n      <td>35.58345</td>\n      <td>-82.59713</td>\n      <td>Private room</td>\n      <td>48</td>\n      <td>1</td>\n      <td>137</td>\n      <td>1.35</td>\n      <td>1</td>\n      <td>0</td>\n      <td>Asheville</td>\n    </tr>\n    <tr>\n      <td>21</td>\n      <td>35.62166</td>\n      <td>-82.55373</td>\n      <td>Entire home/apt</td>\n      <td>91</td>\n      <td>1</td>\n      <td>458</td>\n      <td>8.15</td>\n      <td>1</td>\n      <td>340</td>\n      <td>Asheville</td>\n    </tr>\n  </tbody>\n</table>\n</div>"
     },
     "metadata": {},
     "execution_count": 207
    }
   ],
   "source": [
    "final_df.head()"
   ]
  },
  {
   "cell_type": "code",
   "execution_count": 208,
   "metadata": {},
   "outputs": [
    {
     "output_type": "execute_result",
     "data": {
      "text/plain": [
       "                                latitude  longitude     price  minimum_nights  \\\n",
       "latitude                        1.000000   0.555706 -0.049656             NaN   \n",
       "longitude                       0.555706   1.000000 -0.044230             NaN   \n",
       "price                          -0.049656  -0.044230  1.000000             NaN   \n",
       "minimum_nights                       NaN        NaN       NaN             NaN   \n",
       "number_of_reviews               0.066501  -0.038912 -0.073584             NaN   \n",
       "reviews_per_month               0.085133  -0.019243 -0.074318             NaN   \n",
       "calculated_host_listings_count -0.311389  -0.264082  0.120397             NaN   \n",
       "availability_365               -0.183307  -0.155907  0.037368             NaN   \n",
       "\n",
       "                                number_of_reviews  reviews_per_month  \\\n",
       "latitude                                 0.066501           0.085133   \n",
       "longitude                               -0.038912          -0.019243   \n",
       "price                                   -0.073584          -0.074318   \n",
       "minimum_nights                                NaN                NaN   \n",
       "number_of_reviews                        1.000000           0.745543   \n",
       "reviews_per_month                        0.745543           1.000000   \n",
       "calculated_host_listings_count          -0.116144          -0.131784   \n",
       "availability_365                         0.075389           0.074101   \n",
       "\n",
       "                                calculated_host_listings_count  \\\n",
       "latitude                                             -0.311389   \n",
       "longitude                                            -0.264082   \n",
       "price                                                 0.120397   \n",
       "minimum_nights                                             NaN   \n",
       "number_of_reviews                                    -0.116144   \n",
       "reviews_per_month                                    -0.131784   \n",
       "calculated_host_listings_count                        1.000000   \n",
       "availability_365                                      0.160413   \n",
       "\n",
       "                                availability_365  \n",
       "latitude                               -0.183307  \n",
       "longitude                              -0.155907  \n",
       "price                                   0.037368  \n",
       "minimum_nights                               NaN  \n",
       "number_of_reviews                       0.075389  \n",
       "reviews_per_month                       0.074101  \n",
       "calculated_host_listings_count          0.160413  \n",
       "availability_365                        1.000000  "
      ],
      "text/html": "<div>\n<style scoped>\n    .dataframe tbody tr th:only-of-type {\n        vertical-align: middle;\n    }\n\n    .dataframe tbody tr th {\n        vertical-align: top;\n    }\n\n    .dataframe thead th {\n        text-align: right;\n    }\n</style>\n<table border=\"1\" class=\"dataframe\">\n  <thead>\n    <tr style=\"text-align: right;\">\n      <th></th>\n      <th>latitude</th>\n      <th>longitude</th>\n      <th>price</th>\n      <th>minimum_nights</th>\n      <th>number_of_reviews</th>\n      <th>reviews_per_month</th>\n      <th>calculated_host_listings_count</th>\n      <th>availability_365</th>\n    </tr>\n  </thead>\n  <tbody>\n    <tr>\n      <td>latitude</td>\n      <td>1.000000</td>\n      <td>0.555706</td>\n      <td>-0.049656</td>\n      <td>NaN</td>\n      <td>0.066501</td>\n      <td>0.085133</td>\n      <td>-0.311389</td>\n      <td>-0.183307</td>\n    </tr>\n    <tr>\n      <td>longitude</td>\n      <td>0.555706</td>\n      <td>1.000000</td>\n      <td>-0.044230</td>\n      <td>NaN</td>\n      <td>-0.038912</td>\n      <td>-0.019243</td>\n      <td>-0.264082</td>\n      <td>-0.155907</td>\n    </tr>\n    <tr>\n      <td>price</td>\n      <td>-0.049656</td>\n      <td>-0.044230</td>\n      <td>1.000000</td>\n      <td>NaN</td>\n      <td>-0.073584</td>\n      <td>-0.074318</td>\n      <td>0.120397</td>\n      <td>0.037368</td>\n    </tr>\n    <tr>\n      <td>minimum_nights</td>\n      <td>NaN</td>\n      <td>NaN</td>\n      <td>NaN</td>\n      <td>NaN</td>\n      <td>NaN</td>\n      <td>NaN</td>\n      <td>NaN</td>\n      <td>NaN</td>\n    </tr>\n    <tr>\n      <td>number_of_reviews</td>\n      <td>0.066501</td>\n      <td>-0.038912</td>\n      <td>-0.073584</td>\n      <td>NaN</td>\n      <td>1.000000</td>\n      <td>0.745543</td>\n      <td>-0.116144</td>\n      <td>0.075389</td>\n    </tr>\n    <tr>\n      <td>reviews_per_month</td>\n      <td>0.085133</td>\n      <td>-0.019243</td>\n      <td>-0.074318</td>\n      <td>NaN</td>\n      <td>0.745543</td>\n      <td>1.000000</td>\n      <td>-0.131784</td>\n      <td>0.074101</td>\n    </tr>\n    <tr>\n      <td>calculated_host_listings_count</td>\n      <td>-0.311389</td>\n      <td>-0.264082</td>\n      <td>0.120397</td>\n      <td>NaN</td>\n      <td>-0.116144</td>\n      <td>-0.131784</td>\n      <td>1.000000</td>\n      <td>0.160413</td>\n    </tr>\n    <tr>\n      <td>availability_365</td>\n      <td>-0.183307</td>\n      <td>-0.155907</td>\n      <td>0.037368</td>\n      <td>NaN</td>\n      <td>0.075389</td>\n      <td>0.074101</td>\n      <td>0.160413</td>\n      <td>1.000000</td>\n    </tr>\n  </tbody>\n</table>\n</div>"
     },
     "metadata": {},
     "execution_count": 208
    }
   ],
   "source": [
    "final_df.corr(method='pearson')"
   ]
  },
  {
   "cell_type": "code",
   "execution_count": 209,
   "metadata": {},
   "outputs": [
    {
     "output_type": "execute_result",
     "data": {
      "text/plain": [
       "           latitude     longitude         price  minimum_nights  \\\n",
       "count  60427.000000  60427.000000  60427.000000         60427.0   \n",
       "mean      35.556303   -102.474766    205.555050             1.0   \n",
       "std        6.860733     25.730954    623.062033             0.0   \n",
       "min       18.920990   -159.703450      0.000000             1.0   \n",
       "25%       32.721940   -118.456395     65.000000             1.0   \n",
       "50%       37.111680    -97.739680    100.000000             1.0   \n",
       "75%       40.723095    -77.027765    175.000000             1.0   \n",
       "max       47.734620    -71.004320  15339.000000             1.0   \n",
       "\n",
       "       number_of_reviews  reviews_per_month  calculated_host_listings_count  \\\n",
       "count       60427.000000       60427.000000                    60427.000000   \n",
       "mean           45.511046           1.654343                       12.751204   \n",
       "std            81.219443           2.156201                       32.477454   \n",
       "min             0.000000           0.000000                        1.000000   \n",
       "25%             1.000000           0.060000                        1.000000   \n",
       "50%            10.000000           0.760000                        2.000000   \n",
       "75%            52.000000           2.540000                        8.000000   \n",
       "max           966.000000          44.060000                      260.000000   \n",
       "\n",
       "       availability_365  \n",
       "count      60427.000000  \n",
       "mean         153.740315  \n",
       "std          141.198382  \n",
       "min            0.000000  \n",
       "25%            0.000000  \n",
       "50%          119.000000  \n",
       "75%          311.000000  \n",
       "max          365.000000  "
      ],
      "text/html": "<div>\n<style scoped>\n    .dataframe tbody tr th:only-of-type {\n        vertical-align: middle;\n    }\n\n    .dataframe tbody tr th {\n        vertical-align: top;\n    }\n\n    .dataframe thead th {\n        text-align: right;\n    }\n</style>\n<table border=\"1\" class=\"dataframe\">\n  <thead>\n    <tr style=\"text-align: right;\">\n      <th></th>\n      <th>latitude</th>\n      <th>longitude</th>\n      <th>price</th>\n      <th>minimum_nights</th>\n      <th>number_of_reviews</th>\n      <th>reviews_per_month</th>\n      <th>calculated_host_listings_count</th>\n      <th>availability_365</th>\n    </tr>\n  </thead>\n  <tbody>\n    <tr>\n      <td>count</td>\n      <td>60427.000000</td>\n      <td>60427.000000</td>\n      <td>60427.000000</td>\n      <td>60427.0</td>\n      <td>60427.000000</td>\n      <td>60427.000000</td>\n      <td>60427.000000</td>\n      <td>60427.000000</td>\n    </tr>\n    <tr>\n      <td>mean</td>\n      <td>35.556303</td>\n      <td>-102.474766</td>\n      <td>205.555050</td>\n      <td>1.0</td>\n      <td>45.511046</td>\n      <td>1.654343</td>\n      <td>12.751204</td>\n      <td>153.740315</td>\n    </tr>\n    <tr>\n      <td>std</td>\n      <td>6.860733</td>\n      <td>25.730954</td>\n      <td>623.062033</td>\n      <td>0.0</td>\n      <td>81.219443</td>\n      <td>2.156201</td>\n      <td>32.477454</td>\n      <td>141.198382</td>\n    </tr>\n    <tr>\n      <td>min</td>\n      <td>18.920990</td>\n      <td>-159.703450</td>\n      <td>0.000000</td>\n      <td>1.0</td>\n      <td>0.000000</td>\n      <td>0.000000</td>\n      <td>1.000000</td>\n      <td>0.000000</td>\n    </tr>\n    <tr>\n      <td>25%</td>\n      <td>32.721940</td>\n      <td>-118.456395</td>\n      <td>65.000000</td>\n      <td>1.0</td>\n      <td>1.000000</td>\n      <td>0.060000</td>\n      <td>1.000000</td>\n      <td>0.000000</td>\n    </tr>\n    <tr>\n      <td>50%</td>\n      <td>37.111680</td>\n      <td>-97.739680</td>\n      <td>100.000000</td>\n      <td>1.0</td>\n      <td>10.000000</td>\n      <td>0.760000</td>\n      <td>2.000000</td>\n      <td>119.000000</td>\n    </tr>\n    <tr>\n      <td>75%</td>\n      <td>40.723095</td>\n      <td>-77.027765</td>\n      <td>175.000000</td>\n      <td>1.0</td>\n      <td>52.000000</td>\n      <td>2.540000</td>\n      <td>8.000000</td>\n      <td>311.000000</td>\n    </tr>\n    <tr>\n      <td>max</td>\n      <td>47.734620</td>\n      <td>-71.004320</td>\n      <td>15339.000000</td>\n      <td>1.0</td>\n      <td>966.000000</td>\n      <td>44.060000</td>\n      <td>260.000000</td>\n      <td>365.000000</td>\n    </tr>\n  </tbody>\n</table>\n</div>"
     },
     "metadata": {},
     "execution_count": 209
    }
   ],
   "source": [
    "final_df.describe()"
   ]
  },
  {
   "cell_type": "code",
   "execution_count": 210,
   "metadata": {},
   "outputs": [],
   "source": [
    "final_df['lat_range'] = pd.cut(final_df.latitude,bins=[18,20,22,24,26,28,30,32,34,36,38,40,42,44,46,48],labels=['18:19','20:21','22:23','24:25','26:27', '28:29', '30:31', '32:33','34:35','36:37', '38:39', '40:41', '42:43','44:45','46+'])\n",
    "\n",
    "final_df['lon_range'] = pd.cut(final_df.longitude,bins=[-160,-158, -156,-154,-152,-150,-148,-146,-144,-142,-140,-138,-136,-134,-132,-130,-128,-126,-124,-122,-120,-118,-116,-114,-112,-110,-108,-106,-104,-102,-100,-98,-96,-94,-92,-90,-88,-86,-84,-82,-80,-78,-76,-74,-72,-70],labels=['-160:-159', '-158:-157', '-156:-155', '-154:-153', '-152:-151', '-150:-149', '-148:-147', '-146:-145', '-144:-143', '-142:-141', '-140:-139', '-138:-137', '-136:-135', '-134:-133', '-132:-131', '-130:-129', '-128:-127', '-126:-125', '-124:-123', '-122:-121', '-120:-119', '-118:-117', '-116:-115', '-114:-113', '-112:-111', '-110:-109', '-108:-107', '-106:-105', '-104:-103', '-102:-101', '-100:-99', '-98:-97', '-96:-95', '-94:-93', '-92:-91', '-90:-89', '-88:-87', '-86:-85', '-84:-83', '-82:-81', '-80:-79', '-78:-77', '-76:-75', '-74:-73', '-72+'])"
   ]
  },
  {
   "cell_type": "code",
   "execution_count": 211,
   "metadata": {},
   "outputs": [
    {
     "output_type": "execute_result",
     "data": {
      "text/plain": [
       "    latitude  longitude        room_type  price  minimum_nights  \\\n",
       "0   35.65146  -82.62792     Private room     60               1   \n",
       "1   35.59779  -82.55540  Entire home/apt    470               1   \n",
       "3   35.57864  -82.59578  Entire home/apt     90               1   \n",
       "6   35.58345  -82.59713     Private room     48               1   \n",
       "21  35.62166  -82.55373  Entire home/apt     91               1   \n",
       "\n",
       "    number_of_reviews  reviews_per_month  calculated_host_listings_count  \\\n",
       "0                 138               1.14                               1   \n",
       "1                 114               1.03                              11   \n",
       "3                 267               2.39                               5   \n",
       "6                 137               1.35                               1   \n",
       "21                458               8.15                               1   \n",
       "\n",
       "    availability_365       city lat_range lon_range  \n",
       "0                  0  Asheville     34:35   -84:-83  \n",
       "1                288  Asheville     34:35   -84:-83  \n",
       "3                  0  Asheville     34:35   -84:-83  \n",
       "6                  0  Asheville     34:35   -84:-83  \n",
       "21               340  Asheville     34:35   -84:-83  "
      ],
      "text/html": "<div>\n<style scoped>\n    .dataframe tbody tr th:only-of-type {\n        vertical-align: middle;\n    }\n\n    .dataframe tbody tr th {\n        vertical-align: top;\n    }\n\n    .dataframe thead th {\n        text-align: right;\n    }\n</style>\n<table border=\"1\" class=\"dataframe\">\n  <thead>\n    <tr style=\"text-align: right;\">\n      <th></th>\n      <th>latitude</th>\n      <th>longitude</th>\n      <th>room_type</th>\n      <th>price</th>\n      <th>minimum_nights</th>\n      <th>number_of_reviews</th>\n      <th>reviews_per_month</th>\n      <th>calculated_host_listings_count</th>\n      <th>availability_365</th>\n      <th>city</th>\n      <th>lat_range</th>\n      <th>lon_range</th>\n    </tr>\n  </thead>\n  <tbody>\n    <tr>\n      <td>0</td>\n      <td>35.65146</td>\n      <td>-82.62792</td>\n      <td>Private room</td>\n      <td>60</td>\n      <td>1</td>\n      <td>138</td>\n      <td>1.14</td>\n      <td>1</td>\n      <td>0</td>\n      <td>Asheville</td>\n      <td>34:35</td>\n      <td>-84:-83</td>\n    </tr>\n    <tr>\n      <td>1</td>\n      <td>35.59779</td>\n      <td>-82.55540</td>\n      <td>Entire home/apt</td>\n      <td>470</td>\n      <td>1</td>\n      <td>114</td>\n      <td>1.03</td>\n      <td>11</td>\n      <td>288</td>\n      <td>Asheville</td>\n      <td>34:35</td>\n      <td>-84:-83</td>\n    </tr>\n    <tr>\n      <td>3</td>\n      <td>35.57864</td>\n      <td>-82.59578</td>\n      <td>Entire home/apt</td>\n      <td>90</td>\n      <td>1</td>\n      <td>267</td>\n      <td>2.39</td>\n      <td>5</td>\n      <td>0</td>\n      <td>Asheville</td>\n      <td>34:35</td>\n      <td>-84:-83</td>\n    </tr>\n    <tr>\n      <td>6</td>\n      <td>35.58345</td>\n      <td>-82.59713</td>\n      <td>Private room</td>\n      <td>48</td>\n      <td>1</td>\n      <td>137</td>\n      <td>1.35</td>\n      <td>1</td>\n      <td>0</td>\n      <td>Asheville</td>\n      <td>34:35</td>\n      <td>-84:-83</td>\n    </tr>\n    <tr>\n      <td>21</td>\n      <td>35.62166</td>\n      <td>-82.55373</td>\n      <td>Entire home/apt</td>\n      <td>91</td>\n      <td>1</td>\n      <td>458</td>\n      <td>8.15</td>\n      <td>1</td>\n      <td>340</td>\n      <td>Asheville</td>\n      <td>34:35</td>\n      <td>-84:-83</td>\n    </tr>\n  </tbody>\n</table>\n</div>"
     },
     "metadata": {},
     "execution_count": 211
    }
   ],
   "source": [
    "final_df.head()"
   ]
  },
  {
   "cell_type": "code",
   "execution_count": 212,
   "metadata": {},
   "outputs": [],
   "source": [
    "# Dropping latitude and longitude\n",
    "final_df= final_df.drop(['latitude','longitude'],axis=1)\n"
   ]
  },
  {
   "cell_type": "code",
   "execution_count": 213,
   "metadata": {},
   "outputs": [
    {
     "output_type": "execute_result",
     "data": {
      "text/plain": [
       "          room_type  price  minimum_nights  number_of_reviews  \\\n",
       "0      Private room     60               1                138   \n",
       "1   Entire home/apt    470               1                114   \n",
       "3   Entire home/apt     90               1                267   \n",
       "6      Private room     48               1                137   \n",
       "21  Entire home/apt     91               1                458   \n",
       "\n",
       "    reviews_per_month  calculated_host_listings_count  availability_365  \\\n",
       "0                1.14                               1                 0   \n",
       "1                1.03                              11               288   \n",
       "3                2.39                               5                 0   \n",
       "6                1.35                               1                 0   \n",
       "21               8.15                               1               340   \n",
       "\n",
       "         city lat_range lon_range  \n",
       "0   Asheville     34:35   -84:-83  \n",
       "1   Asheville     34:35   -84:-83  \n",
       "3   Asheville     34:35   -84:-83  \n",
       "6   Asheville     34:35   -84:-83  \n",
       "21  Asheville     34:35   -84:-83  "
      ],
      "text/html": "<div>\n<style scoped>\n    .dataframe tbody tr th:only-of-type {\n        vertical-align: middle;\n    }\n\n    .dataframe tbody tr th {\n        vertical-align: top;\n    }\n\n    .dataframe thead th {\n        text-align: right;\n    }\n</style>\n<table border=\"1\" class=\"dataframe\">\n  <thead>\n    <tr style=\"text-align: right;\">\n      <th></th>\n      <th>room_type</th>\n      <th>price</th>\n      <th>minimum_nights</th>\n      <th>number_of_reviews</th>\n      <th>reviews_per_month</th>\n      <th>calculated_host_listings_count</th>\n      <th>availability_365</th>\n      <th>city</th>\n      <th>lat_range</th>\n      <th>lon_range</th>\n    </tr>\n  </thead>\n  <tbody>\n    <tr>\n      <td>0</td>\n      <td>Private room</td>\n      <td>60</td>\n      <td>1</td>\n      <td>138</td>\n      <td>1.14</td>\n      <td>1</td>\n      <td>0</td>\n      <td>Asheville</td>\n      <td>34:35</td>\n      <td>-84:-83</td>\n    </tr>\n    <tr>\n      <td>1</td>\n      <td>Entire home/apt</td>\n      <td>470</td>\n      <td>1</td>\n      <td>114</td>\n      <td>1.03</td>\n      <td>11</td>\n      <td>288</td>\n      <td>Asheville</td>\n      <td>34:35</td>\n      <td>-84:-83</td>\n    </tr>\n    <tr>\n      <td>3</td>\n      <td>Entire home/apt</td>\n      <td>90</td>\n      <td>1</td>\n      <td>267</td>\n      <td>2.39</td>\n      <td>5</td>\n      <td>0</td>\n      <td>Asheville</td>\n      <td>34:35</td>\n      <td>-84:-83</td>\n    </tr>\n    <tr>\n      <td>6</td>\n      <td>Private room</td>\n      <td>48</td>\n      <td>1</td>\n      <td>137</td>\n      <td>1.35</td>\n      <td>1</td>\n      <td>0</td>\n      <td>Asheville</td>\n      <td>34:35</td>\n      <td>-84:-83</td>\n    </tr>\n    <tr>\n      <td>21</td>\n      <td>Entire home/apt</td>\n      <td>91</td>\n      <td>1</td>\n      <td>458</td>\n      <td>8.15</td>\n      <td>1</td>\n      <td>340</td>\n      <td>Asheville</td>\n      <td>34:35</td>\n      <td>-84:-83</td>\n    </tr>\n  </tbody>\n</table>\n</div>"
     },
     "metadata": {},
     "execution_count": 213
    }
   ],
   "source": [
    "final_df.head()"
   ]
  },
  {
   "cell_type": "code",
   "execution_count": 214,
   "metadata": {},
   "outputs": [],
   "source": [
    "final_df= final_df.drop(['number_of_reviews','reviews_per_month', 'calculated_host_listings_count','minimum_nights','availability_365','city'],axis=1)"
   ]
  },
  {
   "cell_type": "code",
   "execution_count": 216,
   "metadata": {},
   "outputs": [
    {
     "output_type": "execute_result",
     "data": {
      "text/plain": [
       "          room_type  price lat_range lon_range\n",
       "0      Private room     60     34:35   -84:-83\n",
       "1   Entire home/apt    470     34:35   -84:-83\n",
       "3   Entire home/apt     90     34:35   -84:-83\n",
       "6      Private room     48     34:35   -84:-83\n",
       "21  Entire home/apt     91     34:35   -84:-83"
      ],
      "text/html": "<div>\n<style scoped>\n    .dataframe tbody tr th:only-of-type {\n        vertical-align: middle;\n    }\n\n    .dataframe tbody tr th {\n        vertical-align: top;\n    }\n\n    .dataframe thead th {\n        text-align: right;\n    }\n</style>\n<table border=\"1\" class=\"dataframe\">\n  <thead>\n    <tr style=\"text-align: right;\">\n      <th></th>\n      <th>room_type</th>\n      <th>price</th>\n      <th>lat_range</th>\n      <th>lon_range</th>\n    </tr>\n  </thead>\n  <tbody>\n    <tr>\n      <td>0</td>\n      <td>Private room</td>\n      <td>60</td>\n      <td>34:35</td>\n      <td>-84:-83</td>\n    </tr>\n    <tr>\n      <td>1</td>\n      <td>Entire home/apt</td>\n      <td>470</td>\n      <td>34:35</td>\n      <td>-84:-83</td>\n    </tr>\n    <tr>\n      <td>3</td>\n      <td>Entire home/apt</td>\n      <td>90</td>\n      <td>34:35</td>\n      <td>-84:-83</td>\n    </tr>\n    <tr>\n      <td>6</td>\n      <td>Private room</td>\n      <td>48</td>\n      <td>34:35</td>\n      <td>-84:-83</td>\n    </tr>\n    <tr>\n      <td>21</td>\n      <td>Entire home/apt</td>\n      <td>91</td>\n      <td>34:35</td>\n      <td>-84:-83</td>\n    </tr>\n  </tbody>\n</table>\n</div>"
     },
     "metadata": {},
     "execution_count": 216
    }
   ],
   "source": [
    "final_df.head()"
   ]
  },
  {
   "cell_type": "code",
   "execution_count": 217,
   "metadata": {},
   "outputs": [],
   "source": [
    "# split the data into a training set and a validation set\n",
    "from sklearn.model_selection import train_test_split\n",
    "train, val = train_test_split(final_df, train_size=0.80, test_size=0.20,random_state=42)\n",
    "\n",
    "# set an X and y for train and val\n",
    "target = 'price'\n",
    "X_train = train.drop(columns=target)\n",
    "y_train = train[target]\n",
    "X_val = val.drop(columns=target)\n",
    "y_val = val[target]\n"
   ]
  },
  {
   "cell_type": "code",
   "execution_count": 218,
   "metadata": {},
   "outputs": [
    {
     "output_type": "execute_result",
     "data": {
      "text/plain": [
       "Pipeline(memory=None,\n",
       "         steps=[('ordinalencoder',\n",
       "                 OrdinalEncoder(cols=['room_type', 'lat_range', 'lon_range'],\n",
       "                                drop_invariant=False, handle_missing='value',\n",
       "                                handle_unknown='value',\n",
       "                                mapping=[{'col': 'room_type',\n",
       "                                          'data_type': dtype('O'),\n",
       "                                          'mapping': Private room       1\n",
       "Entire home/apt    2\n",
       "Hotel room         3\n",
       "Shared room        4\n",
       "NaN               -2\n",
       "dtype: int64},\n",
       "                                         {'col': 'lat_range',\n",
       "                                          'data_type': CategoricalDtype(cate...\n",
       "                ('randomforestregressor',\n",
       "                 RandomForestRegressor(bootstrap=True, criterion='mse',\n",
       "                                       max_depth=3, max_features='auto',\n",
       "                                       max_leaf_nodes=None,\n",
       "                                       min_impurity_decrease=0.0,\n",
       "                                       min_impurity_split=None,\n",
       "                                       min_samples_leaf=1, min_samples_split=2,\n",
       "                                       min_weight_fraction_leaf=0.0,\n",
       "                                       n_estimators=50, n_jobs=-1,\n",
       "                                       oob_score=False, random_state=42,\n",
       "                                       verbose=0, warm_start=False))],\n",
       "         verbose=False)"
      ]
     },
     "metadata": {},
     "execution_count": 218
    }
   ],
   "source": [
    "import category_encoders as ce\n",
    "from sklearn.ensemble import RandomForestRegressor\n",
    "from sklearn.pipeline import make_pipeline\n",
    "from sklearn.metrics import mean_squared_error, r2_score, mean_absolute_error\n",
    "\n",
    "# train a random forest regressor\n",
    "pipeline = make_pipeline(\n",
    "    ce.OrdinalEncoder(),\n",
    "    RandomForestRegressor(n_estimators=50, criterion=\"mse\", max_depth=3, random_state=42,n_jobs=-1)\n",
    ")\n",
    "# fit the data on train and score the data on val\n",
    "pipeline.fit(X_train,y_train)\n"
   ]
  },
  {
   "cell_type": "code",
   "execution_count": 219,
   "metadata": {},
   "outputs": [
    {
     "output_type": "stream",
     "name": "stdout",
     "text": [
      "R2 Score: 0.02065874970446313\nMean Squared Error: 363880.81700209336\nMean Absolute Error: 167.66189574578755\n"
     ]
    }
   ],
   "source": [
    "pred = pipeline.predict(X_val)\n",
    "print(\"R2 Score:\", r2_score(y_val,pred))\n",
    "print(\"Mean Squared Error:\", mean_squared_error(y_val,pred))\n",
    "print(\"Mean Absolute Error:\", mean_absolute_error(y_val,pred))"
   ]
  },
  {
   "cell_type": "code",
   "execution_count": 220,
   "metadata": {},
   "outputs": [
    {
     "output_type": "execute_result",
     "data": {
      "text/plain": [
       "603.2253451257609"
      ]
     },
     "metadata": {},
     "execution_count": 220
    }
   ],
   "source": [
    "import math\n",
    "math.sqrt(mean_squared_error(y_val,pred))"
   ]
  },
  {
   "cell_type": "code",
   "execution_count": 221,
   "metadata": {},
   "outputs": [
    {
     "output_type": "display_data",
     "data": {
      "text/plain": "<Figure size 720x144 with 1 Axes>",
      "image/svg+xml": "<?xml version=\"1.0\" encoding=\"utf-8\" standalone=\"no\"?>\n<!DOCTYPE svg PUBLIC \"-//W3C//DTD SVG 1.1//EN\"\n  \"http://www.w3.org/Graphics/SVG/1.1/DTD/svg11.dtd\">\n<!-- Created with matplotlib (https://matplotlib.org/) -->\n<svg height=\"154.91625pt\" version=\"1.1\" viewBox=\"0 0 632.604687 154.91625\" width=\"632.604687pt\" xmlns=\"http://www.w3.org/2000/svg\" xmlns:xlink=\"http://www.w3.org/1999/xlink\">\n <defs>\n  <style type=\"text/css\">\n*{stroke-linecap:butt;stroke-linejoin:round;}\n  </style>\n </defs>\n <g id=\"figure_1\">\n  <g id=\"patch_1\">\n   <path d=\"M 0 154.91625 \nL 632.604687 154.91625 \nL 632.604687 0 \nL 0 0 \nz\n\" style=\"fill:none;\"/>\n  </g>\n  <g id=\"axes_1\">\n   <g id=\"patch_2\">\n    <path d=\"M 67.404688 131.038125 \nL 625.404688 131.038125 \nL 625.404688 22.318125 \nL 67.404688 22.318125 \nz\n\" style=\"fill:#ffffff;\"/>\n   </g>\n   <g id=\"patch_3\">\n    <path clip-path=\"url(#p6238dee4ff)\" d=\"M 67.404688 121.978125 \nL 102.927204 121.978125 \nL 102.927204 103.858125 \nL 67.404688 103.858125 \nz\n\" style=\"fill:#008000;\"/>\n   </g>\n   <g id=\"patch_4\">\n    <path clip-path=\"url(#p6238dee4ff)\" d=\"M 67.404688 85.738125 \nL 171.920972 85.738125 \nL 171.920972 67.618125 \nL 67.404688 67.618125 \nz\n\" style=\"fill:#008000;\"/>\n   </g>\n   <g id=\"patch_5\">\n    <path clip-path=\"url(#p6238dee4ff)\" d=\"M 67.404688 49.498125 \nL 598.833259 49.498125 \nL 598.833259 31.378125 \nL 67.404688 31.378125 \nz\n\" style=\"fill:#008000;\"/>\n   </g>\n   <g id=\"matplotlib.axis_1\">\n    <g id=\"xtick_1\">\n     <g id=\"line2d_1\">\n      <defs>\n       <path d=\"M 0 0 \nL 0 3.5 \n\" id=\"mf87dc0a6bb\" style=\"stroke:#000000;stroke-width:0.8;\"/>\n      </defs>\n      <g>\n       <use style=\"stroke:#000000;stroke-width:0.8;\" x=\"67.404688\" xlink:href=\"#mf87dc0a6bb\" y=\"131.038125\"/>\n      </g>\n     </g>\n     <g id=\"text_1\">\n      <!-- 0.0 -->\n      <defs>\n       <path d=\"M 31.78125 66.40625 \nQ 24.171875 66.40625 20.328125 58.90625 \nQ 16.5 51.421875 16.5 36.375 \nQ 16.5 21.390625 20.328125 13.890625 \nQ 24.171875 6.390625 31.78125 6.390625 \nQ 39.453125 6.390625 43.28125 13.890625 \nQ 47.125 21.390625 47.125 36.375 \nQ 47.125 51.421875 43.28125 58.90625 \nQ 39.453125 66.40625 31.78125 66.40625 \nz\nM 31.78125 74.21875 \nQ 44.046875 74.21875 50.515625 64.515625 \nQ 56.984375 54.828125 56.984375 36.375 \nQ 56.984375 17.96875 50.515625 8.265625 \nQ 44.046875 -1.421875 31.78125 -1.421875 \nQ 19.53125 -1.421875 13.0625 8.265625 \nQ 6.59375 17.96875 6.59375 36.375 \nQ 6.59375 54.828125 13.0625 64.515625 \nQ 19.53125 74.21875 31.78125 74.21875 \nz\n\" id=\"DejaVuSans-48\"/>\n       <path d=\"M 10.6875 12.40625 \nL 21 12.40625 \nL 21 0 \nL 10.6875 0 \nz\n\" id=\"DejaVuSans-46\"/>\n      </defs>\n      <g transform=\"translate(59.453125 145.636562)scale(0.1 -0.1)\">\n       <use xlink:href=\"#DejaVuSans-48\"/>\n       <use x=\"63.623047\" xlink:href=\"#DejaVuSans-46\"/>\n       <use x=\"95.410156\" xlink:href=\"#DejaVuSans-48\"/>\n      </g>\n     </g>\n    </g>\n    <g id=\"xtick_2\">\n     <g id=\"line2d_2\">\n      <g>\n       <use style=\"stroke:#000000;stroke-width:0.8;\" x=\"134.551425\" xlink:href=\"#mf87dc0a6bb\" y=\"131.038125\"/>\n      </g>\n     </g>\n     <g id=\"text_2\">\n      <!-- 0.1 -->\n      <defs>\n       <path d=\"M 12.40625 8.296875 \nL 28.515625 8.296875 \nL 28.515625 63.921875 \nL 10.984375 60.40625 \nL 10.984375 69.390625 \nL 28.421875 72.90625 \nL 38.28125 72.90625 \nL 38.28125 8.296875 \nL 54.390625 8.296875 \nL 54.390625 0 \nL 12.40625 0 \nz\n\" id=\"DejaVuSans-49\"/>\n      </defs>\n      <g transform=\"translate(126.599862 145.636562)scale(0.1 -0.1)\">\n       <use xlink:href=\"#DejaVuSans-48\"/>\n       <use x=\"63.623047\" xlink:href=\"#DejaVuSans-46\"/>\n       <use x=\"95.410156\" xlink:href=\"#DejaVuSans-49\"/>\n      </g>\n     </g>\n    </g>\n    <g id=\"xtick_3\">\n     <g id=\"line2d_3\">\n      <g>\n       <use style=\"stroke:#000000;stroke-width:0.8;\" x=\"201.698162\" xlink:href=\"#mf87dc0a6bb\" y=\"131.038125\"/>\n      </g>\n     </g>\n     <g id=\"text_3\">\n      <!-- 0.2 -->\n      <defs>\n       <path d=\"M 19.1875 8.296875 \nL 53.609375 8.296875 \nL 53.609375 0 \nL 7.328125 0 \nL 7.328125 8.296875 \nQ 12.9375 14.109375 22.625 23.890625 \nQ 32.328125 33.6875 34.8125 36.53125 \nQ 39.546875 41.84375 41.421875 45.53125 \nQ 43.3125 49.21875 43.3125 52.78125 \nQ 43.3125 58.59375 39.234375 62.25 \nQ 35.15625 65.921875 28.609375 65.921875 \nQ 23.96875 65.921875 18.8125 64.3125 \nQ 13.671875 62.703125 7.8125 59.421875 \nL 7.8125 69.390625 \nQ 13.765625 71.78125 18.9375 73 \nQ 24.125 74.21875 28.421875 74.21875 \nQ 39.75 74.21875 46.484375 68.546875 \nQ 53.21875 62.890625 53.21875 53.421875 \nQ 53.21875 48.921875 51.53125 44.890625 \nQ 49.859375 40.875 45.40625 35.40625 \nQ 44.1875 33.984375 37.640625 27.21875 \nQ 31.109375 20.453125 19.1875 8.296875 \nz\n\" id=\"DejaVuSans-50\"/>\n      </defs>\n      <g transform=\"translate(193.7466 145.636562)scale(0.1 -0.1)\">\n       <use xlink:href=\"#DejaVuSans-48\"/>\n       <use x=\"63.623047\" xlink:href=\"#DejaVuSans-46\"/>\n       <use x=\"95.410156\" xlink:href=\"#DejaVuSans-50\"/>\n      </g>\n     </g>\n    </g>\n    <g id=\"xtick_4\">\n     <g id=\"line2d_4\">\n      <g>\n       <use style=\"stroke:#000000;stroke-width:0.8;\" x=\"268.844899\" xlink:href=\"#mf87dc0a6bb\" y=\"131.038125\"/>\n      </g>\n     </g>\n     <g id=\"text_4\">\n      <!-- 0.3 -->\n      <defs>\n       <path d=\"M 40.578125 39.3125 \nQ 47.65625 37.796875 51.625 33 \nQ 55.609375 28.21875 55.609375 21.1875 \nQ 55.609375 10.40625 48.1875 4.484375 \nQ 40.765625 -1.421875 27.09375 -1.421875 \nQ 22.515625 -1.421875 17.65625 -0.515625 \nQ 12.796875 0.390625 7.625 2.203125 \nL 7.625 11.71875 \nQ 11.71875 9.328125 16.59375 8.109375 \nQ 21.484375 6.890625 26.8125 6.890625 \nQ 36.078125 6.890625 40.9375 10.546875 \nQ 45.796875 14.203125 45.796875 21.1875 \nQ 45.796875 27.640625 41.28125 31.265625 \nQ 36.765625 34.90625 28.71875 34.90625 \nL 20.21875 34.90625 \nL 20.21875 43.015625 \nL 29.109375 43.015625 \nQ 36.375 43.015625 40.234375 45.921875 \nQ 44.09375 48.828125 44.09375 54.296875 \nQ 44.09375 59.90625 40.109375 62.90625 \nQ 36.140625 65.921875 28.71875 65.921875 \nQ 24.65625 65.921875 20.015625 65.03125 \nQ 15.375 64.15625 9.8125 62.3125 \nL 9.8125 71.09375 \nQ 15.4375 72.65625 20.34375 73.4375 \nQ 25.25 74.21875 29.59375 74.21875 \nQ 40.828125 74.21875 47.359375 69.109375 \nQ 53.90625 64.015625 53.90625 55.328125 \nQ 53.90625 49.265625 50.4375 45.09375 \nQ 46.96875 40.921875 40.578125 39.3125 \nz\n\" id=\"DejaVuSans-51\"/>\n      </defs>\n      <g transform=\"translate(260.893337 145.636562)scale(0.1 -0.1)\">\n       <use xlink:href=\"#DejaVuSans-48\"/>\n       <use x=\"63.623047\" xlink:href=\"#DejaVuSans-46\"/>\n       <use x=\"95.410156\" xlink:href=\"#DejaVuSans-51\"/>\n      </g>\n     </g>\n    </g>\n    <g id=\"xtick_5\">\n     <g id=\"line2d_5\">\n      <g>\n       <use style=\"stroke:#000000;stroke-width:0.8;\" x=\"335.991637\" xlink:href=\"#mf87dc0a6bb\" y=\"131.038125\"/>\n      </g>\n     </g>\n     <g id=\"text_5\">\n      <!-- 0.4 -->\n      <defs>\n       <path d=\"M 37.796875 64.3125 \nL 12.890625 25.390625 \nL 37.796875 25.390625 \nz\nM 35.203125 72.90625 \nL 47.609375 72.90625 \nL 47.609375 25.390625 \nL 58.015625 25.390625 \nL 58.015625 17.1875 \nL 47.609375 17.1875 \nL 47.609375 0 \nL 37.796875 0 \nL 37.796875 17.1875 \nL 4.890625 17.1875 \nL 4.890625 26.703125 \nz\n\" id=\"DejaVuSans-52\"/>\n      </defs>\n      <g transform=\"translate(328.040074 145.636562)scale(0.1 -0.1)\">\n       <use xlink:href=\"#DejaVuSans-48\"/>\n       <use x=\"63.623047\" xlink:href=\"#DejaVuSans-46\"/>\n       <use x=\"95.410156\" xlink:href=\"#DejaVuSans-52\"/>\n      </g>\n     </g>\n    </g>\n    <g id=\"xtick_6\">\n     <g id=\"line2d_6\">\n      <g>\n       <use style=\"stroke:#000000;stroke-width:0.8;\" x=\"403.138374\" xlink:href=\"#mf87dc0a6bb\" y=\"131.038125\"/>\n      </g>\n     </g>\n     <g id=\"text_6\">\n      <!-- 0.5 -->\n      <defs>\n       <path d=\"M 10.796875 72.90625 \nL 49.515625 72.90625 \nL 49.515625 64.59375 \nL 19.828125 64.59375 \nL 19.828125 46.734375 \nQ 21.96875 47.46875 24.109375 47.828125 \nQ 26.265625 48.1875 28.421875 48.1875 \nQ 40.625 48.1875 47.75 41.5 \nQ 54.890625 34.8125 54.890625 23.390625 \nQ 54.890625 11.625 47.5625 5.09375 \nQ 40.234375 -1.421875 26.90625 -1.421875 \nQ 22.3125 -1.421875 17.546875 -0.640625 \nQ 12.796875 0.140625 7.71875 1.703125 \nL 7.71875 11.625 \nQ 12.109375 9.234375 16.796875 8.0625 \nQ 21.484375 6.890625 26.703125 6.890625 \nQ 35.15625 6.890625 40.078125 11.328125 \nQ 45.015625 15.765625 45.015625 23.390625 \nQ 45.015625 31 40.078125 35.4375 \nQ 35.15625 39.890625 26.703125 39.890625 \nQ 22.75 39.890625 18.8125 39.015625 \nQ 14.890625 38.140625 10.796875 36.28125 \nz\n\" id=\"DejaVuSans-53\"/>\n      </defs>\n      <g transform=\"translate(395.186811 145.636562)scale(0.1 -0.1)\">\n       <use xlink:href=\"#DejaVuSans-48\"/>\n       <use x=\"63.623047\" xlink:href=\"#DejaVuSans-46\"/>\n       <use x=\"95.410156\" xlink:href=\"#DejaVuSans-53\"/>\n      </g>\n     </g>\n    </g>\n    <g id=\"xtick_7\">\n     <g id=\"line2d_7\">\n      <g>\n       <use style=\"stroke:#000000;stroke-width:0.8;\" x=\"470.285111\" xlink:href=\"#mf87dc0a6bb\" y=\"131.038125\"/>\n      </g>\n     </g>\n     <g id=\"text_7\">\n      <!-- 0.6 -->\n      <defs>\n       <path d=\"M 33.015625 40.375 \nQ 26.375 40.375 22.484375 35.828125 \nQ 18.609375 31.296875 18.609375 23.390625 \nQ 18.609375 15.53125 22.484375 10.953125 \nQ 26.375 6.390625 33.015625 6.390625 \nQ 39.65625 6.390625 43.53125 10.953125 \nQ 47.40625 15.53125 47.40625 23.390625 \nQ 47.40625 31.296875 43.53125 35.828125 \nQ 39.65625 40.375 33.015625 40.375 \nz\nM 52.59375 71.296875 \nL 52.59375 62.3125 \nQ 48.875 64.0625 45.09375 64.984375 \nQ 41.3125 65.921875 37.59375 65.921875 \nQ 27.828125 65.921875 22.671875 59.328125 \nQ 17.53125 52.734375 16.796875 39.40625 \nQ 19.671875 43.65625 24.015625 45.921875 \nQ 28.375 48.1875 33.59375 48.1875 \nQ 44.578125 48.1875 50.953125 41.515625 \nQ 57.328125 34.859375 57.328125 23.390625 \nQ 57.328125 12.15625 50.6875 5.359375 \nQ 44.046875 -1.421875 33.015625 -1.421875 \nQ 20.359375 -1.421875 13.671875 8.265625 \nQ 6.984375 17.96875 6.984375 36.375 \nQ 6.984375 53.65625 15.1875 63.9375 \nQ 23.390625 74.21875 37.203125 74.21875 \nQ 40.921875 74.21875 44.703125 73.484375 \nQ 48.484375 72.75 52.59375 71.296875 \nz\n\" id=\"DejaVuSans-54\"/>\n      </defs>\n      <g transform=\"translate(462.333549 145.636562)scale(0.1 -0.1)\">\n       <use xlink:href=\"#DejaVuSans-48\"/>\n       <use x=\"63.623047\" xlink:href=\"#DejaVuSans-46\"/>\n       <use x=\"95.410156\" xlink:href=\"#DejaVuSans-54\"/>\n      </g>\n     </g>\n    </g>\n    <g id=\"xtick_8\">\n     <g id=\"line2d_8\">\n      <g>\n       <use style=\"stroke:#000000;stroke-width:0.8;\" x=\"537.431848\" xlink:href=\"#mf87dc0a6bb\" y=\"131.038125\"/>\n      </g>\n     </g>\n     <g id=\"text_8\">\n      <!-- 0.7 -->\n      <defs>\n       <path d=\"M 8.203125 72.90625 \nL 55.078125 72.90625 \nL 55.078125 68.703125 \nL 28.609375 0 \nL 18.3125 0 \nL 43.21875 64.59375 \nL 8.203125 64.59375 \nz\n\" id=\"DejaVuSans-55\"/>\n      </defs>\n      <g transform=\"translate(529.480286 145.636562)scale(0.1 -0.1)\">\n       <use xlink:href=\"#DejaVuSans-48\"/>\n       <use x=\"63.623047\" xlink:href=\"#DejaVuSans-46\"/>\n       <use x=\"95.410156\" xlink:href=\"#DejaVuSans-55\"/>\n      </g>\n     </g>\n    </g>\n    <g id=\"xtick_9\">\n     <g id=\"line2d_9\">\n      <g>\n       <use style=\"stroke:#000000;stroke-width:0.8;\" x=\"604.578586\" xlink:href=\"#mf87dc0a6bb\" y=\"131.038125\"/>\n      </g>\n     </g>\n     <g id=\"text_9\">\n      <!-- 0.8 -->\n      <defs>\n       <path d=\"M 31.78125 34.625 \nQ 24.75 34.625 20.71875 30.859375 \nQ 16.703125 27.09375 16.703125 20.515625 \nQ 16.703125 13.921875 20.71875 10.15625 \nQ 24.75 6.390625 31.78125 6.390625 \nQ 38.8125 6.390625 42.859375 10.171875 \nQ 46.921875 13.96875 46.921875 20.515625 \nQ 46.921875 27.09375 42.890625 30.859375 \nQ 38.875 34.625 31.78125 34.625 \nz\nM 21.921875 38.8125 \nQ 15.578125 40.375 12.03125 44.71875 \nQ 8.5 49.078125 8.5 55.328125 \nQ 8.5 64.0625 14.71875 69.140625 \nQ 20.953125 74.21875 31.78125 74.21875 \nQ 42.671875 74.21875 48.875 69.140625 \nQ 55.078125 64.0625 55.078125 55.328125 \nQ 55.078125 49.078125 51.53125 44.71875 \nQ 48 40.375 41.703125 38.8125 \nQ 48.828125 37.15625 52.796875 32.3125 \nQ 56.78125 27.484375 56.78125 20.515625 \nQ 56.78125 9.90625 50.3125 4.234375 \nQ 43.84375 -1.421875 31.78125 -1.421875 \nQ 19.734375 -1.421875 13.25 4.234375 \nQ 6.78125 9.90625 6.78125 20.515625 \nQ 6.78125 27.484375 10.78125 32.3125 \nQ 14.796875 37.15625 21.921875 38.8125 \nz\nM 18.3125 54.390625 \nQ 18.3125 48.734375 21.84375 45.5625 \nQ 25.390625 42.390625 31.78125 42.390625 \nQ 38.140625 42.390625 41.71875 45.5625 \nQ 45.3125 48.734375 45.3125 54.390625 \nQ 45.3125 60.0625 41.71875 63.234375 \nQ 38.140625 66.40625 31.78125 66.40625 \nQ 25.390625 66.40625 21.84375 63.234375 \nQ 18.3125 60.0625 18.3125 54.390625 \nz\n\" id=\"DejaVuSans-56\"/>\n      </defs>\n      <g transform=\"translate(596.627023 145.636562)scale(0.1 -0.1)\">\n       <use xlink:href=\"#DejaVuSans-48\"/>\n       <use x=\"63.623047\" xlink:href=\"#DejaVuSans-46\"/>\n       <use x=\"95.410156\" xlink:href=\"#DejaVuSans-56\"/>\n      </g>\n     </g>\n    </g>\n   </g>\n   <g id=\"matplotlib.axis_2\">\n    <g id=\"ytick_1\">\n     <g id=\"line2d_10\">\n      <defs>\n       <path d=\"M 0 0 \nL -3.5 0 \n\" id=\"m59fcf88d1d\" style=\"stroke:#000000;stroke-width:0.8;\"/>\n      </defs>\n      <g>\n       <use style=\"stroke:#000000;stroke-width:0.8;\" x=\"67.404688\" xlink:href=\"#m59fcf88d1d\" y=\"112.918125\"/>\n      </g>\n     </g>\n     <g id=\"text_10\">\n      <!-- lon_range -->\n      <defs>\n       <path d=\"M 9.421875 75.984375 \nL 18.40625 75.984375 \nL 18.40625 0 \nL 9.421875 0 \nz\n\" id=\"DejaVuSans-108\"/>\n       <path d=\"M 30.609375 48.390625 \nQ 23.390625 48.390625 19.1875 42.75 \nQ 14.984375 37.109375 14.984375 27.296875 \nQ 14.984375 17.484375 19.15625 11.84375 \nQ 23.34375 6.203125 30.609375 6.203125 \nQ 37.796875 6.203125 41.984375 11.859375 \nQ 46.1875 17.53125 46.1875 27.296875 \nQ 46.1875 37.015625 41.984375 42.703125 \nQ 37.796875 48.390625 30.609375 48.390625 \nz\nM 30.609375 56 \nQ 42.328125 56 49.015625 48.375 \nQ 55.71875 40.765625 55.71875 27.296875 \nQ 55.71875 13.875 49.015625 6.21875 \nQ 42.328125 -1.421875 30.609375 -1.421875 \nQ 18.84375 -1.421875 12.171875 6.21875 \nQ 5.515625 13.875 5.515625 27.296875 \nQ 5.515625 40.765625 12.171875 48.375 \nQ 18.84375 56 30.609375 56 \nz\n\" id=\"DejaVuSans-111\"/>\n       <path d=\"M 54.890625 33.015625 \nL 54.890625 0 \nL 45.90625 0 \nL 45.90625 32.71875 \nQ 45.90625 40.484375 42.875 44.328125 \nQ 39.84375 48.1875 33.796875 48.1875 \nQ 26.515625 48.1875 22.3125 43.546875 \nQ 18.109375 38.921875 18.109375 30.90625 \nL 18.109375 0 \nL 9.078125 0 \nL 9.078125 54.6875 \nL 18.109375 54.6875 \nL 18.109375 46.1875 \nQ 21.34375 51.125 25.703125 53.5625 \nQ 30.078125 56 35.796875 56 \nQ 45.21875 56 50.046875 50.171875 \nQ 54.890625 44.34375 54.890625 33.015625 \nz\n\" id=\"DejaVuSans-110\"/>\n       <path d=\"M 50.984375 -16.609375 \nL 50.984375 -23.578125 \nL -0.984375 -23.578125 \nL -0.984375 -16.609375 \nz\n\" id=\"DejaVuSans-95\"/>\n       <path d=\"M 41.109375 46.296875 \nQ 39.59375 47.171875 37.8125 47.578125 \nQ 36.03125 48 33.890625 48 \nQ 26.265625 48 22.1875 43.046875 \nQ 18.109375 38.09375 18.109375 28.8125 \nL 18.109375 0 \nL 9.078125 0 \nL 9.078125 54.6875 \nL 18.109375 54.6875 \nL 18.109375 46.1875 \nQ 20.953125 51.171875 25.484375 53.578125 \nQ 30.03125 56 36.53125 56 \nQ 37.453125 56 38.578125 55.875 \nQ 39.703125 55.765625 41.0625 55.515625 \nz\n\" id=\"DejaVuSans-114\"/>\n       <path d=\"M 34.28125 27.484375 \nQ 23.390625 27.484375 19.1875 25 \nQ 14.984375 22.515625 14.984375 16.5 \nQ 14.984375 11.71875 18.140625 8.90625 \nQ 21.296875 6.109375 26.703125 6.109375 \nQ 34.1875 6.109375 38.703125 11.40625 \nQ 43.21875 16.703125 43.21875 25.484375 \nL 43.21875 27.484375 \nz\nM 52.203125 31.203125 \nL 52.203125 0 \nL 43.21875 0 \nL 43.21875 8.296875 \nQ 40.140625 3.328125 35.546875 0.953125 \nQ 30.953125 -1.421875 24.3125 -1.421875 \nQ 15.921875 -1.421875 10.953125 3.296875 \nQ 6 8.015625 6 15.921875 \nQ 6 25.140625 12.171875 29.828125 \nQ 18.359375 34.515625 30.609375 34.515625 \nL 43.21875 34.515625 \nL 43.21875 35.40625 \nQ 43.21875 41.609375 39.140625 45 \nQ 35.0625 48.390625 27.6875 48.390625 \nQ 23 48.390625 18.546875 47.265625 \nQ 14.109375 46.140625 10.015625 43.890625 \nL 10.015625 52.203125 \nQ 14.9375 54.109375 19.578125 55.046875 \nQ 24.21875 56 28.609375 56 \nQ 40.484375 56 46.34375 49.84375 \nQ 52.203125 43.703125 52.203125 31.203125 \nz\n\" id=\"DejaVuSans-97\"/>\n       <path d=\"M 45.40625 27.984375 \nQ 45.40625 37.75 41.375 43.109375 \nQ 37.359375 48.484375 30.078125 48.484375 \nQ 22.859375 48.484375 18.828125 43.109375 \nQ 14.796875 37.75 14.796875 27.984375 \nQ 14.796875 18.265625 18.828125 12.890625 \nQ 22.859375 7.515625 30.078125 7.515625 \nQ 37.359375 7.515625 41.375 12.890625 \nQ 45.40625 18.265625 45.40625 27.984375 \nz\nM 54.390625 6.78125 \nQ 54.390625 -7.171875 48.1875 -13.984375 \nQ 42 -20.796875 29.203125 -20.796875 \nQ 24.46875 -20.796875 20.265625 -20.09375 \nQ 16.0625 -19.390625 12.109375 -17.921875 \nL 12.109375 -9.1875 \nQ 16.0625 -11.328125 19.921875 -12.34375 \nQ 23.78125 -13.375 27.78125 -13.375 \nQ 36.625 -13.375 41.015625 -8.765625 \nQ 45.40625 -4.15625 45.40625 5.171875 \nL 45.40625 9.625 \nQ 42.625 4.78125 38.28125 2.390625 \nQ 33.9375 0 27.875 0 \nQ 17.828125 0 11.671875 7.65625 \nQ 5.515625 15.328125 5.515625 27.984375 \nQ 5.515625 40.671875 11.671875 48.328125 \nQ 17.828125 56 27.875 56 \nQ 33.9375 56 38.28125 53.609375 \nQ 42.625 51.21875 45.40625 46.390625 \nL 45.40625 54.6875 \nL 54.390625 54.6875 \nz\n\" id=\"DejaVuSans-103\"/>\n       <path d=\"M 56.203125 29.59375 \nL 56.203125 25.203125 \nL 14.890625 25.203125 \nQ 15.484375 15.921875 20.484375 11.0625 \nQ 25.484375 6.203125 34.421875 6.203125 \nQ 39.59375 6.203125 44.453125 7.46875 \nQ 49.3125 8.734375 54.109375 11.28125 \nL 54.109375 2.78125 \nQ 49.265625 0.734375 44.1875 -0.34375 \nQ 39.109375 -1.421875 33.890625 -1.421875 \nQ 20.796875 -1.421875 13.15625 6.1875 \nQ 5.515625 13.8125 5.515625 26.8125 \nQ 5.515625 40.234375 12.765625 48.109375 \nQ 20.015625 56 32.328125 56 \nQ 43.359375 56 49.78125 48.890625 \nQ 56.203125 41.796875 56.203125 29.59375 \nz\nM 47.21875 32.234375 \nQ 47.125 39.59375 43.09375 43.984375 \nQ 39.0625 48.390625 32.421875 48.390625 \nQ 24.90625 48.390625 20.390625 44.140625 \nQ 15.875 39.890625 15.1875 32.171875 \nz\n\" id=\"DejaVuSans-101\"/>\n      </defs>\n      <g transform=\"translate(11.092188 116.717344)scale(0.1 -0.1)\">\n       <use xlink:href=\"#DejaVuSans-108\"/>\n       <use x=\"27.783203\" xlink:href=\"#DejaVuSans-111\"/>\n       <use x=\"88.964844\" xlink:href=\"#DejaVuSans-110\"/>\n       <use x=\"152.34375\" xlink:href=\"#DejaVuSans-95\"/>\n       <use x=\"202.34375\" xlink:href=\"#DejaVuSans-114\"/>\n       <use x=\"243.457031\" xlink:href=\"#DejaVuSans-97\"/>\n       <use x=\"304.736328\" xlink:href=\"#DejaVuSans-110\"/>\n       <use x=\"368.115234\" xlink:href=\"#DejaVuSans-103\"/>\n       <use x=\"431.591797\" xlink:href=\"#DejaVuSans-101\"/>\n      </g>\n     </g>\n    </g>\n    <g id=\"ytick_2\">\n     <g id=\"line2d_11\">\n      <g>\n       <use style=\"stroke:#000000;stroke-width:0.8;\" x=\"67.404688\" xlink:href=\"#m59fcf88d1d\" y=\"76.678125\"/>\n      </g>\n     </g>\n     <g id=\"text_11\">\n      <!-- lat_range -->\n      <defs>\n       <path d=\"M 18.3125 70.21875 \nL 18.3125 54.6875 \nL 36.8125 54.6875 \nL 36.8125 47.703125 \nL 18.3125 47.703125 \nL 18.3125 18.015625 \nQ 18.3125 11.328125 20.140625 9.421875 \nQ 21.96875 7.515625 27.59375 7.515625 \nL 36.8125 7.515625 \nL 36.8125 0 \nL 27.59375 0 \nQ 17.1875 0 13.234375 3.875 \nQ 9.28125 7.765625 9.28125 18.015625 \nL 9.28125 47.703125 \nL 2.6875 47.703125 \nL 2.6875 54.6875 \nL 9.28125 54.6875 \nL 9.28125 70.21875 \nz\n\" id=\"DejaVuSans-116\"/>\n      </defs>\n      <g transform=\"translate(13.5 80.477344)scale(0.1 -0.1)\">\n       <use xlink:href=\"#DejaVuSans-108\"/>\n       <use x=\"27.783203\" xlink:href=\"#DejaVuSans-97\"/>\n       <use x=\"89.0625\" xlink:href=\"#DejaVuSans-116\"/>\n       <use x=\"128.271484\" xlink:href=\"#DejaVuSans-95\"/>\n       <use x=\"178.271484\" xlink:href=\"#DejaVuSans-114\"/>\n       <use x=\"219.384766\" xlink:href=\"#DejaVuSans-97\"/>\n       <use x=\"280.664062\" xlink:href=\"#DejaVuSans-110\"/>\n       <use x=\"344.042969\" xlink:href=\"#DejaVuSans-103\"/>\n       <use x=\"407.519531\" xlink:href=\"#DejaVuSans-101\"/>\n      </g>\n     </g>\n    </g>\n    <g id=\"ytick_3\">\n     <g id=\"line2d_12\">\n      <g>\n       <use style=\"stroke:#000000;stroke-width:0.8;\" x=\"67.404688\" xlink:href=\"#m59fcf88d1d\" y=\"40.438125\"/>\n      </g>\n     </g>\n     <g id=\"text_12\">\n      <!-- room_type -->\n      <defs>\n       <path d=\"M 52 44.1875 \nQ 55.375 50.25 60.0625 53.125 \nQ 64.75 56 71.09375 56 \nQ 79.640625 56 84.28125 50.015625 \nQ 88.921875 44.046875 88.921875 33.015625 \nL 88.921875 0 \nL 79.890625 0 \nL 79.890625 32.71875 \nQ 79.890625 40.578125 77.09375 44.375 \nQ 74.3125 48.1875 68.609375 48.1875 \nQ 61.625 48.1875 57.5625 43.546875 \nQ 53.515625 38.921875 53.515625 30.90625 \nL 53.515625 0 \nL 44.484375 0 \nL 44.484375 32.71875 \nQ 44.484375 40.625 41.703125 44.40625 \nQ 38.921875 48.1875 33.109375 48.1875 \nQ 26.21875 48.1875 22.15625 43.53125 \nQ 18.109375 38.875 18.109375 30.90625 \nL 18.109375 0 \nL 9.078125 0 \nL 9.078125 54.6875 \nL 18.109375 54.6875 \nL 18.109375 46.1875 \nQ 21.1875 51.21875 25.484375 53.609375 \nQ 29.78125 56 35.6875 56 \nQ 41.65625 56 45.828125 52.96875 \nQ 50 49.953125 52 44.1875 \nz\n\" id=\"DejaVuSans-109\"/>\n       <path d=\"M 32.171875 -5.078125 \nQ 28.375 -14.84375 24.75 -17.8125 \nQ 21.140625 -20.796875 15.09375 -20.796875 \nL 7.90625 -20.796875 \nL 7.90625 -13.28125 \nL 13.1875 -13.28125 \nQ 16.890625 -13.28125 18.9375 -11.515625 \nQ 21 -9.765625 23.484375 -3.21875 \nL 25.09375 0.875 \nL 2.984375 54.6875 \nL 12.5 54.6875 \nL 29.59375 11.921875 \nL 46.6875 54.6875 \nL 56.203125 54.6875 \nz\n\" id=\"DejaVuSans-121\"/>\n       <path d=\"M 18.109375 8.203125 \nL 18.109375 -20.796875 \nL 9.078125 -20.796875 \nL 9.078125 54.6875 \nL 18.109375 54.6875 \nL 18.109375 46.390625 \nQ 20.953125 51.265625 25.265625 53.625 \nQ 29.59375 56 35.59375 56 \nQ 45.5625 56 51.78125 48.09375 \nQ 58.015625 40.1875 58.015625 27.296875 \nQ 58.015625 14.40625 51.78125 6.484375 \nQ 45.5625 -1.421875 35.59375 -1.421875 \nQ 29.59375 -1.421875 25.265625 0.953125 \nQ 20.953125 3.328125 18.109375 8.203125 \nz\nM 48.6875 27.296875 \nQ 48.6875 37.203125 44.609375 42.84375 \nQ 40.53125 48.484375 33.40625 48.484375 \nQ 26.265625 48.484375 22.1875 42.84375 \nQ 18.109375 37.203125 18.109375 27.296875 \nQ 18.109375 17.390625 22.1875 11.75 \nQ 26.265625 6.109375 33.40625 6.109375 \nQ 40.53125 6.109375 44.609375 11.75 \nQ 48.6875 17.390625 48.6875 27.296875 \nz\n\" id=\"DejaVuSans-112\"/>\n      </defs>\n      <g transform=\"translate(7.2 44.098281)scale(0.1 -0.1)\">\n       <use xlink:href=\"#DejaVuSans-114\"/>\n       <use x=\"38.863281\" xlink:href=\"#DejaVuSans-111\"/>\n       <use x=\"100.044922\" xlink:href=\"#DejaVuSans-111\"/>\n       <use x=\"161.226562\" xlink:href=\"#DejaVuSans-109\"/>\n       <use x=\"258.638672\" xlink:href=\"#DejaVuSans-95\"/>\n       <use x=\"308.638672\" xlink:href=\"#DejaVuSans-116\"/>\n       <use x=\"347.847656\" xlink:href=\"#DejaVuSans-121\"/>\n       <use x=\"407.027344\" xlink:href=\"#DejaVuSans-112\"/>\n       <use x=\"470.503906\" xlink:href=\"#DejaVuSans-101\"/>\n      </g>\n     </g>\n    </g>\n   </g>\n   <g id=\"patch_6\">\n    <path d=\"M 67.404688 131.038125 \nL 67.404688 22.318125 \n\" style=\"fill:none;stroke:#000000;stroke-linecap:square;stroke-linejoin:miter;stroke-width:0.8;\"/>\n   </g>\n   <g id=\"patch_7\">\n    <path d=\"M 625.404688 131.038125 \nL 625.404688 22.318125 \n\" style=\"fill:none;stroke:#000000;stroke-linecap:square;stroke-linejoin:miter;stroke-width:0.8;\"/>\n   </g>\n   <g id=\"patch_8\">\n    <path d=\"M 67.404688 131.038125 \nL 625.404688 131.038125 \n\" style=\"fill:none;stroke:#000000;stroke-linecap:square;stroke-linejoin:miter;stroke-width:0.8;\"/>\n   </g>\n   <g id=\"patch_9\">\n    <path d=\"M 67.404688 22.318125 \nL 625.404688 22.318125 \n\" style=\"fill:none;stroke:#000000;stroke-linecap:square;stroke-linejoin:miter;stroke-width:0.8;\"/>\n   </g>\n   <g id=\"text_13\">\n    <!-- Top 4 Features -->\n    <defs>\n     <path d=\"M -0.296875 72.90625 \nL 61.375 72.90625 \nL 61.375 64.59375 \nL 35.5 64.59375 \nL 35.5 0 \nL 25.59375 0 \nL 25.59375 64.59375 \nL -0.296875 64.59375 \nz\n\" id=\"DejaVuSans-84\"/>\n     <path id=\"DejaVuSans-32\"/>\n     <path d=\"M 9.8125 72.90625 \nL 51.703125 72.90625 \nL 51.703125 64.59375 \nL 19.671875 64.59375 \nL 19.671875 43.109375 \nL 48.578125 43.109375 \nL 48.578125 34.8125 \nL 19.671875 34.8125 \nL 19.671875 0 \nL 9.8125 0 \nz\n\" id=\"DejaVuSans-70\"/>\n     <path d=\"M 8.5 21.578125 \nL 8.5 54.6875 \nL 17.484375 54.6875 \nL 17.484375 21.921875 \nQ 17.484375 14.15625 20.5 10.265625 \nQ 23.53125 6.390625 29.59375 6.390625 \nQ 36.859375 6.390625 41.078125 11.03125 \nQ 45.3125 15.671875 45.3125 23.6875 \nL 45.3125 54.6875 \nL 54.296875 54.6875 \nL 54.296875 0 \nL 45.3125 0 \nL 45.3125 8.40625 \nQ 42.046875 3.421875 37.71875 1 \nQ 33.40625 -1.421875 27.6875 -1.421875 \nQ 18.265625 -1.421875 13.375 4.4375 \nQ 8.5 10.296875 8.5 21.578125 \nz\nM 31.109375 56 \nz\n\" id=\"DejaVuSans-117\"/>\n     <path d=\"M 44.28125 53.078125 \nL 44.28125 44.578125 \nQ 40.484375 46.53125 36.375 47.5 \nQ 32.28125 48.484375 27.875 48.484375 \nQ 21.1875 48.484375 17.84375 46.4375 \nQ 14.5 44.390625 14.5 40.28125 \nQ 14.5 37.15625 16.890625 35.375 \nQ 19.28125 33.59375 26.515625 31.984375 \nL 29.59375 31.296875 \nQ 39.15625 29.25 43.1875 25.515625 \nQ 47.21875 21.78125 47.21875 15.09375 \nQ 47.21875 7.46875 41.1875 3.015625 \nQ 35.15625 -1.421875 24.609375 -1.421875 \nQ 20.21875 -1.421875 15.453125 -0.5625 \nQ 10.6875 0.296875 5.421875 2 \nL 5.421875 11.28125 \nQ 10.40625 8.6875 15.234375 7.390625 \nQ 20.0625 6.109375 24.8125 6.109375 \nQ 31.15625 6.109375 34.5625 8.28125 \nQ 37.984375 10.453125 37.984375 14.40625 \nQ 37.984375 18.0625 35.515625 20.015625 \nQ 33.0625 21.96875 24.703125 23.78125 \nL 21.578125 24.515625 \nQ 13.234375 26.265625 9.515625 29.90625 \nQ 5.8125 33.546875 5.8125 39.890625 \nQ 5.8125 47.609375 11.28125 51.796875 \nQ 16.75 56 26.8125 56 \nQ 31.78125 56 36.171875 55.265625 \nQ 40.578125 54.546875 44.28125 53.078125 \nz\n\" id=\"DejaVuSans-115\"/>\n    </defs>\n    <g transform=\"translate(302.855 16.318125)scale(0.12 -0.12)\">\n     <use xlink:href=\"#DejaVuSans-84\"/>\n     <use x=\"44.083984\" xlink:href=\"#DejaVuSans-111\"/>\n     <use x=\"105.265625\" xlink:href=\"#DejaVuSans-112\"/>\n     <use x=\"168.742188\" xlink:href=\"#DejaVuSans-32\"/>\n     <use x=\"200.529297\" xlink:href=\"#DejaVuSans-52\"/>\n     <use x=\"264.152344\" xlink:href=\"#DejaVuSans-32\"/>\n     <use x=\"295.939453\" xlink:href=\"#DejaVuSans-70\"/>\n     <use x=\"347.958984\" xlink:href=\"#DejaVuSans-101\"/>\n     <use x=\"409.482422\" xlink:href=\"#DejaVuSans-97\"/>\n     <use x=\"470.761719\" xlink:href=\"#DejaVuSans-116\"/>\n     <use x=\"509.970703\" xlink:href=\"#DejaVuSans-117\"/>\n     <use x=\"573.349609\" xlink:href=\"#DejaVuSans-114\"/>\n     <use x=\"612.212891\" xlink:href=\"#DejaVuSans-101\"/>\n     <use x=\"673.736328\" xlink:href=\"#DejaVuSans-115\"/>\n    </g>\n   </g>\n  </g>\n </g>\n <defs>\n  <clipPath id=\"p6238dee4ff\">\n   <rect height=\"108.72\" width=\"558\" x=\"67.404688\" y=\"22.318125\"/>\n  </clipPath>\n </defs>\n</svg>\n",
      "image/png": "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\n"
     },
     "metadata": {
      "needs_background": "light"
     }
    }
   ],
   "source": [
    "%matplotlib inline\n",
    "import matplotlib.pyplot as plt\n",
    "\n",
    "rf = pipeline.named_steps['randomforestregressor']\n",
    "importances = pd.Series(rf.feature_importances_, X_train.columns)\n",
    "\n",
    "n = 4\n",
    "plt.figure(figsize=(10,n/2))\n",
    "plt.title(f'Top {n} Features')\n",
    "importances.sort_values()[-n:].plot.barh(color='green');"
   ]
  },
  {
   "cell_type": "code",
   "execution_count": 222,
   "metadata": {},
   "outputs": [
    {
     "output_type": "stream",
     "name": "stdout",
     "text": [
      "[10:45:50] WARNING: src/objective/regression_obj.cu:152: reg:linear is now deprecated in favor of reg:squarederror.\n"
     ]
    },
    {
     "output_type": "execute_result",
     "data": {
      "text/plain": [
       "Pipeline(memory=None,\n",
       "         steps=[('ordinalencoder',\n",
       "                 OrdinalEncoder(cols=['room_type', 'lat_range', 'lon_range'],\n",
       "                                drop_invariant=False, handle_missing='value',\n",
       "                                handle_unknown='value',\n",
       "                                mapping=[{'col': 'room_type',\n",
       "                                          'data_type': dtype('O'),\n",
       "                                          'mapping': Private room       1\n",
       "Entire home/apt    2\n",
       "Hotel room         3\n",
       "Shared room        4\n",
       "NaN               -2\n",
       "dtype: int64},\n",
       "                                         {'col': 'lat_range',\n",
       "                                          'data_type': CategoricalDtype(cate...\n",
       "                              colsample_bylevel=1, colsample_bynode=1,\n",
       "                              colsample_bytree=1, gamma=0,\n",
       "                              importance_type='gain', learning_rate=0.1,\n",
       "                              max_delta_step=0, max_depth=3, min_child_weight=1,\n",
       "                              missing=None, n_estimators=100, n_jobs=-1,\n",
       "                              nthread=None, objective='reg:linear',\n",
       "                              random_state=42, reg_alpha=0, reg_lambda=1,\n",
       "                              scale_pos_weight=1, seed=None, silent=None,\n",
       "                              subsample=1, verbosity=1))],\n",
       "         verbose=False)"
      ]
     },
     "metadata": {},
     "execution_count": 222
    }
   ],
   "source": [
    "# XG Boost model\n",
    "from xgboost import XGBRegressor\n",
    "\n",
    "pipleline_XGB = make_pipeline(\n",
    "    ce.OrdinalEncoder(),\n",
    "    XGBRegressor(n_estimators=100, random_state=42, n_jobs=-1)\n",
    ")\n",
    "\n",
    "pipleline_XGB.fit(X_train,y_train)\n"
   ]
  },
  {
   "cell_type": "code",
   "execution_count": 223,
   "metadata": {},
   "outputs": [
    {
     "output_type": "stream",
     "name": "stdout",
     "text": [
      "R2 Score: 0.029077385380510634\nMean Squared Error: 360752.81639258296\nMean Absolute Error: 166.57516252617754\n"
     ]
    }
   ],
   "source": [
    "# printing metrics\n",
    "pred = pipleline_XGB.predict(X_val)\n",
    "print(\"R2 Score:\", r2_score(y_val,pred))\n",
    "print(\"Mean Squared Error:\", mean_squared_error(y_val,pred))\n",
    "print(\"Mean Absolute Error:\", mean_absolute_error(y_val,pred))"
   ]
  },
  {
   "cell_type": "code",
   "execution_count": 226,
   "metadata": {},
   "outputs": [
    {
     "output_type": "stream",
     "name": "stdout",
     "text": [
      "[11:08:22] WARNING: src/objective/regression_obj.cu:152: reg:linear is now deprecated in favor of reg:squarederror.\nLoaded model ::  Pipeline(memory=None,\n         steps=[('ordinalencoder',\n                 OrdinalEncoder(cols=['room_type', 'lat_range', 'lon_range'],\n                                drop_invariant=False, handle_missing='value',\n                                handle_unknown='value',\n                                mapping=[{'col': 'room_type',\n                                          'data_type': dtype('O'),\n                                          'mapping': Private room       1\nEntire home/apt    2\nHotel room         3\nShared room        4\nNaN               -2\ndtype: int64},\n                                         {'col': 'lat_range',\n                                          'data_type': CategoricalDtype(cate...\n                              colsample_bylevel=1, colsample_bynode=1,\n                              colsample_bytree=1, gamma=0,\n                              importance_type='gain', learning_rate=0.1,\n                              max_delta_step=0, max_depth=3, min_child_weight=1,\n                              missing=nan, n_estimators=100, n_jobs=-1,\n                              nthread=None, objective='reg:linear',\n                              random_state=42, reg_alpha=0, reg_lambda=1,\n                              scale_pos_weight=1, seed=None, silent=None,\n                              subsample=1, verbosity=1))],\n         verbose=False)\n"
     ]
    }
   ],
   "source": [
    "import pickle\n",
    "# Dump the trained XGBoost regressor with Pickle\n",
    "pickle_filename = 'airBnB_model.pkl'\n",
    "pickled_model = open(pickle_filename, 'wb')  # Open the file to save as pkl file\n",
    "pickle.dump(pipleline_XGB, pickled_model)\n",
    "pickled_model.close() # Close the pickle instances\n",
    "# Loading the saved model\n",
    "model_pkl = open(pickle_filename, 'rb')\n",
    "XGB_model = pickle.load(model_pkl)\n",
    "print (\"Loaded model :: \", XGB_model)  # print to verify"
   ]
  },
  {
   "cell_type": "code",
   "execution_count": 228,
   "metadata": {},
   "outputs": [
    {
     "output_type": "execute_result",
     "data": {
      "text/plain": [
       "      room_type lat_range lon_range\n",
       "0  Private room     34:35   -84:-83"
      ],
      "text/html": "<div>\n<style scoped>\n    .dataframe tbody tr th:only-of-type {\n        vertical-align: middle;\n    }\n\n    .dataframe tbody tr th {\n        vertical-align: top;\n    }\n\n    .dataframe thead th {\n        text-align: right;\n    }\n</style>\n<table border=\"1\" class=\"dataframe\">\n  <thead>\n    <tr style=\"text-align: right;\">\n      <th></th>\n      <th>room_type</th>\n      <th>lat_range</th>\n      <th>lon_range</th>\n    </tr>\n  </thead>\n  <tbody>\n    <tr>\n      <td>0</td>\n      <td>Private room</td>\n      <td>34:35</td>\n      <td>-84:-83</td>\n    </tr>\n  </tbody>\n</table>\n</div>"
     },
     "metadata": {},
     "execution_count": 228
    }
   ],
   "source": [
    "# Dummy data to test the pickled model\n",
    "test = pd.DataFrame({'room_type':['Private room'],'lat_range':['34:35'],'lon_range':['-84:-83']})\n",
    "test.head()"
   ]
  },
  {
   "cell_type": "code",
   "execution_count": 231,
   "metadata": {},
   "outputs": [
    {
     "output_type": "stream",
     "name": "stdout",
     "text": [
      "[11:30:33] WARNING: src/objective/regression_obj.cu:152: reg:linear is now deprecated in favor of reg:squarederror.\n113.401184\n"
     ]
    }
   ],
   "source": [
    "# import the pickled model & tested\n",
    "import_pickle = 'airBnB_model.pkl'\n",
    "XGBoost_model = open(import_pickle, 'rb')\n",
    "XGB = pickle.load(XGBoost_model)\n",
    "print(XGB.predict(test)[0])\n",
    "\n",
    "  "
   ]
  },
  {
   "cell_type": "code",
   "execution_count": null,
   "metadata": {},
   "outputs": [],
   "source": []
  }
 ]
>>>>>>> 00c562c01b8bd8076b570cb74ec35b77c766779b
}