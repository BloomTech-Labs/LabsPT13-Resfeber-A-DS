{
  "nbformat": 4,
  "nbformat_minor": 0,
  "metadata": {
    "language_info": {
      "codemirror_mode": {
        "name": "ipython",
        "version": 3
      },
      "file_extension": ".py",
      "mimetype": "text/x-python",
      "name": "python",
      "nbconvert_exporter": "python",
      "pygments_lexer": "ipython3",
      "version": "3.8.5-final"
    },
    "orig_nbformat": 2,
    "kernelspec": {
      "name": "python38564bitnotebookspipenv3ad270c5d441465aa5718ffbf99afdf0",
      "display_name": "Python 3.8.5 64-bit ('notebooks': pipenv)"
    },
    "colab": {
      "name": "airB&B.ipynb",
      "provenance": []
    }
  },
  "cells": [
    {
      "cell_type": "code",
      "metadata": {
        "id": "WQaKFCO-PJmu"
      },
      "source": [
        "# imports\n",
        "import pandas as pd\n"
      ],
      "execution_count": 1,
      "outputs": []
    },
    {
      "cell_type": "code",
      "metadata": {
        "id": "snjje-uTPJmu",
        "outputId": "5b4b8a5a-a90d-494f-f991-4aeded914062"
      },
      "source": [
        "# reading the dataset\n",
        "df = pd.read_csv('Data/AB_US_2020.csv')\n",
        "# first five rows of the dataset\n",
        "df.head()"
      ],
      "execution_count": 2,
      "outputs": [
        {
          "output_type": "execute_result",
          "data": {
            "text/plain": [
              "       id                                               name  host_id  \\\n",
              "0   38585    Charming Victorian home - twin beds + breakfast   165529   \n",
              "1   80905                                   French Chic Loft   427027   \n",
              "2  108061  Walk to stores/parks/downtown. Fenced yard/Pet...   320564   \n",
              "3  155305                 Cottage! BonPaul + Sharky's Hostel   746673   \n",
              "4  160594                                Historic Grove Park   769252   \n",
              "\n",
              "   host_name neighbourhood_group neighbourhood  latitude  longitude  \\\n",
              "0    Evelyne                 NaN         28804  35.65146  -82.62792   \n",
              "1    Celeste                 NaN         28801  35.59779  -82.55540   \n",
              "2       Lisa                 NaN         28801  35.60670  -82.55563   \n",
              "3    BonPaul                 NaN         28806  35.57864  -82.59578   \n",
              "4  Elizabeth                 NaN         28801  35.61442  -82.54127   \n",
              "\n",
              "         room_type  price  minimum_nights  number_of_reviews last_review  \\\n",
              "0     Private room     60               1                138    16/02/20   \n",
              "1  Entire home/apt    470               1                114    07/09/20   \n",
              "2  Entire home/apt     75              30                 89    30/11/19   \n",
              "3  Entire home/apt     90               1                267    22/09/20   \n",
              "4     Private room    125              30                 58    19/10/15   \n",
              "\n",
              "   reviews_per_month  calculated_host_listings_count  availability_365  \\\n",
              "0               1.14                               1                 0   \n",
              "1               1.03                              11               288   \n",
              "2               0.81                               2               298   \n",
              "3               2.39                               5                 0   \n",
              "4               0.52                               1                 0   \n",
              "\n",
              "        city  \n",
              "0  Asheville  \n",
              "1  Asheville  \n",
              "2  Asheville  \n",
              "3  Asheville  \n",
              "4  Asheville  "
            ],
            "text/html": "<div>\n<style scoped>\n    .dataframe tbody tr th:only-of-type {\n        vertical-align: middle;\n    }\n\n    .dataframe tbody tr th {\n        vertical-align: top;\n    }\n\n    .dataframe thead th {\n        text-align: right;\n    }\n</style>\n<table border=\"1\" class=\"dataframe\">\n  <thead>\n    <tr style=\"text-align: right;\">\n      <th></th>\n      <th>id</th>\n      <th>name</th>\n      <th>host_id</th>\n      <th>host_name</th>\n      <th>neighbourhood_group</th>\n      <th>neighbourhood</th>\n      <th>latitude</th>\n      <th>longitude</th>\n      <th>room_type</th>\n      <th>price</th>\n      <th>minimum_nights</th>\n      <th>number_of_reviews</th>\n      <th>last_review</th>\n      <th>reviews_per_month</th>\n      <th>calculated_host_listings_count</th>\n      <th>availability_365</th>\n      <th>city</th>\n    </tr>\n  </thead>\n  <tbody>\n    <tr>\n      <th>0</th>\n      <td>38585</td>\n      <td>Charming Victorian home - twin beds + breakfast</td>\n      <td>165529</td>\n      <td>Evelyne</td>\n      <td>NaN</td>\n      <td>28804</td>\n      <td>35.65146</td>\n      <td>-82.62792</td>\n      <td>Private room</td>\n      <td>60</td>\n      <td>1</td>\n      <td>138</td>\n      <td>16/02/20</td>\n      <td>1.14</td>\n      <td>1</td>\n      <td>0</td>\n      <td>Asheville</td>\n    </tr>\n    <tr>\n      <th>1</th>\n      <td>80905</td>\n      <td>French Chic Loft</td>\n      <td>427027</td>\n      <td>Celeste</td>\n      <td>NaN</td>\n      <td>28801</td>\n      <td>35.59779</td>\n      <td>-82.55540</td>\n      <td>Entire home/apt</td>\n      <td>470</td>\n      <td>1</td>\n      <td>114</td>\n      <td>07/09/20</td>\n      <td>1.03</td>\n      <td>11</td>\n      <td>288</td>\n      <td>Asheville</td>\n    </tr>\n    <tr>\n      <th>2</th>\n      <td>108061</td>\n      <td>Walk to stores/parks/downtown. Fenced yard/Pet...</td>\n      <td>320564</td>\n      <td>Lisa</td>\n      <td>NaN</td>\n      <td>28801</td>\n      <td>35.60670</td>\n      <td>-82.55563</td>\n      <td>Entire home/apt</td>\n      <td>75</td>\n      <td>30</td>\n      <td>89</td>\n      <td>30/11/19</td>\n      <td>0.81</td>\n      <td>2</td>\n      <td>298</td>\n      <td>Asheville</td>\n    </tr>\n    <tr>\n      <th>3</th>\n      <td>155305</td>\n      <td>Cottage! BonPaul + Sharky's Hostel</td>\n      <td>746673</td>\n      <td>BonPaul</td>\n      <td>NaN</td>\n      <td>28806</td>\n      <td>35.57864</td>\n      <td>-82.59578</td>\n      <td>Entire home/apt</td>\n      <td>90</td>\n      <td>1</td>\n      <td>267</td>\n      <td>22/09/20</td>\n      <td>2.39</td>\n      <td>5</td>\n      <td>0</td>\n      <td>Asheville</td>\n    </tr>\n    <tr>\n      <th>4</th>\n      <td>160594</td>\n      <td>Historic Grove Park</td>\n      <td>769252</td>\n      <td>Elizabeth</td>\n      <td>NaN</td>\n      <td>28801</td>\n      <td>35.61442</td>\n      <td>-82.54127</td>\n      <td>Private room</td>\n      <td>125</td>\n      <td>30</td>\n      <td>58</td>\n      <td>19/10/15</td>\n      <td>0.52</td>\n      <td>1</td>\n      <td>0</td>\n      <td>Asheville</td>\n    </tr>\n  </tbody>\n</table>\n</div>"
          },
          "metadata": {},
          "execution_count": 2
        }
      ]
    },
    {
      "cell_type": "code",
      "metadata": {
        "id": "aCf99NZdPJmv",
        "outputId": "55c1531c-e7ce-4996-8183-dc0411d7108e"
      },
      "source": [
        "# shape of the dataset(rows,columns)\n",
        "df.shape"
      ],
      "execution_count": 3,
      "outputs": [
        {
          "output_type": "execute_result",
          "data": {
            "text/plain": [
              "(226030, 17)"
            ]
          },
          "metadata": {},
          "execution_count": 3
        }
      ]
    },
    {
      "cell_type": "code",
      "metadata": {
        "id": "zJXLaOVDPJmv",
        "outputId": "8c3fa1be-32fd-4075-e9df-06bdebe2cd5f"
      },
      "source": [
        "# To find the data types of all the columns\n",
        "df.dtypes"
      ],
      "execution_count": 4,
      "outputs": [
        {
          "output_type": "execute_result",
          "data": {
            "text/plain": [
              "id                                  int64\n",
              "name                               object\n",
              "host_id                             int64\n",
              "host_name                          object\n",
              "neighbourhood_group                object\n",
              "neighbourhood                      object\n",
              "latitude                          float64\n",
              "longitude                         float64\n",
              "room_type                          object\n",
              "price                               int64\n",
              "minimum_nights                      int64\n",
              "number_of_reviews                   int64\n",
              "last_review                        object\n",
              "reviews_per_month                 float64\n",
              "calculated_host_listings_count      int64\n",
              "availability_365                    int64\n",
              "city                               object\n",
              "dtype: object"
            ]
          },
          "metadata": {},
          "execution_count": 4
        }
      ]
    },
    {
      "cell_type": "code",
      "metadata": {
        "id": "NFMyjk-0PJmv",
        "outputId": "6cda08ba-0a9f-4079-92f8-aa5d786f8e4d"
      },
      "source": [
        "# To find null or missing values\n",
        "df.isnull().sum()"
      ],
      "execution_count": 5,
      "outputs": [
        {
          "output_type": "execute_result",
          "data": {
            "text/plain": [
              "id                                     0\n",
              "name                                  28\n",
              "host_id                                0\n",
              "host_name                             33\n",
              "neighbourhood_group               115845\n",
              "neighbourhood                          0\n",
              "latitude                               0\n",
              "longitude                              0\n",
              "room_type                              0\n",
              "price                                  0\n",
              "minimum_nights                         0\n",
              "number_of_reviews                      0\n",
              "last_review                        48602\n",
              "reviews_per_month                  48602\n",
              "calculated_host_listings_count         0\n",
              "availability_365                       0\n",
              "city                                   0\n",
              "dtype: int64"
            ]
          },
          "metadata": {},
          "execution_count": 5
        }
      ]
    },
    {
      "cell_type": "code",
      "metadata": {
        "id": "wO4_PJ1BPJmv",
        "outputId": "8a008f79-3df8-4394-ca6f-b4f543e46a09"
      },
      "source": [
        "# occurrences of different room_type in a column\n",
        "df['room_type'].value_counts()"
      ],
      "execution_count": 6,
      "outputs": [
        {
          "output_type": "execute_result",
          "data": {
            "text/plain": [
              "Entire home/apt    154173\n",
              "Private room        65887\n",
              "Shared room          4029\n",
              "Hotel room           1941\n",
              "Name: room_type, dtype: int64"
            ]
          },
          "metadata": {},
          "execution_count": 6
        }
      ]
    },
    {
      "cell_type": "code",
      "metadata": {
        "id": "rZ5jGVh3PJmv",
        "outputId": "17123477-c75a-4d36-b14b-4e61e7de1a3c"
      },
      "source": [
        "# occurrences of different cities in a column\n",
        "df['city'].value_counts()"
      ],
      "execution_count": 7,
      "outputs": [
        {
          "output_type": "execute_result",
          "data": {
            "text/plain": [
              "New York City        45756\n",
              "Los Angeles          31536\n",
              "Hawaii               22434\n",
              "San Diego            12404\n",
              "Broward County       10858\n",
              "Austin               10436\n",
              "Clark County          8408\n",
              "Washington D.C.       7350\n",
              "San Clara Country     7091\n",
              "San Francisco         7053\n",
              "Seattle               6575\n",
              "Twin Cities MSA       6470\n",
              "New Orleans           6408\n",
              "Chicago               6397\n",
              "Nashville             6139\n",
              "Portland              4281\n",
              "Denver                4200\n",
              "Rhode Island          3884\n",
              "Boston                3339\n",
              "Oakland               3204\n",
              "San Mateo County      2855\n",
              "Jersey City           2488\n",
              "Asheville             2074\n",
              "Santa Cruz County     1571\n",
              "Columbus              1409\n",
              "Cambridge             1029\n",
              "Salem                  202\n",
              "Pacific Grove          179\n",
              "Name: city, dtype: int64"
            ]
          },
          "metadata": {},
          "execution_count": 7
        }
      ]
    },
    {
      "cell_type": "code",
      "metadata": {
        "id": "8Txn6w5gPJmv",
        "outputId": "23b1112b-7bb0-489f-c0db-15d96e993a6f"
      },
      "source": [
        "# occurrences of different neighbourhood\n",
        "df['neighbourhood'].value_counts()"
      ],
      "execution_count": 8,
      "outputs": [
        {
          "output_type": "execute_result",
          "data": {
            "text/plain": [
              "Unincorporated Areas    8020\n",
              "Hollywood               4384\n",
              "Primary Urban Center    4179\n",
              "Hennepin                3935\n",
              "Kihei-Makena            3894\n",
              "                        ... \n",
              "East Side                  1\n",
              "North Kennedy Tract        1\n",
              "Village De Lest            1\n",
              "Lake Hughes                1\n",
              "Woodrow                    1\n",
              "Name: neighbourhood, Length: 1450, dtype: int64"
            ]
          },
          "metadata": {},
          "execution_count": 8
        }
      ]
    },
    {
      "cell_type": "code",
      "metadata": {
        "id": "ehQ8OZJEPJmw",
        "outputId": "50a4df6f-5ad5-48ac-fede-5f0b252e144d"
      },
      "source": [
        "# first 5 values of neighbourhood column\n",
        "df['neighbourhood'].head()"
      ],
      "execution_count": 9,
      "outputs": [
        {
          "output_type": "execute_result",
          "data": {
            "text/plain": [
              "0    28804\n",
              "1    28801\n",
              "2    28801\n",
              "3    28806\n",
              "4    28801\n",
              "Name: neighbourhood, dtype: object"
            ]
          },
          "metadata": {},
          "execution_count": 9
        }
      ]
    },
    {
      "cell_type": "code",
      "metadata": {
        "id": "lcP9c2PMPJmw",
        "outputId": "9f52e8e1-fc7d-4ff4-fd70-b7d0f0e50113"
      },
      "source": [
        "# last 5 values of neighbourhood column\n",
        "df['neighbourhood'].tail()"
      ],
      "execution_count": 10,
      "outputs": [
        {
          "output_type": "execute_result",
          "data": {
            "text/plain": [
              "226025    Downtown, Chinatown, Penn Quarters, Mount Vern...\n",
              "226026                        Brookland, Brentwood, Langdon\n",
              "226027                                   Shaw, Logan Circle\n",
              "226028       Kalorama Heights, Adams Morgan, Lanier Heights\n",
              "226029    Edgewood, Bloomingdale, Truxton Circle, Eckington\n",
              "Name: neighbourhood, dtype: object"
            ]
          },
          "metadata": {},
          "execution_count": 10
        }
      ]
    },
    {
      "cell_type": "code",
      "metadata": {
        "id": "_hUJ8DuSPJmw",
        "outputId": "946e7936-90a7-46da-dc6c-85e654dd77f5"
      },
      "source": [
        "# occurrences of different neighbourhood_group\n",
        "df['neighbourhood_group'].value_counts()"
      ],
      "execution_count": 11,
      "outputs": [
        {
          "output_type": "execute_result",
          "data": {
            "text/plain": [
              "Manhattan               20236\n",
              "Brooklyn                18263\n",
              "City of Los Angeles     17544\n",
              "Other Cities            11463\n",
              "Maui                     7897\n",
              "Honolulu                 6313\n",
              "Queens                   5746\n",
              "Hawaii                   4977\n",
              "Kauai                    3247\n",
              "Unincorporated Areas     2529\n",
              "Newport                  1412\n",
              "Other neighborhoods      1253\n",
              "Washington               1201\n",
              "Bronx                    1185\n",
              "Providence               1056\n",
              "Downtown                 1043\n",
              "Capitol Hill              682\n",
              "Central Area              572\n",
              "Queen Anne                459\n",
              "West Seattle              378\n",
              "Ballard                   369\n",
              "Rainier Valley            357\n",
              "Staten Island             326\n",
              "Cascade                   268\n",
              "Beacon Hill               252\n",
              "University District       238\n",
              "Delridge                  201\n",
              "Northgate                 150\n",
              "Magnolia                  132\n",
              "Lake City                 118\n",
              "Kent                      108\n",
              "Bristol                   107\n",
              "Seward Park                69\n",
              "Interbay                   34\n",
              "Name: neighbourhood_group, dtype: int64"
            ]
          },
          "metadata": {},
          "execution_count": 11
        }
      ]
    },
    {
      "cell_type": "code",
      "metadata": {
        "id": "FGTVJmMRPJmw",
        "outputId": "be08d21a-eeb5-44dc-e9b6-190eff8e8066"
      },
      "source": [
        "pd.options.display.max_rows = 20\n",
        "df[\"minimum_nights\"].value_counts()"
      ],
      "execution_count": 12,
      "outputs": [
        {
          "output_type": "execute_result",
          "data": {
            "text/plain": [
              "1      60427\n",
              "2      54748\n",
              "30     33532\n",
              "3      30931\n",
              "4       9513\n",
              "       ...  \n",
              "49         1\n",
              "345        1\n",
              "229        1\n",
              "102        1\n",
              "456        1\n",
              "Name: minimum_nights, Length: 169, dtype: int64"
            ]
          },
          "metadata": {},
          "execution_count": 12
        }
      ]
    },
    {
      "cell_type": "code",
      "metadata": {
        "id": "dnjuL9hfPJmw"
      },
      "source": [
        "# dropped the irrelevant columns and created new dataframe\n",
        "new_df = df.drop(['host_name','host_id','neighbourhood_group','neighbourhood','last_review'], axis=1)"
      ],
      "execution_count": 13,
      "outputs": []
    },
    {
      "cell_type": "code",
      "metadata": {
        "id": "0kABnq1NPJmw",
        "outputId": "ead5b6eb-7069-4988-bdf7-050737d0f3a6"
      },
      "source": [
        "# first 5 rows of new dataset\n",
        "new_df.head()"
      ],
      "execution_count": 14,
      "outputs": [
        {
          "output_type": "execute_result",
          "data": {
            "text/plain": [
              "       id                                               name  latitude  \\\n",
              "0   38585    Charming Victorian home - twin beds + breakfast  35.65146   \n",
              "1   80905                                   French Chic Loft  35.59779   \n",
              "2  108061  Walk to stores/parks/downtown. Fenced yard/Pet...  35.60670   \n",
              "3  155305                 Cottage! BonPaul + Sharky's Hostel  35.57864   \n",
              "4  160594                                Historic Grove Park  35.61442   \n",
              "\n",
              "   longitude        room_type  price  minimum_nights  number_of_reviews  \\\n",
              "0  -82.62792     Private room     60               1                138   \n",
              "1  -82.55540  Entire home/apt    470               1                114   \n",
              "2  -82.55563  Entire home/apt     75              30                 89   \n",
              "3  -82.59578  Entire home/apt     90               1                267   \n",
              "4  -82.54127     Private room    125              30                 58   \n",
              "\n",
              "   reviews_per_month  calculated_host_listings_count  availability_365  \\\n",
              "0               1.14                               1                 0   \n",
              "1               1.03                              11               288   \n",
              "2               0.81                               2               298   \n",
              "3               2.39                               5                 0   \n",
              "4               0.52                               1                 0   \n",
              "\n",
              "        city  \n",
              "0  Asheville  \n",
              "1  Asheville  \n",
              "2  Asheville  \n",
              "3  Asheville  \n",
              "4  Asheville  "
            ],
            "text/html": "<div>\n<style scoped>\n    .dataframe tbody tr th:only-of-type {\n        vertical-align: middle;\n    }\n\n    .dataframe tbody tr th {\n        vertical-align: top;\n    }\n\n    .dataframe thead th {\n        text-align: right;\n    }\n</style>\n<table border=\"1\" class=\"dataframe\">\n  <thead>\n    <tr style=\"text-align: right;\">\n      <th></th>\n      <th>id</th>\n      <th>name</th>\n      <th>latitude</th>\n      <th>longitude</th>\n      <th>room_type</th>\n      <th>price</th>\n      <th>minimum_nights</th>\n      <th>number_of_reviews</th>\n      <th>reviews_per_month</th>\n      <th>calculated_host_listings_count</th>\n      <th>availability_365</th>\n      <th>city</th>\n    </tr>\n  </thead>\n  <tbody>\n    <tr>\n      <th>0</th>\n      <td>38585</td>\n      <td>Charming Victorian home - twin beds + breakfast</td>\n      <td>35.65146</td>\n      <td>-82.62792</td>\n      <td>Private room</td>\n      <td>60</td>\n      <td>1</td>\n      <td>138</td>\n      <td>1.14</td>\n      <td>1</td>\n      <td>0</td>\n      <td>Asheville</td>\n    </tr>\n    <tr>\n      <th>1</th>\n      <td>80905</td>\n      <td>French Chic Loft</td>\n      <td>35.59779</td>\n      <td>-82.55540</td>\n      <td>Entire home/apt</td>\n      <td>470</td>\n      <td>1</td>\n      <td>114</td>\n      <td>1.03</td>\n      <td>11</td>\n      <td>288</td>\n      <td>Asheville</td>\n    </tr>\n    <tr>\n      <th>2</th>\n      <td>108061</td>\n      <td>Walk to stores/parks/downtown. Fenced yard/Pet...</td>\n      <td>35.60670</td>\n      <td>-82.55563</td>\n      <td>Entire home/apt</td>\n      <td>75</td>\n      <td>30</td>\n      <td>89</td>\n      <td>0.81</td>\n      <td>2</td>\n      <td>298</td>\n      <td>Asheville</td>\n    </tr>\n    <tr>\n      <th>3</th>\n      <td>155305</td>\n      <td>Cottage! BonPaul + Sharky's Hostel</td>\n      <td>35.57864</td>\n      <td>-82.59578</td>\n      <td>Entire home/apt</td>\n      <td>90</td>\n      <td>1</td>\n      <td>267</td>\n      <td>2.39</td>\n      <td>5</td>\n      <td>0</td>\n      <td>Asheville</td>\n    </tr>\n    <tr>\n      <th>4</th>\n      <td>160594</td>\n      <td>Historic Grove Park</td>\n      <td>35.61442</td>\n      <td>-82.54127</td>\n      <td>Private room</td>\n      <td>125</td>\n      <td>30</td>\n      <td>58</td>\n      <td>0.52</td>\n      <td>1</td>\n      <td>0</td>\n      <td>Asheville</td>\n    </tr>\n  </tbody>\n</table>\n</div>"
          },
          "metadata": {},
          "execution_count": 14
        }
      ]
    },
    {
      "cell_type": "code",
      "metadata": {
        "id": "iRVREeTpPJmw"
      },
      "source": [
        "# replacing NaN values for the reviews_per_month column\n",
        "new_df['reviews_per_month'] = new_df['reviews_per_month'].fillna(0)\n"
      ],
      "execution_count": 15,
      "outputs": []
    },
    {
      "cell_type": "code",
      "metadata": {
        "id": "yCDNHqCdPJmw",
        "outputId": "7629befd-d296-462c-bb2f-a24b75065f0d"
      },
      "source": [
        "# checking again the column if there is any null value but now there is no null vales\n",
        "new_df['reviews_per_month'].isnull().sum()"
      ],
      "execution_count": 16,
      "outputs": [
        {
          "output_type": "execute_result",
          "data": {
            "text/plain": [
              "0"
            ]
          },
          "metadata": {},
          "execution_count": 16
        }
      ]
    },
    {
      "cell_type": "code",
      "metadata": {
        "id": "6qsnm_AhPJmw",
        "outputId": "349d9c42-10ce-4cba-a452-dc37692e9dde"
      },
      "source": [
        "# check all the null or missing or NaN values\n",
        "new_df.isnull().sum()"
      ],
      "execution_count": 17,
      "outputs": [
        {
          "output_type": "execute_result",
          "data": {
            "text/plain": [
              "id                                 0\n",
              "name                              28\n",
              "latitude                           0\n",
              "longitude                          0\n",
              "room_type                          0\n",
              "price                              0\n",
              "minimum_nights                     0\n",
              "number_of_reviews                  0\n",
              "reviews_per_month                  0\n",
              "calculated_host_listings_count     0\n",
              "availability_365                   0\n",
              "city                               0\n",
              "dtype: int64"
            ]
          },
          "metadata": {},
          "execution_count": 17
        }
      ]
    },
    {
      "cell_type": "code",
      "metadata": {
        "id": "CWnuko_0PJmw",
        "outputId": "b632be08-7371-405c-ea31-91202492fff9"
      },
      "source": [
        "# To find null values in the name column\n",
        "new_df[new_df['name'].isnull()].head()\n"
      ],
      "execution_count": 18,
      "outputs": [
        {
          "output_type": "execute_result",
          "data": {
            "text/plain": [
              "              id name  latitude  longitude        room_type  price  \\\n",
              "23691   39717529  NaN  26.28332  -80.10731  Entire home/apt     79   \n",
              "81872   17108083  NaN  34.17216 -118.11699     Private room    125   \n",
              "93004   33877948  NaN  34.41328 -118.44301     Private room     40   \n",
              "119475   1615764  NaN  40.71239  -74.01620  Entire home/apt    400   \n",
              "120149   2232600  NaN  40.73215  -73.98821  Entire home/apt    200   \n",
              "\n",
              "        minimum_nights  number_of_reviews  reviews_per_month  \\\n",
              "23691                2                 16               2.23   \n",
              "81872                2                  0               0.00   \n",
              "93004                1                 10               0.64   \n",
              "119475            1000                  0               0.00   \n",
              "120149               1                 28               0.37   \n",
              "\n",
              "        calculated_host_listings_count  availability_365            city  \n",
              "23691                                2               136  Broward County  \n",
              "81872                                1               179     Los Angeles  \n",
              "93004                                1               129     Los Angeles  \n",
              "119475                               1               362   New York City  \n",
              "120149                               1               364   New York City  "
            ],
            "text/html": "<div>\n<style scoped>\n    .dataframe tbody tr th:only-of-type {\n        vertical-align: middle;\n    }\n\n    .dataframe tbody tr th {\n        vertical-align: top;\n    }\n\n    .dataframe thead th {\n        text-align: right;\n    }\n</style>\n<table border=\"1\" class=\"dataframe\">\n  <thead>\n    <tr style=\"text-align: right;\">\n      <th></th>\n      <th>id</th>\n      <th>name</th>\n      <th>latitude</th>\n      <th>longitude</th>\n      <th>room_type</th>\n      <th>price</th>\n      <th>minimum_nights</th>\n      <th>number_of_reviews</th>\n      <th>reviews_per_month</th>\n      <th>calculated_host_listings_count</th>\n      <th>availability_365</th>\n      <th>city</th>\n    </tr>\n  </thead>\n  <tbody>\n    <tr>\n      <th>23691</th>\n      <td>39717529</td>\n      <td>NaN</td>\n      <td>26.28332</td>\n      <td>-80.10731</td>\n      <td>Entire home/apt</td>\n      <td>79</td>\n      <td>2</td>\n      <td>16</td>\n      <td>2.23</td>\n      <td>2</td>\n      <td>136</td>\n      <td>Broward County</td>\n    </tr>\n    <tr>\n      <th>81872</th>\n      <td>17108083</td>\n      <td>NaN</td>\n      <td>34.17216</td>\n      <td>-118.11699</td>\n      <td>Private room</td>\n      <td>125</td>\n      <td>2</td>\n      <td>0</td>\n      <td>0.00</td>\n      <td>1</td>\n      <td>179</td>\n      <td>Los Angeles</td>\n    </tr>\n    <tr>\n      <th>93004</th>\n      <td>33877948</td>\n      <td>NaN</td>\n      <td>34.41328</td>\n      <td>-118.44301</td>\n      <td>Private room</td>\n      <td>40</td>\n      <td>1</td>\n      <td>10</td>\n      <td>0.64</td>\n      <td>1</td>\n      <td>129</td>\n      <td>Los Angeles</td>\n    </tr>\n    <tr>\n      <th>119475</th>\n      <td>1615764</td>\n      <td>NaN</td>\n      <td>40.71239</td>\n      <td>-74.01620</td>\n      <td>Entire home/apt</td>\n      <td>400</td>\n      <td>1000</td>\n      <td>0</td>\n      <td>0.00</td>\n      <td>1</td>\n      <td>362</td>\n      <td>New York City</td>\n    </tr>\n    <tr>\n      <th>120149</th>\n      <td>2232600</td>\n      <td>NaN</td>\n      <td>40.73215</td>\n      <td>-73.98821</td>\n      <td>Entire home/apt</td>\n      <td>200</td>\n      <td>1</td>\n      <td>28</td>\n      <td>0.37</td>\n      <td>1</td>\n      <td>364</td>\n      <td>New York City</td>\n    </tr>\n  </tbody>\n</table>\n</div>"
          },
          "metadata": {},
          "execution_count": 18
        }
      ]
    },
    {
      "cell_type": "code",
      "metadata": {
        "id": "fqSaCMUvPJmw"
      },
      "source": [
        "# replacing NaN values with no_name\n",
        "new_df['name'].fillna('no_name', inplace = True) "
      ],
      "execution_count": 19,
      "outputs": []
    },
    {
      "cell_type": "code",
      "metadata": {
        "id": "a7lO6fR6PJmw",
        "outputId": "ec07a7db-de9f-4b37-ca67-a9ade96c2a22"
      },
      "source": [
        "# check for null values again\n",
        "new_df.isnull().sum()"
      ],
      "execution_count": 20,
      "outputs": [
        {
          "output_type": "execute_result",
          "data": {
            "text/plain": [
              "id                                0\n",
              "name                              0\n",
              "latitude                          0\n",
              "longitude                         0\n",
              "room_type                         0\n",
              "price                             0\n",
              "minimum_nights                    0\n",
              "number_of_reviews                 0\n",
              "reviews_per_month                 0\n",
              "calculated_host_listings_count    0\n",
              "availability_365                  0\n",
              "city                              0\n",
              "dtype: int64"
            ]
          },
          "metadata": {},
          "execution_count": 20
        }
      ]
    },
    {
      "cell_type": "code",
      "metadata": {
        "id": "wdJ0qz19PJmw",
        "outputId": "1a2b5c56-4c0b-4102-c248-086b1dd7ba1f"
      },
      "source": [
        "# check the dataset again\n",
        "new_df.head()"
      ],
      "execution_count": 21,
      "outputs": [
        {
          "output_type": "execute_result",
          "data": {
            "text/plain": [
              "       id                                               name  latitude  \\\n",
              "0   38585    Charming Victorian home - twin beds + breakfast  35.65146   \n",
              "1   80905                                   French Chic Loft  35.59779   \n",
              "2  108061  Walk to stores/parks/downtown. Fenced yard/Pet...  35.60670   \n",
              "3  155305                 Cottage! BonPaul + Sharky's Hostel  35.57864   \n",
              "4  160594                                Historic Grove Park  35.61442   \n",
              "\n",
              "   longitude        room_type  price  minimum_nights  number_of_reviews  \\\n",
              "0  -82.62792     Private room     60               1                138   \n",
              "1  -82.55540  Entire home/apt    470               1                114   \n",
              "2  -82.55563  Entire home/apt     75              30                 89   \n",
              "3  -82.59578  Entire home/apt     90               1                267   \n",
              "4  -82.54127     Private room    125              30                 58   \n",
              "\n",
              "   reviews_per_month  calculated_host_listings_count  availability_365  \\\n",
              "0               1.14                               1                 0   \n",
              "1               1.03                              11               288   \n",
              "2               0.81                               2               298   \n",
              "3               2.39                               5                 0   \n",
              "4               0.52                               1                 0   \n",
              "\n",
              "        city  \n",
              "0  Asheville  \n",
              "1  Asheville  \n",
              "2  Asheville  \n",
              "3  Asheville  \n",
              "4  Asheville  "
            ],
            "text/html": "<div>\n<style scoped>\n    .dataframe tbody tr th:only-of-type {\n        vertical-align: middle;\n    }\n\n    .dataframe tbody tr th {\n        vertical-align: top;\n    }\n\n    .dataframe thead th {\n        text-align: right;\n    }\n</style>\n<table border=\"1\" class=\"dataframe\">\n  <thead>\n    <tr style=\"text-align: right;\">\n      <th></th>\n      <th>id</th>\n      <th>name</th>\n      <th>latitude</th>\n      <th>longitude</th>\n      <th>room_type</th>\n      <th>price</th>\n      <th>minimum_nights</th>\n      <th>number_of_reviews</th>\n      <th>reviews_per_month</th>\n      <th>calculated_host_listings_count</th>\n      <th>availability_365</th>\n      <th>city</th>\n    </tr>\n  </thead>\n  <tbody>\n    <tr>\n      <th>0</th>\n      <td>38585</td>\n      <td>Charming Victorian home - twin beds + breakfast</td>\n      <td>35.65146</td>\n      <td>-82.62792</td>\n      <td>Private room</td>\n      <td>60</td>\n      <td>1</td>\n      <td>138</td>\n      <td>1.14</td>\n      <td>1</td>\n      <td>0</td>\n      <td>Asheville</td>\n    </tr>\n    <tr>\n      <th>1</th>\n      <td>80905</td>\n      <td>French Chic Loft</td>\n      <td>35.59779</td>\n      <td>-82.55540</td>\n      <td>Entire home/apt</td>\n      <td>470</td>\n      <td>1</td>\n      <td>114</td>\n      <td>1.03</td>\n      <td>11</td>\n      <td>288</td>\n      <td>Asheville</td>\n    </tr>\n    <tr>\n      <th>2</th>\n      <td>108061</td>\n      <td>Walk to stores/parks/downtown. Fenced yard/Pet...</td>\n      <td>35.60670</td>\n      <td>-82.55563</td>\n      <td>Entire home/apt</td>\n      <td>75</td>\n      <td>30</td>\n      <td>89</td>\n      <td>0.81</td>\n      <td>2</td>\n      <td>298</td>\n      <td>Asheville</td>\n    </tr>\n    <tr>\n      <th>3</th>\n      <td>155305</td>\n      <td>Cottage! BonPaul + Sharky's Hostel</td>\n      <td>35.57864</td>\n      <td>-82.59578</td>\n      <td>Entire home/apt</td>\n      <td>90</td>\n      <td>1</td>\n      <td>267</td>\n      <td>2.39</td>\n      <td>5</td>\n      <td>0</td>\n      <td>Asheville</td>\n    </tr>\n    <tr>\n      <th>4</th>\n      <td>160594</td>\n      <td>Historic Grove Park</td>\n      <td>35.61442</td>\n      <td>-82.54127</td>\n      <td>Private room</td>\n      <td>125</td>\n      <td>30</td>\n      <td>58</td>\n      <td>0.52</td>\n      <td>1</td>\n      <td>0</td>\n      <td>Asheville</td>\n    </tr>\n  </tbody>\n</table>\n</div>"
          },
          "metadata": {},
          "execution_count": 21
        }
      ]
    },
    {
      "cell_type": "code",
      "metadata": {
        "id": "IfDzt9XqPJmw",
        "outputId": "89dac8a3-e262-45db-f654-fedee852aaa9"
      },
      "source": [
        "new_df = new_df.drop(['id','name'],axis=1)\n",
        "new_df.head()"
      ],
      "execution_count": 22,
      "outputs": [
        {
          "output_type": "execute_result",
          "data": {
            "text/plain": [
              "   latitude  longitude        room_type  price  minimum_nights  \\\n",
              "0  35.65146  -82.62792     Private room     60               1   \n",
              "1  35.59779  -82.55540  Entire home/apt    470               1   \n",
              "2  35.60670  -82.55563  Entire home/apt     75              30   \n",
              "3  35.57864  -82.59578  Entire home/apt     90               1   \n",
              "4  35.61442  -82.54127     Private room    125              30   \n",
              "\n",
              "   number_of_reviews  reviews_per_month  calculated_host_listings_count  \\\n",
              "0                138               1.14                               1   \n",
              "1                114               1.03                              11   \n",
              "2                 89               0.81                               2   \n",
              "3                267               2.39                               5   \n",
              "4                 58               0.52                               1   \n",
              "\n",
              "   availability_365       city  \n",
              "0                 0  Asheville  \n",
              "1               288  Asheville  \n",
              "2               298  Asheville  \n",
              "3                 0  Asheville  \n",
              "4                 0  Asheville  "
            ],
            "text/html": "<div>\n<style scoped>\n    .dataframe tbody tr th:only-of-type {\n        vertical-align: middle;\n    }\n\n    .dataframe tbody tr th {\n        vertical-align: top;\n    }\n\n    .dataframe thead th {\n        text-align: right;\n    }\n</style>\n<table border=\"1\" class=\"dataframe\">\n  <thead>\n    <tr style=\"text-align: right;\">\n      <th></th>\n      <th>latitude</th>\n      <th>longitude</th>\n      <th>room_type</th>\n      <th>price</th>\n      <th>minimum_nights</th>\n      <th>number_of_reviews</th>\n      <th>reviews_per_month</th>\n      <th>calculated_host_listings_count</th>\n      <th>availability_365</th>\n      <th>city</th>\n    </tr>\n  </thead>\n  <tbody>\n    <tr>\n      <th>0</th>\n      <td>35.65146</td>\n      <td>-82.62792</td>\n      <td>Private room</td>\n      <td>60</td>\n      <td>1</td>\n      <td>138</td>\n      <td>1.14</td>\n      <td>1</td>\n      <td>0</td>\n      <td>Asheville</td>\n    </tr>\n    <tr>\n      <th>1</th>\n      <td>35.59779</td>\n      <td>-82.55540</td>\n      <td>Entire home/apt</td>\n      <td>470</td>\n      <td>1</td>\n      <td>114</td>\n      <td>1.03</td>\n      <td>11</td>\n      <td>288</td>\n      <td>Asheville</td>\n    </tr>\n    <tr>\n      <th>2</th>\n      <td>35.60670</td>\n      <td>-82.55563</td>\n      <td>Entire home/apt</td>\n      <td>75</td>\n      <td>30</td>\n      <td>89</td>\n      <td>0.81</td>\n      <td>2</td>\n      <td>298</td>\n      <td>Asheville</td>\n    </tr>\n    <tr>\n      <th>3</th>\n      <td>35.57864</td>\n      <td>-82.59578</td>\n      <td>Entire home/apt</td>\n      <td>90</td>\n      <td>1</td>\n      <td>267</td>\n      <td>2.39</td>\n      <td>5</td>\n      <td>0</td>\n      <td>Asheville</td>\n    </tr>\n    <tr>\n      <th>4</th>\n      <td>35.61442</td>\n      <td>-82.54127</td>\n      <td>Private room</td>\n      <td>125</td>\n      <td>30</td>\n      <td>58</td>\n      <td>0.52</td>\n      <td>1</td>\n      <td>0</td>\n      <td>Asheville</td>\n    </tr>\n  </tbody>\n</table>\n</div>"
          },
          "metadata": {},
          "execution_count": 22
        }
      ]
    },
    {
      "cell_type": "code",
      "metadata": {
        "id": "2tXrllZhPJmw",
        "outputId": "b5b4858a-dd9c-4d2d-da87-a8a657e70e81"
      },
      "source": [
        "new_df['minimum_nights'].value_counts()"
      ],
      "execution_count": 23,
      "outputs": [
        {
          "output_type": "execute_result",
          "data": {
            "text/plain": [
              "1      60427\n",
              "2      54748\n",
              "30     33532\n",
              "3      30931\n",
              "4       9513\n",
              "       ...  \n",
              "49         1\n",
              "345        1\n",
              "229        1\n",
              "102        1\n",
              "456        1\n",
              "Name: minimum_nights, Length: 169, dtype: int64"
            ]
          },
          "metadata": {},
          "execution_count": 23
        }
      ]
    },
    {
      "cell_type": "code",
      "metadata": {
        "id": "BxiOA5jPPJmw",
        "outputId": "5a19cbd8-af95-4418-d30a-90638e4b8bd5"
      },
      "source": [
        "new_df.shape"
      ],
      "execution_count": 24,
      "outputs": [
        {
          "output_type": "execute_result",
          "data": {
            "text/plain": [
              "(226030, 10)"
            ]
          },
          "metadata": {},
          "execution_count": 24
        }
      ]
    },
    {
      "cell_type": "code",
      "metadata": {
        "id": "IelxALIJPJmw"
      },
      "source": [
        "final_df = new_df[new_df['minimum_nights'] == 1]"
      ],
      "execution_count": 25,
      "outputs": []
    },
    {
      "cell_type": "code",
      "metadata": {
        "id": "xgMeUHCNPJmw",
        "outputId": "8f634f67-e3e3-40d6-d952-71f4260dc856"
      },
      "source": [
        "final_df.head()"
      ],
      "execution_count": 26,
      "outputs": [
        {
          "output_type": "execute_result",
          "data": {
            "text/plain": [
              "    latitude  longitude        room_type  price  minimum_nights  \\\n",
              "0   35.65146  -82.62792     Private room     60               1   \n",
              "1   35.59779  -82.55540  Entire home/apt    470               1   \n",
              "3   35.57864  -82.59578  Entire home/apt     90               1   \n",
              "6   35.58345  -82.59713     Private room     48               1   \n",
              "21  35.62166  -82.55373  Entire home/apt     91               1   \n",
              "\n",
              "    number_of_reviews  reviews_per_month  calculated_host_listings_count  \\\n",
              "0                 138               1.14                               1   \n",
              "1                 114               1.03                              11   \n",
              "3                 267               2.39                               5   \n",
              "6                 137               1.35                               1   \n",
              "21                458               8.15                               1   \n",
              "\n",
              "    availability_365       city  \n",
              "0                  0  Asheville  \n",
              "1                288  Asheville  \n",
              "3                  0  Asheville  \n",
              "6                  0  Asheville  \n",
              "21               340  Asheville  "
            ],
            "text/html": "<div>\n<style scoped>\n    .dataframe tbody tr th:only-of-type {\n        vertical-align: middle;\n    }\n\n    .dataframe tbody tr th {\n        vertical-align: top;\n    }\n\n    .dataframe thead th {\n        text-align: right;\n    }\n</style>\n<table border=\"1\" class=\"dataframe\">\n  <thead>\n    <tr style=\"text-align: right;\">\n      <th></th>\n      <th>latitude</th>\n      <th>longitude</th>\n      <th>room_type</th>\n      <th>price</th>\n      <th>minimum_nights</th>\n      <th>number_of_reviews</th>\n      <th>reviews_per_month</th>\n      <th>calculated_host_listings_count</th>\n      <th>availability_365</th>\n      <th>city</th>\n    </tr>\n  </thead>\n  <tbody>\n    <tr>\n      <th>0</th>\n      <td>35.65146</td>\n      <td>-82.62792</td>\n      <td>Private room</td>\n      <td>60</td>\n      <td>1</td>\n      <td>138</td>\n      <td>1.14</td>\n      <td>1</td>\n      <td>0</td>\n      <td>Asheville</td>\n    </tr>\n    <tr>\n      <th>1</th>\n      <td>35.59779</td>\n      <td>-82.55540</td>\n      <td>Entire home/apt</td>\n      <td>470</td>\n      <td>1</td>\n      <td>114</td>\n      <td>1.03</td>\n      <td>11</td>\n      <td>288</td>\n      <td>Asheville</td>\n    </tr>\n    <tr>\n      <th>3</th>\n      <td>35.57864</td>\n      <td>-82.59578</td>\n      <td>Entire home/apt</td>\n      <td>90</td>\n      <td>1</td>\n      <td>267</td>\n      <td>2.39</td>\n      <td>5</td>\n      <td>0</td>\n      <td>Asheville</td>\n    </tr>\n    <tr>\n      <th>6</th>\n      <td>35.58345</td>\n      <td>-82.59713</td>\n      <td>Private room</td>\n      <td>48</td>\n      <td>1</td>\n      <td>137</td>\n      <td>1.35</td>\n      <td>1</td>\n      <td>0</td>\n      <td>Asheville</td>\n    </tr>\n    <tr>\n      <th>21</th>\n      <td>35.62166</td>\n      <td>-82.55373</td>\n      <td>Entire home/apt</td>\n      <td>91</td>\n      <td>1</td>\n      <td>458</td>\n      <td>8.15</td>\n      <td>1</td>\n      <td>340</td>\n      <td>Asheville</td>\n    </tr>\n  </tbody>\n</table>\n</div>"
          },
          "metadata": {},
          "execution_count": 26
        }
      ]
    },
    {
      "cell_type": "code",
      "metadata": {
        "id": "at07OvZ0PJmw",
        "outputId": "1249fe3f-884b-4a99-95a2-52452772916a"
      },
      "source": [
        "final_df.corr(method='pearson')"
      ],
      "execution_count": 27,
      "outputs": [
        {
          "output_type": "execute_result",
          "data": {
            "text/plain": [
              "                                latitude  longitude     price  minimum_nights  \\\n",
              "latitude                        1.000000   0.555706 -0.049656             NaN   \n",
              "longitude                       0.555706   1.000000 -0.044230             NaN   \n",
              "price                          -0.049656  -0.044230  1.000000             NaN   \n",
              "minimum_nights                       NaN        NaN       NaN             NaN   \n",
              "number_of_reviews               0.066501  -0.038912 -0.073584             NaN   \n",
              "reviews_per_month               0.085133  -0.019243 -0.074318             NaN   \n",
              "calculated_host_listings_count -0.311389  -0.264082  0.120397             NaN   \n",
              "availability_365               -0.183307  -0.155907  0.037368             NaN   \n",
              "\n",
              "                                number_of_reviews  reviews_per_month  \\\n",
              "latitude                                 0.066501           0.085133   \n",
              "longitude                               -0.038912          -0.019243   \n",
              "price                                   -0.073584          -0.074318   \n",
              "minimum_nights                                NaN                NaN   \n",
              "number_of_reviews                        1.000000           0.745543   \n",
              "reviews_per_month                        0.745543           1.000000   \n",
              "calculated_host_listings_count          -0.116144          -0.131784   \n",
              "availability_365                         0.075389           0.074101   \n",
              "\n",
              "                                calculated_host_listings_count  \\\n",
              "latitude                                             -0.311389   \n",
              "longitude                                            -0.264082   \n",
              "price                                                 0.120397   \n",
              "minimum_nights                                             NaN   \n",
              "number_of_reviews                                    -0.116144   \n",
              "reviews_per_month                                    -0.131784   \n",
              "calculated_host_listings_count                        1.000000   \n",
              "availability_365                                      0.160413   \n",
              "\n",
              "                                availability_365  \n",
              "latitude                               -0.183307  \n",
              "longitude                              -0.155907  \n",
              "price                                   0.037368  \n",
              "minimum_nights                               NaN  \n",
              "number_of_reviews                       0.075389  \n",
              "reviews_per_month                       0.074101  \n",
              "calculated_host_listings_count          0.160413  \n",
              "availability_365                        1.000000  "
            ],
            "text/html": "<div>\n<style scoped>\n    .dataframe tbody tr th:only-of-type {\n        vertical-align: middle;\n    }\n\n    .dataframe tbody tr th {\n        vertical-align: top;\n    }\n\n    .dataframe thead th {\n        text-align: right;\n    }\n</style>\n<table border=\"1\" class=\"dataframe\">\n  <thead>\n    <tr style=\"text-align: right;\">\n      <th></th>\n      <th>latitude</th>\n      <th>longitude</th>\n      <th>price</th>\n      <th>minimum_nights</th>\n      <th>number_of_reviews</th>\n      <th>reviews_per_month</th>\n      <th>calculated_host_listings_count</th>\n      <th>availability_365</th>\n    </tr>\n  </thead>\n  <tbody>\n    <tr>\n      <th>latitude</th>\n      <td>1.000000</td>\n      <td>0.555706</td>\n      <td>-0.049656</td>\n      <td>NaN</td>\n      <td>0.066501</td>\n      <td>0.085133</td>\n      <td>-0.311389</td>\n      <td>-0.183307</td>\n    </tr>\n    <tr>\n      <th>longitude</th>\n      <td>0.555706</td>\n      <td>1.000000</td>\n      <td>-0.044230</td>\n      <td>NaN</td>\n      <td>-0.038912</td>\n      <td>-0.019243</td>\n      <td>-0.264082</td>\n      <td>-0.155907</td>\n    </tr>\n    <tr>\n      <th>price</th>\n      <td>-0.049656</td>\n      <td>-0.044230</td>\n      <td>1.000000</td>\n      <td>NaN</td>\n      <td>-0.073584</td>\n      <td>-0.074318</td>\n      <td>0.120397</td>\n      <td>0.037368</td>\n    </tr>\n    <tr>\n      <th>minimum_nights</th>\n      <td>NaN</td>\n      <td>NaN</td>\n      <td>NaN</td>\n      <td>NaN</td>\n      <td>NaN</td>\n      <td>NaN</td>\n      <td>NaN</td>\n      <td>NaN</td>\n    </tr>\n    <tr>\n      <th>number_of_reviews</th>\n      <td>0.066501</td>\n      <td>-0.038912</td>\n      <td>-0.073584</td>\n      <td>NaN</td>\n      <td>1.000000</td>\n      <td>0.745543</td>\n      <td>-0.116144</td>\n      <td>0.075389</td>\n    </tr>\n    <tr>\n      <th>reviews_per_month</th>\n      <td>0.085133</td>\n      <td>-0.019243</td>\n      <td>-0.074318</td>\n      <td>NaN</td>\n      <td>0.745543</td>\n      <td>1.000000</td>\n      <td>-0.131784</td>\n      <td>0.074101</td>\n    </tr>\n    <tr>\n      <th>calculated_host_listings_count</th>\n      <td>-0.311389</td>\n      <td>-0.264082</td>\n      <td>0.120397</td>\n      <td>NaN</td>\n      <td>-0.116144</td>\n      <td>-0.131784</td>\n      <td>1.000000</td>\n      <td>0.160413</td>\n    </tr>\n    <tr>\n      <th>availability_365</th>\n      <td>-0.183307</td>\n      <td>-0.155907</td>\n      <td>0.037368</td>\n      <td>NaN</td>\n      <td>0.075389</td>\n      <td>0.074101</td>\n      <td>0.160413</td>\n      <td>1.000000</td>\n    </tr>\n  </tbody>\n</table>\n</div>"
          },
          "metadata": {},
          "execution_count": 27
        }
      ]
    },
    {
      "cell_type": "code",
      "metadata": {
        "id": "CFIR0m9-PJmw",
        "outputId": "a100bf1d-7a5c-4a41-c54f-4e073a0c465f"
      },
      "source": [
        "final_df.describe()"
      ],
      "execution_count": 28,
      "outputs": [
        {
          "output_type": "execute_result",
          "data": {
            "text/plain": [
              "           latitude     longitude         price  minimum_nights  \\\n",
              "count  60427.000000  60427.000000  60427.000000         60427.0   \n",
              "mean      35.556303   -102.474766    205.555050             1.0   \n",
              "std        6.860733     25.730954    623.062033             0.0   \n",
              "min       18.920990   -159.703450      0.000000             1.0   \n",
              "25%       32.721940   -118.456395     65.000000             1.0   \n",
              "50%       37.111680    -97.739680    100.000000             1.0   \n",
              "75%       40.723095    -77.027765    175.000000             1.0   \n",
              "max       47.734620    -71.004320  15339.000000             1.0   \n",
              "\n",
              "       number_of_reviews  reviews_per_month  calculated_host_listings_count  \\\n",
              "count       60427.000000       60427.000000                    60427.000000   \n",
              "mean           45.511046           1.654343                       12.751204   \n",
              "std            81.219443           2.156201                       32.477454   \n",
              "min             0.000000           0.000000                        1.000000   \n",
              "25%             1.000000           0.060000                        1.000000   \n",
              "50%            10.000000           0.760000                        2.000000   \n",
              "75%            52.000000           2.540000                        8.000000   \n",
              "max           966.000000          44.060000                      260.000000   \n",
              "\n",
              "       availability_365  \n",
              "count      60427.000000  \n",
              "mean         153.740315  \n",
              "std          141.198382  \n",
              "min            0.000000  \n",
              "25%            0.000000  \n",
              "50%          119.000000  \n",
              "75%          311.000000  \n",
              "max          365.000000  "
            ],
            "text/html": "<div>\n<style scoped>\n    .dataframe tbody tr th:only-of-type {\n        vertical-align: middle;\n    }\n\n    .dataframe tbody tr th {\n        vertical-align: top;\n    }\n\n    .dataframe thead th {\n        text-align: right;\n    }\n</style>\n<table border=\"1\" class=\"dataframe\">\n  <thead>\n    <tr style=\"text-align: right;\">\n      <th></th>\n      <th>latitude</th>\n      <th>longitude</th>\n      <th>price</th>\n      <th>minimum_nights</th>\n      <th>number_of_reviews</th>\n      <th>reviews_per_month</th>\n      <th>calculated_host_listings_count</th>\n      <th>availability_365</th>\n    </tr>\n  </thead>\n  <tbody>\n    <tr>\n      <th>count</th>\n      <td>60427.000000</td>\n      <td>60427.000000</td>\n      <td>60427.000000</td>\n      <td>60427.0</td>\n      <td>60427.000000</td>\n      <td>60427.000000</td>\n      <td>60427.000000</td>\n      <td>60427.000000</td>\n    </tr>\n    <tr>\n      <th>mean</th>\n      <td>35.556303</td>\n      <td>-102.474766</td>\n      <td>205.555050</td>\n      <td>1.0</td>\n      <td>45.511046</td>\n      <td>1.654343</td>\n      <td>12.751204</td>\n      <td>153.740315</td>\n    </tr>\n    <tr>\n      <th>std</th>\n      <td>6.860733</td>\n      <td>25.730954</td>\n      <td>623.062033</td>\n      <td>0.0</td>\n      <td>81.219443</td>\n      <td>2.156201</td>\n      <td>32.477454</td>\n      <td>141.198382</td>\n    </tr>\n    <tr>\n      <th>min</th>\n      <td>18.920990</td>\n      <td>-159.703450</td>\n      <td>0.000000</td>\n      <td>1.0</td>\n      <td>0.000000</td>\n      <td>0.000000</td>\n      <td>1.000000</td>\n      <td>0.000000</td>\n    </tr>\n    <tr>\n      <th>25%</th>\n      <td>32.721940</td>\n      <td>-118.456395</td>\n      <td>65.000000</td>\n      <td>1.0</td>\n      <td>1.000000</td>\n      <td>0.060000</td>\n      <td>1.000000</td>\n      <td>0.000000</td>\n    </tr>\n    <tr>\n      <th>50%</th>\n      <td>37.111680</td>\n      <td>-97.739680</td>\n      <td>100.000000</td>\n      <td>1.0</td>\n      <td>10.000000</td>\n      <td>0.760000</td>\n      <td>2.000000</td>\n      <td>119.000000</td>\n    </tr>\n    <tr>\n      <th>75%</th>\n      <td>40.723095</td>\n      <td>-77.027765</td>\n      <td>175.000000</td>\n      <td>1.0</td>\n      <td>52.000000</td>\n      <td>2.540000</td>\n      <td>8.000000</td>\n      <td>311.000000</td>\n    </tr>\n    <tr>\n      <th>max</th>\n      <td>47.734620</td>\n      <td>-71.004320</td>\n      <td>15339.000000</td>\n      <td>1.0</td>\n      <td>966.000000</td>\n      <td>44.060000</td>\n      <td>260.000000</td>\n      <td>365.000000</td>\n    </tr>\n  </tbody>\n</table>\n</div>"
          },
          "metadata": {},
          "execution_count": 28
        }
      ]
    },
    {
      "cell_type": "code",
      "execution_count": 29,
      "metadata": {},
      "outputs": [],
      "source": [
        "import math\n",
        "\n",
        "final_df['latitude'] = final_df['latitude'].apply(math.floor)\n",
        "final_df['longitude'] = final_df['longitude'].apply(math.floor)"
      ]
    },
    {
      "cell_type": "code",
      "execution_count": 30,
      "metadata": {},
      "outputs": [
        {
          "output_type": "execute_result",
          "data": {
            "text/plain": [
              "        latitude  longitude        room_type  price  minimum_nights  \\\n",
              "175889        37       -122  Entire home/apt   2000               1   \n",
              "28008         41        -88     Private room     75               1   \n",
              "4608          30        -98  Entire home/apt    600               1   \n",
              "211675        47       -123  Entire home/apt    199               1   \n",
              "4604          30        -98     Private room    225               1   \n",
              "24422         25        -81  Entire home/apt    150               1   \n",
              "11271         30        -98     Private room     65               1   \n",
              "72413         40        -75  Entire home/apt     90               1   \n",
              "129493        40        -74     Private room     69               1   \n",
              "105982        36        -87  Entire home/apt     80               1   \n",
              "\n",
              "        number_of_reviews  reviews_per_month  calculated_host_listings_count  \\\n",
              "175889                  0               0.00                               1   \n",
              "28008                 307               4.13                               1   \n",
              "4608                    0               0.00                               1   \n",
              "211675                 20               3.64                               3   \n",
              "4604                    0               0.00                               1   \n",
              "24422                   2               0.44                               1   \n",
              "11271                   5               1.14                               6   \n",
              "72413                   4               0.85                               1   \n",
              "129493                123               2.27                               1   \n",
              "105982                204               5.08                               4   \n",
              "\n",
              "        availability_365               city  \n",
              "175889               365  San Clara Country  \n",
              "28008                304            Chicago  \n",
              "4608                   0             Austin  \n",
              "211675               353            Seattle  \n",
              "4604                   0             Austin  \n",
              "24422                179     Broward County  \n",
              "11271                365             Austin  \n",
              "72413                  0        Jersey City  \n",
              "129493                 0      New York City  \n",
              "105982               310          Nashville  "
            ],
            "text/html": "<div>\n<style scoped>\n    .dataframe tbody tr th:only-of-type {\n        vertical-align: middle;\n    }\n\n    .dataframe tbody tr th {\n        vertical-align: top;\n    }\n\n    .dataframe thead th {\n        text-align: right;\n    }\n</style>\n<table border=\"1\" class=\"dataframe\">\n  <thead>\n    <tr style=\"text-align: right;\">\n      <th></th>\n      <th>latitude</th>\n      <th>longitude</th>\n      <th>room_type</th>\n      <th>price</th>\n      <th>minimum_nights</th>\n      <th>number_of_reviews</th>\n      <th>reviews_per_month</th>\n      <th>calculated_host_listings_count</th>\n      <th>availability_365</th>\n      <th>city</th>\n    </tr>\n  </thead>\n  <tbody>\n    <tr>\n      <th>175889</th>\n      <td>37</td>\n      <td>-122</td>\n      <td>Entire home/apt</td>\n      <td>2000</td>\n      <td>1</td>\n      <td>0</td>\n      <td>0.00</td>\n      <td>1</td>\n      <td>365</td>\n      <td>San Clara Country</td>\n    </tr>\n    <tr>\n      <th>28008</th>\n      <td>41</td>\n      <td>-88</td>\n      <td>Private room</td>\n      <td>75</td>\n      <td>1</td>\n      <td>307</td>\n      <td>4.13</td>\n      <td>1</td>\n      <td>304</td>\n      <td>Chicago</td>\n    </tr>\n    <tr>\n      <th>4608</th>\n      <td>30</td>\n      <td>-98</td>\n      <td>Entire home/apt</td>\n      <td>600</td>\n      <td>1</td>\n      <td>0</td>\n      <td>0.00</td>\n      <td>1</td>\n      <td>0</td>\n      <td>Austin</td>\n    </tr>\n    <tr>\n      <th>211675</th>\n      <td>47</td>\n      <td>-123</td>\n      <td>Entire home/apt</td>\n      <td>199</td>\n      <td>1</td>\n      <td>20</td>\n      <td>3.64</td>\n      <td>3</td>\n      <td>353</td>\n      <td>Seattle</td>\n    </tr>\n    <tr>\n      <th>4604</th>\n      <td>30</td>\n      <td>-98</td>\n      <td>Private room</td>\n      <td>225</td>\n      <td>1</td>\n      <td>0</td>\n      <td>0.00</td>\n      <td>1</td>\n      <td>0</td>\n      <td>Austin</td>\n    </tr>\n    <tr>\n      <th>24422</th>\n      <td>25</td>\n      <td>-81</td>\n      <td>Entire home/apt</td>\n      <td>150</td>\n      <td>1</td>\n      <td>2</td>\n      <td>0.44</td>\n      <td>1</td>\n      <td>179</td>\n      <td>Broward County</td>\n    </tr>\n    <tr>\n      <th>11271</th>\n      <td>30</td>\n      <td>-98</td>\n      <td>Private room</td>\n      <td>65</td>\n      <td>1</td>\n      <td>5</td>\n      <td>1.14</td>\n      <td>6</td>\n      <td>365</td>\n      <td>Austin</td>\n    </tr>\n    <tr>\n      <th>72413</th>\n      <td>40</td>\n      <td>-75</td>\n      <td>Entire home/apt</td>\n      <td>90</td>\n      <td>1</td>\n      <td>4</td>\n      <td>0.85</td>\n      <td>1</td>\n      <td>0</td>\n      <td>Jersey City</td>\n    </tr>\n    <tr>\n      <th>129493</th>\n      <td>40</td>\n      <td>-74</td>\n      <td>Private room</td>\n      <td>69</td>\n      <td>1</td>\n      <td>123</td>\n      <td>2.27</td>\n      <td>1</td>\n      <td>0</td>\n      <td>New York City</td>\n    </tr>\n    <tr>\n      <th>105982</th>\n      <td>36</td>\n      <td>-87</td>\n      <td>Entire home/apt</td>\n      <td>80</td>\n      <td>1</td>\n      <td>204</td>\n      <td>5.08</td>\n      <td>4</td>\n      <td>310</td>\n      <td>Nashville</td>\n    </tr>\n  </tbody>\n</table>\n</div>"
          },
          "metadata": {},
          "execution_count": 30
        }
      ],
      "source": [
        "final_df.sample(10)"
      ]
    },
    {
      "cell_type": "code",
      "metadata": {
        "id": "_t3frCPuPJmx"
      },
      "source": [
        "test = final_df[final_df['latitude']== 38] \n",
        "test[test['longitude']==-78].city.value_counts()"
      ],
      "execution_count": 31,
      "outputs": [
        {
          "output_type": "execute_result",
          "data": {
            "text/plain": [
              "Washington D.C.    1355\n",
              "Name: city, dtype: int64"
            ]
          },
          "metadata": {},
          "execution_count": 31
        }
      ]
    },
    {
      "cell_type": "code",
      "metadata": {
        "id": "fSEhQVV4PJmx",
        "outputId": "332cf188-4452-4381-801b-383d1e2b2a41"
      },
      "source": [
        "final_df= final_df[['room_type','latitude', 'longitude', 'price']]"
      ],
      "execution_count": 32,
      "outputs": []
    },
    {
      "cell_type": "code",
      "metadata": {
        "id": "-RqMRvXnPJmx",
        "outputId": "97065ae0-5b1c-477d-a281-9a7768ad4cfc"
      },
      "source": [
        "final_df.sample(5)"
      ],
      "execution_count": 33,
      "outputs": [
        {
          "output_type": "execute_result",
          "data": {
            "text/plain": [
              "              room_type  latitude  longitude  price\n",
              "177072  Entire home/apt        37       -122     78\n",
              "8896    Entire home/apt        30        -98    152\n",
              "178242      Shared room        37       -122     25\n",
              "208212  Entire home/apt        47       -123    109\n",
              "104585  Entire home/apt        34       -119    201"
            ],
            "text/html": "<div>\n<style scoped>\n    .dataframe tbody tr th:only-of-type {\n        vertical-align: middle;\n    }\n\n    .dataframe tbody tr th {\n        vertical-align: top;\n    }\n\n    .dataframe thead th {\n        text-align: right;\n    }\n</style>\n<table border=\"1\" class=\"dataframe\">\n  <thead>\n    <tr style=\"text-align: right;\">\n      <th></th>\n      <th>room_type</th>\n      <th>latitude</th>\n      <th>longitude</th>\n      <th>price</th>\n    </tr>\n  </thead>\n  <tbody>\n    <tr>\n      <th>177072</th>\n      <td>Entire home/apt</td>\n      <td>37</td>\n      <td>-122</td>\n      <td>78</td>\n    </tr>\n    <tr>\n      <th>8896</th>\n      <td>Entire home/apt</td>\n      <td>30</td>\n      <td>-98</td>\n      <td>152</td>\n    </tr>\n    <tr>\n      <th>178242</th>\n      <td>Shared room</td>\n      <td>37</td>\n      <td>-122</td>\n      <td>25</td>\n    </tr>\n    <tr>\n      <th>208212</th>\n      <td>Entire home/apt</td>\n      <td>47</td>\n      <td>-123</td>\n      <td>109</td>\n    </tr>\n    <tr>\n      <th>104585</th>\n      <td>Entire home/apt</td>\n      <td>34</td>\n      <td>-119</td>\n      <td>201</td>\n    </tr>\n  </tbody>\n</table>\n</div>"
          },
          "metadata": {},
          "execution_count": 33
        }
      ]
    },
    {
      "cell_type": "code",
      "execution_count": 34,
      "metadata": {},
      "outputs": [
        {
          "output_type": "execute_result",
          "data": {
            "text/plain": [
              "Entire home/apt    31598\n",
              "Private room       25526\n",
              "Shared room         1865\n",
              "Hotel room          1438\n",
              "Name: room_type, dtype: int64"
            ]
          },
          "metadata": {},
          "execution_count": 34
        }
      ],
      "source": [
        "final_df.room_type.value_counts()"
      ]
    },
    {
      "cell_type": "code",
      "metadata": {
        "id": "JOryxeW5PJmx"
      },
      "source": [
        "# split the data into a training set and a validation set\n",
        "from sklearn.model_selection import train_test_split\n",
        "train, val = train_test_split(final_df, train_size=0.80, test_size=0.20,random_state=42)\n",
        "\n",
        "# set an X and y for train and val\n",
        "target = 'price'\n",
        "X_train = train.drop(columns=target)\n",
        "y_train = train[target]\n",
        "X_val = val.drop(columns=target)\n",
        "y_val = val[target]\n"
      ],
      "execution_count": 35,
      "outputs": []
    },
    {
      "cell_type": "code",
      "metadata": {
        "id": "7FgnVikTPJmx",
        "outputId": "3fd81e9c-b897-426d-df1f-f13c6e9149e8"
      },
      "source": [
        "import category_encoders as ce\n",
        "from sklearn.ensemble import RandomForestRegressor\n",
        "from sklearn.pipeline import make_pipeline\n",
        "from sklearn.metrics import mean_squared_error, r2_score, mean_absolute_error\n",
        "\n",
        "# train a random forest regressor\n",
        "pipeline = make_pipeline(\n",
        "    ce.OrdinalEncoder(),\n",
        "    RandomForestRegressor(n_estimators=50, criterion=\"mse\", max_depth=3, random_state=42,n_jobs=-1)\n",
        ")\n",
        "# fit the data on train and score the data on val\n",
        "pipeline.fit(X_train,y_train)\n"
      ],
      "execution_count": 36,
      "outputs": [
        {
          "output_type": "execute_result",
          "data": {
            "text/plain": [
              "Pipeline(steps=[('ordinalencoder',\n",
              "                 OrdinalEncoder(cols=['room_type'],\n",
              "                                mapping=[{'col': 'room_type',\n",
              "                                          'data_type': dtype('O'),\n",
              "                                          'mapping': Private room       1\n",
              "Entire home/apt    2\n",
              "Hotel room         3\n",
              "Shared room        4\n",
              "NaN               -2\n",
              "dtype: int64}])),\n",
              "                ('randomforestregressor',\n",
              "                 RandomForestRegressor(max_depth=3, n_estimators=50, n_jobs=-1,\n",
              "                                       random_state=42))])"
            ]
          },
          "metadata": {},
          "execution_count": 36
        }
      ]
    },
    {
      "cell_type": "code",
      "metadata": {
        "id": "2vxubYfYPJmx",
        "outputId": "65dc1b09-24e6-45b5-da5b-86bbcf747dba"
      },
      "source": [
        "pred = pipeline.predict(X_val)\n",
        "print(\"R2 Score:\", r2_score(y_val,pred))\n",
        "print(\"Mean Squared Error:\", mean_squared_error(y_val,pred))\n",
        "print(\"Mean Absolute Error:\", mean_absolute_error(y_val,pred))"
      ],
      "execution_count": 37,
      "outputs": [
        {
          "output_type": "stream",
          "name": "stdout",
          "text": [
            "R2 Score: 0.02434721955905983\nMean Squared Error: 362510.34126263764\nMean Absolute Error: 167.8016346298158\n"
          ]
        }
      ]
    },
    {
      "cell_type": "code",
      "metadata": {
        "id": "L4_Io3tiPJmx",
        "outputId": "2609395a-d8cc-48b5-fdde-e3d9b6b02789"
      },
      "source": [
        "import math\n",
        "math.sqrt(mean_squared_error(y_val,pred))"
      ],
      "execution_count": 38,
      "outputs": [
        {
          "output_type": "execute_result",
          "data": {
            "text/plain": [
              "602.0883168295476"
            ]
          },
          "metadata": {},
          "execution_count": 38
        }
      ]
    },
    {
      "cell_type": "code",
      "metadata": {
        "id": "ODDIj8FyPJmx",
        "outputId": "7060ccf2-9ec9-457c-e783-b11fdfa367e0"
      },
      "source": [
        "%matplotlib inline\n",
        "import matplotlib.pyplot as plt\n",
        "\n",
        "rf = pipeline.named_steps['randomforestregressor']\n",
        "importances = pd.Series(rf.feature_importances_, X_train.columns)\n",
        "\n",
        "n = 4\n",
        "plt.figure(figsize=(10,n/2))\n",
        "plt.title(f'Top {n} Features')\n",
        "importances.sort_values()[-n:].plot.barh(color='green');"
      ],
      "execution_count": 39,
      "outputs": [
        {
          "output_type": "display_data",
          "data": {
            "text/plain": "<Figure size 720x144 with 1 Axes>",
            "image/svg+xml": "<?xml version=\"1.0\" encoding=\"utf-8\" standalone=\"no\"?>\n<!DOCTYPE svg PUBLIC \"-//W3C//DTD SVG 1.1//EN\"\n  \"http://www.w3.org/Graphics/SVG/1.1/DTD/svg11.dtd\">\n<!-- Created with matplotlib (https://matplotlib.org/) -->\n<svg height=\"154.91625pt\" version=\"1.1\" viewBox=\"0 0 632.604687 154.91625\" width=\"632.604687pt\" xmlns=\"http://www.w3.org/2000/svg\" xmlns:xlink=\"http://www.w3.org/1999/xlink\">\n <metadata>\n  <rdf:RDF xmlns:cc=\"http://creativecommons.org/ns#\" xmlns:dc=\"http://purl.org/dc/elements/1.1/\" xmlns:rdf=\"http://www.w3.org/1999/02/22-rdf-syntax-ns#\">\n   <cc:Work>\n    <dc:type rdf:resource=\"http://purl.org/dc/dcmitype/StillImage\"/>\n    <dc:date>2020-12-09T19:31:55.709172</dc:date>\n    <dc:format>image/svg+xml</dc:format>\n    <dc:creator>\n     <cc:Agent>\n      <dc:title>Matplotlib v3.3.3, https://matplotlib.org/</dc:title>\n     </cc:Agent>\n    </dc:creator>\n   </cc:Work>\n  </rdf:RDF>\n </metadata>\n <defs>\n  <style type=\"text/css\">*{stroke-linecap:butt;stroke-linejoin:round;}</style>\n </defs>\n <g id=\"figure_1\">\n  <g id=\"patch_1\">\n   <path d=\"M 0 154.91625 \nL 632.604687 154.91625 \nL 632.604687 0 \nL 0 0 \nz\n\" style=\"fill:none;\"/>\n  </g>\n  <g id=\"axes_1\">\n   <g id=\"patch_2\">\n    <path d=\"M 67.404688 131.038125 \nL 625.404688 131.038125 \nL 625.404688 22.318125 \nL 67.404688 22.318125 \nz\n\" style=\"fill:#ffffff;\"/>\n   </g>\n   <g id=\"patch_3\">\n    <path clip-path=\"url(#pf4f4da441b)\" d=\"M 67.404688 121.978125 \nL 92.509143 121.978125 \nL 92.509143 103.858125 \nL 67.404688 103.858125 \nz\n\" style=\"fill:#008000;\"/>\n   </g>\n   <g id=\"patch_4\">\n    <path clip-path=\"url(#pf4f4da441b)\" d=\"M 67.404688 85.738125 \nL 407.395115 85.738125 \nL 407.395115 67.618125 \nL 67.404688 67.618125 \nz\n\" style=\"fill:#008000;\"/>\n   </g>\n   <g id=\"patch_5\">\n    <path clip-path=\"url(#pf4f4da441b)\" d=\"M 67.404688 49.498125 \nL 598.833259 49.498125 \nL 598.833259 31.378125 \nL 67.404688 31.378125 \nz\n\" style=\"fill:#008000;\"/>\n   </g>\n   <g id=\"matplotlib.axis_1\">\n    <g id=\"xtick_1\">\n     <g id=\"line2d_1\">\n      <defs>\n       <path d=\"M 0 0 \nL 0 3.5 \n\" id=\"m8670f21bcc\" style=\"stroke:#000000;stroke-width:0.8;\"/>\n      </defs>\n      <g>\n       <use style=\"stroke:#000000;stroke-width:0.8;\" x=\"67.404688\" xlink:href=\"#m8670f21bcc\" y=\"131.038125\"/>\n      </g>\n     </g>\n     <g id=\"text_1\">\n      <!-- 0.0 -->\n      <g transform=\"translate(59.453125 145.636562)scale(0.1 -0.1)\">\n       <defs>\n        <path d=\"M 31.78125 66.40625 \nQ 24.171875 66.40625 20.328125 58.90625 \nQ 16.5 51.421875 16.5 36.375 \nQ 16.5 21.390625 20.328125 13.890625 \nQ 24.171875 6.390625 31.78125 6.390625 \nQ 39.453125 6.390625 43.28125 13.890625 \nQ 47.125 21.390625 47.125 36.375 \nQ 47.125 51.421875 43.28125 58.90625 \nQ 39.453125 66.40625 31.78125 66.40625 \nz\nM 31.78125 74.21875 \nQ 44.046875 74.21875 50.515625 64.515625 \nQ 56.984375 54.828125 56.984375 36.375 \nQ 56.984375 17.96875 50.515625 8.265625 \nQ 44.046875 -1.421875 31.78125 -1.421875 \nQ 19.53125 -1.421875 13.0625 8.265625 \nQ 6.59375 17.96875 6.59375 36.375 \nQ 6.59375 54.828125 13.0625 64.515625 \nQ 19.53125 74.21875 31.78125 74.21875 \nz\n\" id=\"DejaVuSans-48\"/>\n        <path d=\"M 10.6875 12.40625 \nL 21 12.40625 \nL 21 0 \nL 10.6875 0 \nz\n\" id=\"DejaVuSans-46\"/>\n       </defs>\n       <use xlink:href=\"#DejaVuSans-48\"/>\n       <use x=\"63.623047\" xlink:href=\"#DejaVuSans-46\"/>\n       <use x=\"95.410156\" xlink:href=\"#DejaVuSans-48\"/>\n      </g>\n     </g>\n    </g>\n    <g id=\"xtick_2\">\n     <g id=\"line2d_2\">\n      <g>\n       <use style=\"stroke:#000000;stroke-width:0.8;\" x=\"157.057033\" xlink:href=\"#m8670f21bcc\" y=\"131.038125\"/>\n      </g>\n     </g>\n     <g id=\"text_2\">\n      <!-- 0.1 -->\n      <g transform=\"translate(149.10547 145.636562)scale(0.1 -0.1)\">\n       <defs>\n        <path d=\"M 12.40625 8.296875 \nL 28.515625 8.296875 \nL 28.515625 63.921875 \nL 10.984375 60.40625 \nL 10.984375 69.390625 \nL 28.421875 72.90625 \nL 38.28125 72.90625 \nL 38.28125 8.296875 \nL 54.390625 8.296875 \nL 54.390625 0 \nL 12.40625 0 \nz\n\" id=\"DejaVuSans-49\"/>\n       </defs>\n       <use xlink:href=\"#DejaVuSans-48\"/>\n       <use x=\"63.623047\" xlink:href=\"#DejaVuSans-46\"/>\n       <use x=\"95.410156\" xlink:href=\"#DejaVuSans-49\"/>\n      </g>\n     </g>\n    </g>\n    <g id=\"xtick_3\">\n     <g id=\"line2d_3\">\n      <g>\n       <use style=\"stroke:#000000;stroke-width:0.8;\" x=\"246.709378\" xlink:href=\"#m8670f21bcc\" y=\"131.038125\"/>\n      </g>\n     </g>\n     <g id=\"text_3\">\n      <!-- 0.2 -->\n      <g transform=\"translate(238.757816 145.636562)scale(0.1 -0.1)\">\n       <defs>\n        <path d=\"M 19.1875 8.296875 \nL 53.609375 8.296875 \nL 53.609375 0 \nL 7.328125 0 \nL 7.328125 8.296875 \nQ 12.9375 14.109375 22.625 23.890625 \nQ 32.328125 33.6875 34.8125 36.53125 \nQ 39.546875 41.84375 41.421875 45.53125 \nQ 43.3125 49.21875 43.3125 52.78125 \nQ 43.3125 58.59375 39.234375 62.25 \nQ 35.15625 65.921875 28.609375 65.921875 \nQ 23.96875 65.921875 18.8125 64.3125 \nQ 13.671875 62.703125 7.8125 59.421875 \nL 7.8125 69.390625 \nQ 13.765625 71.78125 18.9375 73 \nQ 24.125 74.21875 28.421875 74.21875 \nQ 39.75 74.21875 46.484375 68.546875 \nQ 53.21875 62.890625 53.21875 53.421875 \nQ 53.21875 48.921875 51.53125 44.890625 \nQ 49.859375 40.875 45.40625 35.40625 \nQ 44.1875 33.984375 37.640625 27.21875 \nQ 31.109375 20.453125 19.1875 8.296875 \nz\n\" id=\"DejaVuSans-50\"/>\n       </defs>\n       <use xlink:href=\"#DejaVuSans-48\"/>\n       <use x=\"63.623047\" xlink:href=\"#DejaVuSans-46\"/>\n       <use x=\"95.410156\" xlink:href=\"#DejaVuSans-50\"/>\n      </g>\n     </g>\n    </g>\n    <g id=\"xtick_4\">\n     <g id=\"line2d_4\">\n      <g>\n       <use style=\"stroke:#000000;stroke-width:0.8;\" x=\"336.361724\" xlink:href=\"#m8670f21bcc\" y=\"131.038125\"/>\n      </g>\n     </g>\n     <g id=\"text_4\">\n      <!-- 0.3 -->\n      <g transform=\"translate(328.410161 145.636562)scale(0.1 -0.1)\">\n       <defs>\n        <path d=\"M 40.578125 39.3125 \nQ 47.65625 37.796875 51.625 33 \nQ 55.609375 28.21875 55.609375 21.1875 \nQ 55.609375 10.40625 48.1875 4.484375 \nQ 40.765625 -1.421875 27.09375 -1.421875 \nQ 22.515625 -1.421875 17.65625 -0.515625 \nQ 12.796875 0.390625 7.625 2.203125 \nL 7.625 11.71875 \nQ 11.71875 9.328125 16.59375 8.109375 \nQ 21.484375 6.890625 26.8125 6.890625 \nQ 36.078125 6.890625 40.9375 10.546875 \nQ 45.796875 14.203125 45.796875 21.1875 \nQ 45.796875 27.640625 41.28125 31.265625 \nQ 36.765625 34.90625 28.71875 34.90625 \nL 20.21875 34.90625 \nL 20.21875 43.015625 \nL 29.109375 43.015625 \nQ 36.375 43.015625 40.234375 45.921875 \nQ 44.09375 48.828125 44.09375 54.296875 \nQ 44.09375 59.90625 40.109375 62.90625 \nQ 36.140625 65.921875 28.71875 65.921875 \nQ 24.65625 65.921875 20.015625 65.03125 \nQ 15.375 64.15625 9.8125 62.3125 \nL 9.8125 71.09375 \nQ 15.4375 72.65625 20.34375 73.4375 \nQ 25.25 74.21875 29.59375 74.21875 \nQ 40.828125 74.21875 47.359375 69.109375 \nQ 53.90625 64.015625 53.90625 55.328125 \nQ 53.90625 49.265625 50.4375 45.09375 \nQ 46.96875 40.921875 40.578125 39.3125 \nz\n\" id=\"DejaVuSans-51\"/>\n       </defs>\n       <use xlink:href=\"#DejaVuSans-48\"/>\n       <use x=\"63.623047\" xlink:href=\"#DejaVuSans-46\"/>\n       <use x=\"95.410156\" xlink:href=\"#DejaVuSans-51\"/>\n      </g>\n     </g>\n    </g>\n    <g id=\"xtick_5\">\n     <g id=\"line2d_5\">\n      <g>\n       <use style=\"stroke:#000000;stroke-width:0.8;\" x=\"426.014069\" xlink:href=\"#m8670f21bcc\" y=\"131.038125\"/>\n      </g>\n     </g>\n     <g id=\"text_5\">\n      <!-- 0.4 -->\n      <g transform=\"translate(418.062507 145.636562)scale(0.1 -0.1)\">\n       <defs>\n        <path d=\"M 37.796875 64.3125 \nL 12.890625 25.390625 \nL 37.796875 25.390625 \nz\nM 35.203125 72.90625 \nL 47.609375 72.90625 \nL 47.609375 25.390625 \nL 58.015625 25.390625 \nL 58.015625 17.1875 \nL 47.609375 17.1875 \nL 47.609375 0 \nL 37.796875 0 \nL 37.796875 17.1875 \nL 4.890625 17.1875 \nL 4.890625 26.703125 \nz\n\" id=\"DejaVuSans-52\"/>\n       </defs>\n       <use xlink:href=\"#DejaVuSans-48\"/>\n       <use x=\"63.623047\" xlink:href=\"#DejaVuSans-46\"/>\n       <use x=\"95.410156\" xlink:href=\"#DejaVuSans-52\"/>\n      </g>\n     </g>\n    </g>\n    <g id=\"xtick_6\">\n     <g id=\"line2d_6\">\n      <g>\n       <use style=\"stroke:#000000;stroke-width:0.8;\" x=\"515.666415\" xlink:href=\"#m8670f21bcc\" y=\"131.038125\"/>\n      </g>\n     </g>\n     <g id=\"text_6\">\n      <!-- 0.5 -->\n      <g transform=\"translate(507.714852 145.636562)scale(0.1 -0.1)\">\n       <defs>\n        <path d=\"M 10.796875 72.90625 \nL 49.515625 72.90625 \nL 49.515625 64.59375 \nL 19.828125 64.59375 \nL 19.828125 46.734375 \nQ 21.96875 47.46875 24.109375 47.828125 \nQ 26.265625 48.1875 28.421875 48.1875 \nQ 40.625 48.1875 47.75 41.5 \nQ 54.890625 34.8125 54.890625 23.390625 \nQ 54.890625 11.625 47.5625 5.09375 \nQ 40.234375 -1.421875 26.90625 -1.421875 \nQ 22.3125 -1.421875 17.546875 -0.640625 \nQ 12.796875 0.140625 7.71875 1.703125 \nL 7.71875 11.625 \nQ 12.109375 9.234375 16.796875 8.0625 \nQ 21.484375 6.890625 26.703125 6.890625 \nQ 35.15625 6.890625 40.078125 11.328125 \nQ 45.015625 15.765625 45.015625 23.390625 \nQ 45.015625 31 40.078125 35.4375 \nQ 35.15625 39.890625 26.703125 39.890625 \nQ 22.75 39.890625 18.8125 39.015625 \nQ 14.890625 38.140625 10.796875 36.28125 \nz\n\" id=\"DejaVuSans-53\"/>\n       </defs>\n       <use xlink:href=\"#DejaVuSans-48\"/>\n       <use x=\"63.623047\" xlink:href=\"#DejaVuSans-46\"/>\n       <use x=\"95.410156\" xlink:href=\"#DejaVuSans-53\"/>\n      </g>\n     </g>\n    </g>\n    <g id=\"xtick_7\">\n     <g id=\"line2d_7\">\n      <g>\n       <use style=\"stroke:#000000;stroke-width:0.8;\" x=\"605.31876\" xlink:href=\"#m8670f21bcc\" y=\"131.038125\"/>\n      </g>\n     </g>\n     <g id=\"text_7\">\n      <!-- 0.6 -->\n      <g transform=\"translate(597.367198 145.636562)scale(0.1 -0.1)\">\n       <defs>\n        <path d=\"M 33.015625 40.375 \nQ 26.375 40.375 22.484375 35.828125 \nQ 18.609375 31.296875 18.609375 23.390625 \nQ 18.609375 15.53125 22.484375 10.953125 \nQ 26.375 6.390625 33.015625 6.390625 \nQ 39.65625 6.390625 43.53125 10.953125 \nQ 47.40625 15.53125 47.40625 23.390625 \nQ 47.40625 31.296875 43.53125 35.828125 \nQ 39.65625 40.375 33.015625 40.375 \nz\nM 52.59375 71.296875 \nL 52.59375 62.3125 \nQ 48.875 64.0625 45.09375 64.984375 \nQ 41.3125 65.921875 37.59375 65.921875 \nQ 27.828125 65.921875 22.671875 59.328125 \nQ 17.53125 52.734375 16.796875 39.40625 \nQ 19.671875 43.65625 24.015625 45.921875 \nQ 28.375 48.1875 33.59375 48.1875 \nQ 44.578125 48.1875 50.953125 41.515625 \nQ 57.328125 34.859375 57.328125 23.390625 \nQ 57.328125 12.15625 50.6875 5.359375 \nQ 44.046875 -1.421875 33.015625 -1.421875 \nQ 20.359375 -1.421875 13.671875 8.265625 \nQ 6.984375 17.96875 6.984375 36.375 \nQ 6.984375 53.65625 15.1875 63.9375 \nQ 23.390625 74.21875 37.203125 74.21875 \nQ 40.921875 74.21875 44.703125 73.484375 \nQ 48.484375 72.75 52.59375 71.296875 \nz\n\" id=\"DejaVuSans-54\"/>\n       </defs>\n       <use xlink:href=\"#DejaVuSans-48\"/>\n       <use x=\"63.623047\" xlink:href=\"#DejaVuSans-46\"/>\n       <use x=\"95.410156\" xlink:href=\"#DejaVuSans-54\"/>\n      </g>\n     </g>\n    </g>\n   </g>\n   <g id=\"matplotlib.axis_2\">\n    <g id=\"ytick_1\">\n     <g id=\"line2d_8\">\n      <defs>\n       <path d=\"M 0 0 \nL -3.5 0 \n\" id=\"m816ed0ad2d\" style=\"stroke:#000000;stroke-width:0.8;\"/>\n      </defs>\n      <g>\n       <use style=\"stroke:#000000;stroke-width:0.8;\" x=\"67.404688\" xlink:href=\"#m816ed0ad2d\" y=\"112.918125\"/>\n      </g>\n     </g>\n     <g id=\"text_8\">\n      <!-- longitude -->\n      <g transform=\"translate(13.284375 116.717344)scale(0.1 -0.1)\">\n       <defs>\n        <path d=\"M 9.421875 75.984375 \nL 18.40625 75.984375 \nL 18.40625 0 \nL 9.421875 0 \nz\n\" id=\"DejaVuSans-108\"/>\n        <path d=\"M 30.609375 48.390625 \nQ 23.390625 48.390625 19.1875 42.75 \nQ 14.984375 37.109375 14.984375 27.296875 \nQ 14.984375 17.484375 19.15625 11.84375 \nQ 23.34375 6.203125 30.609375 6.203125 \nQ 37.796875 6.203125 41.984375 11.859375 \nQ 46.1875 17.53125 46.1875 27.296875 \nQ 46.1875 37.015625 41.984375 42.703125 \nQ 37.796875 48.390625 30.609375 48.390625 \nz\nM 30.609375 56 \nQ 42.328125 56 49.015625 48.375 \nQ 55.71875 40.765625 55.71875 27.296875 \nQ 55.71875 13.875 49.015625 6.21875 \nQ 42.328125 -1.421875 30.609375 -1.421875 \nQ 18.84375 -1.421875 12.171875 6.21875 \nQ 5.515625 13.875 5.515625 27.296875 \nQ 5.515625 40.765625 12.171875 48.375 \nQ 18.84375 56 30.609375 56 \nz\n\" id=\"DejaVuSans-111\"/>\n        <path d=\"M 54.890625 33.015625 \nL 54.890625 0 \nL 45.90625 0 \nL 45.90625 32.71875 \nQ 45.90625 40.484375 42.875 44.328125 \nQ 39.84375 48.1875 33.796875 48.1875 \nQ 26.515625 48.1875 22.3125 43.546875 \nQ 18.109375 38.921875 18.109375 30.90625 \nL 18.109375 0 \nL 9.078125 0 \nL 9.078125 54.6875 \nL 18.109375 54.6875 \nL 18.109375 46.1875 \nQ 21.34375 51.125 25.703125 53.5625 \nQ 30.078125 56 35.796875 56 \nQ 45.21875 56 50.046875 50.171875 \nQ 54.890625 44.34375 54.890625 33.015625 \nz\n\" id=\"DejaVuSans-110\"/>\n        <path d=\"M 45.40625 27.984375 \nQ 45.40625 37.75 41.375 43.109375 \nQ 37.359375 48.484375 30.078125 48.484375 \nQ 22.859375 48.484375 18.828125 43.109375 \nQ 14.796875 37.75 14.796875 27.984375 \nQ 14.796875 18.265625 18.828125 12.890625 \nQ 22.859375 7.515625 30.078125 7.515625 \nQ 37.359375 7.515625 41.375 12.890625 \nQ 45.40625 18.265625 45.40625 27.984375 \nz\nM 54.390625 6.78125 \nQ 54.390625 -7.171875 48.1875 -13.984375 \nQ 42 -20.796875 29.203125 -20.796875 \nQ 24.46875 -20.796875 20.265625 -20.09375 \nQ 16.0625 -19.390625 12.109375 -17.921875 \nL 12.109375 -9.1875 \nQ 16.0625 -11.328125 19.921875 -12.34375 \nQ 23.78125 -13.375 27.78125 -13.375 \nQ 36.625 -13.375 41.015625 -8.765625 \nQ 45.40625 -4.15625 45.40625 5.171875 \nL 45.40625 9.625 \nQ 42.625 4.78125 38.28125 2.390625 \nQ 33.9375 0 27.875 0 \nQ 17.828125 0 11.671875 7.65625 \nQ 5.515625 15.328125 5.515625 27.984375 \nQ 5.515625 40.671875 11.671875 48.328125 \nQ 17.828125 56 27.875 56 \nQ 33.9375 56 38.28125 53.609375 \nQ 42.625 51.21875 45.40625 46.390625 \nL 45.40625 54.6875 \nL 54.390625 54.6875 \nz\n\" id=\"DejaVuSans-103\"/>\n        <path d=\"M 9.421875 54.6875 \nL 18.40625 54.6875 \nL 18.40625 0 \nL 9.421875 0 \nz\nM 9.421875 75.984375 \nL 18.40625 75.984375 \nL 18.40625 64.59375 \nL 9.421875 64.59375 \nz\n\" id=\"DejaVuSans-105\"/>\n        <path d=\"M 18.3125 70.21875 \nL 18.3125 54.6875 \nL 36.8125 54.6875 \nL 36.8125 47.703125 \nL 18.3125 47.703125 \nL 18.3125 18.015625 \nQ 18.3125 11.328125 20.140625 9.421875 \nQ 21.96875 7.515625 27.59375 7.515625 \nL 36.8125 7.515625 \nL 36.8125 0 \nL 27.59375 0 \nQ 17.1875 0 13.234375 3.875 \nQ 9.28125 7.765625 9.28125 18.015625 \nL 9.28125 47.703125 \nL 2.6875 47.703125 \nL 2.6875 54.6875 \nL 9.28125 54.6875 \nL 9.28125 70.21875 \nz\n\" id=\"DejaVuSans-116\"/>\n        <path d=\"M 8.5 21.578125 \nL 8.5 54.6875 \nL 17.484375 54.6875 \nL 17.484375 21.921875 \nQ 17.484375 14.15625 20.5 10.265625 \nQ 23.53125 6.390625 29.59375 6.390625 \nQ 36.859375 6.390625 41.078125 11.03125 \nQ 45.3125 15.671875 45.3125 23.6875 \nL 45.3125 54.6875 \nL 54.296875 54.6875 \nL 54.296875 0 \nL 45.3125 0 \nL 45.3125 8.40625 \nQ 42.046875 3.421875 37.71875 1 \nQ 33.40625 -1.421875 27.6875 -1.421875 \nQ 18.265625 -1.421875 13.375 4.4375 \nQ 8.5 10.296875 8.5 21.578125 \nz\nM 31.109375 56 \nz\n\" id=\"DejaVuSans-117\"/>\n        <path d=\"M 45.40625 46.390625 \nL 45.40625 75.984375 \nL 54.390625 75.984375 \nL 54.390625 0 \nL 45.40625 0 \nL 45.40625 8.203125 \nQ 42.578125 3.328125 38.25 0.953125 \nQ 33.9375 -1.421875 27.875 -1.421875 \nQ 17.96875 -1.421875 11.734375 6.484375 \nQ 5.515625 14.40625 5.515625 27.296875 \nQ 5.515625 40.1875 11.734375 48.09375 \nQ 17.96875 56 27.875 56 \nQ 33.9375 56 38.25 53.625 \nQ 42.578125 51.265625 45.40625 46.390625 \nz\nM 14.796875 27.296875 \nQ 14.796875 17.390625 18.875 11.75 \nQ 22.953125 6.109375 30.078125 6.109375 \nQ 37.203125 6.109375 41.296875 11.75 \nQ 45.40625 17.390625 45.40625 27.296875 \nQ 45.40625 37.203125 41.296875 42.84375 \nQ 37.203125 48.484375 30.078125 48.484375 \nQ 22.953125 48.484375 18.875 42.84375 \nQ 14.796875 37.203125 14.796875 27.296875 \nz\n\" id=\"DejaVuSans-100\"/>\n        <path d=\"M 56.203125 29.59375 \nL 56.203125 25.203125 \nL 14.890625 25.203125 \nQ 15.484375 15.921875 20.484375 11.0625 \nQ 25.484375 6.203125 34.421875 6.203125 \nQ 39.59375 6.203125 44.453125 7.46875 \nQ 49.3125 8.734375 54.109375 11.28125 \nL 54.109375 2.78125 \nQ 49.265625 0.734375 44.1875 -0.34375 \nQ 39.109375 -1.421875 33.890625 -1.421875 \nQ 20.796875 -1.421875 13.15625 6.1875 \nQ 5.515625 13.8125 5.515625 26.8125 \nQ 5.515625 40.234375 12.765625 48.109375 \nQ 20.015625 56 32.328125 56 \nQ 43.359375 56 49.78125 48.890625 \nQ 56.203125 41.796875 56.203125 29.59375 \nz\nM 47.21875 32.234375 \nQ 47.125 39.59375 43.09375 43.984375 \nQ 39.0625 48.390625 32.421875 48.390625 \nQ 24.90625 48.390625 20.390625 44.140625 \nQ 15.875 39.890625 15.1875 32.171875 \nz\n\" id=\"DejaVuSans-101\"/>\n       </defs>\n       <use xlink:href=\"#DejaVuSans-108\"/>\n       <use x=\"27.783203\" xlink:href=\"#DejaVuSans-111\"/>\n       <use x=\"88.964844\" xlink:href=\"#DejaVuSans-110\"/>\n       <use x=\"152.34375\" xlink:href=\"#DejaVuSans-103\"/>\n       <use x=\"215.820312\" xlink:href=\"#DejaVuSans-105\"/>\n       <use x=\"243.603516\" xlink:href=\"#DejaVuSans-116\"/>\n       <use x=\"282.8125\" xlink:href=\"#DejaVuSans-117\"/>\n       <use x=\"346.191406\" xlink:href=\"#DejaVuSans-100\"/>\n       <use x=\"409.667969\" xlink:href=\"#DejaVuSans-101\"/>\n      </g>\n     </g>\n    </g>\n    <g id=\"ytick_2\">\n     <g id=\"line2d_9\">\n      <g>\n       <use style=\"stroke:#000000;stroke-width:0.8;\" x=\"67.404688\" xlink:href=\"#m816ed0ad2d\" y=\"76.678125\"/>\n      </g>\n     </g>\n     <g id=\"text_9\">\n      <!-- latitude -->\n      <g transform=\"translate(22.040625 80.477344)scale(0.1 -0.1)\">\n       <defs>\n        <path d=\"M 34.28125 27.484375 \nQ 23.390625 27.484375 19.1875 25 \nQ 14.984375 22.515625 14.984375 16.5 \nQ 14.984375 11.71875 18.140625 8.90625 \nQ 21.296875 6.109375 26.703125 6.109375 \nQ 34.1875 6.109375 38.703125 11.40625 \nQ 43.21875 16.703125 43.21875 25.484375 \nL 43.21875 27.484375 \nz\nM 52.203125 31.203125 \nL 52.203125 0 \nL 43.21875 0 \nL 43.21875 8.296875 \nQ 40.140625 3.328125 35.546875 0.953125 \nQ 30.953125 -1.421875 24.3125 -1.421875 \nQ 15.921875 -1.421875 10.953125 3.296875 \nQ 6 8.015625 6 15.921875 \nQ 6 25.140625 12.171875 29.828125 \nQ 18.359375 34.515625 30.609375 34.515625 \nL 43.21875 34.515625 \nL 43.21875 35.40625 \nQ 43.21875 41.609375 39.140625 45 \nQ 35.0625 48.390625 27.6875 48.390625 \nQ 23 48.390625 18.546875 47.265625 \nQ 14.109375 46.140625 10.015625 43.890625 \nL 10.015625 52.203125 \nQ 14.9375 54.109375 19.578125 55.046875 \nQ 24.21875 56 28.609375 56 \nQ 40.484375 56 46.34375 49.84375 \nQ 52.203125 43.703125 52.203125 31.203125 \nz\n\" id=\"DejaVuSans-97\"/>\n       </defs>\n       <use xlink:href=\"#DejaVuSans-108\"/>\n       <use x=\"27.783203\" xlink:href=\"#DejaVuSans-97\"/>\n       <use x=\"89.0625\" xlink:href=\"#DejaVuSans-116\"/>\n       <use x=\"128.271484\" xlink:href=\"#DejaVuSans-105\"/>\n       <use x=\"156.054688\" xlink:href=\"#DejaVuSans-116\"/>\n       <use x=\"195.263672\" xlink:href=\"#DejaVuSans-117\"/>\n       <use x=\"258.642578\" xlink:href=\"#DejaVuSans-100\"/>\n       <use x=\"322.119141\" xlink:href=\"#DejaVuSans-101\"/>\n      </g>\n     </g>\n    </g>\n    <g id=\"ytick_3\">\n     <g id=\"line2d_10\">\n      <g>\n       <use style=\"stroke:#000000;stroke-width:0.8;\" x=\"67.404688\" xlink:href=\"#m816ed0ad2d\" y=\"40.438125\"/>\n      </g>\n     </g>\n     <g id=\"text_10\">\n      <!-- room_type -->\n      <g transform=\"translate(7.2 44.098281)scale(0.1 -0.1)\">\n       <defs>\n        <path d=\"M 41.109375 46.296875 \nQ 39.59375 47.171875 37.8125 47.578125 \nQ 36.03125 48 33.890625 48 \nQ 26.265625 48 22.1875 43.046875 \nQ 18.109375 38.09375 18.109375 28.8125 \nL 18.109375 0 \nL 9.078125 0 \nL 9.078125 54.6875 \nL 18.109375 54.6875 \nL 18.109375 46.1875 \nQ 20.953125 51.171875 25.484375 53.578125 \nQ 30.03125 56 36.53125 56 \nQ 37.453125 56 38.578125 55.875 \nQ 39.703125 55.765625 41.0625 55.515625 \nz\n\" id=\"DejaVuSans-114\"/>\n        <path d=\"M 52 44.1875 \nQ 55.375 50.25 60.0625 53.125 \nQ 64.75 56 71.09375 56 \nQ 79.640625 56 84.28125 50.015625 \nQ 88.921875 44.046875 88.921875 33.015625 \nL 88.921875 0 \nL 79.890625 0 \nL 79.890625 32.71875 \nQ 79.890625 40.578125 77.09375 44.375 \nQ 74.3125 48.1875 68.609375 48.1875 \nQ 61.625 48.1875 57.5625 43.546875 \nQ 53.515625 38.921875 53.515625 30.90625 \nL 53.515625 0 \nL 44.484375 0 \nL 44.484375 32.71875 \nQ 44.484375 40.625 41.703125 44.40625 \nQ 38.921875 48.1875 33.109375 48.1875 \nQ 26.21875 48.1875 22.15625 43.53125 \nQ 18.109375 38.875 18.109375 30.90625 \nL 18.109375 0 \nL 9.078125 0 \nL 9.078125 54.6875 \nL 18.109375 54.6875 \nL 18.109375 46.1875 \nQ 21.1875 51.21875 25.484375 53.609375 \nQ 29.78125 56 35.6875 56 \nQ 41.65625 56 45.828125 52.96875 \nQ 50 49.953125 52 44.1875 \nz\n\" id=\"DejaVuSans-109\"/>\n        <path d=\"M 50.984375 -16.609375 \nL 50.984375 -23.578125 \nL -0.984375 -23.578125 \nL -0.984375 -16.609375 \nz\n\" id=\"DejaVuSans-95\"/>\n        <path d=\"M 32.171875 -5.078125 \nQ 28.375 -14.84375 24.75 -17.8125 \nQ 21.140625 -20.796875 15.09375 -20.796875 \nL 7.90625 -20.796875 \nL 7.90625 -13.28125 \nL 13.1875 -13.28125 \nQ 16.890625 -13.28125 18.9375 -11.515625 \nQ 21 -9.765625 23.484375 -3.21875 \nL 25.09375 0.875 \nL 2.984375 54.6875 \nL 12.5 54.6875 \nL 29.59375 11.921875 \nL 46.6875 54.6875 \nL 56.203125 54.6875 \nz\n\" id=\"DejaVuSans-121\"/>\n        <path d=\"M 18.109375 8.203125 \nL 18.109375 -20.796875 \nL 9.078125 -20.796875 \nL 9.078125 54.6875 \nL 18.109375 54.6875 \nL 18.109375 46.390625 \nQ 20.953125 51.265625 25.265625 53.625 \nQ 29.59375 56 35.59375 56 \nQ 45.5625 56 51.78125 48.09375 \nQ 58.015625 40.1875 58.015625 27.296875 \nQ 58.015625 14.40625 51.78125 6.484375 \nQ 45.5625 -1.421875 35.59375 -1.421875 \nQ 29.59375 -1.421875 25.265625 0.953125 \nQ 20.953125 3.328125 18.109375 8.203125 \nz\nM 48.6875 27.296875 \nQ 48.6875 37.203125 44.609375 42.84375 \nQ 40.53125 48.484375 33.40625 48.484375 \nQ 26.265625 48.484375 22.1875 42.84375 \nQ 18.109375 37.203125 18.109375 27.296875 \nQ 18.109375 17.390625 22.1875 11.75 \nQ 26.265625 6.109375 33.40625 6.109375 \nQ 40.53125 6.109375 44.609375 11.75 \nQ 48.6875 17.390625 48.6875 27.296875 \nz\n\" id=\"DejaVuSans-112\"/>\n       </defs>\n       <use xlink:href=\"#DejaVuSans-114\"/>\n       <use x=\"38.863281\" xlink:href=\"#DejaVuSans-111\"/>\n       <use x=\"100.044922\" xlink:href=\"#DejaVuSans-111\"/>\n       <use x=\"161.226562\" xlink:href=\"#DejaVuSans-109\"/>\n       <use x=\"258.638672\" xlink:href=\"#DejaVuSans-95\"/>\n       <use x=\"308.638672\" xlink:href=\"#DejaVuSans-116\"/>\n       <use x=\"347.847656\" xlink:href=\"#DejaVuSans-121\"/>\n       <use x=\"407.027344\" xlink:href=\"#DejaVuSans-112\"/>\n       <use x=\"470.503906\" xlink:href=\"#DejaVuSans-101\"/>\n      </g>\n     </g>\n    </g>\n   </g>\n   <g id=\"patch_6\">\n    <path d=\"M 67.404688 131.038125 \nL 67.404688 22.318125 \n\" style=\"fill:none;stroke:#000000;stroke-linecap:square;stroke-linejoin:miter;stroke-width:0.8;\"/>\n   </g>\n   <g id=\"patch_7\">\n    <path d=\"M 625.404688 131.038125 \nL 625.404688 22.318125 \n\" style=\"fill:none;stroke:#000000;stroke-linecap:square;stroke-linejoin:miter;stroke-width:0.8;\"/>\n   </g>\n   <g id=\"patch_8\">\n    <path d=\"M 67.404688 131.038125 \nL 625.404688 131.038125 \n\" style=\"fill:none;stroke:#000000;stroke-linecap:square;stroke-linejoin:miter;stroke-width:0.8;\"/>\n   </g>\n   <g id=\"patch_9\">\n    <path d=\"M 67.404688 22.318125 \nL 625.404688 22.318125 \n\" style=\"fill:none;stroke:#000000;stroke-linecap:square;stroke-linejoin:miter;stroke-width:0.8;\"/>\n   </g>\n   <g id=\"text_11\">\n    <!-- Top 4 Features -->\n    <g transform=\"translate(302.855 16.318125)scale(0.12 -0.12)\">\n     <defs>\n      <path d=\"M -0.296875 72.90625 \nL 61.375 72.90625 \nL 61.375 64.59375 \nL 35.5 64.59375 \nL 35.5 0 \nL 25.59375 0 \nL 25.59375 64.59375 \nL -0.296875 64.59375 \nz\n\" id=\"DejaVuSans-84\"/>\n      <path id=\"DejaVuSans-32\"/>\n      <path d=\"M 9.8125 72.90625 \nL 51.703125 72.90625 \nL 51.703125 64.59375 \nL 19.671875 64.59375 \nL 19.671875 43.109375 \nL 48.578125 43.109375 \nL 48.578125 34.8125 \nL 19.671875 34.8125 \nL 19.671875 0 \nL 9.8125 0 \nz\n\" id=\"DejaVuSans-70\"/>\n      <path d=\"M 44.28125 53.078125 \nL 44.28125 44.578125 \nQ 40.484375 46.53125 36.375 47.5 \nQ 32.28125 48.484375 27.875 48.484375 \nQ 21.1875 48.484375 17.84375 46.4375 \nQ 14.5 44.390625 14.5 40.28125 \nQ 14.5 37.15625 16.890625 35.375 \nQ 19.28125 33.59375 26.515625 31.984375 \nL 29.59375 31.296875 \nQ 39.15625 29.25 43.1875 25.515625 \nQ 47.21875 21.78125 47.21875 15.09375 \nQ 47.21875 7.46875 41.1875 3.015625 \nQ 35.15625 -1.421875 24.609375 -1.421875 \nQ 20.21875 -1.421875 15.453125 -0.5625 \nQ 10.6875 0.296875 5.421875 2 \nL 5.421875 11.28125 \nQ 10.40625 8.6875 15.234375 7.390625 \nQ 20.0625 6.109375 24.8125 6.109375 \nQ 31.15625 6.109375 34.5625 8.28125 \nQ 37.984375 10.453125 37.984375 14.40625 \nQ 37.984375 18.0625 35.515625 20.015625 \nQ 33.0625 21.96875 24.703125 23.78125 \nL 21.578125 24.515625 \nQ 13.234375 26.265625 9.515625 29.90625 \nQ 5.8125 33.546875 5.8125 39.890625 \nQ 5.8125 47.609375 11.28125 51.796875 \nQ 16.75 56 26.8125 56 \nQ 31.78125 56 36.171875 55.265625 \nQ 40.578125 54.546875 44.28125 53.078125 \nz\n\" id=\"DejaVuSans-115\"/>\n     </defs>\n     <use xlink:href=\"#DejaVuSans-84\"/>\n     <use x=\"44.083984\" xlink:href=\"#DejaVuSans-111\"/>\n     <use x=\"105.265625\" xlink:href=\"#DejaVuSans-112\"/>\n     <use x=\"168.742188\" xlink:href=\"#DejaVuSans-32\"/>\n     <use x=\"200.529297\" xlink:href=\"#DejaVuSans-52\"/>\n     <use x=\"264.152344\" xlink:href=\"#DejaVuSans-32\"/>\n     <use x=\"295.939453\" xlink:href=\"#DejaVuSans-70\"/>\n     <use x=\"347.958984\" xlink:href=\"#DejaVuSans-101\"/>\n     <use x=\"409.482422\" xlink:href=\"#DejaVuSans-97\"/>\n     <use x=\"470.761719\" xlink:href=\"#DejaVuSans-116\"/>\n     <use x=\"509.970703\" xlink:href=\"#DejaVuSans-117\"/>\n     <use x=\"573.349609\" xlink:href=\"#DejaVuSans-114\"/>\n     <use x=\"612.212891\" xlink:href=\"#DejaVuSans-101\"/>\n     <use x=\"673.736328\" xlink:href=\"#DejaVuSans-115\"/>\n    </g>\n   </g>\n  </g>\n </g>\n <defs>\n  <clipPath id=\"pf4f4da441b\">\n   <rect height=\"108.72\" width=\"558\" x=\"67.404688\" y=\"22.318125\"/>\n  </clipPath>\n </defs>\n</svg>\n",
            "image/png": "[encoded data removed]"
          },
          "metadata": {
            "needs_background": "light"
          }
        }
      ]
    },
    {
      "cell_type": "code",
      "metadata": {
        "id": "lcC3Soo4PJmx",
        "outputId": "2b539c0a-dff8-42f3-918e-ddb4fab9a981"
      },
      "source": [
        "# XG Boost model\n",
        "from xgboost import XGBRegressor\n",
        "\n",
        "pipleline_XGB = make_pipeline(\n",
        "    ce.OrdinalEncoder(),\n",
        "    XGBRegressor(n_estimators=100, random_state=42, n_jobs=-1)\n",
        ")\n",
        "\n",
        "pipleline_XGB.fit(X_train,y_train)\n"
      ],
      "execution_count": 40,
      "outputs": [
        {
          "output_type": "execute_result",
          "data": {
            "text/plain": [
              "Pipeline(steps=[('ordinalencoder',\n",
              "                 OrdinalEncoder(cols=['room_type'],\n",
              "                                mapping=[{'col': 'room_type',\n",
              "                                          'data_type': dtype('O'),\n",
              "                                          'mapping': Private room       1\n",
              "Entire home/apt    2\n",
              "Hotel room         3\n",
              "Shared room        4\n",
              "NaN               -2\n",
              "dtype: int64}])),\n",
              "                ('xgbregressor',\n",
              "                 XGBRegressor(base_score=0.5, booster='gbtree',\n",
              "                              colsample_bylevel=1, colsample_bynode=1,\n",
              "                              colsample_bytree=1, gamma=0, gpu_id=-1,\n",
              "                              importance_type='gain',\n",
              "                              interaction_constraints='',\n",
              "                              learning_rate=0.300000012, max_delta_step=0,\n",
              "                              max_depth=6, min_child_weight=1, missing=nan,\n",
              "                              monotone_constraints='()', n_estimators=100,\n",
              "                              n_jobs=-1, num_parallel_tree=1, random_state=42,\n",
              "                              reg_alpha=0, reg_lambda=1, scale_pos_weight=1,\n",
              "                              subsample=1, tree_method='exact',\n",
              "                              validate_parameters=1, verbosity=None))])"
            ]
          },
          "metadata": {},
          "execution_count": 40
        }
      ]
    },
    {
      "cell_type": "code",
      "metadata": {
        "id": "Vg3Fndl2PJmx",
        "outputId": "817849f9-f0d5-4d67-b2b7-2925ab554d41"
      },
      "source": [
        "# printing metrics\n",
        "pred = pipleline_XGB.predict(X_val)\n",
        "print(\"R2 Score:\", r2_score(y_val,pred))\n",
        "print(\"Mean Squared Error:\", mean_squared_error(y_val,pred))\n",
        "print(\"Mean Absolute Error:\", mean_absolute_error(y_val,pred))"
      ],
      "execution_count": 41,
      "outputs": [
        {
          "output_type": "stream",
          "name": "stdout",
          "text": [
            "R2 Score: 0.034145481731855054\nMean Squared Error: 358869.73116522626\nMean Absolute Error: 165.91243427099226\n"
          ]
        }
      ]
    },
    {
      "cell_type": "code",
      "metadata": {
        "id": "_5Q8POhDPJmx",
        "outputId": "cc2d46b8-d657-49fa-e078-25e09586a178"
      },
      "source": [
        "import pickle\n",
        "# Dump the trained Random Forest Regressor with Pickle\n",
        "pickle_filename = 'airBnB_model.pkl'\n",
        "pickled_model = open(pickle_filename, 'wb')  # Open the file to save as pkl file\n",
        "pickle.dump(pipeline, pickled_model)\n",
        "pickled_model.close() # Close the pickle instances\n",
        "# Loading the saved model\n",
        "model_pkl = open(pickle_filename, 'rb')\n",
        "RF_model = pickle.load(model_pkl)\n",
        "print (\"Loaded model :: \", RF_model)  # print to verify"
      ],
      "execution_count": 51,
      "outputs": [
        {
          "output_type": "stream",
          "name": "stdout",
          "text": [
            "Loaded model ::  Pipeline(steps=[('ordinalencoder',\n                 OrdinalEncoder(cols=['room_type'],\n                                mapping=[{'col': 'room_type',\n                                          'data_type': dtype('O'),\n                                          'mapping': Private room       1\nEntire home/apt    2\nHotel room         3\nShared room        4\nNaN               -2\ndtype: int64}])),\n                ('randomforestregressor',\n                 RandomForestRegressor(max_depth=3, n_estimators=50, n_jobs=-1,\n                                       random_state=42))])\n"
          ]
        }
      ]
    },
    {
      "cell_type": "code",
      "metadata": {
        "id": "B9pt2z81PJmx",
        "outputId": "2137c782-039b-4524-f6e4-e1f348d238d0"
      },
      "source": [
        "# Dummy data to test the pickled model\n",
        "test = pd.DataFrame({'room_type':['Private room'],'latitude':[34],'longitude':[-84]})\n",
        "test.head()"
      ],
      "execution_count": 52,
      "outputs": [
        {
          "output_type": "execute_result",
          "data": {
            "text/plain": [
              "      room_type  latitude  longitude\n",
              "0  Private room        34        -84"
            ],
            "text/html": "<div>\n<style scoped>\n    .dataframe tbody tr th:only-of-type {\n        vertical-align: middle;\n    }\n\n    .dataframe tbody tr th {\n        vertical-align: top;\n    }\n\n    .dataframe thead th {\n        text-align: right;\n    }\n</style>\n<table border=\"1\" class=\"dataframe\">\n  <thead>\n    <tr style=\"text-align: right;\">\n      <th></th>\n      <th>room_type</th>\n      <th>latitude</th>\n      <th>longitude</th>\n    </tr>\n  </thead>\n  <tbody>\n    <tr>\n      <th>0</th>\n      <td>Private room</td>\n      <td>34</td>\n      <td>-84</td>\n    </tr>\n  </tbody>\n</table>\n</div>"
          },
          "metadata": {},
          "execution_count": 52
        }
      ]
    },
    {
      "cell_type": "code",
      "metadata": {
        "id": "Nj63-ubcPJmx",
        "outputId": "8b8f1df6-21c0-46f5-bbd9-099dabf7b65b"
      },
      "source": [
        "# import the pickled model & tested\n",
        "import_pickle = 'airBnB_model.pkl'\n",
        "RF_model = open(import_pickle, 'rb')\n",
        "RF = pickle.load(RF_model)\n",
        "print(RF.predict(test)[0])\n",
        "\n",
        "  "
      ],
      "execution_count": 56,
      "outputs": [
        {
          "output_type": "stream",
          "name": "stdout",
          "text": [
            "110.34107741649699\n"
          ]
        }
      ]
    },
    {
      "cell_type": "code",
      "execution_count": 57,
      "metadata": {},
      "outputs": [
        {
          "output_type": "execute_result",
          "data": {
            "text/plain": [
              "110.34107741649699"
            ]
          },
          "metadata": {},
          "execution_count": 57
        }
      ],
      "source": [
        "RF.predict(pd.DataFrame({'room_type':['Private room'],'latitude':[34],'longitude':[-84]}))[0]"
      ]
    }
  ]
}