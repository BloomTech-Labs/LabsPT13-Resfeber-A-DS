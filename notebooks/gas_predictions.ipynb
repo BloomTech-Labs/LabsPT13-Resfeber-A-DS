{
  "nbformat": 4,
  "nbformat_minor": 0,
  "metadata": {
    "colab": {
      "name": "gas_predictions.ipynb",
      "provenance": [],
      "collapsed_sections": []
    },
    "kernelspec": {
      "name": "python3",
      "display_name": "Python 3"
    },
    "accelerator": "GPU"
  },
  "cells": [
    {
      "cell_type": "code",
      "metadata": {
        "id": "Z0-pqlP-696k"
      },
      "source": [
        "# !pip install torch===1.7.0 torchvision===0.8.1 torchaudio===0.7.0 -f https://download.pytorch.org/whl/torch_stable.html ### installed"
      ],
      "execution_count": 1,
      "outputs": []
    },
    {
      "cell_type": "code",
      "metadata": {
        "id": "RfNkipuk7GuY"
      },
      "source": [
        "import torch\n",
        "import pandas as pd\n",
        "import numpy as np\n",
        "from datetime import datetime\n",
        "import seaborn as sns\n",
        "import matplotlib.pyplot as plt\n",
        "import plotly.express as px\n",
        "from sklearn.model_selection import train_test_split\n",
        "import tensorflow as tf\n",
        "from tensorflow.keras.models import Sequential\n",
        "from tensorflow.keras.layers import Dense, Embedding, Input\n",
        "from tensorflow.keras import layers\n",
        "from sklearn.feature_extraction.text import CountVectorizer, TfidfVectorizer\n",
        "from sklearn.model_selection import train_test_split\n",
        "from sklearn.metrics import accuracy_score\n",
        "from sklearn import preprocessing\n",
        "from sklearn.preprocessing import Normalizer\n",
        "import pickle"
      ],
      "execution_count": 2,
      "outputs": []
    },
    {
      "cell_type": "code",
      "metadata": {
        "id": "kvrEz-eO7M_6",
        "colab": {
          "base_uri": "https://localhost:8080/"
        },
        "outputId": "8df69a2a-418d-4eeb-f068-35a6c1dc7024"
      },
      "source": [
        "x = torch.rand(5, 3)\n",
        "print(x)"
      ],
      "execution_count": 3,
      "outputs": [
        {
          "output_type": "stream",
          "text": [
            "tensor([[0.9461, 0.6067, 0.5426],\n",
            "        [0.1707, 0.0212, 0.6713],\n",
            "        [0.7254, 0.9096, 0.4244],\n",
            "        [0.4225, 0.4502, 0.4746],\n",
            "        [0.8423, 0.6495, 0.6285]])\n"
          ],
          "name": "stdout"
        }
      ]
    },
    {
      "cell_type": "code",
      "metadata": {
        "id": "qp8Qx89v7S53",
        "colab": {
          "base_uri": "https://localhost:8080/"
        },
        "outputId": "3c33bcfc-5232-4c1b-cfeb-4c3d836de479"
      },
      "source": [
        "torch.cuda.is_available() # check if gpu driver and cuda are enabled"
      ],
      "execution_count": 4,
      "outputs": [
        {
          "output_type": "execute_result",
          "data": {
            "text/plain": [
              "True"
            ]
          },
          "metadata": {
            "tags": []
          },
          "execution_count": 4
        }
      ]
    },
    {
      "cell_type": "code",
      "metadata": {
        "id": "m2Y8yb0K6XcH"
      },
      "source": [
        "# Data Source\n",
        "# https://data.world/eia-wind/us-retail-gasoline-prices"
      ],
      "execution_count": 5,
      "outputs": []
    },
    {
      "cell_type": "code",
      "metadata": {
        "id": "UbZS__Ep7Wwf"
      },
      "source": [
        "df = pd.read_csv('weekly_prices.csv')"
      ],
      "execution_count": 6,
      "outputs": []
    },
    {
      "cell_type": "code",
      "metadata": {
        "id": "fHTsaOp09yh9",
        "colab": {
          "base_uri": "https://localhost:8080/",
          "height": 343
        },
        "outputId": "5b67985b-0f62-43fb-b5ac-6565345cae6b"
      },
      "source": [
        "df.head(10)"
      ],
      "execution_count": 7,
      "outputs": [
        {
          "output_type": "execute_result",
          "data": {
            "text/html": [
              "<div>\n",
              "<style scoped>\n",
              "    .dataframe tbody tr th:only-of-type {\n",
              "        vertical-align: middle;\n",
              "    }\n",
              "\n",
              "    .dataframe tbody tr th {\n",
              "        vertical-align: top;\n",
              "    }\n",
              "\n",
              "    .dataframe thead th {\n",
              "        text-align: right;\n",
              "    }\n",
              "</style>\n",
              "<table border=\"1\" class=\"dataframe\">\n",
              "  <thead>\n",
              "    <tr style=\"text-align: right;\">\n",
              "      <th></th>\n",
              "      <th>week_of</th>\n",
              "      <th>dollars_per_gallon</th>\n",
              "    </tr>\n",
              "  </thead>\n",
              "  <tbody>\n",
              "    <tr>\n",
              "      <th>0</th>\n",
              "      <td>2020-10-26</td>\n",
              "      <td>2.234</td>\n",
              "    </tr>\n",
              "    <tr>\n",
              "      <th>1</th>\n",
              "      <td>2020-10-19</td>\n",
              "      <td>NaN</td>\n",
              "    </tr>\n",
              "    <tr>\n",
              "      <th>2</th>\n",
              "      <td>2020-10-12</td>\n",
              "      <td>2.257</td>\n",
              "    </tr>\n",
              "    <tr>\n",
              "      <th>3</th>\n",
              "      <td>2020-10-05</td>\n",
              "      <td>2.262</td>\n",
              "    </tr>\n",
              "    <tr>\n",
              "      <th>4</th>\n",
              "      <td>2020-09-28</td>\n",
              "      <td>2.259</td>\n",
              "    </tr>\n",
              "    <tr>\n",
              "      <th>5</th>\n",
              "      <td>2020-09-21</td>\n",
              "      <td>2.259</td>\n",
              "    </tr>\n",
              "    <tr>\n",
              "      <th>6</th>\n",
              "      <td>2020-09-14</td>\n",
              "      <td>2.274</td>\n",
              "    </tr>\n",
              "    <tr>\n",
              "      <th>7</th>\n",
              "      <td>2020-09-07</td>\n",
              "      <td>2.302</td>\n",
              "    </tr>\n",
              "    <tr>\n",
              "      <th>8</th>\n",
              "      <td>2020-08-31</td>\n",
              "      <td>2.311</td>\n",
              "    </tr>\n",
              "    <tr>\n",
              "      <th>9</th>\n",
              "      <td>2020-08-24</td>\n",
              "      <td>2.272</td>\n",
              "    </tr>\n",
              "  </tbody>\n",
              "</table>\n",
              "</div>"
            ],
            "text/plain": [
              "      week_of  dollars_per_gallon\n",
              "0  2020-10-26               2.234\n",
              "1  2020-10-19                 NaN\n",
              "2  2020-10-12               2.257\n",
              "3  2020-10-05               2.262\n",
              "4  2020-09-28               2.259\n",
              "5  2020-09-21               2.259\n",
              "6  2020-09-14               2.274\n",
              "7  2020-09-07               2.302\n",
              "8  2020-08-31               2.311\n",
              "9  2020-08-24               2.272"
            ]
          },
          "metadata": {
            "tags": []
          },
          "execution_count": 7
        }
      ]
    },
    {
      "cell_type": "code",
      "metadata": {
        "id": "8hUACtoB93GS"
      },
      "source": [
        "df = df.dropna()"
      ],
      "execution_count": 8,
      "outputs": []
    },
    {
      "cell_type": "code",
      "metadata": {
        "id": "RPBxI1zG9_V6",
        "colab": {
          "base_uri": "https://localhost:8080/"
        },
        "outputId": "9f1ade8b-029e-4e3c-f366-c6736e063609"
      },
      "source": [
        "df['dollars_per_gallon'].isnull().any()"
      ],
      "execution_count": 9,
      "outputs": [
        {
          "output_type": "execute_result",
          "data": {
            "text/plain": [
              "False"
            ]
          },
          "metadata": {
            "tags": []
          },
          "execution_count": 9
        }
      ]
    },
    {
      "cell_type": "code",
      "metadata": {
        "id": "KvZkBoRx80rQ"
      },
      "source": [
        "df['week_of'] = pd.to_datetime(df['week_of'])"
      ],
      "execution_count": 10,
      "outputs": []
    },
    {
      "cell_type": "code",
      "metadata": {
        "id": "PDbuZArD-FXG"
      },
      "source": [
        "df['day'] = df['week_of'].dt.day\n",
        "df['month'] = df['week_of'].dt.month\n",
        "df['year'] = df['week_of'].dt.year"
      ],
      "execution_count": 11,
      "outputs": []
    },
    {
      "cell_type": "code",
      "metadata": {
        "colab": {
          "base_uri": "https://localhost:8080/"
        },
        "id": "vIldX7OeArfv",
        "outputId": "0b94b2c6-5dbf-4a2d-c91b-ec74695535a3"
      },
      "source": [
        "df['day']"
      ],
      "execution_count": 12,
      "outputs": [
        {
          "output_type": "execute_result",
          "data": {
            "text/plain": [
              "0       26\n",
              "2       12\n",
              "3        5\n",
              "4       28\n",
              "5       21\n",
              "        ..\n",
              "1433    10\n",
              "1434     3\n",
              "1435    26\n",
              "1436    19\n",
              "1437    12\n",
              "Name: day, Length: 1301, dtype: int64"
            ]
          },
          "metadata": {
            "tags": []
          },
          "execution_count": 12
        }
      ]
    },
    {
      "cell_type": "code",
      "metadata": {
        "colab": {
          "base_uri": "https://localhost:8080/",
          "height": 402
        },
        "id": "PhJTI-GF9TMY",
        "outputId": "377e7d99-1e79-431f-c721-f961c0d2a45b"
      },
      "source": [
        "df"
      ],
      "execution_count": 13,
      "outputs": [
        {
          "output_type": "execute_result",
          "data": {
            "text/html": [
              "<div>\n",
              "<style scoped>\n",
              "    .dataframe tbody tr th:only-of-type {\n",
              "        vertical-align: middle;\n",
              "    }\n",
              "\n",
              "    .dataframe tbody tr th {\n",
              "        vertical-align: top;\n",
              "    }\n",
              "\n",
              "    .dataframe thead th {\n",
              "        text-align: right;\n",
              "    }\n",
              "</style>\n",
              "<table border=\"1\" class=\"dataframe\">\n",
              "  <thead>\n",
              "    <tr style=\"text-align: right;\">\n",
              "      <th></th>\n",
              "      <th>week_of</th>\n",
              "      <th>dollars_per_gallon</th>\n",
              "      <th>day</th>\n",
              "      <th>month</th>\n",
              "      <th>year</th>\n",
              "    </tr>\n",
              "  </thead>\n",
              "  <tbody>\n",
              "    <tr>\n",
              "      <th>0</th>\n",
              "      <td>2020-10-26</td>\n",
              "      <td>2.234</td>\n",
              "      <td>26</td>\n",
              "      <td>10</td>\n",
              "      <td>2020</td>\n",
              "    </tr>\n",
              "    <tr>\n",
              "      <th>2</th>\n",
              "      <td>2020-10-12</td>\n",
              "      <td>2.257</td>\n",
              "      <td>12</td>\n",
              "      <td>10</td>\n",
              "      <td>2020</td>\n",
              "    </tr>\n",
              "    <tr>\n",
              "      <th>3</th>\n",
              "      <td>2020-10-05</td>\n",
              "      <td>2.262</td>\n",
              "      <td>5</td>\n",
              "      <td>10</td>\n",
              "      <td>2020</td>\n",
              "    </tr>\n",
              "    <tr>\n",
              "      <th>4</th>\n",
              "      <td>2020-09-28</td>\n",
              "      <td>2.259</td>\n",
              "      <td>28</td>\n",
              "      <td>9</td>\n",
              "      <td>2020</td>\n",
              "    </tr>\n",
              "    <tr>\n",
              "      <th>5</th>\n",
              "      <td>2020-09-21</td>\n",
              "      <td>2.259</td>\n",
              "      <td>21</td>\n",
              "      <td>9</td>\n",
              "      <td>2020</td>\n",
              "    </tr>\n",
              "    <tr>\n",
              "      <th>...</th>\n",
              "      <td>...</td>\n",
              "      <td>...</td>\n",
              "      <td>...</td>\n",
              "      <td>...</td>\n",
              "      <td>...</td>\n",
              "    </tr>\n",
              "    <tr>\n",
              "      <th>1433</th>\n",
              "      <td>1993-05-10</td>\n",
              "      <td>1.097</td>\n",
              "      <td>10</td>\n",
              "      <td>5</td>\n",
              "      <td>1993</td>\n",
              "    </tr>\n",
              "    <tr>\n",
              "      <th>1434</th>\n",
              "      <td>1993-05-03</td>\n",
              "      <td>1.086</td>\n",
              "      <td>3</td>\n",
              "      <td>5</td>\n",
              "      <td>1993</td>\n",
              "    </tr>\n",
              "    <tr>\n",
              "      <th>1435</th>\n",
              "      <td>1993-04-26</td>\n",
              "      <td>1.086</td>\n",
              "      <td>26</td>\n",
              "      <td>4</td>\n",
              "      <td>1993</td>\n",
              "    </tr>\n",
              "    <tr>\n",
              "      <th>1436</th>\n",
              "      <td>1993-04-19</td>\n",
              "      <td>1.079</td>\n",
              "      <td>19</td>\n",
              "      <td>4</td>\n",
              "      <td>1993</td>\n",
              "    </tr>\n",
              "    <tr>\n",
              "      <th>1437</th>\n",
              "      <td>1993-04-12</td>\n",
              "      <td>1.079</td>\n",
              "      <td>12</td>\n",
              "      <td>4</td>\n",
              "      <td>1993</td>\n",
              "    </tr>\n",
              "  </tbody>\n",
              "</table>\n",
              "<p>1301 rows × 5 columns</p>\n",
              "</div>"
            ],
            "text/plain": [
              "        week_of  dollars_per_gallon  day  month  year\n",
              "0    2020-10-26               2.234   26     10  2020\n",
              "2    2020-10-12               2.257   12     10  2020\n",
              "3    2020-10-05               2.262    5     10  2020\n",
              "4    2020-09-28               2.259   28      9  2020\n",
              "5    2020-09-21               2.259   21      9  2020\n",
              "...         ...                 ...  ...    ...   ...\n",
              "1433 1993-05-10               1.097   10      5  1993\n",
              "1434 1993-05-03               1.086    3      5  1993\n",
              "1435 1993-04-26               1.086   26      4  1993\n",
              "1436 1993-04-19               1.079   19      4  1993\n",
              "1437 1993-04-12               1.079   12      4  1993\n",
              "\n",
              "[1301 rows x 5 columns]"
            ]
          },
          "metadata": {
            "tags": []
          },
          "execution_count": 13
        }
      ]
    },
    {
      "cell_type": "code",
      "metadata": {
        "id": "T52hoM3W-RTp",
        "colab": {
          "base_uri": "https://localhost:8080/",
          "height": 639
        },
        "outputId": "2bc6e7b4-bb89-48a8-9285-7fb04ad132f6"
      },
      "source": [
        "df.head(20)"
      ],
      "execution_count": 14,
      "outputs": [
        {
          "output_type": "execute_result",
          "data": {
            "text/html": [
              "<div>\n",
              "<style scoped>\n",
              "    .dataframe tbody tr th:only-of-type {\n",
              "        vertical-align: middle;\n",
              "    }\n",
              "\n",
              "    .dataframe tbody tr th {\n",
              "        vertical-align: top;\n",
              "    }\n",
              "\n",
              "    .dataframe thead th {\n",
              "        text-align: right;\n",
              "    }\n",
              "</style>\n",
              "<table border=\"1\" class=\"dataframe\">\n",
              "  <thead>\n",
              "    <tr style=\"text-align: right;\">\n",
              "      <th></th>\n",
              "      <th>week_of</th>\n",
              "      <th>dollars_per_gallon</th>\n",
              "      <th>day</th>\n",
              "      <th>month</th>\n",
              "      <th>year</th>\n",
              "    </tr>\n",
              "  </thead>\n",
              "  <tbody>\n",
              "    <tr>\n",
              "      <th>0</th>\n",
              "      <td>2020-10-26</td>\n",
              "      <td>2.234</td>\n",
              "      <td>26</td>\n",
              "      <td>10</td>\n",
              "      <td>2020</td>\n",
              "    </tr>\n",
              "    <tr>\n",
              "      <th>2</th>\n",
              "      <td>2020-10-12</td>\n",
              "      <td>2.257</td>\n",
              "      <td>12</td>\n",
              "      <td>10</td>\n",
              "      <td>2020</td>\n",
              "    </tr>\n",
              "    <tr>\n",
              "      <th>3</th>\n",
              "      <td>2020-10-05</td>\n",
              "      <td>2.262</td>\n",
              "      <td>5</td>\n",
              "      <td>10</td>\n",
              "      <td>2020</td>\n",
              "    </tr>\n",
              "    <tr>\n",
              "      <th>4</th>\n",
              "      <td>2020-09-28</td>\n",
              "      <td>2.259</td>\n",
              "      <td>28</td>\n",
              "      <td>9</td>\n",
              "      <td>2020</td>\n",
              "    </tr>\n",
              "    <tr>\n",
              "      <th>5</th>\n",
              "      <td>2020-09-21</td>\n",
              "      <td>2.259</td>\n",
              "      <td>21</td>\n",
              "      <td>9</td>\n",
              "      <td>2020</td>\n",
              "    </tr>\n",
              "    <tr>\n",
              "      <th>6</th>\n",
              "      <td>2020-09-14</td>\n",
              "      <td>2.274</td>\n",
              "      <td>14</td>\n",
              "      <td>9</td>\n",
              "      <td>2020</td>\n",
              "    </tr>\n",
              "    <tr>\n",
              "      <th>7</th>\n",
              "      <td>2020-09-07</td>\n",
              "      <td>2.302</td>\n",
              "      <td>7</td>\n",
              "      <td>9</td>\n",
              "      <td>2020</td>\n",
              "    </tr>\n",
              "    <tr>\n",
              "      <th>8</th>\n",
              "      <td>2020-08-31</td>\n",
              "      <td>2.311</td>\n",
              "      <td>31</td>\n",
              "      <td>8</td>\n",
              "      <td>2020</td>\n",
              "    </tr>\n",
              "    <tr>\n",
              "      <th>9</th>\n",
              "      <td>2020-08-24</td>\n",
              "      <td>2.272</td>\n",
              "      <td>24</td>\n",
              "      <td>8</td>\n",
              "      <td>2020</td>\n",
              "    </tr>\n",
              "    <tr>\n",
              "      <th>10</th>\n",
              "      <td>2020-08-17</td>\n",
              "      <td>2.256</td>\n",
              "      <td>17</td>\n",
              "      <td>8</td>\n",
              "      <td>2020</td>\n",
              "    </tr>\n",
              "    <tr>\n",
              "      <th>11</th>\n",
              "      <td>2020-08-10</td>\n",
              "      <td>2.256</td>\n",
              "      <td>10</td>\n",
              "      <td>8</td>\n",
              "      <td>2020</td>\n",
              "    </tr>\n",
              "    <tr>\n",
              "      <th>12</th>\n",
              "      <td>2020-08-03</td>\n",
              "      <td>2.266</td>\n",
              "      <td>3</td>\n",
              "      <td>8</td>\n",
              "      <td>2020</td>\n",
              "    </tr>\n",
              "    <tr>\n",
              "      <th>13</th>\n",
              "      <td>2020-07-27</td>\n",
              "      <td>2.265</td>\n",
              "      <td>27</td>\n",
              "      <td>7</td>\n",
              "      <td>2020</td>\n",
              "    </tr>\n",
              "    <tr>\n",
              "      <th>14</th>\n",
              "      <td>2020-07-20</td>\n",
              "      <td>2.275</td>\n",
              "      <td>20</td>\n",
              "      <td>7</td>\n",
              "      <td>2020</td>\n",
              "    </tr>\n",
              "    <tr>\n",
              "      <th>15</th>\n",
              "      <td>2020-07-13</td>\n",
              "      <td>2.283</td>\n",
              "      <td>13</td>\n",
              "      <td>7</td>\n",
              "      <td>2020</td>\n",
              "    </tr>\n",
              "    <tr>\n",
              "      <th>16</th>\n",
              "      <td>2020-07-06</td>\n",
              "      <td>2.265</td>\n",
              "      <td>6</td>\n",
              "      <td>7</td>\n",
              "      <td>2020</td>\n",
              "    </tr>\n",
              "    <tr>\n",
              "      <th>18</th>\n",
              "      <td>2020-06-22</td>\n",
              "      <td>2.216</td>\n",
              "      <td>22</td>\n",
              "      <td>6</td>\n",
              "      <td>2020</td>\n",
              "    </tr>\n",
              "    <tr>\n",
              "      <th>19</th>\n",
              "      <td>2020-06-15</td>\n",
              "      <td>2.185</td>\n",
              "      <td>15</td>\n",
              "      <td>6</td>\n",
              "      <td>2020</td>\n",
              "    </tr>\n",
              "    <tr>\n",
              "      <th>20</th>\n",
              "      <td>2020-06-08</td>\n",
              "      <td>2.123</td>\n",
              "      <td>8</td>\n",
              "      <td>6</td>\n",
              "      <td>2020</td>\n",
              "    </tr>\n",
              "    <tr>\n",
              "      <th>21</th>\n",
              "      <td>2020-06-01</td>\n",
              "      <td>2.064</td>\n",
              "      <td>1</td>\n",
              "      <td>6</td>\n",
              "      <td>2020</td>\n",
              "    </tr>\n",
              "  </tbody>\n",
              "</table>\n",
              "</div>"
            ],
            "text/plain": [
              "      week_of  dollars_per_gallon  day  month  year\n",
              "0  2020-10-26               2.234   26     10  2020\n",
              "2  2020-10-12               2.257   12     10  2020\n",
              "3  2020-10-05               2.262    5     10  2020\n",
              "4  2020-09-28               2.259   28      9  2020\n",
              "5  2020-09-21               2.259   21      9  2020\n",
              "6  2020-09-14               2.274   14      9  2020\n",
              "7  2020-09-07               2.302    7      9  2020\n",
              "8  2020-08-31               2.311   31      8  2020\n",
              "9  2020-08-24               2.272   24      8  2020\n",
              "10 2020-08-17               2.256   17      8  2020\n",
              "11 2020-08-10               2.256   10      8  2020\n",
              "12 2020-08-03               2.266    3      8  2020\n",
              "13 2020-07-27               2.265   27      7  2020\n",
              "14 2020-07-20               2.275   20      7  2020\n",
              "15 2020-07-13               2.283   13      7  2020\n",
              "16 2020-07-06               2.265    6      7  2020\n",
              "18 2020-06-22               2.216   22      6  2020\n",
              "19 2020-06-15               2.185   15      6  2020\n",
              "20 2020-06-08               2.123    8      6  2020\n",
              "21 2020-06-01               2.064    1      6  2020"
            ]
          },
          "metadata": {
            "tags": []
          },
          "execution_count": 14
        }
      ]
    },
    {
      "cell_type": "code",
      "metadata": {
        "id": "KYJkk-K3-SNy",
        "colab": {
          "base_uri": "https://localhost:8080/"
        },
        "outputId": "1de56514-7e53-4a5b-aa88-14cf6c72ea97"
      },
      "source": [
        "df.dtypes"
      ],
      "execution_count": 15,
      "outputs": [
        {
          "output_type": "execute_result",
          "data": {
            "text/plain": [
              "week_of               datetime64[ns]\n",
              "dollars_per_gallon           float64\n",
              "day                            int64\n",
              "month                          int64\n",
              "year                           int64\n",
              "dtype: object"
            ]
          },
          "metadata": {
            "tags": []
          },
          "execution_count": 15
        }
      ]
    },
    {
      "cell_type": "code",
      "metadata": {
        "id": "pCfh-KcV-Uxf",
        "colab": {
          "base_uri": "https://localhost:8080/",
          "height": 265
        },
        "outputId": "3611594e-edf4-4e85-d8af-3bdfe72cb36e"
      },
      "source": [
        "plt.plot(df['week_of'], df['dollars_per_gallon']);"
      ],
      "execution_count": 16,
      "outputs": [
        {
          "output_type": "display_data",
          "data": {
            "image/png": "[encoded data removed]",
            "text/plain": [
              "<Figure size 432x288 with 1 Axes>"
            ]
          },
          "metadata": {
            "tags": [],
            "needs_background": "light"
          }
        }
      ]
    },
    {
      "cell_type": "code",
      "metadata": {
        "id": "rhlDxOdCA_AU"
      },
      "source": [
        "df = df.drop(columns='week_of')"
      ],
      "execution_count": 22,
      "outputs": []
    },
    {
      "cell_type": "code",
      "metadata": {
        "id": "xoTjBAofUQhb"
      },
      "source": [
        "features = list(df.loc[:, df.columns])\n",
        "\n",
        "X = df[features].values\n",
        "y = df['dollars_per_gallon']"
      ],
      "execution_count": 23,
      "outputs": []
    },
    {
      "cell_type": "code",
      "metadata": {
        "colab": {
          "base_uri": "https://localhost:8080/"
        },
        "id": "rNyOF7iS6ksa",
        "outputId": "b5b233f7-7b73-4829-be1e-fd13cc31c251"
      },
      "source": [
        "X.shape"
      ],
      "execution_count": 24,
      "outputs": [
        {
          "output_type": "execute_result",
          "data": {
            "text/plain": [
              "(1301, 4)"
            ]
          },
          "metadata": {
            "tags": []
          },
          "execution_count": 24
        }
      ]
    },
    {
      "cell_type": "code",
      "metadata": {
        "colab": {
          "base_uri": "https://localhost:8080/"
        },
        "id": "Dypk8YX16mJJ",
        "outputId": "35372de9-9c7a-4b7f-b92f-8e5529d9283d"
      },
      "source": [
        "y.shape"
      ],
      "execution_count": 25,
      "outputs": [
        {
          "output_type": "execute_result",
          "data": {
            "text/plain": [
              "(1301,)"
            ]
          },
          "metadata": {
            "tags": []
          },
          "execution_count": 25
        }
      ]
    },
    {
      "cell_type": "code",
      "metadata": {
        "colab": {
          "base_uri": "https://localhost:8080/"
        },
        "id": "_mhrs8N9Azu5",
        "outputId": "d2571b2e-8af5-4620-e16b-68ba623acd0f"
      },
      "source": [
        "X"
      ],
      "execution_count": 28,
      "outputs": [
        {
          "output_type": "execute_result",
          "data": {
            "text/plain": [
              "array([[2.234e+00, 2.600e+01, 1.000e+01, 2.020e+03],\n",
              "       [2.257e+00, 1.200e+01, 1.000e+01, 2.020e+03],\n",
              "       [2.262e+00, 5.000e+00, 1.000e+01, 2.020e+03],\n",
              "       ...,\n",
              "       [1.086e+00, 2.600e+01, 4.000e+00, 1.993e+03],\n",
              "       [1.079e+00, 1.900e+01, 4.000e+00, 1.993e+03],\n",
              "       [1.079e+00, 1.200e+01, 4.000e+00, 1.993e+03]])"
            ]
          },
          "metadata": {
            "tags": []
          },
          "execution_count": 28
        }
      ]
    },
    {
      "cell_type": "code",
      "metadata": {
        "colab": {
          "base_uri": "https://localhost:8080/"
        },
        "id": "a4EHMER4AiMn",
        "outputId": "96056aee-f72c-4559-fda8-cac74472415d"
      },
      "source": [
        "normalizer = Normalizer()\n",
        "X = normalizer.fit_transform(X)\n",
        "X.shape"
      ],
      "execution_count": 29,
      "outputs": [
        {
          "output_type": "execute_result",
          "data": {
            "text/plain": [
              "(1301, 4)"
            ]
          },
          "metadata": {
            "tags": []
          },
          "execution_count": 29
        }
      ]
    },
    {
      "cell_type": "code",
      "metadata": {
        "colab": {
          "base_uri": "https://localhost:8080/"
        },
        "id": "5eUWk0sV7DkQ",
        "outputId": "850b9a09-7e86-4a09-eab8-9487f3dbbf78"
      },
      "source": [
        "y"
      ],
      "execution_count": 30,
      "outputs": [
        {
          "output_type": "execute_result",
          "data": {
            "text/plain": [
              "0       2.234\n",
              "2       2.257\n",
              "3       2.262\n",
              "4       2.259\n",
              "5       2.259\n",
              "        ...  \n",
              "1433    1.097\n",
              "1434    1.086\n",
              "1435    1.086\n",
              "1436    1.079\n",
              "1437    1.079\n",
              "Name: dollars_per_gallon, Length: 1301, dtype: float64"
            ]
          },
          "metadata": {
            "tags": []
          },
          "execution_count": 30
        }
      ]
    },
    {
      "cell_type": "code",
      "metadata": {
        "colab": {
          "base_uri": "https://localhost:8080/"
        },
        "id": "bOUroo9Q7ET4",
        "outputId": "0080b336-1da9-448d-8b0d-b765b6bd1f46"
      },
      "source": [
        "X.shape"
      ],
      "execution_count": 31,
      "outputs": [
        {
          "output_type": "execute_result",
          "data": {
            "text/plain": [
              "(1301, 4)"
            ]
          },
          "metadata": {
            "tags": []
          },
          "execution_count": 31
        }
      ]
    },
    {
      "cell_type": "code",
      "metadata": {
        "colab": {
          "base_uri": "https://localhost:8080/"
        },
        "id": "EZSkfRw47HIs",
        "outputId": "572d0005-5102-4c94-d535-fc2b3c884464"
      },
      "source": [
        "y.shape"
      ],
      "execution_count": 32,
      "outputs": [
        {
          "output_type": "execute_result",
          "data": {
            "text/plain": [
              "(1301,)"
            ]
          },
          "metadata": {
            "tags": []
          },
          "execution_count": 32
        }
      ]
    },
    {
      "cell_type": "code",
      "metadata": {
        "id": "MKryiScR7Kyl"
      },
      "source": [
        "Adam = tf.keras.optimizers.Adam()"
      ],
      "execution_count": 60,
      "outputs": []
    },
    {
      "cell_type": "code",
      "metadata": {
        "colab": {
          "base_uri": "https://localhost:8080/"
        },
        "id": "F-BoYn1T7O6W",
        "outputId": "9b9dba7f-b111-4959-adb3-8a9e39568183"
      },
      "source": [
        "model = Sequential()\n",
        "\n",
        "model.add(Input(4))\n",
        "model.add(Dense(64, activation='relu'))\n",
        "model.add(Dense(128, activation='relu'))\n",
        "model.add(Dense(256, activation='relu'))\n",
        "model.add(Dense(2350, activation='softmax'))\n",
        "\n",
        "model.compile(loss='mse',\n",
        "              optimizer= Adam, \n",
        "              metrics=['accuracy'])\n",
        "\n",
        "model.summary()"
      ],
      "execution_count": 61,
      "outputs": [
        {
          "output_type": "stream",
          "text": [
            "Model: \"sequential_11\"\n",
            "_________________________________________________________________\n",
            "Layer (type)                 Output Shape              Param #   \n",
            "=================================================================\n",
            "dense_44 (Dense)             (None, 64)                320       \n",
            "_________________________________________________________________\n",
            "dense_45 (Dense)             (None, 128)               8320      \n",
            "_________________________________________________________________\n",
            "dense_46 (Dense)             (None, 256)               33024     \n",
            "_________________________________________________________________\n",
            "dense_47 (Dense)             (None, 2350)              603950    \n",
            "=================================================================\n",
            "Total params: 645,614\n",
            "Trainable params: 645,614\n",
            "Non-trainable params: 0\n",
            "_________________________________________________________________\n"
          ],
          "name": "stdout"
        }
      ]
    },
    {
      "cell_type": "code",
      "metadata": {
        "colab": {
          "base_uri": "https://localhost:8080/"
        },
        "id": "ISHu6FBoHv4Z",
        "outputId": "3584ff44-2878-45a6-e291-34bdc9c9baa6"
      },
      "source": [
        "model.fit(X,y, epochs=25);"
      ],
      "execution_count": 63,
      "outputs": [
        {
          "output_type": "stream",
          "text": [
            "Epoch 1/25\n",
            "41/41 [==============================] - 0s 3ms/step - loss: 5.6531 - accuracy: 0.0000e+00\n",
            "Epoch 2/25\n",
            "41/41 [==============================] - 0s 3ms/step - loss: 5.6531 - accuracy: 0.0000e+00\n",
            "Epoch 3/25\n",
            "41/41 [==============================] - 0s 2ms/step - loss: 5.6531 - accuracy: 0.0000e+00\n",
            "Epoch 4/25\n",
            "41/41 [==============================] - 0s 3ms/step - loss: 5.6531 - accuracy: 0.0000e+00\n",
            "Epoch 5/25\n",
            "41/41 [==============================] - 0s 2ms/step - loss: 5.6531 - accuracy: 0.0000e+00\n",
            "Epoch 6/25\n",
            "41/41 [==============================] - 0s 2ms/step - loss: 5.6531 - accuracy: 0.0000e+00\n",
            "Epoch 7/25\n",
            "41/41 [==============================] - 0s 2ms/step - loss: 5.6531 - accuracy: 0.0000e+00\n",
            "Epoch 8/25\n",
            "41/41 [==============================] - 0s 3ms/step - loss: 5.6531 - accuracy: 0.0000e+00\n",
            "Epoch 9/25\n",
            "41/41 [==============================] - 0s 2ms/step - loss: 5.6531 - accuracy: 0.0000e+00\n",
            "Epoch 10/25\n",
            "41/41 [==============================] - 0s 2ms/step - loss: 5.6531 - accuracy: 0.0000e+00\n",
            "Epoch 11/25\n",
            "41/41 [==============================] - 0s 3ms/step - loss: 5.6531 - accuracy: 0.0000e+00\n",
            "Epoch 12/25\n",
            "41/41 [==============================] - 0s 3ms/step - loss: 5.6531 - accuracy: 0.0000e+00\n",
            "Epoch 13/25\n",
            "41/41 [==============================] - 0s 3ms/step - loss: 5.6531 - accuracy: 0.0000e+00\n",
            "Epoch 14/25\n",
            "41/41 [==============================] - 0s 3ms/step - loss: 5.6531 - accuracy: 0.0000e+00\n",
            "Epoch 15/25\n",
            "41/41 [==============================] - 0s 3ms/step - loss: 5.6531 - accuracy: 0.0000e+00\n",
            "Epoch 16/25\n",
            "41/41 [==============================] - 0s 3ms/step - loss: 5.6531 - accuracy: 0.0000e+00\n",
            "Epoch 17/25\n",
            "41/41 [==============================] - 0s 3ms/step - loss: 5.6531 - accuracy: 0.0000e+00\n",
            "Epoch 18/25\n",
            "41/41 [==============================] - 0s 3ms/step - loss: 5.6531 - accuracy: 0.0000e+00\n",
            "Epoch 19/25\n",
            "41/41 [==============================] - 0s 3ms/step - loss: 5.6531 - accuracy: 0.0000e+00\n",
            "Epoch 20/25\n",
            "41/41 [==============================] - 0s 3ms/step - loss: 5.6531 - accuracy: 0.0000e+00\n",
            "Epoch 21/25\n",
            "41/41 [==============================] - 0s 3ms/step - loss: 5.6531 - accuracy: 0.0000e+00\n",
            "Epoch 22/25\n",
            "41/41 [==============================] - 0s 3ms/step - loss: 5.6531 - accuracy: 0.0000e+00\n",
            "Epoch 23/25\n",
            "41/41 [==============================] - 0s 2ms/step - loss: 5.6531 - accuracy: 0.0000e+00\n",
            "Epoch 24/25\n",
            "41/41 [==============================] - 0s 3ms/step - loss: 5.6531 - accuracy: 0.0000e+00\n",
            "Epoch 25/25\n",
            "41/41 [==============================] - 0s 3ms/step - loss: 5.6531 - accuracy: 0.0000e+00\n"
          ],
          "name": "stdout"
        }
      ]
    },
    {
      "cell_type": "code",
      "metadata": {
        "id": "nyBnX7OJE7yu"
      },
      "source": [
        ""
      ],
      "execution_count": null,
      "outputs": []
    }
  ]
}