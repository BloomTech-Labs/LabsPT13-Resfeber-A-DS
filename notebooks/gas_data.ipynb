{
 "metadata": {
  "language_info": {
   "codemirror_mode": {
    "name": "ipython",
    "version": 3
   },
   "file_extension": ".py",
   "mimetype": "text/x-python",
   "name": "python",
   "nbconvert_exporter": "python",
   "pygments_lexer": "ipython3",
   "version": "3.7.0-final"
  },
  "orig_nbformat": 2,
  "kernelspec": {
   "name": "python3",
   "display_name": "Python 3"
  }
 },
 "nbformat": 4,
 "nbformat_minor": 2,
 "cells": [
  {
   "cell_type": "code",
   "execution_count": 1,
   "metadata": {},
   "outputs": [],
   "source": [
    "# Imports\n",
    "\n",
    "import numpy as np\n",
    "import pandas as pd"
   ]
  },
  {
   "cell_type": "code",
   "execution_count": 2,
   "metadata": {},
   "outputs": [],
   "source": [
    "# Reading in csv file\n",
    "\n",
    "df = pd.read_csv('weekly_prices.csv')"
   ]
  },
  {
   "cell_type": "code",
   "execution_count": 3,
   "metadata": {},
   "outputs": [
    {
     "output_type": "execute_result",
     "data": {
      "text/plain": [
       "(1439, 2)"
      ]
     },
     "metadata": {},
     "execution_count": 3
    }
   ],
   "source": [
    "# Checking the shape of the data\n",
    "\n",
    "df.shape"
   ]
  },
  {
   "cell_type": "code",
   "execution_count": 4,
   "metadata": {},
   "outputs": [
    {
     "output_type": "execute_result",
     "data": {
      "text/plain": [
       "      week_of  dollars_per_gallon\n",
       "0  2020-10-26               2.234\n",
       "1  2020-10-19                 NaN\n",
       "2  2020-10-12               2.257\n",
       "3  2020-10-05               2.262\n",
       "4  2020-09-28               2.259\n",
       "5  2020-09-21               2.259\n",
       "6  2020-09-14               2.274\n",
       "7  2020-09-07               2.302\n",
       "8  2020-08-31               2.311\n",
       "9  2020-08-24               2.272"
      ],
      "text/html": "<div>\n<style scoped>\n    .dataframe tbody tr th:only-of-type {\n        vertical-align: middle;\n    }\n\n    .dataframe tbody tr th {\n        vertical-align: top;\n    }\n\n    .dataframe thead th {\n        text-align: right;\n    }\n</style>\n<table border=\"1\" class=\"dataframe\">\n  <thead>\n    <tr style=\"text-align: right;\">\n      <th></th>\n      <th>week_of</th>\n      <th>dollars_per_gallon</th>\n    </tr>\n  </thead>\n  <tbody>\n    <tr>\n      <th>0</th>\n      <td>2020-10-26</td>\n      <td>2.234</td>\n    </tr>\n    <tr>\n      <th>1</th>\n      <td>2020-10-19</td>\n      <td>NaN</td>\n    </tr>\n    <tr>\n      <th>2</th>\n      <td>2020-10-12</td>\n      <td>2.257</td>\n    </tr>\n    <tr>\n      <th>3</th>\n      <td>2020-10-05</td>\n      <td>2.262</td>\n    </tr>\n    <tr>\n      <th>4</th>\n      <td>2020-09-28</td>\n      <td>2.259</td>\n    </tr>\n    <tr>\n      <th>5</th>\n      <td>2020-09-21</td>\n      <td>2.259</td>\n    </tr>\n    <tr>\n      <th>6</th>\n      <td>2020-09-14</td>\n      <td>2.274</td>\n    </tr>\n    <tr>\n      <th>7</th>\n      <td>2020-09-07</td>\n      <td>2.302</td>\n    </tr>\n    <tr>\n      <th>8</th>\n      <td>2020-08-31</td>\n      <td>2.311</td>\n    </tr>\n    <tr>\n      <th>9</th>\n      <td>2020-08-24</td>\n      <td>2.272</td>\n    </tr>\n  </tbody>\n</table>\n</div>"
     },
     "metadata": {},
     "execution_count": 4
    }
   ],
   "source": [
    "# Checking to see what the data looks like\n",
    "# There appears to be some NaN values\n",
    "\n",
    "df.head(10)"
   ]
  },
  {
   "cell_type": "code",
   "execution_count": 5,
   "metadata": {},
   "outputs": [],
   "source": [
    "# Drop the NaN values\n",
    "\n",
    "df = df.dropna()"
   ]
  },
  {
   "cell_type": "code",
   "execution_count": 6,
   "metadata": {},
   "outputs": [
    {
     "output_type": "execute_result",
     "data": {
      "text/plain": [
       "False"
      ]
     },
     "metadata": {},
     "execution_count": 6
    }
   ],
   "source": [
    "# Check to make sure they were removed\n",
    "\n",
    "df['dollars_per_gallon'].isnull().any()"
   ]
  },
  {
   "cell_type": "code",
   "execution_count": 9,
   "metadata": {},
   "outputs": [
    {
     "output_type": "execute_result",
     "data": {
      "text/plain": [
       "         week_of  dollars_per_gallon\n",
       "0     2020-10-26               2.234\n",
       "2     2020-10-12               2.257\n",
       "3     2020-10-05               2.262\n",
       "4     2020-09-28               2.259\n",
       "5     2020-09-21               2.259\n",
       "...          ...                 ...\n",
       "1433  1993-05-10               1.097\n",
       "1434  1993-05-03               1.086\n",
       "1435  1993-04-26               1.086\n",
       "1436  1993-04-19               1.079\n",
       "1437  1993-04-12               1.079\n",
       "\n",
       "[1301 rows x 2 columns]"
      ],
      "text/html": "<div>\n<style scoped>\n    .dataframe tbody tr th:only-of-type {\n        vertical-align: middle;\n    }\n\n    .dataframe tbody tr th {\n        vertical-align: top;\n    }\n\n    .dataframe thead th {\n        text-align: right;\n    }\n</style>\n<table border=\"1\" class=\"dataframe\">\n  <thead>\n    <tr style=\"text-align: right;\">\n      <th></th>\n      <th>week_of</th>\n      <th>dollars_per_gallon</th>\n    </tr>\n  </thead>\n  <tbody>\n    <tr>\n      <th>0</th>\n      <td>2020-10-26</td>\n      <td>2.234</td>\n    </tr>\n    <tr>\n      <th>2</th>\n      <td>2020-10-12</td>\n      <td>2.257</td>\n    </tr>\n    <tr>\n      <th>3</th>\n      <td>2020-10-05</td>\n      <td>2.262</td>\n    </tr>\n    <tr>\n      <th>4</th>\n      <td>2020-09-28</td>\n      <td>2.259</td>\n    </tr>\n    <tr>\n      <th>5</th>\n      <td>2020-09-21</td>\n      <td>2.259</td>\n    </tr>\n    <tr>\n      <th>...</th>\n      <td>...</td>\n      <td>...</td>\n    </tr>\n    <tr>\n      <th>1433</th>\n      <td>1993-05-10</td>\n      <td>1.097</td>\n    </tr>\n    <tr>\n      <th>1434</th>\n      <td>1993-05-03</td>\n      <td>1.086</td>\n    </tr>\n    <tr>\n      <th>1435</th>\n      <td>1993-04-26</td>\n      <td>1.086</td>\n    </tr>\n    <tr>\n      <th>1436</th>\n      <td>1993-04-19</td>\n      <td>1.079</td>\n    </tr>\n    <tr>\n      <th>1437</th>\n      <td>1993-04-12</td>\n      <td>1.079</td>\n    </tr>\n  </tbody>\n</table>\n<p>1301 rows × 2 columns</p>\n</div>"
     },
     "metadata": {},
     "execution_count": 9
    }
   ],
   "source": [
    "df"
   ]
  },
  {
   "cell_type": "code",
   "execution_count": null,
   "metadata": {},
   "outputs": [],
   "source": []
  }
 ]
}